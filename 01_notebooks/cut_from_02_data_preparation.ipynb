{
 "cells": [
  {
   "cell_type": "markdown",
   "id": "413911ca-c3f7-4c32-abf3-dc7c899142f4",
   "metadata": {},
   "source": [
    "# taken from my notes"
   ]
  },
  {
   "cell_type": "code",
   "execution_count": null,
   "id": "46a7a0d1-30ec-430a-b975-615bf471d241",
   "metadata": {},
   "outputs": [],
   "source": [
    "# very grim and not at all surprising that column with the most missings is IPV\n",
    "# (from the ACE survey - so IPV among parents, not participants themselves)\n",
    "# >>> meyer['w1ace_ipv'].value_counts(dropna = False)\n",
    "# w1ace_ipv\n",
    "# 0    950\n",
    "# 1    429\n",
    "#      139\n",
    "# Name: count, dtype: int64\n",
    "# >>> meyer['w1ace_ipv_i'].value_counts(dropna = False)\n",
    "# w1ace_ipv_i\n",
    "# 0    1024\n",
    "# 1     494\n",
    "# Name: count, dtype: int64\n",
    "# >>> 1024-950\n",
    "# 74\n",
    "# >>> 139-74\n",
    "# 65\n",
    "\n",
    "# ok.  their imputation method seems really solid, but that is sus af.\n",
    "# of the people who declined to answer about IPV, you think the majority \n",
    "# of them would have said NO!?!??!??????\n",
    "# I'd be tempted to put every one of those guys down as a yes!!!!\n",
    "# let me see the overlap with other stigmatized stuff\n",
    "len(meyer[(meyer['w1ace_ipv']==' ') & (meyer['w1ace_sex']==' ')])\n",
    "# 30 huh damn I would have thought like all of them\n",
    "# wait.\n",
    "len(meyer[(meyer['w1ace_ipv']=='1') & (meyer['w1ace_sex']==' ')])  # 19\n",
    "len(meyer[(meyer['w1ace_ipv']==' ') & (meyer['w1ace_sex']=='1')])  # 51\n",
    "# ok! that actually lends credibility to their imputation though\n",
    "# if people were too ashamed to admit IPV, they'd probably decline to answer\n",
    "# about CSA too.  these people, at least, really could go either way on IPV."
   ]
  },
  {
   "cell_type": "code",
   "execution_count": null,
   "id": "7b3f8172-79ca-4f7e-b721-70416314544e",
   "metadata": {},
   "outputs": [],
   "source": [
    "# This is all actually moot \n",
    "# because I don't have a better idea for imputation than what they did.\n",
    "# I think the thing to do, if I can, is to model it on the imputed data\n",
    "# then model it again on the subsample where I've dropped all these NAs\n",
    "# at least the ACE NAs, where there's really a lot.\n",
    "# could also try modeling it just without those columns\n",
    "# a random forest would probably be good, \n",
    "# make sure the whole thing isn't hinging on imputed data\n",
    "# Meyer also probably ran some tests in his paper to make sure this is ok\n",
    "\n",
    "\n",
    "# I've gotta reduce my dimensions\n",
    "# the imputation methods they used seem very reasonable\n",
    "# (see p. 37 of 37166-Documentation-methodology.pdf)\n",
    "# so I'm going to drop the non-imputed ones"
   ]
  },
  {
   "cell_type": "code",
   "execution_count": null,
   "id": "56d15f8e-e537-4405-b0f9-d8a37d38cd0d",
   "metadata": {},
   "outputs": [],
   "source": [
    "# hey, is it just a few rows with a ton of missing data?\n",
    "# I hate to lose data but if they truly didn't fill out anything...\n",
    "meyer.iloc[10,:].isna().sum()\n",
    "# oh right, there are all those OHE columns with planned missing\n",
    "# so I need to start imputing first, then recheck these\n",
    "# then decide whether to drop anything"
   ]
  },
  {
   "cell_type": "markdown",
   "id": "82e2eaa1-49f5-44b4-a2bd-c7c11103f40a",
   "metadata": {},
   "source": [
    "# i did a whole clever investigation and i want to brag about it\n",
    "but it's so much faster to just add this column to s_mode (so that's what I did)"
   ]
  },
  {
   "cell_type": "code",
   "execution_count": null,
   "id": "83e8ab5c-46d9-4444-b825-23cbb879acea",
   "metadata": {},
   "outputs": [],
   "source": [
    "# subset investigation; there were exactly 48 do not knows on q2\n",
    "\n",
    "cond1 = meyer['w1q03'].isna()\n",
    "\n",
    "test = meyer.loc[cond1, ['w1q02_ei', 'w1q03']]\n",
    "test['w1q02_ei'].value_counts(dropna = False, normalize = True) # why so many 8s?\n",
    "meyer['w1q02_ei'].value_counts(dropna = False, normalize = True)  # close enough for now\n",
    "\n",
    "# I conducted that test to see if the 48 NAs in Q3 were the same\n",
    "# people as the 48 \"don't knows\" in  Q2, or any other pattern.\n",
    "# I did not find one, and therefore imputed the mode, which is 2.\n",
    "\n",
    "meyer[['w1q03_ei']] = meyer[['w1q03']].fillna(2)\n",
    "\n",
    "meyer.shape\n",
    "meyer.drop(columns = 'w1q03', inplace = True)"
   ]
  },
  {
   "cell_type": "markdown",
   "id": "2f6baa73-5591-49c9-9e85-fa793b77cbda",
   "metadata": {},
   "source": [
    "# taken from the draft of 02_Data_Preparation"
   ]
  },
  {
   "cell_type": "markdown",
   "id": "325badfe-7e70-4e4f-9507-df11702fc44c",
   "metadata": {},
   "source": [
    "# **MAYBE TAKE THIS OUT???  I CAN'T TELL IF IT'S CONVINCING**  vv"
   ]
  },
  {
   "cell_type": "markdown",
   "id": "9d484829-8b8d-4f60-bf11-87ddc2710d82",
   "metadata": {},
   "source": [
    "For a quick-and-dirty test of the facial validity of these imputations, I compared the value counts of `w1ace_ipv` (before imputation) and `w1ace_ipv_i` (after imputation).  This variable corresponds to questions from the Adverse Childhood Experiences (ACE) scale regarding intimate partner violence (IPV) in their home when they were a child.  IPV is notoriously underreported, and not surprisingly, this variable had one of the highest rates of missing data."
   ]
  },
  {
   "cell_type": "code",
   "execution_count": 16,
   "id": "7e565872-16b3-49ee-848b-d42850d791b6",
   "metadata": {},
   "outputs": [
    {
     "name": "stdout",
     "output_type": "stream",
     "text": [
      "w1ace_ipv\n",
      "0.0    945\n",
      "1.0    426\n",
      "NaN    136\n",
      "Name: count, dtype: int64\n",
      "w1ace_ipv_i\n",
      "0    1018\n",
      "1     489\n",
      "Name: count, dtype: int64\n"
     ]
    }
   ],
   "source": [
    "print(meyer['w1ace_ipv'].value_counts(dropna = False))\n",
    "print(meyer['w1ace_ipv_i'].value_counts(dropna = False))"
   ]
  },
  {
   "cell_type": "code",
   "execution_count": 17,
   "id": "6ab16d09-df3e-4373-91df-d813d55a8144",
   "metadata": {},
   "outputs": [
    {
     "data": {
      "text/plain": [
       "(70, 60)"
      ]
     },
     "execution_count": 17,
     "metadata": {},
     "output_type": "execute_result"
    }
   ],
   "source": [
    "1010-940, 484-424"
   ]
  },
  {
   "cell_type": "code",
   "execution_count": 18,
   "id": "e7d866ab-2162-433c-b82f-a24bc2b7ea2c",
   "metadata": {},
   "outputs": [
    {
     "data": {
      "text/plain": [
       "19"
      ]
     },
     "execution_count": 18,
     "metadata": {},
     "output_type": "execute_result"
    }
   ],
   "source": [
    "len(meyer[(meyer['w1ace_ipv']==1) & (meyer['w1ace_sex'].isna())])"
   ]
  },
  {
   "cell_type": "code",
   "execution_count": 19,
   "id": "56bdb085-a202-42d2-b0b1-6620ebfd36bb",
   "metadata": {},
   "outputs": [
    {
     "data": {
      "text/plain": [
       "50"
      ]
     },
     "execution_count": 19,
     "metadata": {},
     "output_type": "execute_result"
    }
   ],
   "source": [
    "len(meyer[(meyer['w1ace_ipv'].isna()) & (meyer['w1ace_sex']==1)])"
   ]
  },
  {
   "cell_type": "code",
   "execution_count": 20,
   "id": "abade63e-3996-4567-916a-987d58bc4f05",
   "metadata": {},
   "outputs": [
    {
     "data": {
      "text/plain": [
       "w1ace_ipv_i\n",
       "1    27\n",
       "0    23\n",
       "Name: count, dtype: int64"
      ]
     },
     "execution_count": 20,
     "metadata": {},
     "output_type": "execute_result"
    }
   ],
   "source": [
    "meyer[(meyer['w1ace_ipv'].isna()) & (meyer['w1ace_sex']==1)]['w1ace_ipv_i'].value_counts(dropna = False)"
   ]
  },
  {
   "cell_type": "code",
   "execution_count": 21,
   "id": "3391f2e9-e6e5-42ff-9492-84581ec3d998",
   "metadata": {},
   "outputs": [
    {
     "data": {
      "text/plain": [
       "w1ace_sex\n",
       "0.0    0.438356\n",
       "1.0    0.315068\n",
       "NaN    0.246575\n",
       "Name: proportion, dtype: float64"
      ]
     },
     "execution_count": 21,
     "metadata": {},
     "output_type": "execute_result"
    }
   ],
   "source": [
    "meyer[(meyer['w1ace_ipv'].isna()) & (meyer['w1ace_ipv_i']==0)]['w1ace_sex'].value_counts(dropna = False, normalize = True)"
   ]
  },
  {
   "cell_type": "code",
   "execution_count": 22,
   "id": "65f99bf7-da69-4b25-ae15-d8527ab29d31",
   "metadata": {},
   "outputs": [
    {
     "data": {
      "text/plain": [
       "w1ace_sex\n",
       "1.0    0.428571\n",
       "0.0    0.380952\n",
       "NaN    0.190476\n",
       "Name: proportion, dtype: float64"
      ]
     },
     "execution_count": 22,
     "metadata": {},
     "output_type": "execute_result"
    }
   ],
   "source": [
    "meyer[(meyer['w1ace_ipv'].isna()) & (meyer['w1ace_ipv_i']==1)]['w1ace_sex'].value_counts(dropna = False, normalize = True)"
   ]
  },
  {
   "cell_type": "code",
   "execution_count": 23,
   "id": "111c4bfc-d729-4fd3-95d5-902517292804",
   "metadata": {},
   "outputs": [
    {
     "data": {
      "text/plain": [
       "w1ace_ipv\n",
       "0.0    0.689278\n",
       "1.0    0.310722\n",
       "Name: proportion, dtype: float64"
      ]
     },
     "execution_count": 23,
     "metadata": {},
     "output_type": "execute_result"
    }
   ],
   "source": [
    "meyer['w1ace_ipv'].value_counts(dropna = True, normalize = True)"
   ]
  },
  {
   "cell_type": "code",
   "execution_count": 24,
   "id": "88e26951-13bf-4740-9764-6d0996c1f1d3",
   "metadata": {},
   "outputs": [
    {
     "data": {
      "text/plain": [
       "0"
      ]
     },
     "execution_count": 24,
     "metadata": {},
     "output_type": "execute_result"
    }
   ],
   "source": [
    "len(meyer[(meyer['w1ace_ipv']==' ') & (meyer['w1ace_sex']=='1')])"
   ]
  },
  {
   "cell_type": "markdown",
   "id": "6a9190bc-6020-4aea-90e9-63936133fadf",
   "metadata": {},
   "source": [
    "Of the 130 missing values in the original column, "
   ]
  },
  {
   "cell_type": "markdown",
   "id": "b1ba0e7f-e549-464c-af73-e1f8cbe01ce2",
   "metadata": {},
   "source": [
    "# ^^ **MAYBE TAKE THIS OUT???  I CAN'T TELL IF IT'S CONVINCING**"
   ]
  },
  {
   "cell_type": "markdown",
   "id": "cffda2e4-90e3-4b98-a02e-647675755642",
   "metadata": {},
   "source": [
    "Notably, I chose to impute these values before completing a train test split.  This is partially because I am primarily interested in an inferential model, rather than a predictive one.  Given how few observations I have in the dataset, I decided to prioritize fidelity to that data over adaptability to new data in the future.  Perhaps more importantly though, because this data was collected at a particular time and place in history, and addresses sensitive, often fraught, personal topics, there is no reason to expect that any model of it should predict future data, collected at a different time and place in history, as well as it explains this immediate data.  Unlike, for instance, sales of a product, queer people's understandings of themselves and their identities, and their experiences of community, homophobia, discrimination, etc., are very likely to change over time. Previous research has established that the same features tend to be consistenly *meaningful* predictors of queer mental health (e.g., Meyer has been publishing papers on minority stress in queer people since at least [1995](https://www.jstor.org/stable/2137286?origin=JSTOR-pdf), and the concept goes back decades further), but the exact weights and interplays of different factors (i.e., beta coefficients) are likely to vary with the cultural ups and downs.  Even a perfect model, fit on data from 2016, is likely to perform poorly when applied to more recent data.  In short, it would be more useful for future researchers to construct their own models and compare them to mine than it would be to apply my model to new data; therefore, I opted to maximize the information available for my imputers, rather than sacrificing any of it for a ill-conceived hope of future generalizability."
   ]
  }
 ],
 "metadata": {
  "kernelspec": {
   "display_name": "Python 3 (ipykernel)",
   "language": "python",
   "name": "python3"
  },
  "language_info": {
   "codemirror_mode": {
    "name": "ipython",
    "version": 3
   },
   "file_extension": ".py",
   "mimetype": "text/x-python",
   "name": "python",
   "nbconvert_exporter": "python",
   "pygments_lexer": "ipython3",
   "version": "3.11.7"
  }
 },
 "nbformat": 4,
 "nbformat_minor": 5
}
