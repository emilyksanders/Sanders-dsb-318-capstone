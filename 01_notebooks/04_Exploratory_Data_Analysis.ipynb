{
 "cells": [
  {
   "cell_type": "markdown",
   "id": "6fe691e0-4e29-4940-9dbe-1fbd01f6cd1d",
   "metadata": {},
   "source": [
    "# **Pride and Joy**\n",
    "### *An investigation of mental health correlates in LGBQ+ people*\n",
    "| | | | | | | | | | | | | | | | | | | | | | | | | | | | | | | | | | |\n",
    "|-|-|-|-|-|-|-|-|-|-|-|-|-|-|-|-|-|-|-|-|-|-|-|-|-|-|-|-|-|-|-|-|-|-|\n",
    "|Emily K. Sanders| | | | | | | | | | | | | | | | | | | | | | | | | | | | | | | | |Capstone Project|\n",
    "|DSB-318| | | | | | | | | | | | | | | | | | | | | | | | | | | | | | | | |June 13, 2024|\n",
    "---"
   ]
  },
  {
   "cell_type": "markdown",
   "id": "9d4fe8eb-7a9a-49ad-94f6-c51e6c977340",
   "metadata": {},
   "source": [
    "## Prior Notebooks Summary"
   ]
  },
  {
   "cell_type": "markdown",
   "id": "3bb31692-0eb4-4ce9-b4dd-5f5f1dcf5ba0",
   "metadata": {},
   "source": [
    "In the previous notebook, I \n",
    "\n",
    "In this notebook, I will ____________, including `python` code."
   ]
  },
  {
   "cell_type": "markdown",
   "id": "8929a245-b12c-41a4-86f9-b921513cb541",
   "metadata": {},
   "source": [
    "## Table of Contents"
   ]
  },
  {
   "cell_type": "markdown",
   "id": "93ecd243-c1df-4597-967c-426ce2ecb2b7",
   "metadata": {},
   "source": [
    "- [Exploratory Data Analyses](##Exploratory-Data-Analyses)\n",
    "  - [Imports](###Imports)\n",
    "  - [Summary Statistics](###Summary-Statistics)\n",
    "  - [Correlations](###Correlations)\n",
    "  - [Selected Graphs](###Selected-Graphs)\n",
    "- [Notebook Summary](##Notebook-Summary)  "
   ]
  },
  {
   "cell_type": "markdown",
   "id": "c3dd725b-2bba-4f97-8d20-53df5ff9a855",
   "metadata": {},
   "source": [
    "## Exploratory Data Analysis"
   ]
  },
  {
   "cell_type": "markdown",
   "id": "95567fa4-f556-4d85-922d-e14e8861ba50",
   "metadata": {},
   "source": [
    "### Imports"
   ]
  },
  {
   "cell_type": "code",
   "execution_count": 1,
   "id": "3681ebb2-3687-4062-ae5d-5256135c8425",
   "metadata": {},
   "outputs": [],
   "source": [
    "# Import modules\n",
    "import pandas as pd\n",
    "import numpy as np\n",
    "import matplotlib.pyplot as plt\n",
    "import seaborn as sns\n",
    "import os\n",
    "import statsmodels.api as sm\n",
    "from emilys_functions import my_date, autoplots\n",
    "from warnings import simplefilter"
   ]
  },
  {
   "cell_type": "code",
   "execution_count": 2,
   "id": "fe930f00-ada9-4e36-a540-138741168c54",
   "metadata": {},
   "outputs": [],
   "source": [
    "# Settings preferences\n",
    "pd.set_option('display.max_rows', None)\n",
    "pd.options.mode.chained_assignment = None \n",
    "simplefilter(action=\"ignore\", category=pd.errors.PerformanceWarning)\n",
    "# Thanks to daydaybroskii and KingOtto at Stack Overflow for that one\n",
    "# https://stackoverflow.com/questions/68292862/performancewarning-dataframe-is-highly-fragmented-this-is-usually-the-result-o\n",
    "plt.rcParams.update({'figure.max_open_warning': 0})\n",
    "# Thanks to Luan Nico at Stack Overflow for that one\n",
    "# https://stackoverflow.com/questions/27476642/matplotlib-get-rid-of-max-open-warning-output"
   ]
  },
  {
   "cell_type": "code",
   "execution_count": 3,
   "id": "ebe171dc-ad0a-4335-97f2-e23241fcdea5",
   "metadata": {},
   "outputs": [
    {
     "data": {
      "text/plain": [
       "(1494, 131)"
      ]
     },
     "execution_count": 3,
     "metadata": {},
     "output_type": "execute_result"
    }
   ],
   "source": [
    "# Import the dataframe from the previous notebook\n",
    "meyer = pd.read_csv('../02_data/df_after_data_preparation_part_2.csv')\n",
    "meyer.shape"
   ]
  },
  {
   "cell_type": "markdown",
   "id": "8ae67c6c-b325-46f0-b998-7bc8b8168baf",
   "metadata": {},
   "source": [
    "### Summary Statistics"
   ]
  },
  {
   "cell_type": "code",
   "execution_count": 4,
   "id": "00fa46ce-f1ae-48bc-ae36-e7458ca8f12b",
   "metadata": {},
   "outputs": [
    {
     "data": {
      "text/html": [
       "<div>\n",
       "<style scoped>\n",
       "    .dataframe tbody tr th:only-of-type {\n",
       "        vertical-align: middle;\n",
       "    }\n",
       "\n",
       "    .dataframe tbody tr th {\n",
       "        vertical-align: top;\n",
       "    }\n",
       "\n",
       "    .dataframe thead th {\n",
       "        text-align: right;\n",
       "    }\n",
       "</style>\n",
       "<table border=\"1\" class=\"dataframe\">\n",
       "  <thead>\n",
       "    <tr style=\"text-align: right;\">\n",
       "      <th></th>\n",
       "      <th>studyid</th>\n",
       "      <th>w1kessler6_i</th>\n",
       "      <th>abus_treat_non_queer</th>\n",
       "      <th>abus_treat_sex_gender</th>\n",
       "      <th>abusive_treatment</th>\n",
       "      <th>bad_neighbhd</th>\n",
       "      <th>childhd_bullying_non_queer</th>\n",
       "      <th>childhd_bullying_sex_gender</th>\n",
       "      <th>chronic_strain</th>\n",
       "      <th>cohort</th>\n",
       "      <th>...</th>\n",
       "      <th>w1socsupport_fam_i</th>\n",
       "      <th>w1socsupport_fr_i</th>\n",
       "      <th>w1socsupport_i</th>\n",
       "      <th>w1socsupport_so_i</th>\n",
       "      <th>w1survey_yr</th>\n",
       "      <th>w1weight_full</th>\n",
       "      <th>waveparticipated</th>\n",
       "      <th>work_disc_non_queer</th>\n",
       "      <th>work_disc_sex_gender</th>\n",
       "      <th>work_neg_outcomes</th>\n",
       "    </tr>\n",
       "  </thead>\n",
       "  <tbody>\n",
       "    <tr>\n",
       "      <th>count</th>\n",
       "      <td>1.494000e+03</td>\n",
       "      <td>1494.000000</td>\n",
       "      <td>1494.000000</td>\n",
       "      <td>1494.000000</td>\n",
       "      <td>1494.000000</td>\n",
       "      <td>1494.000000</td>\n",
       "      <td>1494.000000</td>\n",
       "      <td>1494.000000</td>\n",
       "      <td>1494.000000</td>\n",
       "      <td>1494.000000</td>\n",
       "      <td>...</td>\n",
       "      <td>1494.000000</td>\n",
       "      <td>1494.000000</td>\n",
       "      <td>1494.000000</td>\n",
       "      <td>1494.000000</td>\n",
       "      <td>1494.000000</td>\n",
       "      <td>1494.000000</td>\n",
       "      <td>1494.000000</td>\n",
       "      <td>1494.000000</td>\n",
       "      <td>1494.000000</td>\n",
       "      <td>1494.000000</td>\n",
       "    </tr>\n",
       "    <tr>\n",
       "      <th>mean</th>\n",
       "      <td>1.590061e+08</td>\n",
       "      <td>7.666667</td>\n",
       "      <td>0.635207</td>\n",
       "      <td>0.392236</td>\n",
       "      <td>5.788487</td>\n",
       "      <td>1.342704</td>\n",
       "      <td>0.997323</td>\n",
       "      <td>0.406292</td>\n",
       "      <td>6.836011</td>\n",
       "      <td>1.870147</td>\n",
       "      <td>...</td>\n",
       "      <td>4.702477</td>\n",
       "      <td>5.407296</td>\n",
       "      <td>5.201807</td>\n",
       "      <td>5.495649</td>\n",
       "      <td>2016.281124</td>\n",
       "      <td>0.991618</td>\n",
       "      <td>2.526104</td>\n",
       "      <td>0.326640</td>\n",
       "      <td>0.139224</td>\n",
       "      <td>1.227577</td>\n",
       "    </tr>\n",
       "    <tr>\n",
       "      <th>std</th>\n",
       "      <td>5.726143e+06</td>\n",
       "      <td>5.469394</td>\n",
       "      <td>0.934631</td>\n",
       "      <td>0.605926</td>\n",
       "      <td>4.863244</td>\n",
       "      <td>1.553799</td>\n",
       "      <td>1.033268</td>\n",
       "      <td>0.604948</td>\n",
       "      <td>3.922459</td>\n",
       "      <td>0.859449</td>\n",
       "      <td>...</td>\n",
       "      <td>1.663379</td>\n",
       "      <td>1.447313</td>\n",
       "      <td>1.298235</td>\n",
       "      <td>1.680723</td>\n",
       "      <td>0.489630</td>\n",
       "      <td>0.740316</td>\n",
       "      <td>1.328870</td>\n",
       "      <td>0.733195</td>\n",
       "      <td>0.406776</td>\n",
       "      <td>1.602623</td>\n",
       "    </tr>\n",
       "    <tr>\n",
       "      <th>min</th>\n",
       "      <td>1.513398e+08</td>\n",
       "      <td>0.000000</td>\n",
       "      <td>0.000000</td>\n",
       "      <td>0.000000</td>\n",
       "      <td>0.000000</td>\n",
       "      <td>0.000000</td>\n",
       "      <td>0.000000</td>\n",
       "      <td>0.000000</td>\n",
       "      <td>0.000000</td>\n",
       "      <td>1.000000</td>\n",
       "      <td>...</td>\n",
       "      <td>1.000000</td>\n",
       "      <td>1.000000</td>\n",
       "      <td>1.000000</td>\n",
       "      <td>1.000000</td>\n",
       "      <td>2016.000000</td>\n",
       "      <td>0.274022</td>\n",
       "      <td>1.000000</td>\n",
       "      <td>0.000000</td>\n",
       "      <td>0.000000</td>\n",
       "      <td>0.000000</td>\n",
       "    </tr>\n",
       "    <tr>\n",
       "      <th>25%</th>\n",
       "      <td>1.547582e+08</td>\n",
       "      <td>3.000000</td>\n",
       "      <td>0.000000</td>\n",
       "      <td>0.000000</td>\n",
       "      <td>2.000000</td>\n",
       "      <td>0.000000</td>\n",
       "      <td>0.000000</td>\n",
       "      <td>0.000000</td>\n",
       "      <td>4.000000</td>\n",
       "      <td>1.000000</td>\n",
       "      <td>...</td>\n",
       "      <td>3.562500</td>\n",
       "      <td>4.750000</td>\n",
       "      <td>4.500000</td>\n",
       "      <td>4.750000</td>\n",
       "      <td>2016.000000</td>\n",
       "      <td>0.477509</td>\n",
       "      <td>1.000000</td>\n",
       "      <td>0.000000</td>\n",
       "      <td>0.000000</td>\n",
       "      <td>0.000000</td>\n",
       "    </tr>\n",
       "    <tr>\n",
       "      <th>50%</th>\n",
       "      <td>1.570744e+08</td>\n",
       "      <td>7.000000</td>\n",
       "      <td>0.000000</td>\n",
       "      <td>0.000000</td>\n",
       "      <td>5.000000</td>\n",
       "      <td>1.000000</td>\n",
       "      <td>1.000000</td>\n",
       "      <td>0.000000</td>\n",
       "      <td>6.000000</td>\n",
       "      <td>2.000000</td>\n",
       "      <td>...</td>\n",
       "      <td>5.000000</td>\n",
       "      <td>5.750000</td>\n",
       "      <td>5.416667</td>\n",
       "      <td>6.000000</td>\n",
       "      <td>2016.000000</td>\n",
       "      <td>0.695084</td>\n",
       "      <td>2.000000</td>\n",
       "      <td>0.000000</td>\n",
       "      <td>0.000000</td>\n",
       "      <td>1.000000</td>\n",
       "    </tr>\n",
       "    <tr>\n",
       "      <th>75%</th>\n",
       "      <td>1.628398e+08</td>\n",
       "      <td>12.000000</td>\n",
       "      <td>1.000000</td>\n",
       "      <td>1.000000</td>\n",
       "      <td>9.000000</td>\n",
       "      <td>3.000000</td>\n",
       "      <td>2.000000</td>\n",
       "      <td>1.000000</td>\n",
       "      <td>9.000000</td>\n",
       "      <td>3.000000</td>\n",
       "      <td>...</td>\n",
       "      <td>6.000000</td>\n",
       "      <td>6.500000</td>\n",
       "      <td>6.166667</td>\n",
       "      <td>7.000000</td>\n",
       "      <td>2017.000000</td>\n",
       "      <td>1.293305</td>\n",
       "      <td>4.000000</td>\n",
       "      <td>0.000000</td>\n",
       "      <td>0.000000</td>\n",
       "      <td>2.000000</td>\n",
       "    </tr>\n",
       "    <tr>\n",
       "      <th>max</th>\n",
       "      <td>1.766200e+08</td>\n",
       "      <td>24.000000</td>\n",
       "      <td>6.000000</td>\n",
       "      <td>3.000000</td>\n",
       "      <td>18.000000</td>\n",
       "      <td>4.000000</td>\n",
       "      <td>6.000000</td>\n",
       "      <td>2.000000</td>\n",
       "      <td>22.000000</td>\n",
       "      <td>3.000000</td>\n",
       "      <td>...</td>\n",
       "      <td>7.000000</td>\n",
       "      <td>7.000000</td>\n",
       "      <td>7.000000</td>\n",
       "      <td>7.000000</td>\n",
       "      <td>2018.000000</td>\n",
       "      <td>3.332937</td>\n",
       "      <td>4.000000</td>\n",
       "      <td>6.000000</td>\n",
       "      <td>3.000000</td>\n",
       "      <td>6.000000</td>\n",
       "    </tr>\n",
       "  </tbody>\n",
       "</table>\n",
       "<p>8 rows × 131 columns</p>\n",
       "</div>"
      ],
      "text/plain": [
       "            studyid  w1kessler6_i  abus_treat_non_queer  \\\n",
       "count  1.494000e+03   1494.000000           1494.000000   \n",
       "mean   1.590061e+08      7.666667              0.635207   \n",
       "std    5.726143e+06      5.469394              0.934631   \n",
       "min    1.513398e+08      0.000000              0.000000   \n",
       "25%    1.547582e+08      3.000000              0.000000   \n",
       "50%    1.570744e+08      7.000000              0.000000   \n",
       "75%    1.628398e+08     12.000000              1.000000   \n",
       "max    1.766200e+08     24.000000              6.000000   \n",
       "\n",
       "       abus_treat_sex_gender  abusive_treatment  bad_neighbhd  \\\n",
       "count            1494.000000        1494.000000   1494.000000   \n",
       "mean                0.392236           5.788487      1.342704   \n",
       "std                 0.605926           4.863244      1.553799   \n",
       "min                 0.000000           0.000000      0.000000   \n",
       "25%                 0.000000           2.000000      0.000000   \n",
       "50%                 0.000000           5.000000      1.000000   \n",
       "75%                 1.000000           9.000000      3.000000   \n",
       "max                 3.000000          18.000000      4.000000   \n",
       "\n",
       "       childhd_bullying_non_queer  childhd_bullying_sex_gender  \\\n",
       "count                 1494.000000                  1494.000000   \n",
       "mean                     0.997323                     0.406292   \n",
       "std                      1.033268                     0.604948   \n",
       "min                      0.000000                     0.000000   \n",
       "25%                      0.000000                     0.000000   \n",
       "50%                      1.000000                     0.000000   \n",
       "75%                      2.000000                     1.000000   \n",
       "max                      6.000000                     2.000000   \n",
       "\n",
       "       chronic_strain       cohort  ...  w1socsupport_fam_i  \\\n",
       "count     1494.000000  1494.000000  ...         1494.000000   \n",
       "mean         6.836011     1.870147  ...            4.702477   \n",
       "std          3.922459     0.859449  ...            1.663379   \n",
       "min          0.000000     1.000000  ...            1.000000   \n",
       "25%          4.000000     1.000000  ...            3.562500   \n",
       "50%          6.000000     2.000000  ...            5.000000   \n",
       "75%          9.000000     3.000000  ...            6.000000   \n",
       "max         22.000000     3.000000  ...            7.000000   \n",
       "\n",
       "       w1socsupport_fr_i  w1socsupport_i  w1socsupport_so_i  w1survey_yr  \\\n",
       "count        1494.000000     1494.000000        1494.000000  1494.000000   \n",
       "mean            5.407296        5.201807           5.495649  2016.281124   \n",
       "std             1.447313        1.298235           1.680723     0.489630   \n",
       "min             1.000000        1.000000           1.000000  2016.000000   \n",
       "25%             4.750000        4.500000           4.750000  2016.000000   \n",
       "50%             5.750000        5.416667           6.000000  2016.000000   \n",
       "75%             6.500000        6.166667           7.000000  2017.000000   \n",
       "max             7.000000        7.000000           7.000000  2018.000000   \n",
       "\n",
       "       w1weight_full  waveparticipated  work_disc_non_queer  \\\n",
       "count    1494.000000       1494.000000          1494.000000   \n",
       "mean        0.991618          2.526104             0.326640   \n",
       "std         0.740316          1.328870             0.733195   \n",
       "min         0.274022          1.000000             0.000000   \n",
       "25%         0.477509          1.000000             0.000000   \n",
       "50%         0.695084          2.000000             0.000000   \n",
       "75%         1.293305          4.000000             0.000000   \n",
       "max         3.332937          4.000000             6.000000   \n",
       "\n",
       "       work_disc_sex_gender  work_neg_outcomes  \n",
       "count           1494.000000        1494.000000  \n",
       "mean               0.139224           1.227577  \n",
       "std                0.406776           1.602623  \n",
       "min                0.000000           0.000000  \n",
       "25%                0.000000           0.000000  \n",
       "50%                0.000000           1.000000  \n",
       "75%                0.000000           2.000000  \n",
       "max                3.000000           6.000000  \n",
       "\n",
       "[8 rows x 131 columns]"
      ]
     },
     "execution_count": 4,
     "metadata": {},
     "output_type": "execute_result"
    }
   ],
   "source": [
    "meyer.describe()"
   ]
  },
  {
   "cell_type": "markdown",
   "id": "2097eabb-ab28-46c2-a5fa-82ee3e7589db",
   "metadata": {},
   "source": [
    "### Correlations"
   ]
  },
  {
   "cell_type": "code",
   "execution_count": 5,
   "id": "6ce24e2a-3daa-4050-a323-7bb3e0c975d9",
   "metadata": {
    "scrolled": true
   },
   "outputs": [
    {
     "data": {
      "text/html": [
       "<div>\n",
       "<style scoped>\n",
       "    .dataframe tbody tr th:only-of-type {\n",
       "        vertical-align: middle;\n",
       "    }\n",
       "\n",
       "    .dataframe tbody tr th {\n",
       "        vertical-align: top;\n",
       "    }\n",
       "\n",
       "    .dataframe thead th {\n",
       "        text-align: right;\n",
       "    }\n",
       "</style>\n",
       "<table border=\"1\" class=\"dataframe\">\n",
       "  <thead>\n",
       "    <tr style=\"text-align: right;\">\n",
       "      <th></th>\n",
       "      <th>studyid</th>\n",
       "      <th>w1kessler6_i</th>\n",
       "      <th>abus_treat_non_queer</th>\n",
       "      <th>abus_treat_sex_gender</th>\n",
       "      <th>abusive_treatment</th>\n",
       "      <th>bad_neighbhd</th>\n",
       "      <th>childhd_bullying_non_queer</th>\n",
       "      <th>childhd_bullying_sex_gender</th>\n",
       "      <th>chronic_strain</th>\n",
       "      <th>cohort</th>\n",
       "      <th>...</th>\n",
       "      <th>w1socsupport_fam_i</th>\n",
       "      <th>w1socsupport_fr_i</th>\n",
       "      <th>w1socsupport_i</th>\n",
       "      <th>w1socsupport_so_i</th>\n",
       "      <th>w1survey_yr</th>\n",
       "      <th>w1weight_full</th>\n",
       "      <th>waveparticipated</th>\n",
       "      <th>work_disc_non_queer</th>\n",
       "      <th>work_disc_sex_gender</th>\n",
       "      <th>work_neg_outcomes</th>\n",
       "    </tr>\n",
       "  </thead>\n",
       "  <tbody>\n",
       "    <tr>\n",
       "      <th>studyid</th>\n",
       "      <td>1.000000</td>\n",
       "      <td>0.103906</td>\n",
       "      <td>0.070119</td>\n",
       "      <td>0.009527</td>\n",
       "      <td>0.000728</td>\n",
       "      <td>0.016558</td>\n",
       "      <td>0.049385</td>\n",
       "      <td>0.027719</td>\n",
       "      <td>0.074053</td>\n",
       "      <td>-0.104267</td>\n",
       "      <td>...</td>\n",
       "      <td>-0.029786</td>\n",
       "      <td>-0.038420</td>\n",
       "      <td>-0.039249</td>\n",
       "      <td>-0.028389</td>\n",
       "      <td>0.855644</td>\n",
       "      <td>0.021940</td>\n",
       "      <td>-0.354735</td>\n",
       "      <td>0.023757</td>\n",
       "      <td>0.021003</td>\n",
       "      <td>0.024897</td>\n",
       "    </tr>\n",
       "    <tr>\n",
       "      <th>w1kessler6_i</th>\n",
       "      <td>0.103906</td>\n",
       "      <td>1.000000</td>\n",
       "      <td>0.216893</td>\n",
       "      <td>0.150637</td>\n",
       "      <td>0.221233</td>\n",
       "      <td>0.195985</td>\n",
       "      <td>0.285710</td>\n",
       "      <td>0.182663</td>\n",
       "      <td>0.525705</td>\n",
       "      <td>-0.367859</td>\n",
       "      <td>...</td>\n",
       "      <td>-0.233671</td>\n",
       "      <td>-0.210511</td>\n",
       "      <td>-0.246074</td>\n",
       "      <td>-0.157687</td>\n",
       "      <td>0.097543</td>\n",
       "      <td>0.288530</td>\n",
       "      <td>-0.146066</td>\n",
       "      <td>0.145423</td>\n",
       "      <td>0.103663</td>\n",
       "      <td>0.110214</td>\n",
       "    </tr>\n",
       "    <tr>\n",
       "      <th>abus_treat_non_queer</th>\n",
       "      <td>0.070119</td>\n",
       "      <td>0.216893</td>\n",
       "      <td>1.000000</td>\n",
       "      <td>0.379378</td>\n",
       "      <td>0.281561</td>\n",
       "      <td>0.103208</td>\n",
       "      <td>0.399175</td>\n",
       "      <td>0.230326</td>\n",
       "      <td>0.268685</td>\n",
       "      <td>-0.110708</td>\n",
       "      <td>...</td>\n",
       "      <td>-0.112835</td>\n",
       "      <td>-0.073170</td>\n",
       "      <td>-0.100014</td>\n",
       "      <td>-0.057081</td>\n",
       "      <td>0.080811</td>\n",
       "      <td>0.106148</td>\n",
       "      <td>-0.106925</td>\n",
       "      <td>0.376324</td>\n",
       "      <td>0.218240</td>\n",
       "      <td>0.179774</td>\n",
       "    </tr>\n",
       "    <tr>\n",
       "      <th>abus_treat_sex_gender</th>\n",
       "      <td>0.009527</td>\n",
       "      <td>0.150637</td>\n",
       "      <td>0.379378</td>\n",
       "      <td>1.000000</td>\n",
       "      <td>0.306612</td>\n",
       "      <td>0.146677</td>\n",
       "      <td>0.227409</td>\n",
       "      <td>0.398186</td>\n",
       "      <td>0.156152</td>\n",
       "      <td>-0.089912</td>\n",
       "      <td>...</td>\n",
       "      <td>-0.102275</td>\n",
       "      <td>-0.047296</td>\n",
       "      <td>-0.063868</td>\n",
       "      <td>-0.006051</td>\n",
       "      <td>0.036711</td>\n",
       "      <td>0.073047</td>\n",
       "      <td>-0.026034</td>\n",
       "      <td>0.205929</td>\n",
       "      <td>0.343529</td>\n",
       "      <td>0.121147</td>\n",
       "    </tr>\n",
       "    <tr>\n",
       "      <th>abusive_treatment</th>\n",
       "      <td>0.000728</td>\n",
       "      <td>0.221233</td>\n",
       "      <td>0.281561</td>\n",
       "      <td>0.306612</td>\n",
       "      <td>1.000000</td>\n",
       "      <td>0.125892</td>\n",
       "      <td>0.213420</td>\n",
       "      <td>0.179944</td>\n",
       "      <td>0.306359</td>\n",
       "      <td>0.146622</td>\n",
       "      <td>...</td>\n",
       "      <td>-0.203500</td>\n",
       "      <td>-0.083530</td>\n",
       "      <td>-0.142658</td>\n",
       "      <td>-0.057248</td>\n",
       "      <td>0.001079</td>\n",
       "      <td>-0.001988</td>\n",
       "      <td>-0.073352</td>\n",
       "      <td>0.272789</td>\n",
       "      <td>0.227523</td>\n",
       "      <td>0.345633</td>\n",
       "    </tr>\n",
       "    <tr>\n",
       "      <th>bad_neighbhd</th>\n",
       "      <td>0.016558</td>\n",
       "      <td>0.195985</td>\n",
       "      <td>0.103208</td>\n",
       "      <td>0.146677</td>\n",
       "      <td>0.125892</td>\n",
       "      <td>1.000000</td>\n",
       "      <td>0.124060</td>\n",
       "      <td>0.101170</td>\n",
       "      <td>0.235176</td>\n",
       "      <td>-0.107593</td>\n",
       "      <td>...</td>\n",
       "      <td>-0.157673</td>\n",
       "      <td>-0.139102</td>\n",
       "      <td>-0.156306</td>\n",
       "      <td>-0.086375</td>\n",
       "      <td>0.009741</td>\n",
       "      <td>0.088249</td>\n",
       "      <td>-0.050074</td>\n",
       "      <td>0.138611</td>\n",
       "      <td>0.076000</td>\n",
       "      <td>0.087816</td>\n",
       "    </tr>\n",
       "    <tr>\n",
       "      <th>childhd_bullying_non_queer</th>\n",
       "      <td>0.049385</td>\n",
       "      <td>0.285710</td>\n",
       "      <td>0.399175</td>\n",
       "      <td>0.227409</td>\n",
       "      <td>0.213420</td>\n",
       "      <td>0.124060</td>\n",
       "      <td>1.000000</td>\n",
       "      <td>0.347850</td>\n",
       "      <td>0.328925</td>\n",
       "      <td>-0.191213</td>\n",
       "      <td>...</td>\n",
       "      <td>-0.131307</td>\n",
       "      <td>-0.101276</td>\n",
       "      <td>-0.125258</td>\n",
       "      <td>-0.073094</td>\n",
       "      <td>0.037234</td>\n",
       "      <td>0.170819</td>\n",
       "      <td>-0.062388</td>\n",
       "      <td>0.313247</td>\n",
       "      <td>0.147496</td>\n",
       "      <td>0.165396</td>\n",
       "    </tr>\n",
       "    <tr>\n",
       "      <th>childhd_bullying_sex_gender</th>\n",
       "      <td>0.027719</td>\n",
       "      <td>0.182663</td>\n",
       "      <td>0.230326</td>\n",
       "      <td>0.398186</td>\n",
       "      <td>0.179944</td>\n",
       "      <td>0.101170</td>\n",
       "      <td>0.347850</td>\n",
       "      <td>1.000000</td>\n",
       "      <td>0.172902</td>\n",
       "      <td>-0.123904</td>\n",
       "      <td>...</td>\n",
       "      <td>-0.064002</td>\n",
       "      <td>-0.030966</td>\n",
       "      <td>-0.041787</td>\n",
       "      <td>-0.006824</td>\n",
       "      <td>0.025682</td>\n",
       "      <td>0.111225</td>\n",
       "      <td>-0.031949</td>\n",
       "      <td>0.152111</td>\n",
       "      <td>0.235418</td>\n",
       "      <td>0.095243</td>\n",
       "    </tr>\n",
       "    <tr>\n",
       "      <th>chronic_strain</th>\n",
       "      <td>0.074053</td>\n",
       "      <td>0.525705</td>\n",
       "      <td>0.268685</td>\n",
       "      <td>0.156152</td>\n",
       "      <td>0.306359</td>\n",
       "      <td>0.235176</td>\n",
       "      <td>0.328925</td>\n",
       "      <td>0.172902</td>\n",
       "      <td>1.000000</td>\n",
       "      <td>-0.244344</td>\n",
       "      <td>...</td>\n",
       "      <td>-0.332214</td>\n",
       "      <td>-0.223308</td>\n",
       "      <td>-0.331082</td>\n",
       "      <td>-0.246128</td>\n",
       "      <td>0.063080</td>\n",
       "      <td>0.194443</td>\n",
       "      <td>-0.161794</td>\n",
       "      <td>0.234533</td>\n",
       "      <td>0.143193</td>\n",
       "      <td>0.204655</td>\n",
       "    </tr>\n",
       "    <tr>\n",
       "      <th>cohort</th>\n",
       "      <td>-0.104267</td>\n",
       "      <td>-0.367859</td>\n",
       "      <td>-0.110708</td>\n",
       "      <td>-0.089912</td>\n",
       "      <td>0.146622</td>\n",
       "      <td>-0.107593</td>\n",
       "      <td>-0.191213</td>\n",
       "      <td>-0.123904</td>\n",
       "      <td>-0.244344</td>\n",
       "      <td>1.000000</td>\n",
       "      <td>...</td>\n",
       "      <td>-0.027043</td>\n",
       "      <td>-0.046569</td>\n",
       "      <td>-0.037378</td>\n",
       "      <td>-0.019750</td>\n",
       "      <td>-0.104193</td>\n",
       "      <td>-0.497908</td>\n",
       "      <td>0.139615</td>\n",
       "      <td>0.033342</td>\n",
       "      <td>0.063242</td>\n",
       "      <td>0.209661</td>\n",
       "    </tr>\n",
       "    <tr>\n",
       "      <th>daily_discr_non_queer</th>\n",
       "      <td>0.154620</td>\n",
       "      <td>0.209677</td>\n",
       "      <td>0.379328</td>\n",
       "      <td>0.224798</td>\n",
       "      <td>0.132535</td>\n",
       "      <td>0.116441</td>\n",
       "      <td>0.365822</td>\n",
       "      <td>0.232077</td>\n",
       "      <td>0.259415</td>\n",
       "      <td>-0.217579</td>\n",
       "      <td>...</td>\n",
       "      <td>-0.085563</td>\n",
       "      <td>-0.028443</td>\n",
       "      <td>-0.057811</td>\n",
       "      <td>-0.024790</td>\n",
       "      <td>0.149095</td>\n",
       "      <td>0.120332</td>\n",
       "      <td>-0.121056</td>\n",
       "      <td>0.263274</td>\n",
       "      <td>0.169907</td>\n",
       "      <td>0.116831</td>\n",
       "    </tr>\n",
       "    <tr>\n",
       "      <th>daily_discr_sex_gender</th>\n",
       "      <td>0.031268</td>\n",
       "      <td>0.271463</td>\n",
       "      <td>0.397017</td>\n",
       "      <td>0.447712</td>\n",
       "      <td>0.214904</td>\n",
       "      <td>0.157362</td>\n",
       "      <td>0.373300</td>\n",
       "      <td>0.362475</td>\n",
       "      <td>0.281824</td>\n",
       "      <td>-0.180051</td>\n",
       "      <td>...</td>\n",
       "      <td>-0.122476</td>\n",
       "      <td>-0.068934</td>\n",
       "      <td>-0.085761</td>\n",
       "      <td>-0.018159</td>\n",
       "      <td>0.023542</td>\n",
       "      <td>0.137976</td>\n",
       "      <td>-0.028014</td>\n",
       "      <td>0.327769</td>\n",
       "      <td>0.302816</td>\n",
       "      <td>0.157606</td>\n",
       "    </tr>\n",
       "    <tr>\n",
       "      <th>disabled</th>\n",
       "      <td>0.020363</td>\n",
       "      <td>0.369491</td>\n",
       "      <td>0.174096</td>\n",
       "      <td>0.160210</td>\n",
       "      <td>0.229125</td>\n",
       "      <td>0.151237</td>\n",
       "      <td>0.189546</td>\n",
       "      <td>0.142523</td>\n",
       "      <td>0.246139</td>\n",
       "      <td>0.041001</td>\n",
       "      <td>...</td>\n",
       "      <td>-0.141866</td>\n",
       "      <td>-0.126740</td>\n",
       "      <td>-0.148672</td>\n",
       "      <td>-0.094975</td>\n",
       "      <td>0.006029</td>\n",
       "      <td>0.026319</td>\n",
       "      <td>-0.009964</td>\n",
       "      <td>0.184510</td>\n",
       "      <td>0.103150</td>\n",
       "      <td>0.160657</td>\n",
       "    </tr>\n",
       "    <tr>\n",
       "      <th>gcendiv</th>\n",
       "      <td>0.047454</td>\n",
       "      <td>-0.019954</td>\n",
       "      <td>0.000156</td>\n",
       "      <td>0.025605</td>\n",
       "      <td>0.001714</td>\n",
       "      <td>-0.020126</td>\n",
       "      <td>0.014394</td>\n",
       "      <td>-0.008900</td>\n",
       "      <td>-0.011625</td>\n",
       "      <td>-0.002885</td>\n",
       "      <td>...</td>\n",
       "      <td>-0.003177</td>\n",
       "      <td>0.010331</td>\n",
       "      <td>-0.001878</td>\n",
       "      <td>-0.010104</td>\n",
       "      <td>0.034811</td>\n",
       "      <td>-0.030429</td>\n",
       "      <td>-0.034813</td>\n",
       "      <td>-0.005803</td>\n",
       "      <td>0.012590</td>\n",
       "      <td>0.008488</td>\n",
       "    </tr>\n",
       "    <tr>\n",
       "      <th>gcenreg</th>\n",
       "      <td>0.052533</td>\n",
       "      <td>-0.031340</td>\n",
       "      <td>0.000631</td>\n",
       "      <td>0.017418</td>\n",
       "      <td>0.002651</td>\n",
       "      <td>-0.018995</td>\n",
       "      <td>0.014307</td>\n",
       "      <td>-0.011132</td>\n",
       "      <td>-0.015735</td>\n",
       "      <td>0.011825</td>\n",
       "      <td>...</td>\n",
       "      <td>-0.009032</td>\n",
       "      <td>0.004749</td>\n",
       "      <td>-0.010756</td>\n",
       "      <td>-0.020076</td>\n",
       "      <td>0.033661</td>\n",
       "      <td>-0.023494</td>\n",
       "      <td>-0.034831</td>\n",
       "      <td>-0.008109</td>\n",
       "      <td>0.013269</td>\n",
       "      <td>0.012085</td>\n",
       "    </tr>\n",
       "    <tr>\n",
       "      <th>geduc1</th>\n",
       "      <td>-0.026410</td>\n",
       "      <td>-0.291846</td>\n",
       "      <td>-0.095848</td>\n",
       "      <td>-0.040722</td>\n",
       "      <td>-0.028169</td>\n",
       "      <td>-0.102729</td>\n",
       "      <td>-0.147627</td>\n",
       "      <td>-0.055840</td>\n",
       "      <td>-0.215816</td>\n",
       "      <td>0.366671</td>\n",
       "      <td>...</td>\n",
       "      <td>0.086641</td>\n",
       "      <td>0.103904</td>\n",
       "      <td>0.088965</td>\n",
       "      <td>0.030935</td>\n",
       "      <td>-0.034969</td>\n",
       "      <td>-0.701877</td>\n",
       "      <td>0.142188</td>\n",
       "      <td>-0.051008</td>\n",
       "      <td>0.032385</td>\n",
       "      <td>0.044218</td>\n",
       "    </tr>\n",
       "    <tr>\n",
       "      <th>geduc2</th>\n",
       "      <td>-0.003236</td>\n",
       "      <td>-0.185275</td>\n",
       "      <td>-0.031132</td>\n",
       "      <td>0.004137</td>\n",
       "      <td>0.001097</td>\n",
       "      <td>-0.055302</td>\n",
       "      <td>-0.072734</td>\n",
       "      <td>-0.045292</td>\n",
       "      <td>-0.126052</td>\n",
       "      <td>0.256571</td>\n",
       "      <td>...</td>\n",
       "      <td>0.049055</td>\n",
       "      <td>0.098204</td>\n",
       "      <td>0.060441</td>\n",
       "      <td>0.006945</td>\n",
       "      <td>-0.015440</td>\n",
       "      <td>-0.741180</td>\n",
       "      <td>0.108896</td>\n",
       "      <td>-0.013702</td>\n",
       "      <td>0.046810</td>\n",
       "      <td>0.084367</td>\n",
       "    </tr>\n",
       "    <tr>\n",
       "      <th>geducation</th>\n",
       "      <td>-0.020769</td>\n",
       "      <td>-0.277191</td>\n",
       "      <td>-0.091457</td>\n",
       "      <td>-0.035748</td>\n",
       "      <td>-0.029247</td>\n",
       "      <td>-0.100882</td>\n",
       "      <td>-0.144315</td>\n",
       "      <td>-0.061242</td>\n",
       "      <td>-0.205707</td>\n",
       "      <td>0.352694</td>\n",
       "      <td>...</td>\n",
       "      <td>0.081170</td>\n",
       "      <td>0.106048</td>\n",
       "      <td>0.084294</td>\n",
       "      <td>0.023681</td>\n",
       "      <td>-0.033474</td>\n",
       "      <td>-0.756868</td>\n",
       "      <td>0.148093</td>\n",
       "      <td>-0.046463</td>\n",
       "      <td>0.035130</td>\n",
       "      <td>0.059011</td>\n",
       "    </tr>\n",
       "    <tr>\n",
       "      <th>gmilesaway2_ei_r</th>\n",
       "      <td>0.051560</td>\n",
       "      <td>-0.059816</td>\n",
       "      <td>-0.066864</td>\n",
       "      <td>-0.008428</td>\n",
       "      <td>-0.028319</td>\n",
       "      <td>-0.210713</td>\n",
       "      <td>-0.034407</td>\n",
       "      <td>-0.018004</td>\n",
       "      <td>-0.071846</td>\n",
       "      <td>0.058330</td>\n",
       "      <td>...</td>\n",
       "      <td>0.017865</td>\n",
       "      <td>0.015836</td>\n",
       "      <td>0.015052</td>\n",
       "      <td>0.003561</td>\n",
       "      <td>0.047794</td>\n",
       "      <td>-0.017106</td>\n",
       "      <td>0.012519</td>\n",
       "      <td>-0.031276</td>\n",
       "      <td>0.007864</td>\n",
       "      <td>0.022292</td>\n",
       "    </tr>\n",
       "    <tr>\n",
       "      <th>gurban_i</th>\n",
       "      <td>0.041714</td>\n",
       "      <td>-0.059474</td>\n",
       "      <td>-0.018994</td>\n",
       "      <td>0.015133</td>\n",
       "      <td>-0.070055</td>\n",
       "      <td>-0.213804</td>\n",
       "      <td>-0.031028</td>\n",
       "      <td>0.023679</td>\n",
       "      <td>-0.099846</td>\n",
       "      <td>-0.002372</td>\n",
       "      <td>...</td>\n",
       "      <td>0.055227</td>\n",
       "      <td>0.063834</td>\n",
       "      <td>0.055011</td>\n",
       "      <td>0.017850</td>\n",
       "      <td>0.028601</td>\n",
       "      <td>-0.022249</td>\n",
       "      <td>0.036048</td>\n",
       "      <td>-0.020303</td>\n",
       "      <td>-0.006914</td>\n",
       "      <td>-0.007393</td>\n",
       "    </tr>\n",
       "    <tr>\n",
       "      <th>health_insurance</th>\n",
       "      <td>-0.054009</td>\n",
       "      <td>-0.063635</td>\n",
       "      <td>-0.076667</td>\n",
       "      <td>-0.056660</td>\n",
       "      <td>-0.082490</td>\n",
       "      <td>-0.087131</td>\n",
       "      <td>-0.051554</td>\n",
       "      <td>-0.033844</td>\n",
       "      <td>-0.122252</td>\n",
       "      <td>0.070034</td>\n",
       "      <td>...</td>\n",
       "      <td>0.032775</td>\n",
       "      <td>0.024363</td>\n",
       "      <td>0.018729</td>\n",
       "      <td>-0.010015</td>\n",
       "      <td>-0.047397</td>\n",
       "      <td>-0.111714</td>\n",
       "      <td>0.098428</td>\n",
       "      <td>-0.061332</td>\n",
       "      <td>-0.070560</td>\n",
       "      <td>-0.094667</td>\n",
       "    </tr>\n",
       "    <tr>\n",
       "      <th>housing_disc_non_queer</th>\n",
       "      <td>-0.013457</td>\n",
       "      <td>0.076458</td>\n",
       "      <td>0.097312</td>\n",
       "      <td>0.086893</td>\n",
       "      <td>0.155181</td>\n",
       "      <td>0.061411</td>\n",
       "      <td>0.127503</td>\n",
       "      <td>0.090799</td>\n",
       "      <td>0.112604</td>\n",
       "      <td>0.037742</td>\n",
       "      <td>...</td>\n",
       "      <td>-0.026351</td>\n",
       "      <td>-0.058793</td>\n",
       "      <td>-0.030815</td>\n",
       "      <td>0.005301</td>\n",
       "      <td>0.031671</td>\n",
       "      <td>-0.000732</td>\n",
       "      <td>-0.010546</td>\n",
       "      <td>0.122202</td>\n",
       "      <td>0.120979</td>\n",
       "      <td>0.102251</td>\n",
       "    </tr>\n",
       "    <tr>\n",
       "      <th>housing_disc_sex_gender</th>\n",
       "      <td>-0.029607</td>\n",
       "      <td>0.075917</td>\n",
       "      <td>0.061730</td>\n",
       "      <td>0.091328</td>\n",
       "      <td>0.150021</td>\n",
       "      <td>0.028871</td>\n",
       "      <td>0.076859</td>\n",
       "      <td>0.101538</td>\n",
       "      <td>0.074903</td>\n",
       "      <td>0.053856</td>\n",
       "      <td>...</td>\n",
       "      <td>-0.022628</td>\n",
       "      <td>-0.079502</td>\n",
       "      <td>-0.040506</td>\n",
       "      <td>-0.003008</td>\n",
       "      <td>0.013347</td>\n",
       "      <td>-0.023870</td>\n",
       "      <td>-0.031357</td>\n",
       "      <td>0.092382</td>\n",
       "      <td>0.167604</td>\n",
       "      <td>0.105567</td>\n",
       "    </tr>\n",
       "    <tr>\n",
       "      <th>outness</th>\n",
       "      <td>-0.015169</td>\n",
       "      <td>-0.188888</td>\n",
       "      <td>-0.099369</td>\n",
       "      <td>-0.028292</td>\n",
       "      <td>0.061270</td>\n",
       "      <td>-0.137829</td>\n",
       "      <td>-0.167178</td>\n",
       "      <td>-0.005338</td>\n",
       "      <td>-0.150859</td>\n",
       "      <td>0.248968</td>\n",
       "      <td>...</td>\n",
       "      <td>0.119210</td>\n",
       "      <td>0.116200</td>\n",
       "      <td>0.140723</td>\n",
       "      <td>0.108050</td>\n",
       "      <td>-0.003187</td>\n",
       "      <td>-0.109805</td>\n",
       "      <td>-0.015666</td>\n",
       "      <td>-0.018452</td>\n",
       "      <td>0.076350</td>\n",
       "      <td>0.064040</td>\n",
       "    </tr>\n",
       "    <tr>\n",
       "      <th>screen_race</th>\n",
       "      <td>0.436294</td>\n",
       "      <td>0.096424</td>\n",
       "      <td>0.078283</td>\n",
       "      <td>-0.009696</td>\n",
       "      <td>-0.044595</td>\n",
       "      <td>0.000883</td>\n",
       "      <td>0.056002</td>\n",
       "      <td>0.004747</td>\n",
       "      <td>0.110355</td>\n",
       "      <td>-0.226112</td>\n",
       "      <td>...</td>\n",
       "      <td>0.029167</td>\n",
       "      <td>0.015808</td>\n",
       "      <td>0.024144</td>\n",
       "      <td>0.013469</td>\n",
       "      <td>0.403395</td>\n",
       "      <td>0.069911</td>\n",
       "      <td>-0.281244</td>\n",
       "      <td>0.014631</td>\n",
       "      <td>-0.000622</td>\n",
       "      <td>-0.019745</td>\n",
       "    </tr>\n",
       "    <tr>\n",
       "      <th>serious_health_cond</th>\n",
       "      <td>-0.074542</td>\n",
       "      <td>-0.024718</td>\n",
       "      <td>0.038178</td>\n",
       "      <td>0.031767</td>\n",
       "      <td>0.165981</td>\n",
       "      <td>0.026026</td>\n",
       "      <td>-0.006061</td>\n",
       "      <td>-0.017920</td>\n",
       "      <td>-0.014220</td>\n",
       "      <td>0.346923</td>\n",
       "      <td>...</td>\n",
       "      <td>-0.065158</td>\n",
       "      <td>-0.082324</td>\n",
       "      <td>-0.093487</td>\n",
       "      <td>-0.081259</td>\n",
       "      <td>-0.082985</td>\n",
       "      <td>-0.166036</td>\n",
       "      <td>0.028528</td>\n",
       "      <td>0.079683</td>\n",
       "      <td>0.085773</td>\n",
       "      <td>0.139168</td>\n",
       "    </tr>\n",
       "    <tr>\n",
       "      <th>stress_past_year_crime</th>\n",
       "      <td>0.012945</td>\n",
       "      <td>0.152831</td>\n",
       "      <td>0.184681</td>\n",
       "      <td>0.100873</td>\n",
       "      <td>0.334521</td>\n",
       "      <td>0.067461</td>\n",
       "      <td>0.131570</td>\n",
       "      <td>0.105804</td>\n",
       "      <td>0.242509</td>\n",
       "      <td>-0.004782</td>\n",
       "      <td>...</td>\n",
       "      <td>-0.095932</td>\n",
       "      <td>-0.068307</td>\n",
       "      <td>-0.083346</td>\n",
       "      <td>-0.039373</td>\n",
       "      <td>0.020432</td>\n",
       "      <td>0.065184</td>\n",
       "      <td>-0.066248</td>\n",
       "      <td>0.189093</td>\n",
       "      <td>0.148635</td>\n",
       "      <td>0.155917</td>\n",
       "    </tr>\n",
       "    <tr>\n",
       "      <th>stress_past_year_gen</th>\n",
       "      <td>0.120155</td>\n",
       "      <td>0.321832</td>\n",
       "      <td>0.183588</td>\n",
       "      <td>0.139873</td>\n",
       "      <td>0.219835</td>\n",
       "      <td>0.124674</td>\n",
       "      <td>0.209989</td>\n",
       "      <td>0.130928</td>\n",
       "      <td>0.326371</td>\n",
       "      <td>-0.208974</td>\n",
       "      <td>...</td>\n",
       "      <td>-0.087194</td>\n",
       "      <td>-0.082307</td>\n",
       "      <td>-0.080525</td>\n",
       "      <td>-0.029429</td>\n",
       "      <td>0.115818</td>\n",
       "      <td>0.147673</td>\n",
       "      <td>-0.189795</td>\n",
       "      <td>0.155005</td>\n",
       "      <td>0.134742</td>\n",
       "      <td>0.147837</td>\n",
       "    </tr>\n",
       "    <tr>\n",
       "      <th>stress_past_year_interpersonal</th>\n",
       "      <td>0.074034</td>\n",
       "      <td>0.311920</td>\n",
       "      <td>0.186764</td>\n",
       "      <td>0.162510</td>\n",
       "      <td>0.271992</td>\n",
       "      <td>0.113253</td>\n",
       "      <td>0.249411</td>\n",
       "      <td>0.167415</td>\n",
       "      <td>0.386137</td>\n",
       "      <td>-0.198408</td>\n",
       "      <td>...</td>\n",
       "      <td>-0.139423</td>\n",
       "      <td>-0.075633</td>\n",
       "      <td>-0.127861</td>\n",
       "      <td>-0.093178</td>\n",
       "      <td>0.058215</td>\n",
       "      <td>0.163017</td>\n",
       "      <td>-0.147860</td>\n",
       "      <td>0.199647</td>\n",
       "      <td>0.205807</td>\n",
       "      <td>0.213439</td>\n",
       "    </tr>\n",
       "    <tr>\n",
       "      <th>stress_past_year_non_queer</th>\n",
       "      <td>0.086263</td>\n",
       "      <td>0.253042</td>\n",
       "      <td>0.467872</td>\n",
       "      <td>0.234057</td>\n",
       "      <td>0.199814</td>\n",
       "      <td>0.128888</td>\n",
       "      <td>0.387011</td>\n",
       "      <td>0.261948</td>\n",
       "      <td>0.304895</td>\n",
       "      <td>-0.121714</td>\n",
       "      <td>...</td>\n",
       "      <td>-0.110475</td>\n",
       "      <td>-0.104468</td>\n",
       "      <td>-0.111210</td>\n",
       "      <td>-0.058410</td>\n",
       "      <td>0.095805</td>\n",
       "      <td>0.130900</td>\n",
       "      <td>-0.123771</td>\n",
       "      <td>0.403323</td>\n",
       "      <td>0.206728</td>\n",
       "      <td>0.190486</td>\n",
       "    </tr>\n",
       "    <tr>\n",
       "      <th>stress_past_year_sex_gender</th>\n",
       "      <td>0.088783</td>\n",
       "      <td>0.171219</td>\n",
       "      <td>0.260320</td>\n",
       "      <td>0.388163</td>\n",
       "      <td>0.153477</td>\n",
       "      <td>0.083844</td>\n",
       "      <td>0.248861</td>\n",
       "      <td>0.275807</td>\n",
       "      <td>0.228183</td>\n",
       "      <td>-0.107089</td>\n",
       "      <td>...</td>\n",
       "      <td>-0.123934</td>\n",
       "      <td>-0.055577</td>\n",
       "      <td>-0.087323</td>\n",
       "      <td>-0.031839</td>\n",
       "      <td>0.080161</td>\n",
       "      <td>0.127174</td>\n",
       "      <td>-0.082661</td>\n",
       "      <td>0.213408</td>\n",
       "      <td>0.371855</td>\n",
       "      <td>0.132236</td>\n",
       "    </tr>\n",
       "    <tr>\n",
       "      <th>stress_past_year_work</th>\n",
       "      <td>0.097185</td>\n",
       "      <td>0.240119</td>\n",
       "      <td>0.183495</td>\n",
       "      <td>0.148253</td>\n",
       "      <td>0.114886</td>\n",
       "      <td>0.091739</td>\n",
       "      <td>0.170876</td>\n",
       "      <td>0.132686</td>\n",
       "      <td>0.300209</td>\n",
       "      <td>-0.329732</td>\n",
       "      <td>...</td>\n",
       "      <td>-0.040141</td>\n",
       "      <td>-0.020941</td>\n",
       "      <td>-0.021923</td>\n",
       "      <td>0.006959</td>\n",
       "      <td>0.106561</td>\n",
       "      <td>0.192575</td>\n",
       "      <td>-0.162774</td>\n",
       "      <td>0.156211</td>\n",
       "      <td>0.133346</td>\n",
       "      <td>0.169993</td>\n",
       "    </tr>\n",
       "    <tr>\n",
       "      <th>suicidality</th>\n",
       "      <td>0.037701</td>\n",
       "      <td>0.486531</td>\n",
       "      <td>0.201423</td>\n",
       "      <td>0.215065</td>\n",
       "      <td>0.300705</td>\n",
       "      <td>0.160274</td>\n",
       "      <td>0.271943</td>\n",
       "      <td>0.222367</td>\n",
       "      <td>0.379309</td>\n",
       "      <td>-0.184951</td>\n",
       "      <td>...</td>\n",
       "      <td>-0.196728</td>\n",
       "      <td>-0.116460</td>\n",
       "      <td>-0.184651</td>\n",
       "      <td>-0.132904</td>\n",
       "      <td>0.036574</td>\n",
       "      <td>0.154557</td>\n",
       "      <td>-0.018990</td>\n",
       "      <td>0.189512</td>\n",
       "      <td>0.145507</td>\n",
       "      <td>0.158629</td>\n",
       "    </tr>\n",
       "    <tr>\n",
       "      <th>w1ace_emo_i</th>\n",
       "      <td>0.034630</td>\n",
       "      <td>0.217761</td>\n",
       "      <td>0.142144</td>\n",
       "      <td>0.062488</td>\n",
       "      <td>0.263694</td>\n",
       "      <td>0.077874</td>\n",
       "      <td>0.224033</td>\n",
       "      <td>0.149645</td>\n",
       "      <td>0.249918</td>\n",
       "      <td>-0.042838</td>\n",
       "      <td>...</td>\n",
       "      <td>-0.235982</td>\n",
       "      <td>-0.066789</td>\n",
       "      <td>-0.146776</td>\n",
       "      <td>-0.049061</td>\n",
       "      <td>0.037374</td>\n",
       "      <td>0.081320</td>\n",
       "      <td>-0.049436</td>\n",
       "      <td>0.112786</td>\n",
       "      <td>0.113476</td>\n",
       "      <td>0.158924</td>\n",
       "    </tr>\n",
       "    <tr>\n",
       "      <th>w1ace_i</th>\n",
       "      <td>0.080653</td>\n",
       "      <td>0.259967</td>\n",
       "      <td>0.214870</td>\n",
       "      <td>0.165927</td>\n",
       "      <td>0.354169</td>\n",
       "      <td>0.141897</td>\n",
       "      <td>0.247234</td>\n",
       "      <td>0.209930</td>\n",
       "      <td>0.336654</td>\n",
       "      <td>-0.040763</td>\n",
       "      <td>...</td>\n",
       "      <td>-0.240254</td>\n",
       "      <td>-0.058328</td>\n",
       "      <td>-0.129513</td>\n",
       "      <td>-0.012116</td>\n",
       "      <td>0.059032</td>\n",
       "      <td>0.116939</td>\n",
       "      <td>-0.156511</td>\n",
       "      <td>0.221408</td>\n",
       "      <td>0.177305</td>\n",
       "      <td>0.197813</td>\n",
       "    </tr>\n",
       "    <tr>\n",
       "      <th>w1ace_inc_i</th>\n",
       "      <td>0.120545</td>\n",
       "      <td>0.158499</td>\n",
       "      <td>0.157899</td>\n",
       "      <td>0.087846</td>\n",
       "      <td>0.152672</td>\n",
       "      <td>0.075669</td>\n",
       "      <td>0.139014</td>\n",
       "      <td>0.091326</td>\n",
       "      <td>0.218767</td>\n",
       "      <td>-0.129402</td>\n",
       "      <td>...</td>\n",
       "      <td>-0.128288</td>\n",
       "      <td>-0.065596</td>\n",
       "      <td>-0.089473</td>\n",
       "      <td>-0.023882</td>\n",
       "      <td>0.106088</td>\n",
       "      <td>0.152677</td>\n",
       "      <td>-0.134069</td>\n",
       "      <td>0.111418</td>\n",
       "      <td>0.060444</td>\n",
       "      <td>0.063960</td>\n",
       "    </tr>\n",
       "    <tr>\n",
       "      <th>w1ace_ipv_i</th>\n",
       "      <td>0.050567</td>\n",
       "      <td>0.126174</td>\n",
       "      <td>0.115667</td>\n",
       "      <td>0.080656</td>\n",
       "      <td>0.246057</td>\n",
       "      <td>0.069181</td>\n",
       "      <td>0.133339</td>\n",
       "      <td>0.116727</td>\n",
       "      <td>0.214977</td>\n",
       "      <td>-0.001917</td>\n",
       "      <td>...</td>\n",
       "      <td>-0.152459</td>\n",
       "      <td>-0.055983</td>\n",
       "      <td>-0.077613</td>\n",
       "      <td>0.019244</td>\n",
       "      <td>0.052410</td>\n",
       "      <td>0.065608</td>\n",
       "      <td>-0.118039</td>\n",
       "      <td>0.128608</td>\n",
       "      <td>0.090098</td>\n",
       "      <td>0.121283</td>\n",
       "    </tr>\n",
       "    <tr>\n",
       "      <th>w1ace_men_i</th>\n",
       "      <td>-0.016430</td>\n",
       "      <td>0.239890</td>\n",
       "      <td>0.131088</td>\n",
       "      <td>0.141774</td>\n",
       "      <td>0.168097</td>\n",
       "      <td>0.109895</td>\n",
       "      <td>0.195273</td>\n",
       "      <td>0.165693</td>\n",
       "      <td>0.236352</td>\n",
       "      <td>-0.091720</td>\n",
       "      <td>...</td>\n",
       "      <td>-0.102728</td>\n",
       "      <td>-0.000939</td>\n",
       "      <td>-0.046593</td>\n",
       "      <td>-0.005492</td>\n",
       "      <td>-0.050152</td>\n",
       "      <td>0.049698</td>\n",
       "      <td>-0.052090</td>\n",
       "      <td>0.160684</td>\n",
       "      <td>0.126759</td>\n",
       "      <td>0.102911</td>\n",
       "    </tr>\n",
       "    <tr>\n",
       "      <th>w1ace_phy_i</th>\n",
       "      <td>0.012412</td>\n",
       "      <td>0.142650</td>\n",
       "      <td>0.159626</td>\n",
       "      <td>0.105946</td>\n",
       "      <td>0.250837</td>\n",
       "      <td>0.105553</td>\n",
       "      <td>0.164431</td>\n",
       "      <td>0.144512</td>\n",
       "      <td>0.183933</td>\n",
       "      <td>0.041483</td>\n",
       "      <td>...</td>\n",
       "      <td>-0.205516</td>\n",
       "      <td>-0.044193</td>\n",
       "      <td>-0.117345</td>\n",
       "      <td>-0.030471</td>\n",
       "      <td>-0.000587</td>\n",
       "      <td>0.038677</td>\n",
       "      <td>-0.074058</td>\n",
       "      <td>0.169801</td>\n",
       "      <td>0.130728</td>\n",
       "      <td>0.157624</td>\n",
       "    </tr>\n",
       "    <tr>\n",
       "      <th>w1ace_sep_i</th>\n",
       "      <td>0.040752</td>\n",
       "      <td>0.115438</td>\n",
       "      <td>0.067064</td>\n",
       "      <td>0.040921</td>\n",
       "      <td>0.086511</td>\n",
       "      <td>0.054392</td>\n",
       "      <td>0.060606</td>\n",
       "      <td>0.070892</td>\n",
       "      <td>0.122630</td>\n",
       "      <td>-0.124228</td>\n",
       "      <td>...</td>\n",
       "      <td>-0.069762</td>\n",
       "      <td>-0.018898</td>\n",
       "      <td>-0.035377</td>\n",
       "      <td>0.003337</td>\n",
       "      <td>0.029822</td>\n",
       "      <td>0.136586</td>\n",
       "      <td>-0.089048</td>\n",
       "      <td>0.044443</td>\n",
       "      <td>0.037671</td>\n",
       "      <td>0.027925</td>\n",
       "    </tr>\n",
       "    <tr>\n",
       "      <th>w1ace_sex_i</th>\n",
       "      <td>0.091481</td>\n",
       "      <td>0.085953</td>\n",
       "      <td>0.129667</td>\n",
       "      <td>0.171044</td>\n",
       "      <td>0.258344</td>\n",
       "      <td>0.086979</td>\n",
       "      <td>0.113078</td>\n",
       "      <td>0.116728</td>\n",
       "      <td>0.154396</td>\n",
       "      <td>0.120415</td>\n",
       "      <td>...</td>\n",
       "      <td>-0.091304</td>\n",
       "      <td>0.012187</td>\n",
       "      <td>-0.021529</td>\n",
       "      <td>0.029979</td>\n",
       "      <td>0.077063</td>\n",
       "      <td>-0.007938</td>\n",
       "      <td>-0.111484</td>\n",
       "      <td>0.159834</td>\n",
       "      <td>0.152606</td>\n",
       "      <td>0.153856</td>\n",
       "    </tr>\n",
       "    <tr>\n",
       "      <th>w1ace_sub_i</th>\n",
       "      <td>0.059729</td>\n",
       "      <td>0.113764</td>\n",
       "      <td>0.096371</td>\n",
       "      <td>0.068628</td>\n",
       "      <td>0.193614</td>\n",
       "      <td>0.071036</td>\n",
       "      <td>0.108978</td>\n",
       "      <td>0.102675</td>\n",
       "      <td>0.178139</td>\n",
       "      <td>0.008951</td>\n",
       "      <td>...</td>\n",
       "      <td>-0.121837</td>\n",
       "      <td>-0.039844</td>\n",
       "      <td>-0.068822</td>\n",
       "      <td>-0.004589</td>\n",
       "      <td>0.043179</td>\n",
       "      <td>0.049369</td>\n",
       "      <td>-0.105643</td>\n",
       "      <td>0.125083</td>\n",
       "      <td>0.091766</td>\n",
       "      <td>0.111233</td>\n",
       "    </tr>\n",
       "    <tr>\n",
       "      <th>w1age</th>\n",
       "      <td>-0.106230</td>\n",
       "      <td>-0.365917</td>\n",
       "      <td>-0.111001</td>\n",
       "      <td>-0.086218</td>\n",
       "      <td>0.145200</td>\n",
       "      <td>-0.103464</td>\n",
       "      <td>-0.199126</td>\n",
       "      <td>-0.129654</td>\n",
       "      <td>-0.248370</td>\n",
       "      <td>0.985880</td>\n",
       "      <td>...</td>\n",
       "      <td>-0.024058</td>\n",
       "      <td>-0.047544</td>\n",
       "      <td>-0.035203</td>\n",
       "      <td>-0.016825</td>\n",
       "      <td>-0.095027</td>\n",
       "      <td>-0.518029</td>\n",
       "      <td>0.144200</td>\n",
       "      <td>0.034605</td>\n",
       "      <td>0.069329</td>\n",
       "      <td>0.217008</td>\n",
       "    </tr>\n",
       "    <tr>\n",
       "      <th>w1auditc_i</th>\n",
       "      <td>-0.048187</td>\n",
       "      <td>-0.001916</td>\n",
       "      <td>-0.004015</td>\n",
       "      <td>0.011089</td>\n",
       "      <td>0.047364</td>\n",
       "      <td>0.010958</td>\n",
       "      <td>-0.020345</td>\n",
       "      <td>-0.015560</td>\n",
       "      <td>-0.037867</td>\n",
       "      <td>-0.017804</td>\n",
       "      <td>...</td>\n",
       "      <td>0.051159</td>\n",
       "      <td>0.061907</td>\n",
       "      <td>0.037854</td>\n",
       "      <td>-0.016222</td>\n",
       "      <td>-0.040459</td>\n",
       "      <td>-0.066078</td>\n",
       "      <td>-0.045406</td>\n",
       "      <td>-0.031093</td>\n",
       "      <td>-0.022118</td>\n",
       "      <td>0.006967</td>\n",
       "    </tr>\n",
       "    <tr>\n",
       "      <th>w1childgnc_i</th>\n",
       "      <td>0.015830</td>\n",
       "      <td>0.004413</td>\n",
       "      <td>-0.007821</td>\n",
       "      <td>-0.095653</td>\n",
       "      <td>-0.036540</td>\n",
       "      <td>-0.038215</td>\n",
       "      <td>0.069535</td>\n",
       "      <td>-0.116079</td>\n",
       "      <td>0.018932</td>\n",
       "      <td>-0.011838</td>\n",
       "      <td>...</td>\n",
       "      <td>-0.000163</td>\n",
       "      <td>-0.000717</td>\n",
       "      <td>-0.013944</td>\n",
       "      <td>-0.031533</td>\n",
       "      <td>0.010625</td>\n",
       "      <td>0.002341</td>\n",
       "      <td>0.002215</td>\n",
       "      <td>-0.020122</td>\n",
       "      <td>-0.092900</td>\n",
       "      <td>-0.046997</td>\n",
       "    </tr>\n",
       "    <tr>\n",
       "      <th>w1connectedness_i</th>\n",
       "      <td>0.122747</td>\n",
       "      <td>0.009146</td>\n",
       "      <td>0.017989</td>\n",
       "      <td>0.056635</td>\n",
       "      <td>0.038784</td>\n",
       "      <td>-0.013315</td>\n",
       "      <td>-0.005293</td>\n",
       "      <td>0.048189</td>\n",
       "      <td>-0.045621</td>\n",
       "      <td>-0.101217</td>\n",
       "      <td>...</td>\n",
       "      <td>0.087809</td>\n",
       "      <td>0.174943</td>\n",
       "      <td>0.166071</td>\n",
       "      <td>0.147283</td>\n",
       "      <td>0.120003</td>\n",
       "      <td>0.050863</td>\n",
       "      <td>-0.101905</td>\n",
       "      <td>0.006704</td>\n",
       "      <td>-0.010515</td>\n",
       "      <td>-0.036502</td>\n",
       "    </tr>\n",
       "    <tr>\n",
       "      <th>w1conversion</th>\n",
       "      <td>0.026485</td>\n",
       "      <td>0.033091</td>\n",
       "      <td>0.067493</td>\n",
       "      <td>0.006992</td>\n",
       "      <td>0.131234</td>\n",
       "      <td>0.053228</td>\n",
       "      <td>0.003226</td>\n",
       "      <td>0.026159</td>\n",
       "      <td>0.101980</td>\n",
       "      <td>0.030156</td>\n",
       "      <td>...</td>\n",
       "      <td>-0.076736</td>\n",
       "      <td>0.005381</td>\n",
       "      <td>-0.034943</td>\n",
       "      <td>-0.009661</td>\n",
       "      <td>0.024494</td>\n",
       "      <td>-0.010223</td>\n",
       "      <td>-0.063856</td>\n",
       "      <td>0.111868</td>\n",
       "      <td>0.088757</td>\n",
       "      <td>0.116839</td>\n",
       "    </tr>\n",
       "    <tr>\n",
       "      <th>w1conversionhc</th>\n",
       "      <td>-0.004629</td>\n",
       "      <td>-0.027143</td>\n",
       "      <td>0.014634</td>\n",
       "      <td>0.013544</td>\n",
       "      <td>0.093925</td>\n",
       "      <td>0.021533</td>\n",
       "      <td>-0.020721</td>\n",
       "      <td>0.009913</td>\n",
       "      <td>-0.002334</td>\n",
       "      <td>0.054231</td>\n",
       "      <td>...</td>\n",
       "      <td>-0.005353</td>\n",
       "      <td>0.047025</td>\n",
       "      <td>0.030219</td>\n",
       "      <td>0.034829</td>\n",
       "      <td>-0.001074</td>\n",
       "      <td>-0.019827</td>\n",
       "      <td>0.010055</td>\n",
       "      <td>0.066942</td>\n",
       "      <td>0.042807</td>\n",
       "      <td>0.075760</td>\n",
       "    </tr>\n",
       "    <tr>\n",
       "      <th>w1conversionrel</th>\n",
       "      <td>0.025024</td>\n",
       "      <td>0.066962</td>\n",
       "      <td>0.070418</td>\n",
       "      <td>0.005048</td>\n",
       "      <td>0.126569</td>\n",
       "      <td>0.056519</td>\n",
       "      <td>0.009072</td>\n",
       "      <td>0.028212</td>\n",
       "      <td>0.124327</td>\n",
       "      <td>0.003070</td>\n",
       "      <td>...</td>\n",
       "      <td>-0.093940</td>\n",
       "      <td>-0.015992</td>\n",
       "      <td>-0.055866</td>\n",
       "      <td>-0.022715</td>\n",
       "      <td>0.020098</td>\n",
       "      <td>0.003554</td>\n",
       "      <td>-0.090102</td>\n",
       "      <td>0.097374</td>\n",
       "      <td>0.080783</td>\n",
       "      <td>0.110424</td>\n",
       "    </tr>\n",
       "    <tr>\n",
       "      <th>w1dudit_i</th>\n",
       "      <td>0.083365</td>\n",
       "      <td>0.217928</td>\n",
       "      <td>0.118060</td>\n",
       "      <td>0.059581</td>\n",
       "      <td>0.161087</td>\n",
       "      <td>0.060056</td>\n",
       "      <td>0.151491</td>\n",
       "      <td>0.108486</td>\n",
       "      <td>0.146293</td>\n",
       "      <td>-0.147921</td>\n",
       "      <td>...</td>\n",
       "      <td>-0.034199</td>\n",
       "      <td>-0.029147</td>\n",
       "      <td>-0.042841</td>\n",
       "      <td>-0.040329</td>\n",
       "      <td>0.066746</td>\n",
       "      <td>0.108631</td>\n",
       "      <td>-0.136965</td>\n",
       "      <td>0.063489</td>\n",
       "      <td>0.068584</td>\n",
       "      <td>0.124916</td>\n",
       "    </tr>\n",
       "    <tr>\n",
       "      <th>w1everyday_i</th>\n",
       "      <td>0.116535</td>\n",
       "      <td>0.478825</td>\n",
       "      <td>0.386602</td>\n",
       "      <td>0.326052</td>\n",
       "      <td>0.409828</td>\n",
       "      <td>0.252585</td>\n",
       "      <td>0.364589</td>\n",
       "      <td>0.261674</td>\n",
       "      <td>0.484887</td>\n",
       "      <td>-0.276395</td>\n",
       "      <td>...</td>\n",
       "      <td>-0.202517</td>\n",
       "      <td>-0.148875</td>\n",
       "      <td>-0.177643</td>\n",
       "      <td>-0.083021</td>\n",
       "      <td>0.098920</td>\n",
       "      <td>0.256706</td>\n",
       "      <td>-0.177556</td>\n",
       "      <td>0.292141</td>\n",
       "      <td>0.246258</td>\n",
       "      <td>0.268866</td>\n",
       "    </tr>\n",
       "    <tr>\n",
       "      <th>w1feltstigma_i</th>\n",
       "      <td>0.020497</td>\n",
       "      <td>0.211140</td>\n",
       "      <td>0.129858</td>\n",
       "      <td>0.155460</td>\n",
       "      <td>0.208567</td>\n",
       "      <td>0.550333</td>\n",
       "      <td>0.156785</td>\n",
       "      <td>0.087381</td>\n",
       "      <td>0.255802</td>\n",
       "      <td>0.006858</td>\n",
       "      <td>...</td>\n",
       "      <td>-0.243889</td>\n",
       "      <td>-0.185064</td>\n",
       "      <td>-0.227941</td>\n",
       "      <td>-0.127467</td>\n",
       "      <td>0.020528</td>\n",
       "      <td>0.072437</td>\n",
       "      <td>-0.046022</td>\n",
       "      <td>0.152975</td>\n",
       "      <td>0.097231</td>\n",
       "      <td>0.126274</td>\n",
       "    </tr>\n",
       "    <tr>\n",
       "      <th>w1gender</th>\n",
       "      <td>-0.032281</td>\n",
       "      <td>0.098026</td>\n",
       "      <td>0.047372</td>\n",
       "      <td>-0.001723</td>\n",
       "      <td>0.048974</td>\n",
       "      <td>-0.004851</td>\n",
       "      <td>0.035444</td>\n",
       "      <td>0.033615</td>\n",
       "      <td>0.018295</td>\n",
       "      <td>-0.029382</td>\n",
       "      <td>...</td>\n",
       "      <td>-0.064324</td>\n",
       "      <td>-0.055721</td>\n",
       "      <td>-0.062818</td>\n",
       "      <td>-0.033924</td>\n",
       "      <td>-0.015421</td>\n",
       "      <td>-0.018962</td>\n",
       "      <td>0.027353</td>\n",
       "      <td>0.042371</td>\n",
       "      <td>0.044106</td>\n",
       "      <td>0.062269</td>\n",
       "    </tr>\n",
       "    <tr>\n",
       "      <th>w1hcthreat_i</th>\n",
       "      <td>0.038353</td>\n",
       "      <td>0.216954</td>\n",
       "      <td>0.109845</td>\n",
       "      <td>0.151120</td>\n",
       "      <td>0.159837</td>\n",
       "      <td>0.219364</td>\n",
       "      <td>0.140838</td>\n",
       "      <td>0.087395</td>\n",
       "      <td>0.199469</td>\n",
       "      <td>-0.095413</td>\n",
       "      <td>...</td>\n",
       "      <td>-0.147468</td>\n",
       "      <td>-0.083798</td>\n",
       "      <td>-0.143007</td>\n",
       "      <td>-0.113281</td>\n",
       "      <td>0.029603</td>\n",
       "      <td>0.050979</td>\n",
       "      <td>0.005142</td>\n",
       "      <td>0.131869</td>\n",
       "      <td>0.128426</td>\n",
       "      <td>0.091945</td>\n",
       "    </tr>\n",
       "    <tr>\n",
       "      <th>w1hinc_i</th>\n",
       "      <td>-0.057597</td>\n",
       "      <td>-0.338203</td>\n",
       "      <td>-0.156626</td>\n",
       "      <td>-0.129127</td>\n",
       "      <td>-0.175919</td>\n",
       "      <td>-0.163596</td>\n",
       "      <td>-0.147132</td>\n",
       "      <td>-0.087482</td>\n",
       "      <td>-0.356725</td>\n",
       "      <td>0.215059</td>\n",
       "      <td>...</td>\n",
       "      <td>0.164758</td>\n",
       "      <td>0.136337</td>\n",
       "      <td>0.169063</td>\n",
       "      <td>0.111305</td>\n",
       "      <td>-0.066458</td>\n",
       "      <td>-0.203229</td>\n",
       "      <td>0.122135</td>\n",
       "      <td>-0.150954</td>\n",
       "      <td>-0.062587</td>\n",
       "      <td>-0.126825</td>\n",
       "    </tr>\n",
       "    <tr>\n",
       "      <th>w1idcentral_i</th>\n",
       "      <td>0.029513</td>\n",
       "      <td>0.025880</td>\n",
       "      <td>0.033389</td>\n",
       "      <td>0.099967</td>\n",
       "      <td>0.072009</td>\n",
       "      <td>0.011705</td>\n",
       "      <td>-0.026614</td>\n",
       "      <td>0.110266</td>\n",
       "      <td>-0.009156</td>\n",
       "      <td>0.016320</td>\n",
       "      <td>...</td>\n",
       "      <td>0.013907</td>\n",
       "      <td>0.045390</td>\n",
       "      <td>0.036343</td>\n",
       "      <td>0.031367</td>\n",
       "      <td>0.053821</td>\n",
       "      <td>-0.021366</td>\n",
       "      <td>-0.047857</td>\n",
       "      <td>0.039223</td>\n",
       "      <td>0.066328</td>\n",
       "      <td>0.044352</td>\n",
       "    </tr>\n",
       "    <tr>\n",
       "      <th>w1internalized_i</th>\n",
       "      <td>0.039330</td>\n",
       "      <td>0.138417</td>\n",
       "      <td>0.115752</td>\n",
       "      <td>0.008434</td>\n",
       "      <td>0.025677</td>\n",
       "      <td>0.119929</td>\n",
       "      <td>0.123674</td>\n",
       "      <td>0.044750</td>\n",
       "      <td>0.233144</td>\n",
       "      <td>-0.102109</td>\n",
       "      <td>...</td>\n",
       "      <td>-0.147384</td>\n",
       "      <td>-0.126822</td>\n",
       "      <td>-0.190292</td>\n",
       "      <td>-0.185887</td>\n",
       "      <td>0.032657</td>\n",
       "      <td>0.057939</td>\n",
       "      <td>-0.027907</td>\n",
       "      <td>0.078153</td>\n",
       "      <td>0.008408</td>\n",
       "      <td>0.053846</td>\n",
       "    </tr>\n",
       "    <tr>\n",
       "      <th>w1lifesat_i</th>\n",
       "      <td>-0.089173</td>\n",
       "      <td>-0.525031</td>\n",
       "      <td>-0.155116</td>\n",
       "      <td>-0.098634</td>\n",
       "      <td>-0.215564</td>\n",
       "      <td>-0.224491</td>\n",
       "      <td>-0.214088</td>\n",
       "      <td>-0.090631</td>\n",
       "      <td>-0.510771</td>\n",
       "      <td>0.097300</td>\n",
       "      <td>...</td>\n",
       "      <td>0.371892</td>\n",
       "      <td>0.351127</td>\n",
       "      <td>0.439209</td>\n",
       "      <td>0.347351</td>\n",
       "      <td>-0.093599</td>\n",
       "      <td>-0.143140</td>\n",
       "      <td>0.089308</td>\n",
       "      <td>-0.167500</td>\n",
       "      <td>-0.101576</td>\n",
       "      <td>-0.238583</td>\n",
       "    </tr>\n",
       "    <tr>\n",
       "      <th>w1meim_i</th>\n",
       "      <td>0.155726</td>\n",
       "      <td>-0.109922</td>\n",
       "      <td>0.126330</td>\n",
       "      <td>0.037351</td>\n",
       "      <td>0.031508</td>\n",
       "      <td>-0.037544</td>\n",
       "      <td>0.032195</td>\n",
       "      <td>0.008092</td>\n",
       "      <td>-0.005354</td>\n",
       "      <td>0.075544</td>\n",
       "      <td>...</td>\n",
       "      <td>0.082033</td>\n",
       "      <td>0.104476</td>\n",
       "      <td>0.094000</td>\n",
       "      <td>0.046669</td>\n",
       "      <td>0.141359</td>\n",
       "      <td>-0.065200</td>\n",
       "      <td>-0.091126</td>\n",
       "      <td>0.060006</td>\n",
       "      <td>0.022058</td>\n",
       "      <td>0.045012</td>\n",
       "    </tr>\n",
       "    <tr>\n",
       "      <th>w1pinc_i</th>\n",
       "      <td>-0.061955</td>\n",
       "      <td>-0.403028</td>\n",
       "      <td>-0.145189</td>\n",
       "      <td>-0.130911</td>\n",
       "      <td>-0.031737</td>\n",
       "      <td>-0.166436</td>\n",
       "      <td>-0.167038</td>\n",
       "      <td>-0.128875</td>\n",
       "      <td>-0.304860</td>\n",
       "      <td>0.501988</td>\n",
       "      <td>...</td>\n",
       "      <td>0.106100</td>\n",
       "      <td>0.119548</td>\n",
       "      <td>0.116128</td>\n",
       "      <td>0.061149</td>\n",
       "      <td>-0.087641</td>\n",
       "      <td>-0.398504</td>\n",
       "      <td>0.099609</td>\n",
       "      <td>-0.075256</td>\n",
       "      <td>-0.007874</td>\n",
       "      <td>-0.013551</td>\n",
       "    </tr>\n",
       "    <tr>\n",
       "      <th>w1poverty_i_ei</th>\n",
       "      <td>0.033676</td>\n",
       "      <td>0.252827</td>\n",
       "      <td>0.163186</td>\n",
       "      <td>0.088285</td>\n",
       "      <td>0.163105</td>\n",
       "      <td>0.084801</td>\n",
       "      <td>0.076673</td>\n",
       "      <td>0.043680</td>\n",
       "      <td>0.268159</td>\n",
       "      <td>-0.119682</td>\n",
       "      <td>...</td>\n",
       "      <td>-0.122588</td>\n",
       "      <td>-0.102853</td>\n",
       "      <td>-0.121115</td>\n",
       "      <td>-0.070765</td>\n",
       "      <td>0.047618</td>\n",
       "      <td>0.183192</td>\n",
       "      <td>-0.137928</td>\n",
       "      <td>0.097788</td>\n",
       "      <td>0.022758</td>\n",
       "      <td>0.044872</td>\n",
       "    </tr>\n",
       "    <tr>\n",
       "      <th>w1povertycat_i_ei</th>\n",
       "      <td>-0.063915</td>\n",
       "      <td>-0.348310</td>\n",
       "      <td>-0.194027</td>\n",
       "      <td>-0.124688</td>\n",
       "      <td>-0.175260</td>\n",
       "      <td>-0.170854</td>\n",
       "      <td>-0.167497</td>\n",
       "      <td>-0.095442</td>\n",
       "      <td>-0.348881</td>\n",
       "      <td>0.241897</td>\n",
       "      <td>...</td>\n",
       "      <td>0.140378</td>\n",
       "      <td>0.124480</td>\n",
       "      <td>0.135562</td>\n",
       "      <td>0.068013</td>\n",
       "      <td>-0.075923</td>\n",
       "      <td>-0.253030</td>\n",
       "      <td>0.165161</td>\n",
       "      <td>-0.131983</td>\n",
       "      <td>-0.051984</td>\n",
       "      <td>-0.072614</td>\n",
       "    </tr>\n",
       "    <tr>\n",
       "      <th>w1q01_ei</th>\n",
       "      <td>-0.045544</td>\n",
       "      <td>-0.507901</td>\n",
       "      <td>-0.132379</td>\n",
       "      <td>-0.124940</td>\n",
       "      <td>-0.207874</td>\n",
       "      <td>-0.221222</td>\n",
       "      <td>-0.200767</td>\n",
       "      <td>-0.110181</td>\n",
       "      <td>-0.457791</td>\n",
       "      <td>0.170999</td>\n",
       "      <td>...</td>\n",
       "      <td>0.279947</td>\n",
       "      <td>0.268886</td>\n",
       "      <td>0.323180</td>\n",
       "      <td>0.240295</td>\n",
       "      <td>-0.050384</td>\n",
       "      <td>-0.168275</td>\n",
       "      <td>0.055542</td>\n",
       "      <td>-0.139942</td>\n",
       "      <td>-0.098070</td>\n",
       "      <td>-0.180908</td>\n",
       "    </tr>\n",
       "    <tr>\n",
       "      <th>w1q03_ei</th>\n",
       "      <td>0.074818</td>\n",
       "      <td>0.475437</td>\n",
       "      <td>0.139493</td>\n",
       "      <td>0.101494</td>\n",
       "      <td>0.186028</td>\n",
       "      <td>0.172744</td>\n",
       "      <td>0.167565</td>\n",
       "      <td>0.091225</td>\n",
       "      <td>0.415926</td>\n",
       "      <td>-0.084032</td>\n",
       "      <td>...</td>\n",
       "      <td>-0.226869</td>\n",
       "      <td>-0.241341</td>\n",
       "      <td>-0.284884</td>\n",
       "      <td>-0.227802</td>\n",
       "      <td>0.081752</td>\n",
       "      <td>0.136263</td>\n",
       "      <td>-0.055922</td>\n",
       "      <td>0.129669</td>\n",
       "      <td>0.071459</td>\n",
       "      <td>0.181547</td>\n",
       "    </tr>\n",
       "    <tr>\n",
       "      <th>w1q119_ei</th>\n",
       "      <td>0.027434</td>\n",
       "      <td>0.397033</td>\n",
       "      <td>0.155995</td>\n",
       "      <td>0.207422</td>\n",
       "      <td>0.142414</td>\n",
       "      <td>0.088550</td>\n",
       "      <td>0.239871</td>\n",
       "      <td>0.185510</td>\n",
       "      <td>0.232558</td>\n",
       "      <td>-0.388822</td>\n",
       "      <td>...</td>\n",
       "      <td>-0.070363</td>\n",
       "      <td>-0.026542</td>\n",
       "      <td>-0.044119</td>\n",
       "      <td>-0.009744</td>\n",
       "      <td>0.041730</td>\n",
       "      <td>0.251982</td>\n",
       "      <td>-0.056874</td>\n",
       "      <td>0.090786</td>\n",
       "      <td>0.077619</td>\n",
       "      <td>0.012158</td>\n",
       "    </tr>\n",
       "    <tr>\n",
       "      <th>w1q136_7_ei</th>\n",
       "      <td>-0.038297</td>\n",
       "      <td>-0.024883</td>\n",
       "      <td>0.115906</td>\n",
       "      <td>0.203668</td>\n",
       "      <td>0.243338</td>\n",
       "      <td>0.055975</td>\n",
       "      <td>0.011434</td>\n",
       "      <td>0.105552</td>\n",
       "      <td>0.054195</td>\n",
       "      <td>0.128372</td>\n",
       "      <td>...</td>\n",
       "      <td>-0.032751</td>\n",
       "      <td>0.006283</td>\n",
       "      <td>-0.025994</td>\n",
       "      <td>-0.033232</td>\n",
       "      <td>-0.006037</td>\n",
       "      <td>-0.068061</td>\n",
       "      <td>-0.011468</td>\n",
       "      <td>0.072720</td>\n",
       "      <td>0.125500</td>\n",
       "      <td>0.102401</td>\n",
       "    </tr>\n",
       "    <tr>\n",
       "      <th>w1q139_7_ei</th>\n",
       "      <td>0.013657</td>\n",
       "      <td>0.008289</td>\n",
       "      <td>0.062933</td>\n",
       "      <td>0.111005</td>\n",
       "      <td>0.226148</td>\n",
       "      <td>0.064255</td>\n",
       "      <td>0.027265</td>\n",
       "      <td>0.078560</td>\n",
       "      <td>0.079151</td>\n",
       "      <td>0.178866</td>\n",
       "      <td>...</td>\n",
       "      <td>-0.065452</td>\n",
       "      <td>-0.061753</td>\n",
       "      <td>-0.079913</td>\n",
       "      <td>-0.067228</td>\n",
       "      <td>0.035751</td>\n",
       "      <td>-0.088627</td>\n",
       "      <td>0.001549</td>\n",
       "      <td>0.209743</td>\n",
       "      <td>0.344219</td>\n",
       "      <td>0.386000</td>\n",
       "    </tr>\n",
       "    <tr>\n",
       "      <th>w1q140_ei</th>\n",
       "      <td>0.017340</td>\n",
       "      <td>0.116788</td>\n",
       "      <td>0.130230</td>\n",
       "      <td>0.123859</td>\n",
       "      <td>0.262187</td>\n",
       "      <td>0.088227</td>\n",
       "      <td>0.124335</td>\n",
       "      <td>0.119994</td>\n",
       "      <td>0.185495</td>\n",
       "      <td>0.043658</td>\n",
       "      <td>...</td>\n",
       "      <td>-0.054874</td>\n",
       "      <td>-0.078111</td>\n",
       "      <td>-0.073044</td>\n",
       "      <td>-0.047692</td>\n",
       "      <td>0.034028</td>\n",
       "      <td>-0.016452</td>\n",
       "      <td>-0.064743</td>\n",
       "      <td>0.185674</td>\n",
       "      <td>0.222103</td>\n",
       "      <td>0.219070</td>\n",
       "    </tr>\n",
       "    <tr>\n",
       "      <th>w1q141_7_ei</th>\n",
       "      <td>-0.051607</td>\n",
       "      <td>-0.034805</td>\n",
       "      <td>0.002621</td>\n",
       "      <td>0.020991</td>\n",
       "      <td>0.063881</td>\n",
       "      <td>-0.028314</td>\n",
       "      <td>-0.008173</td>\n",
       "      <td>0.019215</td>\n",
       "      <td>-0.040864</td>\n",
       "      <td>0.102378</td>\n",
       "      <td>...</td>\n",
       "      <td>-0.009480</td>\n",
       "      <td>0.001999</td>\n",
       "      <td>0.001225</td>\n",
       "      <td>0.010498</td>\n",
       "      <td>-0.027041</td>\n",
       "      <td>-0.032809</td>\n",
       "      <td>0.027772</td>\n",
       "      <td>0.036116</td>\n",
       "      <td>0.100977</td>\n",
       "      <td>0.069929</td>\n",
       "    </tr>\n",
       "    <tr>\n",
       "      <th>w1q143_7_ei</th>\n",
       "      <td>0.043002</td>\n",
       "      <td>0.101901</td>\n",
       "      <td>0.114316</td>\n",
       "      <td>0.114803</td>\n",
       "      <td>0.209793</td>\n",
       "      <td>0.100463</td>\n",
       "      <td>0.087173</td>\n",
       "      <td>0.075644</td>\n",
       "      <td>0.160062</td>\n",
       "      <td>0.021658</td>\n",
       "      <td>...</td>\n",
       "      <td>-0.068929</td>\n",
       "      <td>-0.020172</td>\n",
       "      <td>-0.038919</td>\n",
       "      <td>-0.004598</td>\n",
       "      <td>0.047567</td>\n",
       "      <td>0.020267</td>\n",
       "      <td>-0.090618</td>\n",
       "      <td>0.119207</td>\n",
       "      <td>0.174997</td>\n",
       "      <td>0.149602</td>\n",
       "    </tr>\n",
       "    <tr>\n",
       "      <th>w1q145_7_ei</th>\n",
       "      <td>0.010188</td>\n",
       "      <td>0.084721</td>\n",
       "      <td>0.128315</td>\n",
       "      <td>0.122494</td>\n",
       "      <td>0.205367</td>\n",
       "      <td>0.148204</td>\n",
       "      <td>0.098132</td>\n",
       "      <td>0.100752</td>\n",
       "      <td>0.126749</td>\n",
       "      <td>-0.031746</td>\n",
       "      <td>...</td>\n",
       "      <td>-0.023034</td>\n",
       "      <td>0.012112</td>\n",
       "      <td>0.000140</td>\n",
       "      <td>0.012691</td>\n",
       "      <td>0.023244</td>\n",
       "      <td>0.049911</td>\n",
       "      <td>-0.052069</td>\n",
       "      <td>0.076092</td>\n",
       "      <td>0.107523</td>\n",
       "      <td>0.090260</td>\n",
       "    </tr>\n",
       "    <tr>\n",
       "      <th>w1q162_ei</th>\n",
       "      <td>-0.008722</td>\n",
       "      <td>-0.300843</td>\n",
       "      <td>-0.185993</td>\n",
       "      <td>-0.158998</td>\n",
       "      <td>-0.267780</td>\n",
       "      <td>-0.104922</td>\n",
       "      <td>-0.433257</td>\n",
       "      <td>-0.275526</td>\n",
       "      <td>-0.253670</td>\n",
       "      <td>0.143050</td>\n",
       "      <td>...</td>\n",
       "      <td>0.121238</td>\n",
       "      <td>0.069220</td>\n",
       "      <td>0.112270</td>\n",
       "      <td>0.080567</td>\n",
       "      <td>-0.000214</td>\n",
       "      <td>-0.102483</td>\n",
       "      <td>0.022255</td>\n",
       "      <td>-0.158012</td>\n",
       "      <td>-0.097328</td>\n",
       "      <td>-0.179485</td>\n",
       "    </tr>\n",
       "    <tr>\n",
       "      <th>w1q163_7_ei</th>\n",
       "      <td>-0.000126</td>\n",
       "      <td>0.049267</td>\n",
       "      <td>0.088976</td>\n",
       "      <td>-0.033957</td>\n",
       "      <td>0.156953</td>\n",
       "      <td>0.066474</td>\n",
       "      <td>0.133903</td>\n",
       "      <td>0.142974</td>\n",
       "      <td>0.062219</td>\n",
       "      <td>-0.029770</td>\n",
       "      <td>...</td>\n",
       "      <td>-0.031083</td>\n",
       "      <td>0.013938</td>\n",
       "      <td>-0.020302</td>\n",
       "      <td>-0.028285</td>\n",
       "      <td>0.010045</td>\n",
       "      <td>-0.034741</td>\n",
       "      <td>-0.010617</td>\n",
       "      <td>0.048296</td>\n",
       "      <td>0.008016</td>\n",
       "      <td>0.086597</td>\n",
       "    </tr>\n",
       "    <tr>\n",
       "      <th>w1q166_ei</th>\n",
       "      <td>0.032478</td>\n",
       "      <td>-0.028813</td>\n",
       "      <td>0.011536</td>\n",
       "      <td>-0.019976</td>\n",
       "      <td>-0.060158</td>\n",
       "      <td>-0.061294</td>\n",
       "      <td>0.008827</td>\n",
       "      <td>-0.035197</td>\n",
       "      <td>-0.014522</td>\n",
       "      <td>0.018620</td>\n",
       "      <td>...</td>\n",
       "      <td>-0.024062</td>\n",
       "      <td>0.023514</td>\n",
       "      <td>-0.009565</td>\n",
       "      <td>-0.018599</td>\n",
       "      <td>0.027006</td>\n",
       "      <td>-0.077919</td>\n",
       "      <td>-0.047329</td>\n",
       "      <td>0.017665</td>\n",
       "      <td>0.003251</td>\n",
       "      <td>-0.025429</td>\n",
       "    </tr>\n",
       "    <tr>\n",
       "      <th>w1q167_ei</th>\n",
       "      <td>0.036513</td>\n",
       "      <td>-0.038985</td>\n",
       "      <td>0.017759</td>\n",
       "      <td>0.012587</td>\n",
       "      <td>-0.003202</td>\n",
       "      <td>-0.042005</td>\n",
       "      <td>-0.012354</td>\n",
       "      <td>-0.019806</td>\n",
       "      <td>-0.017555</td>\n",
       "      <td>0.016206</td>\n",
       "      <td>...</td>\n",
       "      <td>0.026527</td>\n",
       "      <td>0.031284</td>\n",
       "      <td>0.026183</td>\n",
       "      <td>0.007481</td>\n",
       "      <td>0.042794</td>\n",
       "      <td>-0.048277</td>\n",
       "      <td>-0.050505</td>\n",
       "      <td>0.042812</td>\n",
       "      <td>0.010065</td>\n",
       "      <td>0.026324</td>\n",
       "    </tr>\n",
       "    <tr>\n",
       "      <th>w1q168_ei</th>\n",
       "      <td>-0.097763</td>\n",
       "      <td>-0.013645</td>\n",
       "      <td>-0.076780</td>\n",
       "      <td>0.013928</td>\n",
       "      <td>0.062597</td>\n",
       "      <td>0.050752</td>\n",
       "      <td>-0.040379</td>\n",
       "      <td>-0.037255</td>\n",
       "      <td>-0.001459</td>\n",
       "      <td>0.156396</td>\n",
       "      <td>...</td>\n",
       "      <td>-0.033556</td>\n",
       "      <td>-0.047488</td>\n",
       "      <td>-0.043364</td>\n",
       "      <td>-0.026383</td>\n",
       "      <td>-0.087284</td>\n",
       "      <td>-0.039746</td>\n",
       "      <td>0.051783</td>\n",
       "      <td>-0.012842</td>\n",
       "      <td>0.002337</td>\n",
       "      <td>0.053397</td>\n",
       "    </tr>\n",
       "    <tr>\n",
       "      <th>w1q169_ei</th>\n",
       "      <td>0.008390</td>\n",
       "      <td>0.046368</td>\n",
       "      <td>-0.016560</td>\n",
       "      <td>-0.083316</td>\n",
       "      <td>-0.159414</td>\n",
       "      <td>-0.027500</td>\n",
       "      <td>-0.048726</td>\n",
       "      <td>-0.032892</td>\n",
       "      <td>-0.022293</td>\n",
       "      <td>-0.290725</td>\n",
       "      <td>...</td>\n",
       "      <td>-0.011515</td>\n",
       "      <td>0.058435</td>\n",
       "      <td>-0.006434</td>\n",
       "      <td>-0.053834</td>\n",
       "      <td>0.006240</td>\n",
       "      <td>0.101113</td>\n",
       "      <td>0.065009</td>\n",
       "      <td>-0.099035</td>\n",
       "      <td>-0.080990</td>\n",
       "      <td>-0.078884</td>\n",
       "    </tr>\n",
       "    <tr>\n",
       "      <th>w1q171_1_ei</th>\n",
       "      <td>-0.042808</td>\n",
       "      <td>-0.191669</td>\n",
       "      <td>-0.103553</td>\n",
       "      <td>-0.048726</td>\n",
       "      <td>-0.015673</td>\n",
       "      <td>-0.088565</td>\n",
       "      <td>-0.087214</td>\n",
       "      <td>-0.072731</td>\n",
       "      <td>-0.094401</td>\n",
       "      <td>0.172385</td>\n",
       "      <td>...</td>\n",
       "      <td>0.037181</td>\n",
       "      <td>0.076765</td>\n",
       "      <td>0.062940</td>\n",
       "      <td>0.042949</td>\n",
       "      <td>-0.064869</td>\n",
       "      <td>-0.192148</td>\n",
       "      <td>0.040233</td>\n",
       "      <td>-0.011609</td>\n",
       "      <td>0.010231</td>\n",
       "      <td>0.027309</td>\n",
       "    </tr>\n",
       "    <tr>\n",
       "      <th>w1q171_2_ei</th>\n",
       "      <td>0.035786</td>\n",
       "      <td>0.105852</td>\n",
       "      <td>0.043114</td>\n",
       "      <td>0.032392</td>\n",
       "      <td>-0.045835</td>\n",
       "      <td>0.026560</td>\n",
       "      <td>0.081826</td>\n",
       "      <td>0.058765</td>\n",
       "      <td>0.111740</td>\n",
       "      <td>-0.298145</td>\n",
       "      <td>...</td>\n",
       "      <td>-0.006075</td>\n",
       "      <td>-0.003338</td>\n",
       "      <td>-0.014668</td>\n",
       "      <td>-0.025103</td>\n",
       "      <td>0.047961</td>\n",
       "      <td>0.163702</td>\n",
       "      <td>-0.015799</td>\n",
       "      <td>-0.039866</td>\n",
       "      <td>-0.067688</td>\n",
       "      <td>-0.088671</td>\n",
       "    </tr>\n",
       "    <tr>\n",
       "      <th>w1q171_3_ei</th>\n",
       "      <td>-0.007343</td>\n",
       "      <td>-0.063733</td>\n",
       "      <td>0.061357</td>\n",
       "      <td>-0.000858</td>\n",
       "      <td>0.056999</td>\n",
       "      <td>-0.033087</td>\n",
       "      <td>0.039323</td>\n",
       "      <td>-0.005848</td>\n",
       "      <td>0.005606</td>\n",
       "      <td>0.084017</td>\n",
       "      <td>...</td>\n",
       "      <td>0.001593</td>\n",
       "      <td>0.011365</td>\n",
       "      <td>0.013616</td>\n",
       "      <td>0.020190</td>\n",
       "      <td>-0.020956</td>\n",
       "      <td>-0.068812</td>\n",
       "      <td>-0.007135</td>\n",
       "      <td>0.034631</td>\n",
       "      <td>0.055290</td>\n",
       "      <td>0.086483</td>\n",
       "    </tr>\n",
       "    <tr>\n",
       "      <th>w1q171_4_ei</th>\n",
       "      <td>-0.020047</td>\n",
       "      <td>0.072147</td>\n",
       "      <td>0.052579</td>\n",
       "      <td>0.028532</td>\n",
       "      <td>0.061535</td>\n",
       "      <td>0.017302</td>\n",
       "      <td>0.066466</td>\n",
       "      <td>0.053727</td>\n",
       "      <td>0.066630</td>\n",
       "      <td>0.041790</td>\n",
       "      <td>...</td>\n",
       "      <td>-0.063478</td>\n",
       "      <td>-0.052655</td>\n",
       "      <td>-0.052448</td>\n",
       "      <td>-0.013372</td>\n",
       "      <td>-0.001324</td>\n",
       "      <td>0.030475</td>\n",
       "      <td>-0.017303</td>\n",
       "      <td>0.060481</td>\n",
       "      <td>0.039525</td>\n",
       "      <td>0.064266</td>\n",
       "    </tr>\n",
       "    <tr>\n",
       "      <th>w1q171_5_ei</th>\n",
       "      <td>0.055982</td>\n",
       "      <td>0.093247</td>\n",
       "      <td>0.033780</td>\n",
       "      <td>0.077363</td>\n",
       "      <td>0.059420</td>\n",
       "      <td>-0.000289</td>\n",
       "      <td>0.047438</td>\n",
       "      <td>0.057570</td>\n",
       "      <td>0.129367</td>\n",
       "      <td>-0.134254</td>\n",
       "      <td>...</td>\n",
       "      <td>-0.011657</td>\n",
       "      <td>-0.047831</td>\n",
       "      <td>-0.026672</td>\n",
       "      <td>-0.009082</td>\n",
       "      <td>0.042174</td>\n",
       "      <td>0.098310</td>\n",
       "      <td>-0.086239</td>\n",
       "      <td>0.012628</td>\n",
       "      <td>0.026206</td>\n",
       "      <td>0.049639</td>\n",
       "    </tr>\n",
       "    <tr>\n",
       "      <th>w1q171_6_ei</th>\n",
       "      <td>-0.028597</td>\n",
       "      <td>0.049648</td>\n",
       "      <td>0.038966</td>\n",
       "      <td>0.039814</td>\n",
       "      <td>0.053332</td>\n",
       "      <td>0.038039</td>\n",
       "      <td>0.103021</td>\n",
       "      <td>0.047542</td>\n",
       "      <td>0.020049</td>\n",
       "      <td>-0.018055</td>\n",
       "      <td>...</td>\n",
       "      <td>-0.002259</td>\n",
       "      <td>-0.046517</td>\n",
       "      <td>-0.001156</td>\n",
       "      <td>0.039615</td>\n",
       "      <td>-0.019536</td>\n",
       "      <td>0.058044</td>\n",
       "      <td>-0.031222</td>\n",
       "      <td>-0.029821</td>\n",
       "      <td>-0.038074</td>\n",
       "      <td>0.025452</td>\n",
       "    </tr>\n",
       "    <tr>\n",
       "      <th>w1q171_7_ei</th>\n",
       "      <td>0.044250</td>\n",
       "      <td>0.168169</td>\n",
       "      <td>0.035149</td>\n",
       "      <td>0.018010</td>\n",
       "      <td>-0.129805</td>\n",
       "      <td>0.051000</td>\n",
       "      <td>0.101673</td>\n",
       "      <td>0.112808</td>\n",
       "      <td>0.093146</td>\n",
       "      <td>-0.458863</td>\n",
       "      <td>...</td>\n",
       "      <td>0.028515</td>\n",
       "      <td>0.038113</td>\n",
       "      <td>0.016019</td>\n",
       "      <td>-0.023920</td>\n",
       "      <td>0.059770</td>\n",
       "      <td>0.261334</td>\n",
       "      <td>-0.056099</td>\n",
       "      <td>-0.068050</td>\n",
       "      <td>-0.057827</td>\n",
       "      <td>-0.183309</td>\n",
       "    </tr>\n",
       "    <tr>\n",
       "      <th>w1q171_8_ei</th>\n",
       "      <td>-0.015795</td>\n",
       "      <td>-0.100069</td>\n",
       "      <td>-0.001345</td>\n",
       "      <td>-0.012334</td>\n",
       "      <td>0.047840</td>\n",
       "      <td>0.010989</td>\n",
       "      <td>-0.034436</td>\n",
       "      <td>-0.009735</td>\n",
       "      <td>-0.143906</td>\n",
       "      <td>0.221725</td>\n",
       "      <td>...</td>\n",
       "      <td>-0.015545</td>\n",
       "      <td>-0.027017</td>\n",
       "      <td>-0.014173</td>\n",
       "      <td>0.005807</td>\n",
       "      <td>-0.000723</td>\n",
       "      <td>-0.102813</td>\n",
       "      <td>0.049356</td>\n",
       "      <td>0.005213</td>\n",
       "      <td>0.000132</td>\n",
       "      <td>0.025524</td>\n",
       "    </tr>\n",
       "    <tr>\n",
       "      <th>w1q171_9_ei</th>\n",
       "      <td>-0.060398</td>\n",
       "      <td>0.108269</td>\n",
       "      <td>0.088733</td>\n",
       "      <td>0.055386</td>\n",
       "      <td>0.147921</td>\n",
       "      <td>0.071003</td>\n",
       "      <td>0.039623</td>\n",
       "      <td>0.020940</td>\n",
       "      <td>0.014824</td>\n",
       "      <td>0.291361</td>\n",
       "      <td>...</td>\n",
       "      <td>-0.081521</td>\n",
       "      <td>-0.104346</td>\n",
       "      <td>-0.098384</td>\n",
       "      <td>-0.057447</td>\n",
       "      <td>-0.048706</td>\n",
       "      <td>-0.102054</td>\n",
       "      <td>0.056020</td>\n",
       "      <td>0.125117</td>\n",
       "      <td>0.032609</td>\n",
       "      <td>0.141263</td>\n",
       "    </tr>\n",
       "    <tr>\n",
       "      <th>w1q175_ei</th>\n",
       "      <td>0.066736</td>\n",
       "      <td>0.216494</td>\n",
       "      <td>0.125610</td>\n",
       "      <td>0.148708</td>\n",
       "      <td>0.125748</td>\n",
       "      <td>0.124783</td>\n",
       "      <td>0.128747</td>\n",
       "      <td>0.064347</td>\n",
       "      <td>0.275428</td>\n",
       "      <td>-0.182196</td>\n",
       "      <td>...</td>\n",
       "      <td>-0.119851</td>\n",
       "      <td>-0.094187</td>\n",
       "      <td>-0.116748</td>\n",
       "      <td>-0.070816</td>\n",
       "      <td>0.060654</td>\n",
       "      <td>0.077306</td>\n",
       "      <td>-0.113199</td>\n",
       "      <td>0.133949</td>\n",
       "      <td>0.104555</td>\n",
       "      <td>0.122777</td>\n",
       "    </tr>\n",
       "    <tr>\n",
       "      <th>w1q179_ei_r_relig_christ</th>\n",
       "      <td>0.020940</td>\n",
       "      <td>-0.116649</td>\n",
       "      <td>-0.024347</td>\n",
       "      <td>-0.088688</td>\n",
       "      <td>-0.058275</td>\n",
       "      <td>-0.065032</td>\n",
       "      <td>-0.083623</td>\n",
       "      <td>-0.101421</td>\n",
       "      <td>-0.018666</td>\n",
       "      <td>0.193364</td>\n",
       "      <td>...</td>\n",
       "      <td>0.048270</td>\n",
       "      <td>-0.020004</td>\n",
       "      <td>0.010226</td>\n",
       "      <td>-0.006848</td>\n",
       "      <td>0.006916</td>\n",
       "      <td>-0.094018</td>\n",
       "      <td>-0.055807</td>\n",
       "      <td>-0.029494</td>\n",
       "      <td>-0.037044</td>\n",
       "      <td>0.006293</td>\n",
       "    </tr>\n",
       "    <tr>\n",
       "      <th>w1q179_ei_r_relig_other</th>\n",
       "      <td>-0.006011</td>\n",
       "      <td>0.019989</td>\n",
       "      <td>0.073102</td>\n",
       "      <td>0.093808</td>\n",
       "      <td>0.102198</td>\n",
       "      <td>-0.013992</td>\n",
       "      <td>0.054778</td>\n",
       "      <td>0.113650</td>\n",
       "      <td>0.070259</td>\n",
       "      <td>0.036586</td>\n",
       "      <td>...</td>\n",
       "      <td>0.047018</td>\n",
       "      <td>0.064241</td>\n",
       "      <td>0.067426</td>\n",
       "      <td>0.054393</td>\n",
       "      <td>-0.019635</td>\n",
       "      <td>-0.010219</td>\n",
       "      <td>-0.002897</td>\n",
       "      <td>0.105616</td>\n",
       "      <td>0.108833</td>\n",
       "      <td>0.082677</td>\n",
       "    </tr>\n",
       "    <tr>\n",
       "      <th>w1q180_ei_r_relig_christ</th>\n",
       "      <td>0.023023</td>\n",
       "      <td>-0.098239</td>\n",
       "      <td>0.005432</td>\n",
       "      <td>-0.013244</td>\n",
       "      <td>0.027876</td>\n",
       "      <td>0.004616</td>\n",
       "      <td>-0.052718</td>\n",
       "      <td>-0.069865</td>\n",
       "      <td>-0.019163</td>\n",
       "      <td>0.150770</td>\n",
       "      <td>...</td>\n",
       "      <td>-0.050359</td>\n",
       "      <td>-0.011618</td>\n",
       "      <td>-0.023640</td>\n",
       "      <td>0.005065</td>\n",
       "      <td>0.022633</td>\n",
       "      <td>-0.132758</td>\n",
       "      <td>-0.007596</td>\n",
       "      <td>-0.023897</td>\n",
       "      <td>0.013831</td>\n",
       "      <td>0.048145</td>\n",
       "    </tr>\n",
       "    <tr>\n",
       "      <th>w1q180_ei_r_relig_other</th>\n",
       "      <td>0.019704</td>\n",
       "      <td>0.068585</td>\n",
       "      <td>0.025628</td>\n",
       "      <td>0.024237</td>\n",
       "      <td>-0.030601</td>\n",
       "      <td>0.002677</td>\n",
       "      <td>0.023640</td>\n",
       "      <td>0.044340</td>\n",
       "      <td>0.031064</td>\n",
       "      <td>-0.084711</td>\n",
       "      <td>...</td>\n",
       "      <td>0.004997</td>\n",
       "      <td>0.021577</td>\n",
       "      <td>0.004443</td>\n",
       "      <td>-0.013231</td>\n",
       "      <td>0.009114</td>\n",
       "      <td>0.056488</td>\n",
       "      <td>-0.016770</td>\n",
       "      <td>0.051109</td>\n",
       "      <td>0.032609</td>\n",
       "      <td>-0.023613</td>\n",
       "    </tr>\n",
       "    <tr>\n",
       "      <th>w1q181_ei_r</th>\n",
       "      <td>0.088517</td>\n",
       "      <td>-0.072724</td>\n",
       "      <td>0.046275</td>\n",
       "      <td>-0.021548</td>\n",
       "      <td>-0.031873</td>\n",
       "      <td>-0.040182</td>\n",
       "      <td>0.005193</td>\n",
       "      <td>-0.032631</td>\n",
       "      <td>0.036809</td>\n",
       "      <td>0.048086</td>\n",
       "      <td>...</td>\n",
       "      <td>0.040925</td>\n",
       "      <td>0.030911</td>\n",
       "      <td>0.031237</td>\n",
       "      <td>0.005264</td>\n",
       "      <td>0.095648</td>\n",
       "      <td>-0.008038</td>\n",
       "      <td>-0.085793</td>\n",
       "      <td>0.042204</td>\n",
       "      <td>-0.012284</td>\n",
       "      <td>0.015108</td>\n",
       "    </tr>\n",
       "    <tr>\n",
       "      <th>w1q30_1_ei</th>\n",
       "      <td>0.004921</td>\n",
       "      <td>0.078322</td>\n",
       "      <td>-0.002952</td>\n",
       "      <td>0.175122</td>\n",
       "      <td>0.059517</td>\n",
       "      <td>0.044873</td>\n",
       "      <td>0.053169</td>\n",
       "      <td>0.114477</td>\n",
       "      <td>0.063609</td>\n",
       "      <td>-0.119933</td>\n",
       "      <td>...</td>\n",
       "      <td>0.014092</td>\n",
       "      <td>0.016978</td>\n",
       "      <td>0.051981</td>\n",
       "      <td>0.091889</td>\n",
       "      <td>0.010375</td>\n",
       "      <td>0.081671</td>\n",
       "      <td>-0.091624</td>\n",
       "      <td>0.054122</td>\n",
       "      <td>0.136693</td>\n",
       "      <td>0.002046</td>\n",
       "    </tr>\n",
       "    <tr>\n",
       "      <th>w1q30_2_ei</th>\n",
       "      <td>0.008782</td>\n",
       "      <td>0.094932</td>\n",
       "      <td>0.066098</td>\n",
       "      <td>-0.077106</td>\n",
       "      <td>0.078480</td>\n",
       "      <td>-0.036951</td>\n",
       "      <td>0.080779</td>\n",
       "      <td>0.012027</td>\n",
       "      <td>0.076458</td>\n",
       "      <td>-0.147768</td>\n",
       "      <td>...</td>\n",
       "      <td>-0.005793</td>\n",
       "      <td>0.029104</td>\n",
       "      <td>0.011664</td>\n",
       "      <td>0.007699</td>\n",
       "      <td>-0.014071</td>\n",
       "      <td>0.061224</td>\n",
       "      <td>-0.018817</td>\n",
       "      <td>0.012973</td>\n",
       "      <td>-0.084225</td>\n",
       "      <td>0.013004</td>\n",
       "    </tr>\n",
       "    <tr>\n",
       "      <th>w1q30_3_ei</th>\n",
       "      <td>-0.040330</td>\n",
       "      <td>0.093167</td>\n",
       "      <td>0.046826</td>\n",
       "      <td>0.030992</td>\n",
       "      <td>0.058883</td>\n",
       "      <td>-0.018043</td>\n",
       "      <td>0.050279</td>\n",
       "      <td>0.040086</td>\n",
       "      <td>0.054739</td>\n",
       "      <td>-0.065832</td>\n",
       "      <td>...</td>\n",
       "      <td>-0.009307</td>\n",
       "      <td>0.026212</td>\n",
       "      <td>0.012824</td>\n",
       "      <td>0.016356</td>\n",
       "      <td>-0.051519</td>\n",
       "      <td>0.021409</td>\n",
       "      <td>0.038300</td>\n",
       "      <td>0.052005</td>\n",
       "      <td>0.047455</td>\n",
       "      <td>0.019736</td>\n",
       "    </tr>\n",
       "    <tr>\n",
       "      <th>w1q30_4_ei</th>\n",
       "      <td>-0.006128</td>\n",
       "      <td>0.123951</td>\n",
       "      <td>0.047764</td>\n",
       "      <td>0.097907</td>\n",
       "      <td>0.086086</td>\n",
       "      <td>0.007760</td>\n",
       "      <td>0.069605</td>\n",
       "      <td>0.081356</td>\n",
       "      <td>0.102585</td>\n",
       "      <td>-0.142760</td>\n",
       "      <td>...</td>\n",
       "      <td>-0.021858</td>\n",
       "      <td>0.043618</td>\n",
       "      <td>0.026626</td>\n",
       "      <td>0.045771</td>\n",
       "      <td>-0.013629</td>\n",
       "      <td>0.060341</td>\n",
       "      <td>-0.013520</td>\n",
       "      <td>0.040991</td>\n",
       "      <td>0.084822</td>\n",
       "      <td>-0.005046</td>\n",
       "    </tr>\n",
       "    <tr>\n",
       "      <th>w1q30_5_ei</th>\n",
       "      <td>-0.017463</td>\n",
       "      <td>0.024356</td>\n",
       "      <td>0.001275</td>\n",
       "      <td>0.029728</td>\n",
       "      <td>-0.078659</td>\n",
       "      <td>0.035161</td>\n",
       "      <td>0.003007</td>\n",
       "      <td>-0.010799</td>\n",
       "      <td>0.034382</td>\n",
       "      <td>0.036093</td>\n",
       "      <td>...</td>\n",
       "      <td>-0.051330</td>\n",
       "      <td>-0.063919</td>\n",
       "      <td>-0.117037</td>\n",
       "      <td>-0.165365</td>\n",
       "      <td>-0.011545</td>\n",
       "      <td>0.004070</td>\n",
       "      <td>0.075106</td>\n",
       "      <td>-0.013864</td>\n",
       "      <td>-0.003129</td>\n",
       "      <td>0.006475</td>\n",
       "    </tr>\n",
       "    <tr>\n",
       "      <th>w1q32_ei</th>\n",
       "      <td>0.011637</td>\n",
       "      <td>0.054276</td>\n",
       "      <td>0.025314</td>\n",
       "      <td>-0.011578</td>\n",
       "      <td>-0.008629</td>\n",
       "      <td>0.025274</td>\n",
       "      <td>0.014033</td>\n",
       "      <td>-0.027814</td>\n",
       "      <td>0.164310</td>\n",
       "      <td>-0.033286</td>\n",
       "      <td>...</td>\n",
       "      <td>-0.106571</td>\n",
       "      <td>-0.118294</td>\n",
       "      <td>-0.267493</td>\n",
       "      <td>-0.412519</td>\n",
       "      <td>0.014677</td>\n",
       "      <td>0.011135</td>\n",
       "      <td>0.030391</td>\n",
       "      <td>0.029758</td>\n",
       "      <td>-0.022334</td>\n",
       "      <td>0.037075</td>\n",
       "    </tr>\n",
       "    <tr>\n",
       "      <th>w1q33_ei</th>\n",
       "      <td>-0.055828</td>\n",
       "      <td>-0.215486</td>\n",
       "      <td>-0.071977</td>\n",
       "      <td>-0.057509</td>\n",
       "      <td>0.015452</td>\n",
       "      <td>-0.054069</td>\n",
       "      <td>-0.082566</td>\n",
       "      <td>-0.023071</td>\n",
       "      <td>-0.250479</td>\n",
       "      <td>0.458959</td>\n",
       "      <td>...</td>\n",
       "      <td>0.075472</td>\n",
       "      <td>0.023441</td>\n",
       "      <td>0.133639</td>\n",
       "      <td>0.214799</td>\n",
       "      <td>-0.058074</td>\n",
       "      <td>-0.223767</td>\n",
       "      <td>0.077648</td>\n",
       "      <td>-0.020634</td>\n",
       "      <td>0.011359</td>\n",
       "      <td>0.046570</td>\n",
       "    </tr>\n",
       "    <tr>\n",
       "      <th>w1q34_ei</th>\n",
       "      <td>-0.015805</td>\n",
       "      <td>0.030583</td>\n",
       "      <td>0.017163</td>\n",
       "      <td>0.012858</td>\n",
       "      <td>0.041216</td>\n",
       "      <td>-0.018117</td>\n",
       "      <td>0.030541</td>\n",
       "      <td>0.049114</td>\n",
       "      <td>-0.074113</td>\n",
       "      <td>-0.031847</td>\n",
       "      <td>...</td>\n",
       "      <td>0.048723</td>\n",
       "      <td>0.090549</td>\n",
       "      <td>0.190014</td>\n",
       "      <td>0.314121</td>\n",
       "      <td>-0.018963</td>\n",
       "      <td>0.020812</td>\n",
       "      <td>-0.013938</td>\n",
       "      <td>0.001126</td>\n",
       "      <td>0.031483</td>\n",
       "      <td>-0.023492</td>\n",
       "    </tr>\n",
       "    <tr>\n",
       "      <th>w1q35_ei</th>\n",
       "      <td>0.013376</td>\n",
       "      <td>0.072430</td>\n",
       "      <td>0.028632</td>\n",
       "      <td>-0.006367</td>\n",
       "      <td>-0.013364</td>\n",
       "      <td>0.025418</td>\n",
       "      <td>0.021208</td>\n",
       "      <td>-0.027902</td>\n",
       "      <td>0.179023</td>\n",
       "      <td>-0.068000</td>\n",
       "      <td>...</td>\n",
       "      <td>-0.114077</td>\n",
       "      <td>-0.114769</td>\n",
       "      <td>-0.272132</td>\n",
       "      <td>-0.418875</td>\n",
       "      <td>0.019188</td>\n",
       "      <td>0.034331</td>\n",
       "      <td>0.024394</td>\n",
       "      <td>0.024591</td>\n",
       "      <td>-0.028025</td>\n",
       "      <td>0.026939</td>\n",
       "    </tr>\n",
       "    <tr>\n",
       "      <th>w1q36_ei</th>\n",
       "      <td>0.023496</td>\n",
       "      <td>0.153050</td>\n",
       "      <td>0.049634</td>\n",
       "      <td>-0.010989</td>\n",
       "      <td>-0.019500</td>\n",
       "      <td>0.046771</td>\n",
       "      <td>0.033210</td>\n",
       "      <td>-0.029209</td>\n",
       "      <td>0.226017</td>\n",
       "      <td>-0.195176</td>\n",
       "      <td>...</td>\n",
       "      <td>-0.134981</td>\n",
       "      <td>-0.093025</td>\n",
       "      <td>-0.257360</td>\n",
       "      <td>-0.382682</td>\n",
       "      <td>0.027579</td>\n",
       "      <td>0.114353</td>\n",
       "      <td>-0.006588</td>\n",
       "      <td>0.033688</td>\n",
       "      <td>-0.018033</td>\n",
       "      <td>0.025745</td>\n",
       "    </tr>\n",
       "    <tr>\n",
       "      <th>w1q37_ei</th>\n",
       "      <td>-0.024446</td>\n",
       "      <td>-0.126279</td>\n",
       "      <td>-0.030462</td>\n",
       "      <td>-0.263779</td>\n",
       "      <td>-0.032287</td>\n",
       "      <td>-0.059198</td>\n",
       "      <td>-0.076342</td>\n",
       "      <td>-0.141747</td>\n",
       "      <td>-0.101536</td>\n",
       "      <td>0.205354</td>\n",
       "      <td>...</td>\n",
       "      <td>-0.024941</td>\n",
       "      <td>-0.006932</td>\n",
       "      <td>-0.040475</td>\n",
       "      <td>-0.063138</td>\n",
       "      <td>-0.008747</td>\n",
       "      <td>-0.123852</td>\n",
       "      <td>0.064818</td>\n",
       "      <td>-0.065385</td>\n",
       "      <td>-0.095179</td>\n",
       "      <td>0.045700</td>\n",
       "    </tr>\n",
       "    <tr>\n",
       "      <th>w1q38_ei</th>\n",
       "      <td>-0.048573</td>\n",
       "      <td>-0.117994</td>\n",
       "      <td>-0.027302</td>\n",
       "      <td>-0.233800</td>\n",
       "      <td>-0.034278</td>\n",
       "      <td>-0.065004</td>\n",
       "      <td>-0.040857</td>\n",
       "      <td>-0.127684</td>\n",
       "      <td>-0.098363</td>\n",
       "      <td>0.227505</td>\n",
       "      <td>...</td>\n",
       "      <td>-0.006217</td>\n",
       "      <td>-0.025455</td>\n",
       "      <td>-0.032482</td>\n",
       "      <td>-0.047196</td>\n",
       "      <td>-0.037478</td>\n",
       "      <td>-0.127363</td>\n",
       "      <td>0.074387</td>\n",
       "      <td>-0.036783</td>\n",
       "      <td>-0.069328</td>\n",
       "      <td>0.073414</td>\n",
       "    </tr>\n",
       "    <tr>\n",
       "      <th>w1q52_ei</th>\n",
       "      <td>-0.089860</td>\n",
       "      <td>-0.159361</td>\n",
       "      <td>-0.055668</td>\n",
       "      <td>-0.024113</td>\n",
       "      <td>0.015627</td>\n",
       "      <td>-0.038401</td>\n",
       "      <td>-0.072749</td>\n",
       "      <td>-0.095748</td>\n",
       "      <td>-0.081281</td>\n",
       "      <td>0.429504</td>\n",
       "      <td>...</td>\n",
       "      <td>-0.052604</td>\n",
       "      <td>-0.049057</td>\n",
       "      <td>-0.063586</td>\n",
       "      <td>-0.053042</td>\n",
       "      <td>-0.099903</td>\n",
       "      <td>-0.318911</td>\n",
       "      <td>0.147499</td>\n",
       "      <td>-0.011501</td>\n",
       "      <td>-0.027019</td>\n",
       "      <td>0.050458</td>\n",
       "    </tr>\n",
       "    <tr>\n",
       "      <th>w1q64_1_ei</th>\n",
       "      <td>0.058804</td>\n",
       "      <td>0.064959</td>\n",
       "      <td>0.080464</td>\n",
       "      <td>0.066623</td>\n",
       "      <td>0.100770</td>\n",
       "      <td>0.094250</td>\n",
       "      <td>0.060597</td>\n",
       "      <td>0.039454</td>\n",
       "      <td>0.137136</td>\n",
       "      <td>-0.070633</td>\n",
       "      <td>...</td>\n",
       "      <td>-0.029504</td>\n",
       "      <td>-0.023013</td>\n",
       "      <td>-0.014157</td>\n",
       "      <td>0.016211</td>\n",
       "      <td>0.048215</td>\n",
       "      <td>0.111913</td>\n",
       "      <td>-0.101621</td>\n",
       "      <td>0.067896</td>\n",
       "      <td>0.081662</td>\n",
       "      <td>0.100174</td>\n",
       "    </tr>\n",
       "    <tr>\n",
       "      <th>w1q65_ei</th>\n",
       "      <td>-0.096361</td>\n",
       "      <td>-0.107395</td>\n",
       "      <td>-0.106852</td>\n",
       "      <td>-0.065858</td>\n",
       "      <td>-0.003382</td>\n",
       "      <td>-0.088453</td>\n",
       "      <td>-0.046307</td>\n",
       "      <td>-0.040707</td>\n",
       "      <td>-0.110078</td>\n",
       "      <td>0.201452</td>\n",
       "      <td>...</td>\n",
       "      <td>0.083424</td>\n",
       "      <td>0.046221</td>\n",
       "      <td>0.072845</td>\n",
       "      <td>0.046437</td>\n",
       "      <td>-0.081924</td>\n",
       "      <td>-0.127140</td>\n",
       "      <td>0.063138</td>\n",
       "      <td>-0.053979</td>\n",
       "      <td>-0.062180</td>\n",
       "      <td>-0.050800</td>\n",
       "    </tr>\n",
       "    <tr>\n",
       "      <th>w1q69_ei</th>\n",
       "      <td>-0.089525</td>\n",
       "      <td>-0.164011</td>\n",
       "      <td>-0.134189</td>\n",
       "      <td>-0.089761</td>\n",
       "      <td>-0.147382</td>\n",
       "      <td>-0.122436</td>\n",
       "      <td>-0.077005</td>\n",
       "      <td>-0.091828</td>\n",
       "      <td>-0.180366</td>\n",
       "      <td>0.062053</td>\n",
       "      <td>...</td>\n",
       "      <td>0.106570</td>\n",
       "      <td>0.043034</td>\n",
       "      <td>0.099665</td>\n",
       "      <td>0.088424</td>\n",
       "      <td>-0.078682</td>\n",
       "      <td>-0.055173</td>\n",
       "      <td>0.066863</td>\n",
       "      <td>-0.109642</td>\n",
       "      <td>-0.110940</td>\n",
       "      <td>-0.092511</td>\n",
       "    </tr>\n",
       "    <tr>\n",
       "      <th>w1q72_ei</th>\n",
       "      <td>0.093322</td>\n",
       "      <td>0.712755</td>\n",
       "      <td>0.173852</td>\n",
       "      <td>0.144993</td>\n",
       "      <td>0.188352</td>\n",
       "      <td>0.192907</td>\n",
       "      <td>0.223030</td>\n",
       "      <td>0.153654</td>\n",
       "      <td>0.393852</td>\n",
       "      <td>-0.228021</td>\n",
       "      <td>...</td>\n",
       "      <td>-0.211163</td>\n",
       "      <td>-0.170989</td>\n",
       "      <td>-0.212343</td>\n",
       "      <td>-0.135831</td>\n",
       "      <td>0.081107</td>\n",
       "      <td>0.213636</td>\n",
       "      <td>-0.091833</td>\n",
       "      <td>0.114818</td>\n",
       "      <td>0.092354</td>\n",
       "      <td>0.101757</td>\n",
       "    </tr>\n",
       "    <tr>\n",
       "      <th>w1q74_21_ei</th>\n",
       "      <td>-0.006204</td>\n",
       "      <td>-0.066075</td>\n",
       "      <td>0.000288</td>\n",
       "      <td>-0.045992</td>\n",
       "      <td>0.148384</td>\n",
       "      <td>-0.049483</td>\n",
       "      <td>-0.055083</td>\n",
       "      <td>-0.061497</td>\n",
       "      <td>-0.038891</td>\n",
       "      <td>0.232557</td>\n",
       "      <td>...</td>\n",
       "      <td>-0.042495</td>\n",
       "      <td>-0.041560</td>\n",
       "      <td>-0.051022</td>\n",
       "      <td>-0.040388</td>\n",
       "      <td>0.020741</td>\n",
       "      <td>-0.095475</td>\n",
       "      <td>0.005674</td>\n",
       "      <td>0.032419</td>\n",
       "      <td>-0.005362</td>\n",
       "      <td>0.095384</td>\n",
       "    </tr>\n",
       "    <tr>\n",
       "      <th>w1q74_22_ei</th>\n",
       "      <td>0.009571</td>\n",
       "      <td>-0.032830</td>\n",
       "      <td>0.048907</td>\n",
       "      <td>-0.015310</td>\n",
       "      <td>0.120017</td>\n",
       "      <td>-0.047621</td>\n",
       "      <td>0.054092</td>\n",
       "      <td>0.026331</td>\n",
       "      <td>-0.010190</td>\n",
       "      <td>0.063914</td>\n",
       "      <td>...</td>\n",
       "      <td>-0.009114</td>\n",
       "      <td>0.016012</td>\n",
       "      <td>0.005218</td>\n",
       "      <td>0.007323</td>\n",
       "      <td>0.008270</td>\n",
       "      <td>-0.078453</td>\n",
       "      <td>0.020912</td>\n",
       "      <td>0.040400</td>\n",
       "      <td>0.036199</td>\n",
       "      <td>0.096270</td>\n",
       "    </tr>\n",
       "    <tr>\n",
       "      <th>w1q74_23_ei</th>\n",
       "      <td>0.014447</td>\n",
       "      <td>0.212496</td>\n",
       "      <td>0.114028</td>\n",
       "      <td>0.092428</td>\n",
       "      <td>0.195820</td>\n",
       "      <td>0.082128</td>\n",
       "      <td>0.101971</td>\n",
       "      <td>0.095841</td>\n",
       "      <td>0.142889</td>\n",
       "      <td>0.137684</td>\n",
       "      <td>...</td>\n",
       "      <td>-0.059241</td>\n",
       "      <td>-0.082371</td>\n",
       "      <td>-0.074495</td>\n",
       "      <td>-0.043064</td>\n",
       "      <td>0.008812</td>\n",
       "      <td>-0.021774</td>\n",
       "      <td>-0.029293</td>\n",
       "      <td>0.181559</td>\n",
       "      <td>0.132849</td>\n",
       "      <td>0.143495</td>\n",
       "    </tr>\n",
       "    <tr>\n",
       "      <th>w1q78_ei</th>\n",
       "      <td>-0.090268</td>\n",
       "      <td>-0.092261</td>\n",
       "      <td>-0.038343</td>\n",
       "      <td>-0.019417</td>\n",
       "      <td>-0.208398</td>\n",
       "      <td>0.037808</td>\n",
       "      <td>-0.036413</td>\n",
       "      <td>-0.018991</td>\n",
       "      <td>-0.099700</td>\n",
       "      <td>0.108239</td>\n",
       "      <td>...</td>\n",
       "      <td>-0.016961</td>\n",
       "      <td>-0.025992</td>\n",
       "      <td>-0.021729</td>\n",
       "      <td>-0.011183</td>\n",
       "      <td>-0.073207</td>\n",
       "      <td>-0.032799</td>\n",
       "      <td>0.096611</td>\n",
       "      <td>-0.070896</td>\n",
       "      <td>-0.006685</td>\n",
       "      <td>-0.105703</td>\n",
       "    </tr>\n",
       "    <tr>\n",
       "      <th>w1q79_ei</th>\n",
       "      <td>-0.078819</td>\n",
       "      <td>-0.049579</td>\n",
       "      <td>-0.018409</td>\n",
       "      <td>0.016358</td>\n",
       "      <td>-0.094139</td>\n",
       "      <td>0.017462</td>\n",
       "      <td>-0.019083</td>\n",
       "      <td>-0.008297</td>\n",
       "      <td>-0.066963</td>\n",
       "      <td>0.118326</td>\n",
       "      <td>...</td>\n",
       "      <td>-0.034419</td>\n",
       "      <td>-0.051556</td>\n",
       "      <td>-0.056179</td>\n",
       "      <td>-0.051722</td>\n",
       "      <td>-0.060396</td>\n",
       "      <td>-0.030622</td>\n",
       "      <td>0.095487</td>\n",
       "      <td>-0.032037</td>\n",
       "      <td>0.013252</td>\n",
       "      <td>-0.026954</td>\n",
       "    </tr>\n",
       "    <tr>\n",
       "      <th>w1q89_ei</th>\n",
       "      <td>-0.007643</td>\n",
       "      <td>-0.125798</td>\n",
       "      <td>-0.089613</td>\n",
       "      <td>-0.081163</td>\n",
       "      <td>-0.244494</td>\n",
       "      <td>-0.081277</td>\n",
       "      <td>-0.037507</td>\n",
       "      <td>-0.052925</td>\n",
       "      <td>-0.125146</td>\n",
       "      <td>-0.090419</td>\n",
       "      <td>...</td>\n",
       "      <td>0.081884</td>\n",
       "      <td>0.112466</td>\n",
       "      <td>0.106995</td>\n",
       "      <td>0.070051</td>\n",
       "      <td>-0.001294</td>\n",
       "      <td>-0.064923</td>\n",
       "      <td>0.086837</td>\n",
       "      <td>-0.078857</td>\n",
       "      <td>-0.050658</td>\n",
       "      <td>-0.128322</td>\n",
       "    </tr>\n",
       "    <tr>\n",
       "      <th>w1race</th>\n",
       "      <td>-0.130525</td>\n",
       "      <td>0.031824</td>\n",
       "      <td>-0.043792</td>\n",
       "      <td>-0.005469</td>\n",
       "      <td>0.022361</td>\n",
       "      <td>-0.009452</td>\n",
       "      <td>0.038659</td>\n",
       "      <td>0.058973</td>\n",
       "      <td>-0.048713</td>\n",
       "      <td>0.020073</td>\n",
       "      <td>...</td>\n",
       "      <td>0.042628</td>\n",
       "      <td>0.078882</td>\n",
       "      <td>0.064376</td>\n",
       "      <td>0.039061</td>\n",
       "      <td>-0.143812</td>\n",
       "      <td>-0.045333</td>\n",
       "      <td>0.089435</td>\n",
       "      <td>-0.042184</td>\n",
       "      <td>0.030278</td>\n",
       "      <td>-0.006724</td>\n",
       "    </tr>\n",
       "    <tr>\n",
       "      <th>w1sex</th>\n",
       "      <td>-0.031995</td>\n",
       "      <td>-0.112492</td>\n",
       "      <td>-0.026527</td>\n",
       "      <td>-0.318145</td>\n",
       "      <td>-0.018217</td>\n",
       "      <td>-0.101236</td>\n",
       "      <td>-0.074234</td>\n",
       "      <td>-0.173911</td>\n",
       "      <td>-0.102337</td>\n",
       "      <td>0.130026</td>\n",
       "      <td>...</td>\n",
       "      <td>0.011322</td>\n",
       "      <td>-0.006558</td>\n",
       "      <td>-0.031716</td>\n",
       "      <td>-0.079052</td>\n",
       "      <td>-0.031204</td>\n",
       "      <td>-0.166134</td>\n",
       "      <td>0.038748</td>\n",
       "      <td>-0.071431</td>\n",
       "      <td>-0.174113</td>\n",
       "      <td>0.035879</td>\n",
       "    </tr>\n",
       "    <tr>\n",
       "      <th>w1sex_gender</th>\n",
       "      <td>-0.038065</td>\n",
       "      <td>0.042248</td>\n",
       "      <td>0.027786</td>\n",
       "      <td>-0.117105</td>\n",
       "      <td>0.033082</td>\n",
       "      <td>-0.041995</td>\n",
       "      <td>-0.002537</td>\n",
       "      <td>-0.040700</td>\n",
       "      <td>-0.022870</td>\n",
       "      <td>0.020437</td>\n",
       "      <td>...</td>\n",
       "      <td>-0.044866</td>\n",
       "      <td>-0.048201</td>\n",
       "      <td>-0.061246</td>\n",
       "      <td>-0.056014</td>\n",
       "      <td>-0.024848</td>\n",
       "      <td>-0.072079</td>\n",
       "      <td>0.029526</td>\n",
       "      <td>0.004852</td>\n",
       "      <td>-0.031625</td>\n",
       "      <td>0.060849</td>\n",
       "    </tr>\n",
       "    <tr>\n",
       "      <th>w1sexminid</th>\n",
       "      <td>0.032715</td>\n",
       "      <td>0.260960</td>\n",
       "      <td>0.125592</td>\n",
       "      <td>0.227885</td>\n",
       "      <td>0.054924</td>\n",
       "      <td>0.083360</td>\n",
       "      <td>0.202199</td>\n",
       "      <td>0.185419</td>\n",
       "      <td>0.184445</td>\n",
       "      <td>-0.343059</td>\n",
       "      <td>...</td>\n",
       "      <td>-0.046307</td>\n",
       "      <td>-0.009103</td>\n",
       "      <td>-0.012865</td>\n",
       "      <td>0.023856</td>\n",
       "      <td>0.023653</td>\n",
       "      <td>0.171935</td>\n",
       "      <td>-0.025463</td>\n",
       "      <td>0.108008</td>\n",
       "      <td>0.096115</td>\n",
       "      <td>-0.003264</td>\n",
       "    </tr>\n",
       "    <tr>\n",
       "      <th>w1sexualid</th>\n",
       "      <td>0.033376</td>\n",
       "      <td>0.213416</td>\n",
       "      <td>0.119988</td>\n",
       "      <td>0.154415</td>\n",
       "      <td>0.062990</td>\n",
       "      <td>0.065681</td>\n",
       "      <td>0.181513</td>\n",
       "      <td>0.142567</td>\n",
       "      <td>0.147695</td>\n",
       "      <td>-0.281555</td>\n",
       "      <td>...</td>\n",
       "      <td>-0.060048</td>\n",
       "      <td>-0.016630</td>\n",
       "      <td>-0.029836</td>\n",
       "      <td>0.004611</td>\n",
       "      <td>0.035335</td>\n",
       "      <td>0.132237</td>\n",
       "      <td>-0.011831</td>\n",
       "      <td>0.080916</td>\n",
       "      <td>0.033433</td>\n",
       "      <td>-0.018721</td>\n",
       "    </tr>\n",
       "    <tr>\n",
       "      <th>w1socialwb_i</th>\n",
       "      <td>-0.119839</td>\n",
       "      <td>-0.494476</td>\n",
       "      <td>-0.150177</td>\n",
       "      <td>-0.079043</td>\n",
       "      <td>-0.161528</td>\n",
       "      <td>-0.271231</td>\n",
       "      <td>-0.180837</td>\n",
       "      <td>-0.102508</td>\n",
       "      <td>-0.393152</td>\n",
       "      <td>0.152229</td>\n",
       "      <td>...</td>\n",
       "      <td>0.262878</td>\n",
       "      <td>0.381113</td>\n",
       "      <td>0.340614</td>\n",
       "      <td>0.200946</td>\n",
       "      <td>-0.109009</td>\n",
       "      <td>-0.214239</td>\n",
       "      <td>0.126312</td>\n",
       "      <td>-0.166860</td>\n",
       "      <td>-0.074937</td>\n",
       "      <td>-0.154358</td>\n",
       "    </tr>\n",
       "    <tr>\n",
       "      <th>w1socsupport_fam_i</th>\n",
       "      <td>-0.029786</td>\n",
       "      <td>-0.233671</td>\n",
       "      <td>-0.112835</td>\n",
       "      <td>-0.102275</td>\n",
       "      <td>-0.203500</td>\n",
       "      <td>-0.157673</td>\n",
       "      <td>-0.131307</td>\n",
       "      <td>-0.064002</td>\n",
       "      <td>-0.332214</td>\n",
       "      <td>-0.027043</td>\n",
       "      <td>...</td>\n",
       "      <td>1.000000</td>\n",
       "      <td>0.433112</td>\n",
       "      <td>0.780534</td>\n",
       "      <td>0.446071</td>\n",
       "      <td>-0.011547</td>\n",
       "      <td>-0.037639</td>\n",
       "      <td>0.014652</td>\n",
       "      <td>-0.093396</td>\n",
       "      <td>-0.074604</td>\n",
       "      <td>-0.122511</td>\n",
       "    </tr>\n",
       "    <tr>\n",
       "      <th>w1socsupport_fr_i</th>\n",
       "      <td>-0.038420</td>\n",
       "      <td>-0.210511</td>\n",
       "      <td>-0.073170</td>\n",
       "      <td>-0.047296</td>\n",
       "      <td>-0.083530</td>\n",
       "      <td>-0.139102</td>\n",
       "      <td>-0.101276</td>\n",
       "      <td>-0.030966</td>\n",
       "      <td>-0.223308</td>\n",
       "      <td>-0.046569</td>\n",
       "      <td>...</td>\n",
       "      <td>0.433112</td>\n",
       "      <td>1.000000</td>\n",
       "      <td>0.814073</td>\n",
       "      <td>0.596667</td>\n",
       "      <td>-0.032197</td>\n",
       "      <td>-0.056557</td>\n",
       "      <td>0.028162</td>\n",
       "      <td>-0.102417</td>\n",
       "      <td>-0.072491</td>\n",
       "      <td>-0.133982</td>\n",
       "    </tr>\n",
       "    <tr>\n",
       "      <th>w1socsupport_i</th>\n",
       "      <td>-0.039249</td>\n",
       "      <td>-0.246074</td>\n",
       "      <td>-0.100014</td>\n",
       "      <td>-0.063868</td>\n",
       "      <td>-0.142658</td>\n",
       "      <td>-0.156306</td>\n",
       "      <td>-0.125258</td>\n",
       "      <td>-0.041787</td>\n",
       "      <td>-0.331082</td>\n",
       "      <td>-0.037378</td>\n",
       "      <td>...</td>\n",
       "      <td>0.780534</td>\n",
       "      <td>0.814073</td>\n",
       "      <td>1.000000</td>\n",
       "      <td>0.843780</td>\n",
       "      <td>-0.021610</td>\n",
       "      <td>-0.036652</td>\n",
       "      <td>0.004224</td>\n",
       "      <td>-0.100788</td>\n",
       "      <td>-0.063703</td>\n",
       "      <td>-0.152334</td>\n",
       "    </tr>\n",
       "    <tr>\n",
       "      <th>w1socsupport_so_i</th>\n",
       "      <td>-0.028389</td>\n",
       "      <td>-0.157687</td>\n",
       "      <td>-0.057081</td>\n",
       "      <td>-0.006051</td>\n",
       "      <td>-0.057248</td>\n",
       "      <td>-0.086375</td>\n",
       "      <td>-0.073094</td>\n",
       "      <td>-0.006824</td>\n",
       "      <td>-0.246128</td>\n",
       "      <td>-0.019750</td>\n",
       "      <td>...</td>\n",
       "      <td>0.446071</td>\n",
       "      <td>0.596667</td>\n",
       "      <td>0.843780</td>\n",
       "      <td>1.000000</td>\n",
       "      <td>-0.010925</td>\n",
       "      <td>0.001021</td>\n",
       "      <td>-0.028963</td>\n",
       "      <td>-0.052927</td>\n",
       "      <td>-0.011360</td>\n",
       "      <td>-0.116380</td>\n",
       "    </tr>\n",
       "    <tr>\n",
       "      <th>w1survey_yr</th>\n",
       "      <td>0.855644</td>\n",
       "      <td>0.097543</td>\n",
       "      <td>0.080811</td>\n",
       "      <td>0.036711</td>\n",
       "      <td>0.001079</td>\n",
       "      <td>0.009741</td>\n",
       "      <td>0.037234</td>\n",
       "      <td>0.025682</td>\n",
       "      <td>0.063080</td>\n",
       "      <td>-0.104193</td>\n",
       "      <td>...</td>\n",
       "      <td>-0.011547</td>\n",
       "      <td>-0.032197</td>\n",
       "      <td>-0.021610</td>\n",
       "      <td>-0.010925</td>\n",
       "      <td>1.000000</td>\n",
       "      <td>0.032081</td>\n",
       "      <td>-0.322169</td>\n",
       "      <td>0.025768</td>\n",
       "      <td>0.025310</td>\n",
       "      <td>0.009746</td>\n",
       "    </tr>\n",
       "    <tr>\n",
       "      <th>w1weight_full</th>\n",
       "      <td>0.021940</td>\n",
       "      <td>0.288530</td>\n",
       "      <td>0.106148</td>\n",
       "      <td>0.073047</td>\n",
       "      <td>-0.001988</td>\n",
       "      <td>0.088249</td>\n",
       "      <td>0.170819</td>\n",
       "      <td>0.111225</td>\n",
       "      <td>0.194443</td>\n",
       "      <td>-0.497908</td>\n",
       "      <td>...</td>\n",
       "      <td>-0.037639</td>\n",
       "      <td>-0.056557</td>\n",
       "      <td>-0.036652</td>\n",
       "      <td>0.001021</td>\n",
       "      <td>0.032081</td>\n",
       "      <td>1.000000</td>\n",
       "      <td>-0.146967</td>\n",
       "      <td>0.025911</td>\n",
       "      <td>-0.011124</td>\n",
       "      <td>-0.108292</td>\n",
       "    </tr>\n",
       "    <tr>\n",
       "      <th>waveparticipated</th>\n",
       "      <td>-0.354735</td>\n",
       "      <td>-0.146066</td>\n",
       "      <td>-0.106925</td>\n",
       "      <td>-0.026034</td>\n",
       "      <td>-0.073352</td>\n",
       "      <td>-0.050074</td>\n",
       "      <td>-0.062388</td>\n",
       "      <td>-0.031949</td>\n",
       "      <td>-0.161794</td>\n",
       "      <td>0.139615</td>\n",
       "      <td>...</td>\n",
       "      <td>0.014652</td>\n",
       "      <td>0.028162</td>\n",
       "      <td>0.004224</td>\n",
       "      <td>-0.028963</td>\n",
       "      <td>-0.322169</td>\n",
       "      <td>-0.146967</td>\n",
       "      <td>1.000000</td>\n",
       "      <td>-0.045879</td>\n",
       "      <td>-0.048857</td>\n",
       "      <td>-0.004678</td>\n",
       "    </tr>\n",
       "    <tr>\n",
       "      <th>work_disc_non_queer</th>\n",
       "      <td>0.023757</td>\n",
       "      <td>0.145423</td>\n",
       "      <td>0.376324</td>\n",
       "      <td>0.205929</td>\n",
       "      <td>0.272789</td>\n",
       "      <td>0.138611</td>\n",
       "      <td>0.313247</td>\n",
       "      <td>0.152111</td>\n",
       "      <td>0.234533</td>\n",
       "      <td>0.033342</td>\n",
       "      <td>...</td>\n",
       "      <td>-0.093396</td>\n",
       "      <td>-0.102417</td>\n",
       "      <td>-0.100788</td>\n",
       "      <td>-0.052927</td>\n",
       "      <td>0.025768</td>\n",
       "      <td>0.025911</td>\n",
       "      <td>-0.045879</td>\n",
       "      <td>1.000000</td>\n",
       "      <td>0.424583</td>\n",
       "      <td>0.506144</td>\n",
       "    </tr>\n",
       "    <tr>\n",
       "      <th>work_disc_sex_gender</th>\n",
       "      <td>0.021003</td>\n",
       "      <td>0.103663</td>\n",
       "      <td>0.218240</td>\n",
       "      <td>0.343529</td>\n",
       "      <td>0.227523</td>\n",
       "      <td>0.076000</td>\n",
       "      <td>0.147496</td>\n",
       "      <td>0.235418</td>\n",
       "      <td>0.143193</td>\n",
       "      <td>0.063242</td>\n",
       "      <td>...</td>\n",
       "      <td>-0.074604</td>\n",
       "      <td>-0.072491</td>\n",
       "      <td>-0.063703</td>\n",
       "      <td>-0.011360</td>\n",
       "      <td>0.025310</td>\n",
       "      <td>-0.011124</td>\n",
       "      <td>-0.048857</td>\n",
       "      <td>0.424583</td>\n",
       "      <td>1.000000</td>\n",
       "      <td>0.360284</td>\n",
       "    </tr>\n",
       "    <tr>\n",
       "      <th>work_neg_outcomes</th>\n",
       "      <td>0.024897</td>\n",
       "      <td>0.110214</td>\n",
       "      <td>0.179774</td>\n",
       "      <td>0.121147</td>\n",
       "      <td>0.345633</td>\n",
       "      <td>0.087816</td>\n",
       "      <td>0.165396</td>\n",
       "      <td>0.095243</td>\n",
       "      <td>0.204655</td>\n",
       "      <td>0.209661</td>\n",
       "      <td>...</td>\n",
       "      <td>-0.122511</td>\n",
       "      <td>-0.133982</td>\n",
       "      <td>-0.152334</td>\n",
       "      <td>-0.116380</td>\n",
       "      <td>0.009746</td>\n",
       "      <td>-0.108292</td>\n",
       "      <td>-0.004678</td>\n",
       "      <td>0.506144</td>\n",
       "      <td>0.360284</td>\n",
       "      <td>1.000000</td>\n",
       "    </tr>\n",
       "  </tbody>\n",
       "</table>\n",
       "<p>131 rows × 131 columns</p>\n",
       "</div>"
      ],
      "text/plain": [
       "                                 studyid  w1kessler6_i  abus_treat_non_queer  \\\n",
       "studyid                         1.000000      0.103906              0.070119   \n",
       "w1kessler6_i                    0.103906      1.000000              0.216893   \n",
       "abus_treat_non_queer            0.070119      0.216893              1.000000   \n",
       "abus_treat_sex_gender           0.009527      0.150637              0.379378   \n",
       "abusive_treatment               0.000728      0.221233              0.281561   \n",
       "bad_neighbhd                    0.016558      0.195985              0.103208   \n",
       "childhd_bullying_non_queer      0.049385      0.285710              0.399175   \n",
       "childhd_bullying_sex_gender     0.027719      0.182663              0.230326   \n",
       "chronic_strain                  0.074053      0.525705              0.268685   \n",
       "cohort                         -0.104267     -0.367859             -0.110708   \n",
       "daily_discr_non_queer           0.154620      0.209677              0.379328   \n",
       "daily_discr_sex_gender          0.031268      0.271463              0.397017   \n",
       "disabled                        0.020363      0.369491              0.174096   \n",
       "gcendiv                         0.047454     -0.019954              0.000156   \n",
       "gcenreg                         0.052533     -0.031340              0.000631   \n",
       "geduc1                         -0.026410     -0.291846             -0.095848   \n",
       "geduc2                         -0.003236     -0.185275             -0.031132   \n",
       "geducation                     -0.020769     -0.277191             -0.091457   \n",
       "gmilesaway2_ei_r                0.051560     -0.059816             -0.066864   \n",
       "gurban_i                        0.041714     -0.059474             -0.018994   \n",
       "health_insurance               -0.054009     -0.063635             -0.076667   \n",
       "housing_disc_non_queer         -0.013457      0.076458              0.097312   \n",
       "housing_disc_sex_gender        -0.029607      0.075917              0.061730   \n",
       "outness                        -0.015169     -0.188888             -0.099369   \n",
       "screen_race                     0.436294      0.096424              0.078283   \n",
       "serious_health_cond            -0.074542     -0.024718              0.038178   \n",
       "stress_past_year_crime          0.012945      0.152831              0.184681   \n",
       "stress_past_year_gen            0.120155      0.321832              0.183588   \n",
       "stress_past_year_interpersonal  0.074034      0.311920              0.186764   \n",
       "stress_past_year_non_queer      0.086263      0.253042              0.467872   \n",
       "stress_past_year_sex_gender     0.088783      0.171219              0.260320   \n",
       "stress_past_year_work           0.097185      0.240119              0.183495   \n",
       "suicidality                     0.037701      0.486531              0.201423   \n",
       "w1ace_emo_i                     0.034630      0.217761              0.142144   \n",
       "w1ace_i                         0.080653      0.259967              0.214870   \n",
       "w1ace_inc_i                     0.120545      0.158499              0.157899   \n",
       "w1ace_ipv_i                     0.050567      0.126174              0.115667   \n",
       "w1ace_men_i                    -0.016430      0.239890              0.131088   \n",
       "w1ace_phy_i                     0.012412      0.142650              0.159626   \n",
       "w1ace_sep_i                     0.040752      0.115438              0.067064   \n",
       "w1ace_sex_i                     0.091481      0.085953              0.129667   \n",
       "w1ace_sub_i                     0.059729      0.113764              0.096371   \n",
       "w1age                          -0.106230     -0.365917             -0.111001   \n",
       "w1auditc_i                     -0.048187     -0.001916             -0.004015   \n",
       "w1childgnc_i                    0.015830      0.004413             -0.007821   \n",
       "w1connectedness_i               0.122747      0.009146              0.017989   \n",
       "w1conversion                    0.026485      0.033091              0.067493   \n",
       "w1conversionhc                 -0.004629     -0.027143              0.014634   \n",
       "w1conversionrel                 0.025024      0.066962              0.070418   \n",
       "w1dudit_i                       0.083365      0.217928              0.118060   \n",
       "w1everyday_i                    0.116535      0.478825              0.386602   \n",
       "w1feltstigma_i                  0.020497      0.211140              0.129858   \n",
       "w1gender                       -0.032281      0.098026              0.047372   \n",
       "w1hcthreat_i                    0.038353      0.216954              0.109845   \n",
       "w1hinc_i                       -0.057597     -0.338203             -0.156626   \n",
       "w1idcentral_i                   0.029513      0.025880              0.033389   \n",
       "w1internalized_i                0.039330      0.138417              0.115752   \n",
       "w1lifesat_i                    -0.089173     -0.525031             -0.155116   \n",
       "w1meim_i                        0.155726     -0.109922              0.126330   \n",
       "w1pinc_i                       -0.061955     -0.403028             -0.145189   \n",
       "w1poverty_i_ei                  0.033676      0.252827              0.163186   \n",
       "w1povertycat_i_ei              -0.063915     -0.348310             -0.194027   \n",
       "w1q01_ei                       -0.045544     -0.507901             -0.132379   \n",
       "w1q03_ei                        0.074818      0.475437              0.139493   \n",
       "w1q119_ei                       0.027434      0.397033              0.155995   \n",
       "w1q136_7_ei                    -0.038297     -0.024883              0.115906   \n",
       "w1q139_7_ei                     0.013657      0.008289              0.062933   \n",
       "w1q140_ei                       0.017340      0.116788              0.130230   \n",
       "w1q141_7_ei                    -0.051607     -0.034805              0.002621   \n",
       "w1q143_7_ei                     0.043002      0.101901              0.114316   \n",
       "w1q145_7_ei                     0.010188      0.084721              0.128315   \n",
       "w1q162_ei                      -0.008722     -0.300843             -0.185993   \n",
       "w1q163_7_ei                    -0.000126      0.049267              0.088976   \n",
       "w1q166_ei                       0.032478     -0.028813              0.011536   \n",
       "w1q167_ei                       0.036513     -0.038985              0.017759   \n",
       "w1q168_ei                      -0.097763     -0.013645             -0.076780   \n",
       "w1q169_ei                       0.008390      0.046368             -0.016560   \n",
       "w1q171_1_ei                    -0.042808     -0.191669             -0.103553   \n",
       "w1q171_2_ei                     0.035786      0.105852              0.043114   \n",
       "w1q171_3_ei                    -0.007343     -0.063733              0.061357   \n",
       "w1q171_4_ei                    -0.020047      0.072147              0.052579   \n",
       "w1q171_5_ei                     0.055982      0.093247              0.033780   \n",
       "w1q171_6_ei                    -0.028597      0.049648              0.038966   \n",
       "w1q171_7_ei                     0.044250      0.168169              0.035149   \n",
       "w1q171_8_ei                    -0.015795     -0.100069             -0.001345   \n",
       "w1q171_9_ei                    -0.060398      0.108269              0.088733   \n",
       "w1q175_ei                       0.066736      0.216494              0.125610   \n",
       "w1q179_ei_r_relig_christ        0.020940     -0.116649             -0.024347   \n",
       "w1q179_ei_r_relig_other        -0.006011      0.019989              0.073102   \n",
       "w1q180_ei_r_relig_christ        0.023023     -0.098239              0.005432   \n",
       "w1q180_ei_r_relig_other         0.019704      0.068585              0.025628   \n",
       "w1q181_ei_r                     0.088517     -0.072724              0.046275   \n",
       "w1q30_1_ei                      0.004921      0.078322             -0.002952   \n",
       "w1q30_2_ei                      0.008782      0.094932              0.066098   \n",
       "w1q30_3_ei                     -0.040330      0.093167              0.046826   \n",
       "w1q30_4_ei                     -0.006128      0.123951              0.047764   \n",
       "w1q30_5_ei                     -0.017463      0.024356              0.001275   \n",
       "w1q32_ei                        0.011637      0.054276              0.025314   \n",
       "w1q33_ei                       -0.055828     -0.215486             -0.071977   \n",
       "w1q34_ei                       -0.015805      0.030583              0.017163   \n",
       "w1q35_ei                        0.013376      0.072430              0.028632   \n",
       "w1q36_ei                        0.023496      0.153050              0.049634   \n",
       "w1q37_ei                       -0.024446     -0.126279             -0.030462   \n",
       "w1q38_ei                       -0.048573     -0.117994             -0.027302   \n",
       "w1q52_ei                       -0.089860     -0.159361             -0.055668   \n",
       "w1q64_1_ei                      0.058804      0.064959              0.080464   \n",
       "w1q65_ei                       -0.096361     -0.107395             -0.106852   \n",
       "w1q69_ei                       -0.089525     -0.164011             -0.134189   \n",
       "w1q72_ei                        0.093322      0.712755              0.173852   \n",
       "w1q74_21_ei                    -0.006204     -0.066075              0.000288   \n",
       "w1q74_22_ei                     0.009571     -0.032830              0.048907   \n",
       "w1q74_23_ei                     0.014447      0.212496              0.114028   \n",
       "w1q78_ei                       -0.090268     -0.092261             -0.038343   \n",
       "w1q79_ei                       -0.078819     -0.049579             -0.018409   \n",
       "w1q89_ei                       -0.007643     -0.125798             -0.089613   \n",
       "w1race                         -0.130525      0.031824             -0.043792   \n",
       "w1sex                          -0.031995     -0.112492             -0.026527   \n",
       "w1sex_gender                   -0.038065      0.042248              0.027786   \n",
       "w1sexminid                      0.032715      0.260960              0.125592   \n",
       "w1sexualid                      0.033376      0.213416              0.119988   \n",
       "w1socialwb_i                   -0.119839     -0.494476             -0.150177   \n",
       "w1socsupport_fam_i             -0.029786     -0.233671             -0.112835   \n",
       "w1socsupport_fr_i              -0.038420     -0.210511             -0.073170   \n",
       "w1socsupport_i                 -0.039249     -0.246074             -0.100014   \n",
       "w1socsupport_so_i              -0.028389     -0.157687             -0.057081   \n",
       "w1survey_yr                     0.855644      0.097543              0.080811   \n",
       "w1weight_full                   0.021940      0.288530              0.106148   \n",
       "waveparticipated               -0.354735     -0.146066             -0.106925   \n",
       "work_disc_non_queer             0.023757      0.145423              0.376324   \n",
       "work_disc_sex_gender            0.021003      0.103663              0.218240   \n",
       "work_neg_outcomes               0.024897      0.110214              0.179774   \n",
       "\n",
       "                                abus_treat_sex_gender  abusive_treatment  \\\n",
       "studyid                                      0.009527           0.000728   \n",
       "w1kessler6_i                                 0.150637           0.221233   \n",
       "abus_treat_non_queer                         0.379378           0.281561   \n",
       "abus_treat_sex_gender                        1.000000           0.306612   \n",
       "abusive_treatment                            0.306612           1.000000   \n",
       "bad_neighbhd                                 0.146677           0.125892   \n",
       "childhd_bullying_non_queer                   0.227409           0.213420   \n",
       "childhd_bullying_sex_gender                  0.398186           0.179944   \n",
       "chronic_strain                               0.156152           0.306359   \n",
       "cohort                                      -0.089912           0.146622   \n",
       "daily_discr_non_queer                        0.224798           0.132535   \n",
       "daily_discr_sex_gender                       0.447712           0.214904   \n",
       "disabled                                     0.160210           0.229125   \n",
       "gcendiv                                      0.025605           0.001714   \n",
       "gcenreg                                      0.017418           0.002651   \n",
       "geduc1                                      -0.040722          -0.028169   \n",
       "geduc2                                       0.004137           0.001097   \n",
       "geducation                                  -0.035748          -0.029247   \n",
       "gmilesaway2_ei_r                            -0.008428          -0.028319   \n",
       "gurban_i                                     0.015133          -0.070055   \n",
       "health_insurance                            -0.056660          -0.082490   \n",
       "housing_disc_non_queer                       0.086893           0.155181   \n",
       "housing_disc_sex_gender                      0.091328           0.150021   \n",
       "outness                                     -0.028292           0.061270   \n",
       "screen_race                                 -0.009696          -0.044595   \n",
       "serious_health_cond                          0.031767           0.165981   \n",
       "stress_past_year_crime                       0.100873           0.334521   \n",
       "stress_past_year_gen                         0.139873           0.219835   \n",
       "stress_past_year_interpersonal               0.162510           0.271992   \n",
       "stress_past_year_non_queer                   0.234057           0.199814   \n",
       "stress_past_year_sex_gender                  0.388163           0.153477   \n",
       "stress_past_year_work                        0.148253           0.114886   \n",
       "suicidality                                  0.215065           0.300705   \n",
       "w1ace_emo_i                                  0.062488           0.263694   \n",
       "w1ace_i                                      0.165927           0.354169   \n",
       "w1ace_inc_i                                  0.087846           0.152672   \n",
       "w1ace_ipv_i                                  0.080656           0.246057   \n",
       "w1ace_men_i                                  0.141774           0.168097   \n",
       "w1ace_phy_i                                  0.105946           0.250837   \n",
       "w1ace_sep_i                                  0.040921           0.086511   \n",
       "w1ace_sex_i                                  0.171044           0.258344   \n",
       "w1ace_sub_i                                  0.068628           0.193614   \n",
       "w1age                                       -0.086218           0.145200   \n",
       "w1auditc_i                                   0.011089           0.047364   \n",
       "w1childgnc_i                                -0.095653          -0.036540   \n",
       "w1connectedness_i                            0.056635           0.038784   \n",
       "w1conversion                                 0.006992           0.131234   \n",
       "w1conversionhc                               0.013544           0.093925   \n",
       "w1conversionrel                              0.005048           0.126569   \n",
       "w1dudit_i                                    0.059581           0.161087   \n",
       "w1everyday_i                                 0.326052           0.409828   \n",
       "w1feltstigma_i                               0.155460           0.208567   \n",
       "w1gender                                    -0.001723           0.048974   \n",
       "w1hcthreat_i                                 0.151120           0.159837   \n",
       "w1hinc_i                                    -0.129127          -0.175919   \n",
       "w1idcentral_i                                0.099967           0.072009   \n",
       "w1internalized_i                             0.008434           0.025677   \n",
       "w1lifesat_i                                 -0.098634          -0.215564   \n",
       "w1meim_i                                     0.037351           0.031508   \n",
       "w1pinc_i                                    -0.130911          -0.031737   \n",
       "w1poverty_i_ei                               0.088285           0.163105   \n",
       "w1povertycat_i_ei                           -0.124688          -0.175260   \n",
       "w1q01_ei                                    -0.124940          -0.207874   \n",
       "w1q03_ei                                     0.101494           0.186028   \n",
       "w1q119_ei                                    0.207422           0.142414   \n",
       "w1q136_7_ei                                  0.203668           0.243338   \n",
       "w1q139_7_ei                                  0.111005           0.226148   \n",
       "w1q140_ei                                    0.123859           0.262187   \n",
       "w1q141_7_ei                                  0.020991           0.063881   \n",
       "w1q143_7_ei                                  0.114803           0.209793   \n",
       "w1q145_7_ei                                  0.122494           0.205367   \n",
       "w1q162_ei                                   -0.158998          -0.267780   \n",
       "w1q163_7_ei                                 -0.033957           0.156953   \n",
       "w1q166_ei                                   -0.019976          -0.060158   \n",
       "w1q167_ei                                    0.012587          -0.003202   \n",
       "w1q168_ei                                    0.013928           0.062597   \n",
       "w1q169_ei                                   -0.083316          -0.159414   \n",
       "w1q171_1_ei                                 -0.048726          -0.015673   \n",
       "w1q171_2_ei                                  0.032392          -0.045835   \n",
       "w1q171_3_ei                                 -0.000858           0.056999   \n",
       "w1q171_4_ei                                  0.028532           0.061535   \n",
       "w1q171_5_ei                                  0.077363           0.059420   \n",
       "w1q171_6_ei                                  0.039814           0.053332   \n",
       "w1q171_7_ei                                  0.018010          -0.129805   \n",
       "w1q171_8_ei                                 -0.012334           0.047840   \n",
       "w1q171_9_ei                                  0.055386           0.147921   \n",
       "w1q175_ei                                    0.148708           0.125748   \n",
       "w1q179_ei_r_relig_christ                    -0.088688          -0.058275   \n",
       "w1q179_ei_r_relig_other                      0.093808           0.102198   \n",
       "w1q180_ei_r_relig_christ                    -0.013244           0.027876   \n",
       "w1q180_ei_r_relig_other                      0.024237          -0.030601   \n",
       "w1q181_ei_r                                 -0.021548          -0.031873   \n",
       "w1q30_1_ei                                   0.175122           0.059517   \n",
       "w1q30_2_ei                                  -0.077106           0.078480   \n",
       "w1q30_3_ei                                   0.030992           0.058883   \n",
       "w1q30_4_ei                                   0.097907           0.086086   \n",
       "w1q30_5_ei                                   0.029728          -0.078659   \n",
       "w1q32_ei                                    -0.011578          -0.008629   \n",
       "w1q33_ei                                    -0.057509           0.015452   \n",
       "w1q34_ei                                     0.012858           0.041216   \n",
       "w1q35_ei                                    -0.006367          -0.013364   \n",
       "w1q36_ei                                    -0.010989          -0.019500   \n",
       "w1q37_ei                                    -0.263779          -0.032287   \n",
       "w1q38_ei                                    -0.233800          -0.034278   \n",
       "w1q52_ei                                    -0.024113           0.015627   \n",
       "w1q64_1_ei                                   0.066623           0.100770   \n",
       "w1q65_ei                                    -0.065858          -0.003382   \n",
       "w1q69_ei                                    -0.089761          -0.147382   \n",
       "w1q72_ei                                     0.144993           0.188352   \n",
       "w1q74_21_ei                                 -0.045992           0.148384   \n",
       "w1q74_22_ei                                 -0.015310           0.120017   \n",
       "w1q74_23_ei                                  0.092428           0.195820   \n",
       "w1q78_ei                                    -0.019417          -0.208398   \n",
       "w1q79_ei                                     0.016358          -0.094139   \n",
       "w1q89_ei                                    -0.081163          -0.244494   \n",
       "w1race                                      -0.005469           0.022361   \n",
       "w1sex                                       -0.318145          -0.018217   \n",
       "w1sex_gender                                -0.117105           0.033082   \n",
       "w1sexminid                                   0.227885           0.054924   \n",
       "w1sexualid                                   0.154415           0.062990   \n",
       "w1socialwb_i                                -0.079043          -0.161528   \n",
       "w1socsupport_fam_i                          -0.102275          -0.203500   \n",
       "w1socsupport_fr_i                           -0.047296          -0.083530   \n",
       "w1socsupport_i                              -0.063868          -0.142658   \n",
       "w1socsupport_so_i                           -0.006051          -0.057248   \n",
       "w1survey_yr                                  0.036711           0.001079   \n",
       "w1weight_full                                0.073047          -0.001988   \n",
       "waveparticipated                            -0.026034          -0.073352   \n",
       "work_disc_non_queer                          0.205929           0.272789   \n",
       "work_disc_sex_gender                         0.343529           0.227523   \n",
       "work_neg_outcomes                            0.121147           0.345633   \n",
       "\n",
       "                                bad_neighbhd  childhd_bullying_non_queer  \\\n",
       "studyid                             0.016558                    0.049385   \n",
       "w1kessler6_i                        0.195985                    0.285710   \n",
       "abus_treat_non_queer                0.103208                    0.399175   \n",
       "abus_treat_sex_gender               0.146677                    0.227409   \n",
       "abusive_treatment                   0.125892                    0.213420   \n",
       "bad_neighbhd                        1.000000                    0.124060   \n",
       "childhd_bullying_non_queer          0.124060                    1.000000   \n",
       "childhd_bullying_sex_gender         0.101170                    0.347850   \n",
       "chronic_strain                      0.235176                    0.328925   \n",
       "cohort                             -0.107593                   -0.191213   \n",
       "daily_discr_non_queer               0.116441                    0.365822   \n",
       "daily_discr_sex_gender              0.157362                    0.373300   \n",
       "disabled                            0.151237                    0.189546   \n",
       "gcendiv                            -0.020126                    0.014394   \n",
       "gcenreg                            -0.018995                    0.014307   \n",
       "geduc1                             -0.102729                   -0.147627   \n",
       "geduc2                             -0.055302                   -0.072734   \n",
       "geducation                         -0.100882                   -0.144315   \n",
       "gmilesaway2_ei_r                   -0.210713                   -0.034407   \n",
       "gurban_i                           -0.213804                   -0.031028   \n",
       "health_insurance                   -0.087131                   -0.051554   \n",
       "housing_disc_non_queer              0.061411                    0.127503   \n",
       "housing_disc_sex_gender             0.028871                    0.076859   \n",
       "outness                            -0.137829                   -0.167178   \n",
       "screen_race                         0.000883                    0.056002   \n",
       "serious_health_cond                 0.026026                   -0.006061   \n",
       "stress_past_year_crime              0.067461                    0.131570   \n",
       "stress_past_year_gen                0.124674                    0.209989   \n",
       "stress_past_year_interpersonal      0.113253                    0.249411   \n",
       "stress_past_year_non_queer          0.128888                    0.387011   \n",
       "stress_past_year_sex_gender         0.083844                    0.248861   \n",
       "stress_past_year_work               0.091739                    0.170876   \n",
       "suicidality                         0.160274                    0.271943   \n",
       "w1ace_emo_i                         0.077874                    0.224033   \n",
       "w1ace_i                             0.141897                    0.247234   \n",
       "w1ace_inc_i                         0.075669                    0.139014   \n",
       "w1ace_ipv_i                         0.069181                    0.133339   \n",
       "w1ace_men_i                         0.109895                    0.195273   \n",
       "w1ace_phy_i                         0.105553                    0.164431   \n",
       "w1ace_sep_i                         0.054392                    0.060606   \n",
       "w1ace_sex_i                         0.086979                    0.113078   \n",
       "w1ace_sub_i                         0.071036                    0.108978   \n",
       "w1age                              -0.103464                   -0.199126   \n",
       "w1auditc_i                          0.010958                   -0.020345   \n",
       "w1childgnc_i                       -0.038215                    0.069535   \n",
       "w1connectedness_i                  -0.013315                   -0.005293   \n",
       "w1conversion                        0.053228                    0.003226   \n",
       "w1conversionhc                      0.021533                   -0.020721   \n",
       "w1conversionrel                     0.056519                    0.009072   \n",
       "w1dudit_i                           0.060056                    0.151491   \n",
       "w1everyday_i                        0.252585                    0.364589   \n",
       "w1feltstigma_i                      0.550333                    0.156785   \n",
       "w1gender                           -0.004851                    0.035444   \n",
       "w1hcthreat_i                        0.219364                    0.140838   \n",
       "w1hinc_i                           -0.163596                   -0.147132   \n",
       "w1idcentral_i                       0.011705                   -0.026614   \n",
       "w1internalized_i                    0.119929                    0.123674   \n",
       "w1lifesat_i                        -0.224491                   -0.214088   \n",
       "w1meim_i                           -0.037544                    0.032195   \n",
       "w1pinc_i                           -0.166436                   -0.167038   \n",
       "w1poverty_i_ei                      0.084801                    0.076673   \n",
       "w1povertycat_i_ei                  -0.170854                   -0.167497   \n",
       "w1q01_ei                           -0.221222                   -0.200767   \n",
       "w1q03_ei                            0.172744                    0.167565   \n",
       "w1q119_ei                           0.088550                    0.239871   \n",
       "w1q136_7_ei                         0.055975                    0.011434   \n",
       "w1q139_7_ei                         0.064255                    0.027265   \n",
       "w1q140_ei                           0.088227                    0.124335   \n",
       "w1q141_7_ei                        -0.028314                   -0.008173   \n",
       "w1q143_7_ei                         0.100463                    0.087173   \n",
       "w1q145_7_ei                         0.148204                    0.098132   \n",
       "w1q162_ei                          -0.104922                   -0.433257   \n",
       "w1q163_7_ei                         0.066474                    0.133903   \n",
       "w1q166_ei                          -0.061294                    0.008827   \n",
       "w1q167_ei                          -0.042005                   -0.012354   \n",
       "w1q168_ei                           0.050752                   -0.040379   \n",
       "w1q169_ei                          -0.027500                   -0.048726   \n",
       "w1q171_1_ei                        -0.088565                   -0.087214   \n",
       "w1q171_2_ei                         0.026560                    0.081826   \n",
       "w1q171_3_ei                        -0.033087                    0.039323   \n",
       "w1q171_4_ei                         0.017302                    0.066466   \n",
       "w1q171_5_ei                        -0.000289                    0.047438   \n",
       "w1q171_6_ei                         0.038039                    0.103021   \n",
       "w1q171_7_ei                         0.051000                    0.101673   \n",
       "w1q171_8_ei                         0.010989                   -0.034436   \n",
       "w1q171_9_ei                         0.071003                    0.039623   \n",
       "w1q175_ei                           0.124783                    0.128747   \n",
       "w1q179_ei_r_relig_christ           -0.065032                   -0.083623   \n",
       "w1q179_ei_r_relig_other            -0.013992                    0.054778   \n",
       "w1q180_ei_r_relig_christ            0.004616                   -0.052718   \n",
       "w1q180_ei_r_relig_other             0.002677                    0.023640   \n",
       "w1q181_ei_r                        -0.040182                    0.005193   \n",
       "w1q30_1_ei                          0.044873                    0.053169   \n",
       "w1q30_2_ei                         -0.036951                    0.080779   \n",
       "w1q30_3_ei                         -0.018043                    0.050279   \n",
       "w1q30_4_ei                          0.007760                    0.069605   \n",
       "w1q30_5_ei                          0.035161                    0.003007   \n",
       "w1q32_ei                            0.025274                    0.014033   \n",
       "w1q33_ei                           -0.054069                   -0.082566   \n",
       "w1q34_ei                           -0.018117                    0.030541   \n",
       "w1q35_ei                            0.025418                    0.021208   \n",
       "w1q36_ei                            0.046771                    0.033210   \n",
       "w1q37_ei                           -0.059198                   -0.076342   \n",
       "w1q38_ei                           -0.065004                   -0.040857   \n",
       "w1q52_ei                           -0.038401                   -0.072749   \n",
       "w1q64_1_ei                          0.094250                    0.060597   \n",
       "w1q65_ei                           -0.088453                   -0.046307   \n",
       "w1q69_ei                           -0.122436                   -0.077005   \n",
       "w1q72_ei                            0.192907                    0.223030   \n",
       "w1q74_21_ei                        -0.049483                   -0.055083   \n",
       "w1q74_22_ei                        -0.047621                    0.054092   \n",
       "w1q74_23_ei                         0.082128                    0.101971   \n",
       "w1q78_ei                            0.037808                   -0.036413   \n",
       "w1q79_ei                            0.017462                   -0.019083   \n",
       "w1q89_ei                           -0.081277                   -0.037507   \n",
       "w1race                             -0.009452                    0.038659   \n",
       "w1sex                              -0.101236                   -0.074234   \n",
       "w1sex_gender                       -0.041995                   -0.002537   \n",
       "w1sexminid                          0.083360                    0.202199   \n",
       "w1sexualid                          0.065681                    0.181513   \n",
       "w1socialwb_i                       -0.271231                   -0.180837   \n",
       "w1socsupport_fam_i                 -0.157673                   -0.131307   \n",
       "w1socsupport_fr_i                  -0.139102                   -0.101276   \n",
       "w1socsupport_i                     -0.156306                   -0.125258   \n",
       "w1socsupport_so_i                  -0.086375                   -0.073094   \n",
       "w1survey_yr                         0.009741                    0.037234   \n",
       "w1weight_full                       0.088249                    0.170819   \n",
       "waveparticipated                   -0.050074                   -0.062388   \n",
       "work_disc_non_queer                 0.138611                    0.313247   \n",
       "work_disc_sex_gender                0.076000                    0.147496   \n",
       "work_neg_outcomes                   0.087816                    0.165396   \n",
       "\n",
       "                                childhd_bullying_sex_gender  chronic_strain  \\\n",
       "studyid                                            0.027719        0.074053   \n",
       "w1kessler6_i                                       0.182663        0.525705   \n",
       "abus_treat_non_queer                               0.230326        0.268685   \n",
       "abus_treat_sex_gender                              0.398186        0.156152   \n",
       "abusive_treatment                                  0.179944        0.306359   \n",
       "bad_neighbhd                                       0.101170        0.235176   \n",
       "childhd_bullying_non_queer                         0.347850        0.328925   \n",
       "childhd_bullying_sex_gender                        1.000000        0.172902   \n",
       "chronic_strain                                     0.172902        1.000000   \n",
       "cohort                                            -0.123904       -0.244344   \n",
       "daily_discr_non_queer                              0.232077        0.259415   \n",
       "daily_discr_sex_gender                             0.362475        0.281824   \n",
       "disabled                                           0.142523        0.246139   \n",
       "gcendiv                                           -0.008900       -0.011625   \n",
       "gcenreg                                           -0.011132       -0.015735   \n",
       "geduc1                                            -0.055840       -0.215816   \n",
       "geduc2                                            -0.045292       -0.126052   \n",
       "geducation                                        -0.061242       -0.205707   \n",
       "gmilesaway2_ei_r                                  -0.018004       -0.071846   \n",
       "gurban_i                                           0.023679       -0.099846   \n",
       "health_insurance                                  -0.033844       -0.122252   \n",
       "housing_disc_non_queer                             0.090799        0.112604   \n",
       "housing_disc_sex_gender                            0.101538        0.074903   \n",
       "outness                                           -0.005338       -0.150859   \n",
       "screen_race                                        0.004747        0.110355   \n",
       "serious_health_cond                               -0.017920       -0.014220   \n",
       "stress_past_year_crime                             0.105804        0.242509   \n",
       "stress_past_year_gen                               0.130928        0.326371   \n",
       "stress_past_year_interpersonal                     0.167415        0.386137   \n",
       "stress_past_year_non_queer                         0.261948        0.304895   \n",
       "stress_past_year_sex_gender                        0.275807        0.228183   \n",
       "stress_past_year_work                              0.132686        0.300209   \n",
       "suicidality                                        0.222367        0.379309   \n",
       "w1ace_emo_i                                        0.149645        0.249918   \n",
       "w1ace_i                                            0.209930        0.336654   \n",
       "w1ace_inc_i                                        0.091326        0.218767   \n",
       "w1ace_ipv_i                                        0.116727        0.214977   \n",
       "w1ace_men_i                                        0.165693        0.236352   \n",
       "w1ace_phy_i                                        0.144512        0.183933   \n",
       "w1ace_sep_i                                        0.070892        0.122630   \n",
       "w1ace_sex_i                                        0.116728        0.154396   \n",
       "w1ace_sub_i                                        0.102675        0.178139   \n",
       "w1age                                             -0.129654       -0.248370   \n",
       "w1auditc_i                                        -0.015560       -0.037867   \n",
       "w1childgnc_i                                      -0.116079        0.018932   \n",
       "w1connectedness_i                                  0.048189       -0.045621   \n",
       "w1conversion                                       0.026159        0.101980   \n",
       "w1conversionhc                                     0.009913       -0.002334   \n",
       "w1conversionrel                                    0.028212        0.124327   \n",
       "w1dudit_i                                          0.108486        0.146293   \n",
       "w1everyday_i                                       0.261674        0.484887   \n",
       "w1feltstigma_i                                     0.087381        0.255802   \n",
       "w1gender                                           0.033615        0.018295   \n",
       "w1hcthreat_i                                       0.087395        0.199469   \n",
       "w1hinc_i                                          -0.087482       -0.356725   \n",
       "w1idcentral_i                                      0.110266       -0.009156   \n",
       "w1internalized_i                                   0.044750        0.233144   \n",
       "w1lifesat_i                                       -0.090631       -0.510771   \n",
       "w1meim_i                                           0.008092       -0.005354   \n",
       "w1pinc_i                                          -0.128875       -0.304860   \n",
       "w1poverty_i_ei                                     0.043680        0.268159   \n",
       "w1povertycat_i_ei                                 -0.095442       -0.348881   \n",
       "w1q01_ei                                          -0.110181       -0.457791   \n",
       "w1q03_ei                                           0.091225        0.415926   \n",
       "w1q119_ei                                          0.185510        0.232558   \n",
       "w1q136_7_ei                                        0.105552        0.054195   \n",
       "w1q139_7_ei                                        0.078560        0.079151   \n",
       "w1q140_ei                                          0.119994        0.185495   \n",
       "w1q141_7_ei                                        0.019215       -0.040864   \n",
       "w1q143_7_ei                                        0.075644        0.160062   \n",
       "w1q145_7_ei                                        0.100752        0.126749   \n",
       "w1q162_ei                                         -0.275526       -0.253670   \n",
       "w1q163_7_ei                                        0.142974        0.062219   \n",
       "w1q166_ei                                         -0.035197       -0.014522   \n",
       "w1q167_ei                                         -0.019806       -0.017555   \n",
       "w1q168_ei                                         -0.037255       -0.001459   \n",
       "w1q169_ei                                         -0.032892       -0.022293   \n",
       "w1q171_1_ei                                       -0.072731       -0.094401   \n",
       "w1q171_2_ei                                        0.058765        0.111740   \n",
       "w1q171_3_ei                                       -0.005848        0.005606   \n",
       "w1q171_4_ei                                        0.053727        0.066630   \n",
       "w1q171_5_ei                                        0.057570        0.129367   \n",
       "w1q171_6_ei                                        0.047542        0.020049   \n",
       "w1q171_7_ei                                        0.112808        0.093146   \n",
       "w1q171_8_ei                                       -0.009735       -0.143906   \n",
       "w1q171_9_ei                                        0.020940        0.014824   \n",
       "w1q175_ei                                          0.064347        0.275428   \n",
       "w1q179_ei_r_relig_christ                          -0.101421       -0.018666   \n",
       "w1q179_ei_r_relig_other                            0.113650        0.070259   \n",
       "w1q180_ei_r_relig_christ                          -0.069865       -0.019163   \n",
       "w1q180_ei_r_relig_other                            0.044340        0.031064   \n",
       "w1q181_ei_r                                       -0.032631        0.036809   \n",
       "w1q30_1_ei                                         0.114477        0.063609   \n",
       "w1q30_2_ei                                         0.012027        0.076458   \n",
       "w1q30_3_ei                                         0.040086        0.054739   \n",
       "w1q30_4_ei                                         0.081356        0.102585   \n",
       "w1q30_5_ei                                        -0.010799        0.034382   \n",
       "w1q32_ei                                          -0.027814        0.164310   \n",
       "w1q33_ei                                          -0.023071       -0.250479   \n",
       "w1q34_ei                                           0.049114       -0.074113   \n",
       "w1q35_ei                                          -0.027902        0.179023   \n",
       "w1q36_ei                                          -0.029209        0.226017   \n",
       "w1q37_ei                                          -0.141747       -0.101536   \n",
       "w1q38_ei                                          -0.127684       -0.098363   \n",
       "w1q52_ei                                          -0.095748       -0.081281   \n",
       "w1q64_1_ei                                         0.039454        0.137136   \n",
       "w1q65_ei                                          -0.040707       -0.110078   \n",
       "w1q69_ei                                          -0.091828       -0.180366   \n",
       "w1q72_ei                                           0.153654        0.393852   \n",
       "w1q74_21_ei                                       -0.061497       -0.038891   \n",
       "w1q74_22_ei                                        0.026331       -0.010190   \n",
       "w1q74_23_ei                                        0.095841        0.142889   \n",
       "w1q78_ei                                          -0.018991       -0.099700   \n",
       "w1q79_ei                                          -0.008297       -0.066963   \n",
       "w1q89_ei                                          -0.052925       -0.125146   \n",
       "w1race                                             0.058973       -0.048713   \n",
       "w1sex                                             -0.173911       -0.102337   \n",
       "w1sex_gender                                      -0.040700       -0.022870   \n",
       "w1sexminid                                         0.185419        0.184445   \n",
       "w1sexualid                                         0.142567        0.147695   \n",
       "w1socialwb_i                                      -0.102508       -0.393152   \n",
       "w1socsupport_fam_i                                -0.064002       -0.332214   \n",
       "w1socsupport_fr_i                                 -0.030966       -0.223308   \n",
       "w1socsupport_i                                    -0.041787       -0.331082   \n",
       "w1socsupport_so_i                                 -0.006824       -0.246128   \n",
       "w1survey_yr                                        0.025682        0.063080   \n",
       "w1weight_full                                      0.111225        0.194443   \n",
       "waveparticipated                                  -0.031949       -0.161794   \n",
       "work_disc_non_queer                                0.152111        0.234533   \n",
       "work_disc_sex_gender                               0.235418        0.143193   \n",
       "work_neg_outcomes                                  0.095243        0.204655   \n",
       "\n",
       "                                  cohort  ...  w1socsupport_fam_i  \\\n",
       "studyid                        -0.104267  ...           -0.029786   \n",
       "w1kessler6_i                   -0.367859  ...           -0.233671   \n",
       "abus_treat_non_queer           -0.110708  ...           -0.112835   \n",
       "abus_treat_sex_gender          -0.089912  ...           -0.102275   \n",
       "abusive_treatment               0.146622  ...           -0.203500   \n",
       "bad_neighbhd                   -0.107593  ...           -0.157673   \n",
       "childhd_bullying_non_queer     -0.191213  ...           -0.131307   \n",
       "childhd_bullying_sex_gender    -0.123904  ...           -0.064002   \n",
       "chronic_strain                 -0.244344  ...           -0.332214   \n",
       "cohort                          1.000000  ...           -0.027043   \n",
       "daily_discr_non_queer          -0.217579  ...           -0.085563   \n",
       "daily_discr_sex_gender         -0.180051  ...           -0.122476   \n",
       "disabled                        0.041001  ...           -0.141866   \n",
       "gcendiv                        -0.002885  ...           -0.003177   \n",
       "gcenreg                         0.011825  ...           -0.009032   \n",
       "geduc1                          0.366671  ...            0.086641   \n",
       "geduc2                          0.256571  ...            0.049055   \n",
       "geducation                      0.352694  ...            0.081170   \n",
       "gmilesaway2_ei_r                0.058330  ...            0.017865   \n",
       "gurban_i                       -0.002372  ...            0.055227   \n",
       "health_insurance                0.070034  ...            0.032775   \n",
       "housing_disc_non_queer          0.037742  ...           -0.026351   \n",
       "housing_disc_sex_gender         0.053856  ...           -0.022628   \n",
       "outness                         0.248968  ...            0.119210   \n",
       "screen_race                    -0.226112  ...            0.029167   \n",
       "serious_health_cond             0.346923  ...           -0.065158   \n",
       "stress_past_year_crime         -0.004782  ...           -0.095932   \n",
       "stress_past_year_gen           -0.208974  ...           -0.087194   \n",
       "stress_past_year_interpersonal -0.198408  ...           -0.139423   \n",
       "stress_past_year_non_queer     -0.121714  ...           -0.110475   \n",
       "stress_past_year_sex_gender    -0.107089  ...           -0.123934   \n",
       "stress_past_year_work          -0.329732  ...           -0.040141   \n",
       "suicidality                    -0.184951  ...           -0.196728   \n",
       "w1ace_emo_i                    -0.042838  ...           -0.235982   \n",
       "w1ace_i                        -0.040763  ...           -0.240254   \n",
       "w1ace_inc_i                    -0.129402  ...           -0.128288   \n",
       "w1ace_ipv_i                    -0.001917  ...           -0.152459   \n",
       "w1ace_men_i                    -0.091720  ...           -0.102728   \n",
       "w1ace_phy_i                     0.041483  ...           -0.205516   \n",
       "w1ace_sep_i                    -0.124228  ...           -0.069762   \n",
       "w1ace_sex_i                     0.120415  ...           -0.091304   \n",
       "w1ace_sub_i                     0.008951  ...           -0.121837   \n",
       "w1age                           0.985880  ...           -0.024058   \n",
       "w1auditc_i                     -0.017804  ...            0.051159   \n",
       "w1childgnc_i                   -0.011838  ...           -0.000163   \n",
       "w1connectedness_i              -0.101217  ...            0.087809   \n",
       "w1conversion                    0.030156  ...           -0.076736   \n",
       "w1conversionhc                  0.054231  ...           -0.005353   \n",
       "w1conversionrel                 0.003070  ...           -0.093940   \n",
       "w1dudit_i                      -0.147921  ...           -0.034199   \n",
       "w1everyday_i                   -0.276395  ...           -0.202517   \n",
       "w1feltstigma_i                  0.006858  ...           -0.243889   \n",
       "w1gender                       -0.029382  ...           -0.064324   \n",
       "w1hcthreat_i                   -0.095413  ...           -0.147468   \n",
       "w1hinc_i                        0.215059  ...            0.164758   \n",
       "w1idcentral_i                   0.016320  ...            0.013907   \n",
       "w1internalized_i               -0.102109  ...           -0.147384   \n",
       "w1lifesat_i                     0.097300  ...            0.371892   \n",
       "w1meim_i                        0.075544  ...            0.082033   \n",
       "w1pinc_i                        0.501988  ...            0.106100   \n",
       "w1poverty_i_ei                 -0.119682  ...           -0.122588   \n",
       "w1povertycat_i_ei               0.241897  ...            0.140378   \n",
       "w1q01_ei                        0.170999  ...            0.279947   \n",
       "w1q03_ei                       -0.084032  ...           -0.226869   \n",
       "w1q119_ei                      -0.388822  ...           -0.070363   \n",
       "w1q136_7_ei                     0.128372  ...           -0.032751   \n",
       "w1q139_7_ei                     0.178866  ...           -0.065452   \n",
       "w1q140_ei                       0.043658  ...           -0.054874   \n",
       "w1q141_7_ei                     0.102378  ...           -0.009480   \n",
       "w1q143_7_ei                     0.021658  ...           -0.068929   \n",
       "w1q145_7_ei                    -0.031746  ...           -0.023034   \n",
       "w1q162_ei                       0.143050  ...            0.121238   \n",
       "w1q163_7_ei                    -0.029770  ...           -0.031083   \n",
       "w1q166_ei                       0.018620  ...           -0.024062   \n",
       "w1q167_ei                       0.016206  ...            0.026527   \n",
       "w1q168_ei                       0.156396  ...           -0.033556   \n",
       "w1q169_ei                      -0.290725  ...           -0.011515   \n",
       "w1q171_1_ei                     0.172385  ...            0.037181   \n",
       "w1q171_2_ei                    -0.298145  ...           -0.006075   \n",
       "w1q171_3_ei                     0.084017  ...            0.001593   \n",
       "w1q171_4_ei                     0.041790  ...           -0.063478   \n",
       "w1q171_5_ei                    -0.134254  ...           -0.011657   \n",
       "w1q171_6_ei                    -0.018055  ...           -0.002259   \n",
       "w1q171_7_ei                    -0.458863  ...            0.028515   \n",
       "w1q171_8_ei                     0.221725  ...           -0.015545   \n",
       "w1q171_9_ei                     0.291361  ...           -0.081521   \n",
       "w1q175_ei                      -0.182196  ...           -0.119851   \n",
       "w1q179_ei_r_relig_christ        0.193364  ...            0.048270   \n",
       "w1q179_ei_r_relig_other         0.036586  ...            0.047018   \n",
       "w1q180_ei_r_relig_christ        0.150770  ...           -0.050359   \n",
       "w1q180_ei_r_relig_other        -0.084711  ...            0.004997   \n",
       "w1q181_ei_r                     0.048086  ...            0.040925   \n",
       "w1q30_1_ei                     -0.119933  ...            0.014092   \n",
       "w1q30_2_ei                     -0.147768  ...           -0.005793   \n",
       "w1q30_3_ei                     -0.065832  ...           -0.009307   \n",
       "w1q30_4_ei                     -0.142760  ...           -0.021858   \n",
       "w1q30_5_ei                      0.036093  ...           -0.051330   \n",
       "w1q32_ei                       -0.033286  ...           -0.106571   \n",
       "w1q33_ei                        0.458959  ...            0.075472   \n",
       "w1q34_ei                       -0.031847  ...            0.048723   \n",
       "w1q35_ei                       -0.068000  ...           -0.114077   \n",
       "w1q36_ei                       -0.195176  ...           -0.134981   \n",
       "w1q37_ei                        0.205354  ...           -0.024941   \n",
       "w1q38_ei                        0.227505  ...           -0.006217   \n",
       "w1q52_ei                        0.429504  ...           -0.052604   \n",
       "w1q64_1_ei                     -0.070633  ...           -0.029504   \n",
       "w1q65_ei                        0.201452  ...            0.083424   \n",
       "w1q69_ei                        0.062053  ...            0.106570   \n",
       "w1q72_ei                       -0.228021  ...           -0.211163   \n",
       "w1q74_21_ei                     0.232557  ...           -0.042495   \n",
       "w1q74_22_ei                     0.063914  ...           -0.009114   \n",
       "w1q74_23_ei                     0.137684  ...           -0.059241   \n",
       "w1q78_ei                        0.108239  ...           -0.016961   \n",
       "w1q79_ei                        0.118326  ...           -0.034419   \n",
       "w1q89_ei                       -0.090419  ...            0.081884   \n",
       "w1race                          0.020073  ...            0.042628   \n",
       "w1sex                           0.130026  ...            0.011322   \n",
       "w1sex_gender                    0.020437  ...           -0.044866   \n",
       "w1sexminid                     -0.343059  ...           -0.046307   \n",
       "w1sexualid                     -0.281555  ...           -0.060048   \n",
       "w1socialwb_i                    0.152229  ...            0.262878   \n",
       "w1socsupport_fam_i             -0.027043  ...            1.000000   \n",
       "w1socsupport_fr_i              -0.046569  ...            0.433112   \n",
       "w1socsupport_i                 -0.037378  ...            0.780534   \n",
       "w1socsupport_so_i              -0.019750  ...            0.446071   \n",
       "w1survey_yr                    -0.104193  ...           -0.011547   \n",
       "w1weight_full                  -0.497908  ...           -0.037639   \n",
       "waveparticipated                0.139615  ...            0.014652   \n",
       "work_disc_non_queer             0.033342  ...           -0.093396   \n",
       "work_disc_sex_gender            0.063242  ...           -0.074604   \n",
       "work_neg_outcomes               0.209661  ...           -0.122511   \n",
       "\n",
       "                                w1socsupport_fr_i  w1socsupport_i  \\\n",
       "studyid                                 -0.038420       -0.039249   \n",
       "w1kessler6_i                            -0.210511       -0.246074   \n",
       "abus_treat_non_queer                    -0.073170       -0.100014   \n",
       "abus_treat_sex_gender                   -0.047296       -0.063868   \n",
       "abusive_treatment                       -0.083530       -0.142658   \n",
       "bad_neighbhd                            -0.139102       -0.156306   \n",
       "childhd_bullying_non_queer              -0.101276       -0.125258   \n",
       "childhd_bullying_sex_gender             -0.030966       -0.041787   \n",
       "chronic_strain                          -0.223308       -0.331082   \n",
       "cohort                                  -0.046569       -0.037378   \n",
       "daily_discr_non_queer                   -0.028443       -0.057811   \n",
       "daily_discr_sex_gender                  -0.068934       -0.085761   \n",
       "disabled                                -0.126740       -0.148672   \n",
       "gcendiv                                  0.010331       -0.001878   \n",
       "gcenreg                                  0.004749       -0.010756   \n",
       "geduc1                                   0.103904        0.088965   \n",
       "geduc2                                   0.098204        0.060441   \n",
       "geducation                               0.106048        0.084294   \n",
       "gmilesaway2_ei_r                         0.015836        0.015052   \n",
       "gurban_i                                 0.063834        0.055011   \n",
       "health_insurance                         0.024363        0.018729   \n",
       "housing_disc_non_queer                  -0.058793       -0.030815   \n",
       "housing_disc_sex_gender                 -0.079502       -0.040506   \n",
       "outness                                  0.116200        0.140723   \n",
       "screen_race                              0.015808        0.024144   \n",
       "serious_health_cond                     -0.082324       -0.093487   \n",
       "stress_past_year_crime                  -0.068307       -0.083346   \n",
       "stress_past_year_gen                    -0.082307       -0.080525   \n",
       "stress_past_year_interpersonal          -0.075633       -0.127861   \n",
       "stress_past_year_non_queer              -0.104468       -0.111210   \n",
       "stress_past_year_sex_gender             -0.055577       -0.087323   \n",
       "stress_past_year_work                   -0.020941       -0.021923   \n",
       "suicidality                             -0.116460       -0.184651   \n",
       "w1ace_emo_i                             -0.066789       -0.146776   \n",
       "w1ace_i                                 -0.058328       -0.129513   \n",
       "w1ace_inc_i                             -0.065596       -0.089473   \n",
       "w1ace_ipv_i                             -0.055983       -0.077613   \n",
       "w1ace_men_i                             -0.000939       -0.046593   \n",
       "w1ace_phy_i                             -0.044193       -0.117345   \n",
       "w1ace_sep_i                             -0.018898       -0.035377   \n",
       "w1ace_sex_i                              0.012187       -0.021529   \n",
       "w1ace_sub_i                             -0.039844       -0.068822   \n",
       "w1age                                   -0.047544       -0.035203   \n",
       "w1auditc_i                               0.061907        0.037854   \n",
       "w1childgnc_i                            -0.000717       -0.013944   \n",
       "w1connectedness_i                        0.174943        0.166071   \n",
       "w1conversion                             0.005381       -0.034943   \n",
       "w1conversionhc                           0.047025        0.030219   \n",
       "w1conversionrel                         -0.015992       -0.055866   \n",
       "w1dudit_i                               -0.029147       -0.042841   \n",
       "w1everyday_i                            -0.148875       -0.177643   \n",
       "w1feltstigma_i                          -0.185064       -0.227941   \n",
       "w1gender                                -0.055721       -0.062818   \n",
       "w1hcthreat_i                            -0.083798       -0.143007   \n",
       "w1hinc_i                                 0.136337        0.169063   \n",
       "w1idcentral_i                            0.045390        0.036343   \n",
       "w1internalized_i                        -0.126822       -0.190292   \n",
       "w1lifesat_i                              0.351127        0.439209   \n",
       "w1meim_i                                 0.104476        0.094000   \n",
       "w1pinc_i                                 0.119548        0.116128   \n",
       "w1poverty_i_ei                          -0.102853       -0.121115   \n",
       "w1povertycat_i_ei                        0.124480        0.135562   \n",
       "w1q01_ei                                 0.268886        0.323180   \n",
       "w1q03_ei                                -0.241341       -0.284884   \n",
       "w1q119_ei                               -0.026542       -0.044119   \n",
       "w1q136_7_ei                              0.006283       -0.025994   \n",
       "w1q139_7_ei                             -0.061753       -0.079913   \n",
       "w1q140_ei                               -0.078111       -0.073044   \n",
       "w1q141_7_ei                              0.001999        0.001225   \n",
       "w1q143_7_ei                             -0.020172       -0.038919   \n",
       "w1q145_7_ei                              0.012112        0.000140   \n",
       "w1q162_ei                                0.069220        0.112270   \n",
       "w1q163_7_ei                              0.013938       -0.020302   \n",
       "w1q166_ei                                0.023514       -0.009565   \n",
       "w1q167_ei                                0.031284        0.026183   \n",
       "w1q168_ei                               -0.047488       -0.043364   \n",
       "w1q169_ei                                0.058435       -0.006434   \n",
       "w1q171_1_ei                              0.076765        0.062940   \n",
       "w1q171_2_ei                             -0.003338       -0.014668   \n",
       "w1q171_3_ei                              0.011365        0.013616   \n",
       "w1q171_4_ei                             -0.052655       -0.052448   \n",
       "w1q171_5_ei                             -0.047831       -0.026672   \n",
       "w1q171_6_ei                             -0.046517       -0.001156   \n",
       "w1q171_7_ei                              0.038113        0.016019   \n",
       "w1q171_8_ei                             -0.027017       -0.014173   \n",
       "w1q171_9_ei                             -0.104346       -0.098384   \n",
       "w1q175_ei                               -0.094187       -0.116748   \n",
       "w1q179_ei_r_relig_christ                -0.020004        0.010226   \n",
       "w1q179_ei_r_relig_other                  0.064241        0.067426   \n",
       "w1q180_ei_r_relig_christ                -0.011618       -0.023640   \n",
       "w1q180_ei_r_relig_other                  0.021577        0.004443   \n",
       "w1q181_ei_r                              0.030911        0.031237   \n",
       "w1q30_1_ei                               0.016978        0.051981   \n",
       "w1q30_2_ei                               0.029104        0.011664   \n",
       "w1q30_3_ei                               0.026212        0.012824   \n",
       "w1q30_4_ei                               0.043618        0.026626   \n",
       "w1q30_5_ei                              -0.063919       -0.117037   \n",
       "w1q32_ei                                -0.118294       -0.267493   \n",
       "w1q33_ei                                 0.023441        0.133639   \n",
       "w1q34_ei                                 0.090549        0.190014   \n",
       "w1q35_ei                                -0.114769       -0.272132   \n",
       "w1q36_ei                                -0.093025       -0.257360   \n",
       "w1q37_ei                                -0.006932       -0.040475   \n",
       "w1q38_ei                                -0.025455       -0.032482   \n",
       "w1q52_ei                                -0.049057       -0.063586   \n",
       "w1q64_1_ei                              -0.023013       -0.014157   \n",
       "w1q65_ei                                 0.046221        0.072845   \n",
       "w1q69_ei                                 0.043034        0.099665   \n",
       "w1q72_ei                                -0.170989       -0.212343   \n",
       "w1q74_21_ei                             -0.041560       -0.051022   \n",
       "w1q74_22_ei                              0.016012        0.005218   \n",
       "w1q74_23_ei                             -0.082371       -0.074495   \n",
       "w1q78_ei                                -0.025992       -0.021729   \n",
       "w1q79_ei                                -0.051556       -0.056179   \n",
       "w1q89_ei                                 0.112466        0.106995   \n",
       "w1race                                   0.078882        0.064376   \n",
       "w1sex                                   -0.006558       -0.031716   \n",
       "w1sex_gender                            -0.048201       -0.061246   \n",
       "w1sexminid                              -0.009103       -0.012865   \n",
       "w1sexualid                              -0.016630       -0.029836   \n",
       "w1socialwb_i                             0.381113        0.340614   \n",
       "w1socsupport_fam_i                       0.433112        0.780534   \n",
       "w1socsupport_fr_i                        1.000000        0.814073   \n",
       "w1socsupport_i                           0.814073        1.000000   \n",
       "w1socsupport_so_i                        0.596667        0.843780   \n",
       "w1survey_yr                             -0.032197       -0.021610   \n",
       "w1weight_full                           -0.056557       -0.036652   \n",
       "waveparticipated                         0.028162        0.004224   \n",
       "work_disc_non_queer                     -0.102417       -0.100788   \n",
       "work_disc_sex_gender                    -0.072491       -0.063703   \n",
       "work_neg_outcomes                       -0.133982       -0.152334   \n",
       "\n",
       "                                w1socsupport_so_i  w1survey_yr  w1weight_full  \\\n",
       "studyid                                 -0.028389     0.855644       0.021940   \n",
       "w1kessler6_i                            -0.157687     0.097543       0.288530   \n",
       "abus_treat_non_queer                    -0.057081     0.080811       0.106148   \n",
       "abus_treat_sex_gender                   -0.006051     0.036711       0.073047   \n",
       "abusive_treatment                       -0.057248     0.001079      -0.001988   \n",
       "bad_neighbhd                            -0.086375     0.009741       0.088249   \n",
       "childhd_bullying_non_queer              -0.073094     0.037234       0.170819   \n",
       "childhd_bullying_sex_gender             -0.006824     0.025682       0.111225   \n",
       "chronic_strain                          -0.246128     0.063080       0.194443   \n",
       "cohort                                  -0.019750    -0.104193      -0.497908   \n",
       "daily_discr_non_queer                   -0.024790     0.149095       0.120332   \n",
       "daily_discr_sex_gender                  -0.018159     0.023542       0.137976   \n",
       "disabled                                -0.094975     0.006029       0.026319   \n",
       "gcendiv                                 -0.010104     0.034811      -0.030429   \n",
       "gcenreg                                 -0.020076     0.033661      -0.023494   \n",
       "geduc1                                   0.030935    -0.034969      -0.701877   \n",
       "geduc2                                   0.006945    -0.015440      -0.741180   \n",
       "geducation                               0.023681    -0.033474      -0.756868   \n",
       "gmilesaway2_ei_r                         0.003561     0.047794      -0.017106   \n",
       "gurban_i                                 0.017850     0.028601      -0.022249   \n",
       "health_insurance                        -0.010015    -0.047397      -0.111714   \n",
       "housing_disc_non_queer                   0.005301     0.031671      -0.000732   \n",
       "housing_disc_sex_gender                 -0.003008     0.013347      -0.023870   \n",
       "outness                                  0.108050    -0.003187      -0.109805   \n",
       "screen_race                              0.013469     0.403395       0.069911   \n",
       "serious_health_cond                     -0.081259    -0.082985      -0.166036   \n",
       "stress_past_year_crime                  -0.039373     0.020432       0.065184   \n",
       "stress_past_year_gen                    -0.029429     0.115818       0.147673   \n",
       "stress_past_year_interpersonal          -0.093178     0.058215       0.163017   \n",
       "stress_past_year_non_queer              -0.058410     0.095805       0.130900   \n",
       "stress_past_year_sex_gender             -0.031839     0.080161       0.127174   \n",
       "stress_past_year_work                    0.006959     0.106561       0.192575   \n",
       "suicidality                             -0.132904     0.036574       0.154557   \n",
       "w1ace_emo_i                             -0.049061     0.037374       0.081320   \n",
       "w1ace_i                                 -0.012116     0.059032       0.116939   \n",
       "w1ace_inc_i                             -0.023882     0.106088       0.152677   \n",
       "w1ace_ipv_i                              0.019244     0.052410       0.065608   \n",
       "w1ace_men_i                             -0.005492    -0.050152       0.049698   \n",
       "w1ace_phy_i                             -0.030471    -0.000587       0.038677   \n",
       "w1ace_sep_i                              0.003337     0.029822       0.136586   \n",
       "w1ace_sex_i                              0.029979     0.077063      -0.007938   \n",
       "w1ace_sub_i                             -0.004589     0.043179       0.049369   \n",
       "w1age                                   -0.016825    -0.095027      -0.518029   \n",
       "w1auditc_i                              -0.016222    -0.040459      -0.066078   \n",
       "w1childgnc_i                            -0.031533     0.010625       0.002341   \n",
       "w1connectedness_i                        0.147283     0.120003       0.050863   \n",
       "w1conversion                            -0.009661     0.024494      -0.010223   \n",
       "w1conversionhc                           0.034829    -0.001074      -0.019827   \n",
       "w1conversionrel                         -0.022715     0.020098       0.003554   \n",
       "w1dudit_i                               -0.040329     0.066746       0.108631   \n",
       "w1everyday_i                            -0.083021     0.098920       0.256706   \n",
       "w1feltstigma_i                          -0.127467     0.020528       0.072437   \n",
       "w1gender                                -0.033924    -0.015421      -0.018962   \n",
       "w1hcthreat_i                            -0.113281     0.029603       0.050979   \n",
       "w1hinc_i                                 0.111305    -0.066458      -0.203229   \n",
       "w1idcentral_i                            0.031367     0.053821      -0.021366   \n",
       "w1internalized_i                        -0.185887     0.032657       0.057939   \n",
       "w1lifesat_i                              0.347351    -0.093599      -0.143140   \n",
       "w1meim_i                                 0.046669     0.141359      -0.065200   \n",
       "w1pinc_i                                 0.061149    -0.087641      -0.398504   \n",
       "w1poverty_i_ei                          -0.070765     0.047618       0.183192   \n",
       "w1povertycat_i_ei                        0.068013    -0.075923      -0.253030   \n",
       "w1q01_ei                                 0.240295    -0.050384      -0.168275   \n",
       "w1q03_ei                                -0.227802     0.081752       0.136263   \n",
       "w1q119_ei                               -0.009744     0.041730       0.251982   \n",
       "w1q136_7_ei                             -0.033232    -0.006037      -0.068061   \n",
       "w1q139_7_ei                             -0.067228     0.035751      -0.088627   \n",
       "w1q140_ei                               -0.047692     0.034028      -0.016452   \n",
       "w1q141_7_ei                              0.010498    -0.027041      -0.032809   \n",
       "w1q143_7_ei                             -0.004598     0.047567       0.020267   \n",
       "w1q145_7_ei                              0.012691     0.023244       0.049911   \n",
       "w1q162_ei                                0.080567    -0.000214      -0.102483   \n",
       "w1q163_7_ei                             -0.028285     0.010045      -0.034741   \n",
       "w1q166_ei                               -0.018599     0.027006      -0.077919   \n",
       "w1q167_ei                                0.007481     0.042794      -0.048277   \n",
       "w1q168_ei                               -0.026383    -0.087284      -0.039746   \n",
       "w1q169_ei                               -0.053834     0.006240       0.101113   \n",
       "w1q171_1_ei                              0.042949    -0.064869      -0.192148   \n",
       "w1q171_2_ei                             -0.025103     0.047961       0.163702   \n",
       "w1q171_3_ei                              0.020190    -0.020956      -0.068812   \n",
       "w1q171_4_ei                             -0.013372    -0.001324       0.030475   \n",
       "w1q171_5_ei                             -0.009082     0.042174       0.098310   \n",
       "w1q171_6_ei                              0.039615    -0.019536       0.058044   \n",
       "w1q171_7_ei                             -0.023920     0.059770       0.261334   \n",
       "w1q171_8_ei                              0.005807    -0.000723      -0.102813   \n",
       "w1q171_9_ei                             -0.057447    -0.048706      -0.102054   \n",
       "w1q175_ei                               -0.070816     0.060654       0.077306   \n",
       "w1q179_ei_r_relig_christ                -0.006848     0.006916      -0.094018   \n",
       "w1q179_ei_r_relig_other                  0.054393    -0.019635      -0.010219   \n",
       "w1q180_ei_r_relig_christ                 0.005065     0.022633      -0.132758   \n",
       "w1q180_ei_r_relig_other                 -0.013231     0.009114       0.056488   \n",
       "w1q181_ei_r                              0.005264     0.095648      -0.008038   \n",
       "w1q30_1_ei                               0.091889     0.010375       0.081671   \n",
       "w1q30_2_ei                               0.007699    -0.014071       0.061224   \n",
       "w1q30_3_ei                               0.016356    -0.051519       0.021409   \n",
       "w1q30_4_ei                               0.045771    -0.013629       0.060341   \n",
       "w1q30_5_ei                              -0.165365    -0.011545       0.004070   \n",
       "w1q32_ei                                -0.412519     0.014677       0.011135   \n",
       "w1q33_ei                                 0.214799    -0.058074      -0.223767   \n",
       "w1q34_ei                                 0.314121    -0.018963       0.020812   \n",
       "w1q35_ei                                -0.418875     0.019188       0.034331   \n",
       "w1q36_ei                                -0.382682     0.027579       0.114353   \n",
       "w1q37_ei                                -0.063138    -0.008747      -0.123852   \n",
       "w1q38_ei                                -0.047196    -0.037478      -0.127363   \n",
       "w1q52_ei                                -0.053042    -0.099903      -0.318911   \n",
       "w1q64_1_ei                               0.016211     0.048215       0.111913   \n",
       "w1q65_ei                                 0.046437    -0.081924      -0.127140   \n",
       "w1q69_ei                                 0.088424    -0.078682      -0.055173   \n",
       "w1q72_ei                                -0.135831     0.081107       0.213636   \n",
       "w1q74_21_ei                             -0.040388     0.020741      -0.095475   \n",
       "w1q74_22_ei                              0.007323     0.008270      -0.078453   \n",
       "w1q74_23_ei                             -0.043064     0.008812      -0.021774   \n",
       "w1q78_ei                                -0.011183    -0.073207      -0.032799   \n",
       "w1q79_ei                                -0.051722    -0.060396      -0.030622   \n",
       "w1q89_ei                                 0.070051    -0.001294      -0.064923   \n",
       "w1race                                   0.039061    -0.143812      -0.045333   \n",
       "w1sex                                   -0.079052    -0.031204      -0.166134   \n",
       "w1sex_gender                            -0.056014    -0.024848      -0.072079   \n",
       "w1sexminid                               0.023856     0.023653       0.171935   \n",
       "w1sexualid                               0.004611     0.035335       0.132237   \n",
       "w1socialwb_i                             0.200946    -0.109009      -0.214239   \n",
       "w1socsupport_fam_i                       0.446071    -0.011547      -0.037639   \n",
       "w1socsupport_fr_i                        0.596667    -0.032197      -0.056557   \n",
       "w1socsupport_i                           0.843780    -0.021610      -0.036652   \n",
       "w1socsupport_so_i                        1.000000    -0.010925       0.001021   \n",
       "w1survey_yr                             -0.010925     1.000000       0.032081   \n",
       "w1weight_full                            0.001021     0.032081       1.000000   \n",
       "waveparticipated                        -0.028963    -0.322169      -0.146967   \n",
       "work_disc_non_queer                     -0.052927     0.025768       0.025911   \n",
       "work_disc_sex_gender                    -0.011360     0.025310      -0.011124   \n",
       "work_neg_outcomes                       -0.116380     0.009746      -0.108292   \n",
       "\n",
       "                                waveparticipated  work_disc_non_queer  \\\n",
       "studyid                                -0.354735             0.023757   \n",
       "w1kessler6_i                           -0.146066             0.145423   \n",
       "abus_treat_non_queer                   -0.106925             0.376324   \n",
       "abus_treat_sex_gender                  -0.026034             0.205929   \n",
       "abusive_treatment                      -0.073352             0.272789   \n",
       "bad_neighbhd                           -0.050074             0.138611   \n",
       "childhd_bullying_non_queer             -0.062388             0.313247   \n",
       "childhd_bullying_sex_gender            -0.031949             0.152111   \n",
       "chronic_strain                         -0.161794             0.234533   \n",
       "cohort                                  0.139615             0.033342   \n",
       "daily_discr_non_queer                  -0.121056             0.263274   \n",
       "daily_discr_sex_gender                 -0.028014             0.327769   \n",
       "disabled                               -0.009964             0.184510   \n",
       "gcendiv                                -0.034813            -0.005803   \n",
       "gcenreg                                -0.034831            -0.008109   \n",
       "geduc1                                  0.142188            -0.051008   \n",
       "geduc2                                  0.108896            -0.013702   \n",
       "geducation                              0.148093            -0.046463   \n",
       "gmilesaway2_ei_r                        0.012519            -0.031276   \n",
       "gurban_i                                0.036048            -0.020303   \n",
       "health_insurance                        0.098428            -0.061332   \n",
       "housing_disc_non_queer                 -0.010546             0.122202   \n",
       "housing_disc_sex_gender                -0.031357             0.092382   \n",
       "outness                                -0.015666            -0.018452   \n",
       "screen_race                            -0.281244             0.014631   \n",
       "serious_health_cond                     0.028528             0.079683   \n",
       "stress_past_year_crime                 -0.066248             0.189093   \n",
       "stress_past_year_gen                   -0.189795             0.155005   \n",
       "stress_past_year_interpersonal         -0.147860             0.199647   \n",
       "stress_past_year_non_queer             -0.123771             0.403323   \n",
       "stress_past_year_sex_gender            -0.082661             0.213408   \n",
       "stress_past_year_work                  -0.162774             0.156211   \n",
       "suicidality                            -0.018990             0.189512   \n",
       "w1ace_emo_i                            -0.049436             0.112786   \n",
       "w1ace_i                                -0.156511             0.221408   \n",
       "w1ace_inc_i                            -0.134069             0.111418   \n",
       "w1ace_ipv_i                            -0.118039             0.128608   \n",
       "w1ace_men_i                            -0.052090             0.160684   \n",
       "w1ace_phy_i                            -0.074058             0.169801   \n",
       "w1ace_sep_i                            -0.089048             0.044443   \n",
       "w1ace_sex_i                            -0.111484             0.159834   \n",
       "w1ace_sub_i                            -0.105643             0.125083   \n",
       "w1age                                   0.144200             0.034605   \n",
       "w1auditc_i                             -0.045406            -0.031093   \n",
       "w1childgnc_i                            0.002215            -0.020122   \n",
       "w1connectedness_i                      -0.101905             0.006704   \n",
       "w1conversion                           -0.063856             0.111868   \n",
       "w1conversionhc                          0.010055             0.066942   \n",
       "w1conversionrel                        -0.090102             0.097374   \n",
       "w1dudit_i                              -0.136965             0.063489   \n",
       "w1everyday_i                           -0.177556             0.292141   \n",
       "w1feltstigma_i                         -0.046022             0.152975   \n",
       "w1gender                                0.027353             0.042371   \n",
       "w1hcthreat_i                            0.005142             0.131869   \n",
       "w1hinc_i                                0.122135            -0.150954   \n",
       "w1idcentral_i                          -0.047857             0.039223   \n",
       "w1internalized_i                       -0.027907             0.078153   \n",
       "w1lifesat_i                             0.089308            -0.167500   \n",
       "w1meim_i                               -0.091126             0.060006   \n",
       "w1pinc_i                                0.099609            -0.075256   \n",
       "w1poverty_i_ei                         -0.137928             0.097788   \n",
       "w1povertycat_i_ei                       0.165161            -0.131983   \n",
       "w1q01_ei                                0.055542            -0.139942   \n",
       "w1q03_ei                               -0.055922             0.129669   \n",
       "w1q119_ei                              -0.056874             0.090786   \n",
       "w1q136_7_ei                            -0.011468             0.072720   \n",
       "w1q139_7_ei                             0.001549             0.209743   \n",
       "w1q140_ei                              -0.064743             0.185674   \n",
       "w1q141_7_ei                             0.027772             0.036116   \n",
       "w1q143_7_ei                            -0.090618             0.119207   \n",
       "w1q145_7_ei                            -0.052069             0.076092   \n",
       "w1q162_ei                               0.022255            -0.158012   \n",
       "w1q163_7_ei                            -0.010617             0.048296   \n",
       "w1q166_ei                              -0.047329             0.017665   \n",
       "w1q167_ei                              -0.050505             0.042812   \n",
       "w1q168_ei                               0.051783            -0.012842   \n",
       "w1q169_ei                               0.065009            -0.099035   \n",
       "w1q171_1_ei                             0.040233            -0.011609   \n",
       "w1q171_2_ei                            -0.015799            -0.039866   \n",
       "w1q171_3_ei                            -0.007135             0.034631   \n",
       "w1q171_4_ei                            -0.017303             0.060481   \n",
       "w1q171_5_ei                            -0.086239             0.012628   \n",
       "w1q171_6_ei                            -0.031222            -0.029821   \n",
       "w1q171_7_ei                            -0.056099            -0.068050   \n",
       "w1q171_8_ei                             0.049356             0.005213   \n",
       "w1q171_9_ei                             0.056020             0.125117   \n",
       "w1q175_ei                              -0.113199             0.133949   \n",
       "w1q179_ei_r_relig_christ               -0.055807            -0.029494   \n",
       "w1q179_ei_r_relig_other                -0.002897             0.105616   \n",
       "w1q180_ei_r_relig_christ               -0.007596            -0.023897   \n",
       "w1q180_ei_r_relig_other                -0.016770             0.051109   \n",
       "w1q181_ei_r                            -0.085793             0.042204   \n",
       "w1q30_1_ei                             -0.091624             0.054122   \n",
       "w1q30_2_ei                             -0.018817             0.012973   \n",
       "w1q30_3_ei                              0.038300             0.052005   \n",
       "w1q30_4_ei                             -0.013520             0.040991   \n",
       "w1q30_5_ei                              0.075106            -0.013864   \n",
       "w1q32_ei                                0.030391             0.029758   \n",
       "w1q33_ei                                0.077648            -0.020634   \n",
       "w1q34_ei                               -0.013938             0.001126   \n",
       "w1q35_ei                                0.024394             0.024591   \n",
       "w1q36_ei                               -0.006588             0.033688   \n",
       "w1q37_ei                                0.064818            -0.065385   \n",
       "w1q38_ei                                0.074387            -0.036783   \n",
       "w1q52_ei                                0.147499            -0.011501   \n",
       "w1q64_1_ei                             -0.101621             0.067896   \n",
       "w1q65_ei                                0.063138            -0.053979   \n",
       "w1q69_ei                                0.066863            -0.109642   \n",
       "w1q72_ei                               -0.091833             0.114818   \n",
       "w1q74_21_ei                             0.005674             0.032419   \n",
       "w1q74_22_ei                             0.020912             0.040400   \n",
       "w1q74_23_ei                            -0.029293             0.181559   \n",
       "w1q78_ei                                0.096611            -0.070896   \n",
       "w1q79_ei                                0.095487            -0.032037   \n",
       "w1q89_ei                                0.086837            -0.078857   \n",
       "w1race                                  0.089435            -0.042184   \n",
       "w1sex                                   0.038748            -0.071431   \n",
       "w1sex_gender                            0.029526             0.004852   \n",
       "w1sexminid                             -0.025463             0.108008   \n",
       "w1sexualid                             -0.011831             0.080916   \n",
       "w1socialwb_i                            0.126312            -0.166860   \n",
       "w1socsupport_fam_i                      0.014652            -0.093396   \n",
       "w1socsupport_fr_i                       0.028162            -0.102417   \n",
       "w1socsupport_i                          0.004224            -0.100788   \n",
       "w1socsupport_so_i                      -0.028963            -0.052927   \n",
       "w1survey_yr                            -0.322169             0.025768   \n",
       "w1weight_full                          -0.146967             0.025911   \n",
       "waveparticipated                        1.000000            -0.045879   \n",
       "work_disc_non_queer                    -0.045879             1.000000   \n",
       "work_disc_sex_gender                   -0.048857             0.424583   \n",
       "work_neg_outcomes                      -0.004678             0.506144   \n",
       "\n",
       "                                work_disc_sex_gender  work_neg_outcomes  \n",
       "studyid                                     0.021003           0.024897  \n",
       "w1kessler6_i                                0.103663           0.110214  \n",
       "abus_treat_non_queer                        0.218240           0.179774  \n",
       "abus_treat_sex_gender                       0.343529           0.121147  \n",
       "abusive_treatment                           0.227523           0.345633  \n",
       "bad_neighbhd                                0.076000           0.087816  \n",
       "childhd_bullying_non_queer                  0.147496           0.165396  \n",
       "childhd_bullying_sex_gender                 0.235418           0.095243  \n",
       "chronic_strain                              0.143193           0.204655  \n",
       "cohort                                      0.063242           0.209661  \n",
       "daily_discr_non_queer                       0.169907           0.116831  \n",
       "daily_discr_sex_gender                      0.302816           0.157606  \n",
       "disabled                                    0.103150           0.160657  \n",
       "gcendiv                                     0.012590           0.008488  \n",
       "gcenreg                                     0.013269           0.012085  \n",
       "geduc1                                      0.032385           0.044218  \n",
       "geduc2                                      0.046810           0.084367  \n",
       "geducation                                  0.035130           0.059011  \n",
       "gmilesaway2_ei_r                            0.007864           0.022292  \n",
       "gurban_i                                   -0.006914          -0.007393  \n",
       "health_insurance                           -0.070560          -0.094667  \n",
       "housing_disc_non_queer                      0.120979           0.102251  \n",
       "housing_disc_sex_gender                     0.167604           0.105567  \n",
       "outness                                     0.076350           0.064040  \n",
       "screen_race                                -0.000622          -0.019745  \n",
       "serious_health_cond                         0.085773           0.139168  \n",
       "stress_past_year_crime                      0.148635           0.155917  \n",
       "stress_past_year_gen                        0.134742           0.147837  \n",
       "stress_past_year_interpersonal              0.205807           0.213439  \n",
       "stress_past_year_non_queer                  0.206728           0.190486  \n",
       "stress_past_year_sex_gender                 0.371855           0.132236  \n",
       "stress_past_year_work                       0.133346           0.169993  \n",
       "suicidality                                 0.145507           0.158629  \n",
       "w1ace_emo_i                                 0.113476           0.158924  \n",
       "w1ace_i                                     0.177305           0.197813  \n",
       "w1ace_inc_i                                 0.060444           0.063960  \n",
       "w1ace_ipv_i                                 0.090098           0.121283  \n",
       "w1ace_men_i                                 0.126759           0.102911  \n",
       "w1ace_phy_i                                 0.130728           0.157624  \n",
       "w1ace_sep_i                                 0.037671           0.027925  \n",
       "w1ace_sex_i                                 0.152606           0.153856  \n",
       "w1ace_sub_i                                 0.091766           0.111233  \n",
       "w1age                                       0.069329           0.217008  \n",
       "w1auditc_i                                 -0.022118           0.006967  \n",
       "w1childgnc_i                               -0.092900          -0.046997  \n",
       "w1connectedness_i                          -0.010515          -0.036502  \n",
       "w1conversion                                0.088757           0.116839  \n",
       "w1conversionhc                              0.042807           0.075760  \n",
       "w1conversionrel                             0.080783           0.110424  \n",
       "w1dudit_i                                   0.068584           0.124916  \n",
       "w1everyday_i                                0.246258           0.268866  \n",
       "w1feltstigma_i                              0.097231           0.126274  \n",
       "w1gender                                    0.044106           0.062269  \n",
       "w1hcthreat_i                                0.128426           0.091945  \n",
       "w1hinc_i                                   -0.062587          -0.126825  \n",
       "w1idcentral_i                               0.066328           0.044352  \n",
       "w1internalized_i                            0.008408           0.053846  \n",
       "w1lifesat_i                                -0.101576          -0.238583  \n",
       "w1meim_i                                    0.022058           0.045012  \n",
       "w1pinc_i                                   -0.007874          -0.013551  \n",
       "w1poverty_i_ei                              0.022758           0.044872  \n",
       "w1povertycat_i_ei                          -0.051984          -0.072614  \n",
       "w1q01_ei                                   -0.098070          -0.180908  \n",
       "w1q03_ei                                    0.071459           0.181547  \n",
       "w1q119_ei                                   0.077619           0.012158  \n",
       "w1q136_7_ei                                 0.125500           0.102401  \n",
       "w1q139_7_ei                                 0.344219           0.386000  \n",
       "w1q140_ei                                   0.222103           0.219070  \n",
       "w1q141_7_ei                                 0.100977           0.069929  \n",
       "w1q143_7_ei                                 0.174997           0.149602  \n",
       "w1q145_7_ei                                 0.107523           0.090260  \n",
       "w1q162_ei                                  -0.097328          -0.179485  \n",
       "w1q163_7_ei                                 0.008016           0.086597  \n",
       "w1q166_ei                                   0.003251          -0.025429  \n",
       "w1q167_ei                                   0.010065           0.026324  \n",
       "w1q168_ei                                   0.002337           0.053397  \n",
       "w1q169_ei                                  -0.080990          -0.078884  \n",
       "w1q171_1_ei                                 0.010231           0.027309  \n",
       "w1q171_2_ei                                -0.067688          -0.088671  \n",
       "w1q171_3_ei                                 0.055290           0.086483  \n",
       "w1q171_4_ei                                 0.039525           0.064266  \n",
       "w1q171_5_ei                                 0.026206           0.049639  \n",
       "w1q171_6_ei                                -0.038074           0.025452  \n",
       "w1q171_7_ei                                -0.057827          -0.183309  \n",
       "w1q171_8_ei                                 0.000132           0.025524  \n",
       "w1q171_9_ei                                 0.032609           0.141263  \n",
       "w1q175_ei                                   0.104555           0.122777  \n",
       "w1q179_ei_r_relig_christ                   -0.037044           0.006293  \n",
       "w1q179_ei_r_relig_other                     0.108833           0.082677  \n",
       "w1q180_ei_r_relig_christ                    0.013831           0.048145  \n",
       "w1q180_ei_r_relig_other                     0.032609          -0.023613  \n",
       "w1q181_ei_r                                -0.012284           0.015108  \n",
       "w1q30_1_ei                                  0.136693           0.002046  \n",
       "w1q30_2_ei                                 -0.084225           0.013004  \n",
       "w1q30_3_ei                                  0.047455           0.019736  \n",
       "w1q30_4_ei                                  0.084822          -0.005046  \n",
       "w1q30_5_ei                                 -0.003129           0.006475  \n",
       "w1q32_ei                                   -0.022334           0.037075  \n",
       "w1q33_ei                                    0.011359           0.046570  \n",
       "w1q34_ei                                    0.031483          -0.023492  \n",
       "w1q35_ei                                   -0.028025           0.026939  \n",
       "w1q36_ei                                   -0.018033           0.025745  \n",
       "w1q37_ei                                   -0.095179           0.045700  \n",
       "w1q38_ei                                   -0.069328           0.073414  \n",
       "w1q52_ei                                   -0.027019           0.050458  \n",
       "w1q64_1_ei                                  0.081662           0.100174  \n",
       "w1q65_ei                                   -0.062180          -0.050800  \n",
       "w1q69_ei                                   -0.110940          -0.092511  \n",
       "w1q72_ei                                    0.092354           0.101757  \n",
       "w1q74_21_ei                                -0.005362           0.095384  \n",
       "w1q74_22_ei                                 0.036199           0.096270  \n",
       "w1q74_23_ei                                 0.132849           0.143495  \n",
       "w1q78_ei                                   -0.006685          -0.105703  \n",
       "w1q79_ei                                    0.013252          -0.026954  \n",
       "w1q89_ei                                   -0.050658          -0.128322  \n",
       "w1race                                      0.030278          -0.006724  \n",
       "w1sex                                      -0.174113           0.035879  \n",
       "w1sex_gender                               -0.031625           0.060849  \n",
       "w1sexminid                                  0.096115          -0.003264  \n",
       "w1sexualid                                  0.033433          -0.018721  \n",
       "w1socialwb_i                               -0.074937          -0.154358  \n",
       "w1socsupport_fam_i                         -0.074604          -0.122511  \n",
       "w1socsupport_fr_i                          -0.072491          -0.133982  \n",
       "w1socsupport_i                             -0.063703          -0.152334  \n",
       "w1socsupport_so_i                          -0.011360          -0.116380  \n",
       "w1survey_yr                                 0.025310           0.009746  \n",
       "w1weight_full                              -0.011124          -0.108292  \n",
       "waveparticipated                           -0.048857          -0.004678  \n",
       "work_disc_non_queer                         0.424583           0.506144  \n",
       "work_disc_sex_gender                        1.000000           0.360284  \n",
       "work_neg_outcomes                           0.360284           1.000000  \n",
       "\n",
       "[131 rows x 131 columns]"
      ]
     },
     "execution_count": 5,
     "metadata": {},
     "output_type": "execute_result"
    }
   ],
   "source": [
    "meyer_corr = meyer.corr()\n",
    "\n",
    "# When dealing with large datasets, I find it easier to view the correlation matrix in a CSV\n",
    "meyer_corr.to_csv('../02_data/meyer_corr.csv', index = True)\n",
    "\n",
    "# For those who prefer to view it in-text\n",
    "meyer_corr"
   ]
  },
  {
   "cell_type": "markdown",
   "id": "c00ac445-10c6-4427-9cac-c042792918cd",
   "metadata": {},
   "source": [
    "### Distributions"
   ]
  },
  {
   "cell_type": "markdown",
   "id": "43120c6c-054f-4ece-9926-6fffa6e04c21",
   "metadata": {},
   "source": [
    "look in the folder\n",
    "\n",
    "for my target variable..."
   ]
  },
  {
   "cell_type": "code",
   "execution_count": 6,
   "id": "4bf45f15-5b3d-483e-9084-fd3f133dc476",
   "metadata": {},
   "outputs": [
    {
     "data": {
      "text/plain": [
       "'C:\\\\Users\\\\emily\\\\Git_Stuff\\\\General_Assembly\\\\04_Projects\\\\project-capstone\\\\dsb318-capstone\\\\01_notebooks'"
      ]
     },
     "execution_count": 6,
     "metadata": {},
     "output_type": "execute_result"
    }
   ],
   "source": [
    "# # Change the working directory to put these where they're supposed to be\n",
    "# os.chdir('../03_images/')\n",
    "os.getcwd()"
   ]
  },
  {
   "cell_type": "code",
   "execution_count": 7,
   "id": "430c3435-d3b0-4cc1-9c79-a37c9daae586",
   "metadata": {
    "scrolled": true
   },
   "outputs": [
    {
     "name": "stdout",
     "output_type": "stream",
     "text": [
      "All done!\n"
     ]
    },
    {
     "data": {
      "text/plain": [
       "['plots_2024-06-10_h23-m00-s19', 'plots_2024-06-10_h23-m10-s23']"
      ]
     },
     "execution_count": 7,
     "metadata": {},
     "output_type": "execute_result"
    },
    {
     "data": {
      "text/plain": [
       "<Figure size 900x900 with 0 Axes>"
      ]
     },
     "metadata": {},
     "output_type": "display_data"
    },
    {
     "data": {
      "text/plain": [
       "<Figure size 900x900 with 0 Axes>"
      ]
     },
     "metadata": {},
     "output_type": "display_data"
    },
    {
     "data": {
      "text/plain": [
       "<Figure size 900x900 with 0 Axes>"
      ]
     },
     "metadata": {},
     "output_type": "display_data"
    },
    {
     "data": {
      "text/plain": [
       "<Figure size 900x900 with 0 Axes>"
      ]
     },
     "metadata": {},
     "output_type": "display_data"
    },
    {
     "data": {
      "text/plain": [
       "<Figure size 900x900 with 0 Axes>"
      ]
     },
     "metadata": {},
     "output_type": "display_data"
    },
    {
     "data": {
      "text/plain": [
       "<Figure size 900x900 with 0 Axes>"
      ]
     },
     "metadata": {},
     "output_type": "display_data"
    },
    {
     "data": {
      "text/plain": [
       "<Figure size 900x900 with 0 Axes>"
      ]
     },
     "metadata": {},
     "output_type": "display_data"
    },
    {
     "data": {
      "text/plain": [
       "<Figure size 900x900 with 0 Axes>"
      ]
     },
     "metadata": {},
     "output_type": "display_data"
    },
    {
     "data": {
      "text/plain": [
       "<Figure size 900x900 with 0 Axes>"
      ]
     },
     "metadata": {},
     "output_type": "display_data"
    },
    {
     "data": {
      "text/plain": [
       "<Figure size 900x900 with 0 Axes>"
      ]
     },
     "metadata": {},
     "output_type": "display_data"
    },
    {
     "data": {
      "text/plain": [
       "<Figure size 900x900 with 0 Axes>"
      ]
     },
     "metadata": {},
     "output_type": "display_data"
    },
    {
     "data": {
      "text/plain": [
       "<Figure size 900x900 with 0 Axes>"
      ]
     },
     "metadata": {},
     "output_type": "display_data"
    },
    {
     "data": {
      "text/plain": [
       "<Figure size 900x900 with 0 Axes>"
      ]
     },
     "metadata": {},
     "output_type": "display_data"
    },
    {
     "data": {
      "text/plain": [
       "<Figure size 900x900 with 0 Axes>"
      ]
     },
     "metadata": {},
     "output_type": "display_data"
    },
    {
     "data": {
      "text/plain": [
       "<Figure size 900x900 with 0 Axes>"
      ]
     },
     "metadata": {},
     "output_type": "display_data"
    },
    {
     "data": {
      "text/plain": [
       "<Figure size 900x900 with 0 Axes>"
      ]
     },
     "metadata": {},
     "output_type": "display_data"
    },
    {
     "data": {
      "text/plain": [
       "<Figure size 900x900 with 0 Axes>"
      ]
     },
     "metadata": {},
     "output_type": "display_data"
    },
    {
     "data": {
      "text/plain": [
       "<Figure size 900x900 with 0 Axes>"
      ]
     },
     "metadata": {},
     "output_type": "display_data"
    },
    {
     "data": {
      "text/plain": [
       "<Figure size 900x900 with 0 Axes>"
      ]
     },
     "metadata": {},
     "output_type": "display_data"
    },
    {
     "data": {
      "text/plain": [
       "<Figure size 900x900 with 0 Axes>"
      ]
     },
     "metadata": {},
     "output_type": "display_data"
    },
    {
     "data": {
      "text/plain": [
       "<Figure size 900x900 with 0 Axes>"
      ]
     },
     "metadata": {},
     "output_type": "display_data"
    },
    {
     "data": {
      "text/plain": [
       "<Figure size 900x900 with 0 Axes>"
      ]
     },
     "metadata": {},
     "output_type": "display_data"
    },
    {
     "data": {
      "text/plain": [
       "<Figure size 900x900 with 0 Axes>"
      ]
     },
     "metadata": {},
     "output_type": "display_data"
    },
    {
     "data": {
      "text/plain": [
       "<Figure size 900x900 with 0 Axes>"
      ]
     },
     "metadata": {},
     "output_type": "display_data"
    },
    {
     "data": {
      "text/plain": [
       "<Figure size 900x900 with 0 Axes>"
      ]
     },
     "metadata": {},
     "output_type": "display_data"
    },
    {
     "data": {
      "text/plain": [
       "<Figure size 900x900 with 0 Axes>"
      ]
     },
     "metadata": {},
     "output_type": "display_data"
    },
    {
     "data": {
      "text/plain": [
       "<Figure size 900x900 with 0 Axes>"
      ]
     },
     "metadata": {},
     "output_type": "display_data"
    },
    {
     "data": {
      "text/plain": [
       "<Figure size 900x900 with 0 Axes>"
      ]
     },
     "metadata": {},
     "output_type": "display_data"
    },
    {
     "data": {
      "text/plain": [
       "<Figure size 900x900 with 0 Axes>"
      ]
     },
     "metadata": {},
     "output_type": "display_data"
    },
    {
     "data": {
      "text/plain": [
       "<Figure size 900x900 with 0 Axes>"
      ]
     },
     "metadata": {},
     "output_type": "display_data"
    },
    {
     "data": {
      "text/plain": [
       "<Figure size 900x900 with 0 Axes>"
      ]
     },
     "metadata": {},
     "output_type": "display_data"
    },
    {
     "data": {
      "text/plain": [
       "<Figure size 900x900 with 0 Axes>"
      ]
     },
     "metadata": {},
     "output_type": "display_data"
    },
    {
     "data": {
      "text/plain": [
       "<Figure size 900x900 with 0 Axes>"
      ]
     },
     "metadata": {},
     "output_type": "display_data"
    },
    {
     "data": {
      "text/plain": [
       "<Figure size 900x900 with 0 Axes>"
      ]
     },
     "metadata": {},
     "output_type": "display_data"
    },
    {
     "data": {
      "text/plain": [
       "<Figure size 900x900 with 0 Axes>"
      ]
     },
     "metadata": {},
     "output_type": "display_data"
    },
    {
     "data": {
      "text/plain": [
       "<Figure size 900x900 with 0 Axes>"
      ]
     },
     "metadata": {},
     "output_type": "display_data"
    },
    {
     "data": {
      "text/plain": [
       "<Figure size 900x900 with 0 Axes>"
      ]
     },
     "metadata": {},
     "output_type": "display_data"
    },
    {
     "data": {
      "text/plain": [
       "<Figure size 900x900 with 0 Axes>"
      ]
     },
     "metadata": {},
     "output_type": "display_data"
    },
    {
     "data": {
      "text/plain": [
       "<Figure size 900x900 with 0 Axes>"
      ]
     },
     "metadata": {},
     "output_type": "display_data"
    },
    {
     "data": {
      "text/plain": [
       "<Figure size 900x900 with 0 Axes>"
      ]
     },
     "metadata": {},
     "output_type": "display_data"
    },
    {
     "data": {
      "text/plain": [
       "<Figure size 900x900 with 0 Axes>"
      ]
     },
     "metadata": {},
     "output_type": "display_data"
    },
    {
     "data": {
      "text/plain": [
       "<Figure size 900x900 with 0 Axes>"
      ]
     },
     "metadata": {},
     "output_type": "display_data"
    },
    {
     "data": {
      "text/plain": [
       "<Figure size 900x900 with 0 Axes>"
      ]
     },
     "metadata": {},
     "output_type": "display_data"
    },
    {
     "data": {
      "text/plain": [
       "<Figure size 900x900 with 0 Axes>"
      ]
     },
     "metadata": {},
     "output_type": "display_data"
    },
    {
     "data": {
      "text/plain": [
       "<Figure size 900x900 with 0 Axes>"
      ]
     },
     "metadata": {},
     "output_type": "display_data"
    },
    {
     "data": {
      "text/plain": [
       "<Figure size 900x900 with 0 Axes>"
      ]
     },
     "metadata": {},
     "output_type": "display_data"
    },
    {
     "data": {
      "text/plain": [
       "<Figure size 900x900 with 0 Axes>"
      ]
     },
     "metadata": {},
     "output_type": "display_data"
    },
    {
     "data": {
      "text/plain": [
       "<Figure size 900x900 with 0 Axes>"
      ]
     },
     "metadata": {},
     "output_type": "display_data"
    },
    {
     "data": {
      "text/plain": [
       "<Figure size 900x900 with 0 Axes>"
      ]
     },
     "metadata": {},
     "output_type": "display_data"
    },
    {
     "data": {
      "text/plain": [
       "<Figure size 900x900 with 0 Axes>"
      ]
     },
     "metadata": {},
     "output_type": "display_data"
    },
    {
     "data": {
      "text/plain": [
       "<Figure size 900x900 with 0 Axes>"
      ]
     },
     "metadata": {},
     "output_type": "display_data"
    },
    {
     "data": {
      "text/plain": [
       "<Figure size 900x900 with 0 Axes>"
      ]
     },
     "metadata": {},
     "output_type": "display_data"
    },
    {
     "data": {
      "text/plain": [
       "<Figure size 900x900 with 0 Axes>"
      ]
     },
     "metadata": {},
     "output_type": "display_data"
    },
    {
     "data": {
      "text/plain": [
       "<Figure size 900x900 with 0 Axes>"
      ]
     },
     "metadata": {},
     "output_type": "display_data"
    },
    {
     "data": {
      "text/plain": [
       "<Figure size 900x900 with 0 Axes>"
      ]
     },
     "metadata": {},
     "output_type": "display_data"
    },
    {
     "data": {
      "text/plain": [
       "<Figure size 900x900 with 0 Axes>"
      ]
     },
     "metadata": {},
     "output_type": "display_data"
    },
    {
     "data": {
      "text/plain": [
       "<Figure size 900x900 with 0 Axes>"
      ]
     },
     "metadata": {},
     "output_type": "display_data"
    },
    {
     "data": {
      "text/plain": [
       "<Figure size 900x900 with 0 Axes>"
      ]
     },
     "metadata": {},
     "output_type": "display_data"
    },
    {
     "data": {
      "text/plain": [
       "<Figure size 900x900 with 0 Axes>"
      ]
     },
     "metadata": {},
     "output_type": "display_data"
    },
    {
     "data": {
      "text/plain": [
       "<Figure size 900x900 with 0 Axes>"
      ]
     },
     "metadata": {},
     "output_type": "display_data"
    },
    {
     "data": {
      "text/plain": [
       "<Figure size 900x900 with 0 Axes>"
      ]
     },
     "metadata": {},
     "output_type": "display_data"
    },
    {
     "data": {
      "text/plain": [
       "<Figure size 900x900 with 0 Axes>"
      ]
     },
     "metadata": {},
     "output_type": "display_data"
    },
    {
     "data": {
      "text/plain": [
       "<Figure size 900x900 with 0 Axes>"
      ]
     },
     "metadata": {},
     "output_type": "display_data"
    },
    {
     "data": {
      "text/plain": [
       "<Figure size 900x900 with 0 Axes>"
      ]
     },
     "metadata": {},
     "output_type": "display_data"
    },
    {
     "data": {
      "text/plain": [
       "<Figure size 900x900 with 0 Axes>"
      ]
     },
     "metadata": {},
     "output_type": "display_data"
    },
    {
     "data": {
      "text/plain": [
       "<Figure size 900x900 with 0 Axes>"
      ]
     },
     "metadata": {},
     "output_type": "display_data"
    },
    {
     "data": {
      "text/plain": [
       "<Figure size 900x900 with 0 Axes>"
      ]
     },
     "metadata": {},
     "output_type": "display_data"
    },
    {
     "data": {
      "text/plain": [
       "<Figure size 900x900 with 0 Axes>"
      ]
     },
     "metadata": {},
     "output_type": "display_data"
    },
    {
     "data": {
      "text/plain": [
       "<Figure size 900x900 with 0 Axes>"
      ]
     },
     "metadata": {},
     "output_type": "display_data"
    },
    {
     "data": {
      "text/plain": [
       "<Figure size 900x900 with 0 Axes>"
      ]
     },
     "metadata": {},
     "output_type": "display_data"
    },
    {
     "data": {
      "text/plain": [
       "<Figure size 900x900 with 0 Axes>"
      ]
     },
     "metadata": {},
     "output_type": "display_data"
    },
    {
     "data": {
      "text/plain": [
       "<Figure size 900x900 with 0 Axes>"
      ]
     },
     "metadata": {},
     "output_type": "display_data"
    },
    {
     "data": {
      "text/plain": [
       "<Figure size 900x900 with 0 Axes>"
      ]
     },
     "metadata": {},
     "output_type": "display_data"
    },
    {
     "data": {
      "text/plain": [
       "<Figure size 900x900 with 0 Axes>"
      ]
     },
     "metadata": {},
     "output_type": "display_data"
    },
    {
     "data": {
      "text/plain": [
       "<Figure size 900x900 with 0 Axes>"
      ]
     },
     "metadata": {},
     "output_type": "display_data"
    },
    {
     "data": {
      "text/plain": [
       "<Figure size 900x900 with 0 Axes>"
      ]
     },
     "metadata": {},
     "output_type": "display_data"
    },
    {
     "data": {
      "text/plain": [
       "<Figure size 900x900 with 0 Axes>"
      ]
     },
     "metadata": {},
     "output_type": "display_data"
    },
    {
     "data": {
      "text/plain": [
       "<Figure size 900x900 with 0 Axes>"
      ]
     },
     "metadata": {},
     "output_type": "display_data"
    },
    {
     "data": {
      "text/plain": [
       "<Figure size 900x900 with 0 Axes>"
      ]
     },
     "metadata": {},
     "output_type": "display_data"
    },
    {
     "data": {
      "text/plain": [
       "<Figure size 900x900 with 0 Axes>"
      ]
     },
     "metadata": {},
     "output_type": "display_data"
    },
    {
     "data": {
      "text/plain": [
       "<Figure size 900x900 with 0 Axes>"
      ]
     },
     "metadata": {},
     "output_type": "display_data"
    },
    {
     "data": {
      "text/plain": [
       "<Figure size 900x900 with 0 Axes>"
      ]
     },
     "metadata": {},
     "output_type": "display_data"
    },
    {
     "data": {
      "text/plain": [
       "<Figure size 900x900 with 0 Axes>"
      ]
     },
     "metadata": {},
     "output_type": "display_data"
    },
    {
     "data": {
      "text/plain": [
       "<Figure size 900x900 with 0 Axes>"
      ]
     },
     "metadata": {},
     "output_type": "display_data"
    },
    {
     "data": {
      "text/plain": [
       "<Figure size 900x900 with 0 Axes>"
      ]
     },
     "metadata": {},
     "output_type": "display_data"
    },
    {
     "data": {
      "text/plain": [
       "<Figure size 900x900 with 0 Axes>"
      ]
     },
     "metadata": {},
     "output_type": "display_data"
    },
    {
     "data": {
      "text/plain": [
       "<Figure size 900x900 with 0 Axes>"
      ]
     },
     "metadata": {},
     "output_type": "display_data"
    },
    {
     "data": {
      "text/plain": [
       "<Figure size 900x900 with 0 Axes>"
      ]
     },
     "metadata": {},
     "output_type": "display_data"
    },
    {
     "data": {
      "text/plain": [
       "<Figure size 900x900 with 0 Axes>"
      ]
     },
     "metadata": {},
     "output_type": "display_data"
    },
    {
     "data": {
      "text/plain": [
       "<Figure size 900x900 with 0 Axes>"
      ]
     },
     "metadata": {},
     "output_type": "display_data"
    },
    {
     "data": {
      "text/plain": [
       "<Figure size 900x900 with 0 Axes>"
      ]
     },
     "metadata": {},
     "output_type": "display_data"
    },
    {
     "data": {
      "text/plain": [
       "<Figure size 900x900 with 0 Axes>"
      ]
     },
     "metadata": {},
     "output_type": "display_data"
    },
    {
     "data": {
      "text/plain": [
       "<Figure size 900x900 with 0 Axes>"
      ]
     },
     "metadata": {},
     "output_type": "display_data"
    },
    {
     "data": {
      "text/plain": [
       "<Figure size 900x900 with 0 Axes>"
      ]
     },
     "metadata": {},
     "output_type": "display_data"
    },
    {
     "data": {
      "text/plain": [
       "<Figure size 900x900 with 0 Axes>"
      ]
     },
     "metadata": {},
     "output_type": "display_data"
    },
    {
     "data": {
      "text/plain": [
       "<Figure size 900x900 with 0 Axes>"
      ]
     },
     "metadata": {},
     "output_type": "display_data"
    },
    {
     "data": {
      "text/plain": [
       "<Figure size 900x900 with 0 Axes>"
      ]
     },
     "metadata": {},
     "output_type": "display_data"
    },
    {
     "data": {
      "text/plain": [
       "<Figure size 900x900 with 0 Axes>"
      ]
     },
     "metadata": {},
     "output_type": "display_data"
    },
    {
     "data": {
      "text/plain": [
       "<Figure size 900x900 with 0 Axes>"
      ]
     },
     "metadata": {},
     "output_type": "display_data"
    },
    {
     "data": {
      "text/plain": [
       "<Figure size 900x900 with 0 Axes>"
      ]
     },
     "metadata": {},
     "output_type": "display_data"
    },
    {
     "data": {
      "text/plain": [
       "<Figure size 900x900 with 0 Axes>"
      ]
     },
     "metadata": {},
     "output_type": "display_data"
    },
    {
     "data": {
      "text/plain": [
       "<Figure size 900x900 with 0 Axes>"
      ]
     },
     "metadata": {},
     "output_type": "display_data"
    },
    {
     "data": {
      "text/plain": [
       "<Figure size 900x900 with 0 Axes>"
      ]
     },
     "metadata": {},
     "output_type": "display_data"
    },
    {
     "data": {
      "text/plain": [
       "<Figure size 900x900 with 0 Axes>"
      ]
     },
     "metadata": {},
     "output_type": "display_data"
    },
    {
     "data": {
      "text/plain": [
       "<Figure size 900x900 with 0 Axes>"
      ]
     },
     "metadata": {},
     "output_type": "display_data"
    },
    {
     "data": {
      "text/plain": [
       "<Figure size 900x900 with 0 Axes>"
      ]
     },
     "metadata": {},
     "output_type": "display_data"
    },
    {
     "data": {
      "text/plain": [
       "<Figure size 900x900 with 0 Axes>"
      ]
     },
     "metadata": {},
     "output_type": "display_data"
    },
    {
     "data": {
      "text/plain": [
       "<Figure size 900x900 with 0 Axes>"
      ]
     },
     "metadata": {},
     "output_type": "display_data"
    },
    {
     "data": {
      "text/plain": [
       "<Figure size 900x900 with 0 Axes>"
      ]
     },
     "metadata": {},
     "output_type": "display_data"
    },
    {
     "data": {
      "text/plain": [
       "<Figure size 900x900 with 0 Axes>"
      ]
     },
     "metadata": {},
     "output_type": "display_data"
    },
    {
     "data": {
      "text/plain": [
       "<Figure size 900x900 with 0 Axes>"
      ]
     },
     "metadata": {},
     "output_type": "display_data"
    },
    {
     "data": {
      "text/plain": [
       "<Figure size 900x900 with 0 Axes>"
      ]
     },
     "metadata": {},
     "output_type": "display_data"
    },
    {
     "data": {
      "text/plain": [
       "<Figure size 900x900 with 0 Axes>"
      ]
     },
     "metadata": {},
     "output_type": "display_data"
    },
    {
     "data": {
      "text/plain": [
       "<Figure size 900x900 with 0 Axes>"
      ]
     },
     "metadata": {},
     "output_type": "display_data"
    },
    {
     "data": {
      "text/plain": [
       "<Figure size 900x900 with 0 Axes>"
      ]
     },
     "metadata": {},
     "output_type": "display_data"
    },
    {
     "data": {
      "text/plain": [
       "<Figure size 900x900 with 0 Axes>"
      ]
     },
     "metadata": {},
     "output_type": "display_data"
    },
    {
     "data": {
      "text/plain": [
       "<Figure size 900x900 with 0 Axes>"
      ]
     },
     "metadata": {},
     "output_type": "display_data"
    },
    {
     "data": {
      "text/plain": [
       "<Figure size 900x900 with 0 Axes>"
      ]
     },
     "metadata": {},
     "output_type": "display_data"
    },
    {
     "data": {
      "text/plain": [
       "<Figure size 900x900 with 0 Axes>"
      ]
     },
     "metadata": {},
     "output_type": "display_data"
    },
    {
     "data": {
      "text/plain": [
       "<Figure size 900x900 with 0 Axes>"
      ]
     },
     "metadata": {},
     "output_type": "display_data"
    },
    {
     "data": {
      "text/plain": [
       "<Figure size 900x900 with 0 Axes>"
      ]
     },
     "metadata": {},
     "output_type": "display_data"
    },
    {
     "data": {
      "text/plain": [
       "<Figure size 900x900 with 0 Axes>"
      ]
     },
     "metadata": {},
     "output_type": "display_data"
    },
    {
     "data": {
      "text/plain": [
       "<Figure size 900x900 with 0 Axes>"
      ]
     },
     "metadata": {},
     "output_type": "display_data"
    },
    {
     "data": {
      "text/plain": [
       "<Figure size 900x900 with 0 Axes>"
      ]
     },
     "metadata": {},
     "output_type": "display_data"
    },
    {
     "data": {
      "text/plain": [
       "<Figure size 900x900 with 0 Axes>"
      ]
     },
     "metadata": {},
     "output_type": "display_data"
    },
    {
     "data": {
      "text/plain": [
       "<Figure size 900x900 with 0 Axes>"
      ]
     },
     "metadata": {},
     "output_type": "display_data"
    },
    {
     "data": {
      "text/plain": [
       "<Figure size 900x900 with 0 Axes>"
      ]
     },
     "metadata": {},
     "output_type": "display_data"
    },
    {
     "data": {
      "text/plain": [
       "<Figure size 900x900 with 0 Axes>"
      ]
     },
     "metadata": {},
     "output_type": "display_data"
    },
    {
     "data": {
      "text/plain": [
       "<Figure size 900x900 with 0 Axes>"
      ]
     },
     "metadata": {},
     "output_type": "display_data"
    },
    {
     "data": {
      "text/plain": [
       "<Figure size 900x900 with 0 Axes>"
      ]
     },
     "metadata": {},
     "output_type": "display_data"
    },
    {
     "data": {
      "text/plain": [
       "<Figure size 900x900 with 0 Axes>"
      ]
     },
     "metadata": {},
     "output_type": "display_data"
    },
    {
     "data": {
      "text/plain": [
       "<Figure size 900x900 with 0 Axes>"
      ]
     },
     "metadata": {},
     "output_type": "display_data"
    },
    {
     "data": {
      "text/plain": [
       "<Figure size 900x900 with 0 Axes>"
      ]
     },
     "metadata": {},
     "output_type": "display_data"
    },
    {
     "data": {
      "text/plain": [
       "<Figure size 900x900 with 0 Axes>"
      ]
     },
     "metadata": {},
     "output_type": "display_data"
    },
    {
     "data": {
      "text/plain": [
       "<Figure size 900x900 with 0 Axes>"
      ]
     },
     "metadata": {},
     "output_type": "display_data"
    },
    {
     "data": {
      "text/plain": [
       "<Figure size 900x900 with 0 Axes>"
      ]
     },
     "metadata": {},
     "output_type": "display_data"
    },
    {
     "data": {
      "text/plain": [
       "<Figure size 900x900 with 0 Axes>"
      ]
     },
     "metadata": {},
     "output_type": "display_data"
    },
    {
     "data": {
      "text/plain": [
       "<Figure size 900x900 with 0 Axes>"
      ]
     },
     "metadata": {},
     "output_type": "display_data"
    },
    {
     "data": {
      "text/plain": [
       "<Figure size 900x900 with 0 Axes>"
      ]
     },
     "metadata": {},
     "output_type": "display_data"
    },
    {
     "data": {
      "text/plain": [
       "<Figure size 900x900 with 0 Axes>"
      ]
     },
     "metadata": {},
     "output_type": "display_data"
    },
    {
     "data": {
      "text/plain": [
       "<Figure size 900x900 with 0 Axes>"
      ]
     },
     "metadata": {},
     "output_type": "display_data"
    },
    {
     "data": {
      "text/plain": [
       "<Figure size 900x900 with 0 Axes>"
      ]
     },
     "metadata": {},
     "output_type": "display_data"
    },
    {
     "data": {
      "text/plain": [
       "<Figure size 900x900 with 0 Axes>"
      ]
     },
     "metadata": {},
     "output_type": "display_data"
    },
    {
     "data": {
      "text/plain": [
       "<Figure size 900x900 with 0 Axes>"
      ]
     },
     "metadata": {},
     "output_type": "display_data"
    },
    {
     "data": {
      "text/plain": [
       "<Figure size 900x900 with 0 Axes>"
      ]
     },
     "metadata": {},
     "output_type": "display_data"
    },
    {
     "data": {
      "text/plain": [
       "<Figure size 900x900 with 0 Axes>"
      ]
     },
     "metadata": {},
     "output_type": "display_data"
    },
    {
     "data": {
      "text/plain": [
       "<Figure size 900x900 with 0 Axes>"
      ]
     },
     "metadata": {},
     "output_type": "display_data"
    },
    {
     "data": {
      "text/plain": [
       "<Figure size 900x900 with 0 Axes>"
      ]
     },
     "metadata": {},
     "output_type": "display_data"
    },
    {
     "data": {
      "text/plain": [
       "<Figure size 900x900 with 0 Axes>"
      ]
     },
     "metadata": {},
     "output_type": "display_data"
    },
    {
     "data": {
      "text/plain": [
       "<Figure size 900x900 with 0 Axes>"
      ]
     },
     "metadata": {},
     "output_type": "display_data"
    },
    {
     "data": {
      "text/plain": [
       "<Figure size 900x900 with 0 Axes>"
      ]
     },
     "metadata": {},
     "output_type": "display_data"
    },
    {
     "data": {
      "text/plain": [
       "<Figure size 900x900 with 0 Axes>"
      ]
     },
     "metadata": {},
     "output_type": "display_data"
    },
    {
     "data": {
      "text/plain": [
       "<Figure size 900x900 with 0 Axes>"
      ]
     },
     "metadata": {},
     "output_type": "display_data"
    },
    {
     "data": {
      "text/plain": [
       "<Figure size 900x900 with 0 Axes>"
      ]
     },
     "metadata": {},
     "output_type": "display_data"
    },
    {
     "data": {
      "text/plain": [
       "<Figure size 900x900 with 0 Axes>"
      ]
     },
     "metadata": {},
     "output_type": "display_data"
    },
    {
     "data": {
      "text/plain": [
       "<Figure size 900x900 with 0 Axes>"
      ]
     },
     "metadata": {},
     "output_type": "display_data"
    },
    {
     "data": {
      "text/plain": [
       "<Figure size 900x900 with 0 Axes>"
      ]
     },
     "metadata": {},
     "output_type": "display_data"
    },
    {
     "data": {
      "text/plain": [
       "<Figure size 900x900 with 0 Axes>"
      ]
     },
     "metadata": {},
     "output_type": "display_data"
    },
    {
     "data": {
      "text/plain": [
       "<Figure size 900x900 with 0 Axes>"
      ]
     },
     "metadata": {},
     "output_type": "display_data"
    },
    {
     "data": {
      "text/plain": [
       "<Figure size 900x900 with 0 Axes>"
      ]
     },
     "metadata": {},
     "output_type": "display_data"
    },
    {
     "data": {
      "text/plain": [
       "<Figure size 900x900 with 0 Axes>"
      ]
     },
     "metadata": {},
     "output_type": "display_data"
    },
    {
     "data": {
      "text/plain": [
       "<Figure size 900x900 with 0 Axes>"
      ]
     },
     "metadata": {},
     "output_type": "display_data"
    },
    {
     "data": {
      "text/plain": [
       "<Figure size 900x900 with 0 Axes>"
      ]
     },
     "metadata": {},
     "output_type": "display_data"
    },
    {
     "data": {
      "text/plain": [
       "<Figure size 900x900 with 0 Axes>"
      ]
     },
     "metadata": {},
     "output_type": "display_data"
    },
    {
     "data": {
      "text/plain": [
       "<Figure size 900x900 with 0 Axes>"
      ]
     },
     "metadata": {},
     "output_type": "display_data"
    },
    {
     "data": {
      "text/plain": [
       "<Figure size 900x900 with 0 Axes>"
      ]
     },
     "metadata": {},
     "output_type": "display_data"
    },
    {
     "data": {
      "text/plain": [
       "<Figure size 900x900 with 0 Axes>"
      ]
     },
     "metadata": {},
     "output_type": "display_data"
    },
    {
     "data": {
      "text/plain": [
       "<Figure size 900x900 with 0 Axes>"
      ]
     },
     "metadata": {},
     "output_type": "display_data"
    },
    {
     "data": {
      "text/plain": [
       "<Figure size 900x900 with 0 Axes>"
      ]
     },
     "metadata": {},
     "output_type": "display_data"
    },
    {
     "data": {
      "text/plain": [
       "<Figure size 900x900 with 0 Axes>"
      ]
     },
     "metadata": {},
     "output_type": "display_data"
    },
    {
     "data": {
      "text/plain": [
       "<Figure size 900x900 with 0 Axes>"
      ]
     },
     "metadata": {},
     "output_type": "display_data"
    },
    {
     "data": {
      "text/plain": [
       "<Figure size 900x900 with 0 Axes>"
      ]
     },
     "metadata": {},
     "output_type": "display_data"
    },
    {
     "data": {
      "text/plain": [
       "<Figure size 900x900 with 0 Axes>"
      ]
     },
     "metadata": {},
     "output_type": "display_data"
    },
    {
     "data": {
      "text/plain": [
       "<Figure size 900x900 with 0 Axes>"
      ]
     },
     "metadata": {},
     "output_type": "display_data"
    },
    {
     "data": {
      "text/plain": [
       "<Figure size 900x900 with 0 Axes>"
      ]
     },
     "metadata": {},
     "output_type": "display_data"
    },
    {
     "data": {
      "text/plain": [
       "<Figure size 900x900 with 0 Axes>"
      ]
     },
     "metadata": {},
     "output_type": "display_data"
    },
    {
     "data": {
      "text/plain": [
       "<Figure size 900x900 with 0 Axes>"
      ]
     },
     "metadata": {},
     "output_type": "display_data"
    },
    {
     "data": {
      "text/plain": [
       "<Figure size 900x900 with 0 Axes>"
      ]
     },
     "metadata": {},
     "output_type": "display_data"
    },
    {
     "data": {
      "text/plain": [
       "<Figure size 900x900 with 0 Axes>"
      ]
     },
     "metadata": {},
     "output_type": "display_data"
    },
    {
     "data": {
      "text/plain": [
       "<Figure size 900x900 with 0 Axes>"
      ]
     },
     "metadata": {},
     "output_type": "display_data"
    },
    {
     "data": {
      "text/plain": [
       "<Figure size 900x900 with 0 Axes>"
      ]
     },
     "metadata": {},
     "output_type": "display_data"
    },
    {
     "data": {
      "text/plain": [
       "<Figure size 900x900 with 0 Axes>"
      ]
     },
     "metadata": {},
     "output_type": "display_data"
    },
    {
     "data": {
      "text/plain": [
       "<Figure size 900x900 with 0 Axes>"
      ]
     },
     "metadata": {},
     "output_type": "display_data"
    },
    {
     "data": {
      "text/plain": [
       "<Figure size 900x900 with 0 Axes>"
      ]
     },
     "metadata": {},
     "output_type": "display_data"
    },
    {
     "data": {
      "text/plain": [
       "<Figure size 900x900 with 0 Axes>"
      ]
     },
     "metadata": {},
     "output_type": "display_data"
    },
    {
     "data": {
      "text/plain": [
       "<Figure size 900x900 with 0 Axes>"
      ]
     },
     "metadata": {},
     "output_type": "display_data"
    },
    {
     "data": {
      "text/plain": [
       "<Figure size 900x900 with 0 Axes>"
      ]
     },
     "metadata": {},
     "output_type": "display_data"
    },
    {
     "data": {
      "text/plain": [
       "<Figure size 900x900 with 0 Axes>"
      ]
     },
     "metadata": {},
     "output_type": "display_data"
    },
    {
     "data": {
      "text/plain": [
       "<Figure size 900x900 with 0 Axes>"
      ]
     },
     "metadata": {},
     "output_type": "display_data"
    },
    {
     "data": {
      "text/plain": [
       "<Figure size 900x900 with 0 Axes>"
      ]
     },
     "metadata": {},
     "output_type": "display_data"
    },
    {
     "data": {
      "text/plain": [
       "<Figure size 900x900 with 0 Axes>"
      ]
     },
     "metadata": {},
     "output_type": "display_data"
    },
    {
     "data": {
      "text/plain": [
       "<Figure size 900x900 with 0 Axes>"
      ]
     },
     "metadata": {},
     "output_type": "display_data"
    },
    {
     "data": {
      "text/plain": [
       "<Figure size 900x900 with 0 Axes>"
      ]
     },
     "metadata": {},
     "output_type": "display_data"
    },
    {
     "data": {
      "text/plain": [
       "<Figure size 900x900 with 0 Axes>"
      ]
     },
     "metadata": {},
     "output_type": "display_data"
    },
    {
     "data": {
      "text/plain": [
       "<Figure size 900x900 with 0 Axes>"
      ]
     },
     "metadata": {},
     "output_type": "display_data"
    },
    {
     "data": {
      "text/plain": [
       "<Figure size 900x900 with 0 Axes>"
      ]
     },
     "metadata": {},
     "output_type": "display_data"
    },
    {
     "data": {
      "text/plain": [
       "<Figure size 900x900 with 0 Axes>"
      ]
     },
     "metadata": {},
     "output_type": "display_data"
    },
    {
     "data": {
      "text/plain": [
       "<Figure size 900x900 with 0 Axes>"
      ]
     },
     "metadata": {},
     "output_type": "display_data"
    },
    {
     "data": {
      "text/plain": [
       "<Figure size 900x900 with 0 Axes>"
      ]
     },
     "metadata": {},
     "output_type": "display_data"
    },
    {
     "data": {
      "text/plain": [
       "<Figure size 900x900 with 0 Axes>"
      ]
     },
     "metadata": {},
     "output_type": "display_data"
    },
    {
     "data": {
      "text/plain": [
       "<Figure size 900x900 with 0 Axes>"
      ]
     },
     "metadata": {},
     "output_type": "display_data"
    },
    {
     "data": {
      "text/plain": [
       "<Figure size 900x900 with 0 Axes>"
      ]
     },
     "metadata": {},
     "output_type": "display_data"
    },
    {
     "data": {
      "text/plain": [
       "<Figure size 900x900 with 0 Axes>"
      ]
     },
     "metadata": {},
     "output_type": "display_data"
    },
    {
     "data": {
      "text/plain": [
       "<Figure size 900x900 with 0 Axes>"
      ]
     },
     "metadata": {},
     "output_type": "display_data"
    },
    {
     "data": {
      "text/plain": [
       "<Figure size 900x900 with 0 Axes>"
      ]
     },
     "metadata": {},
     "output_type": "display_data"
    },
    {
     "data": {
      "text/plain": [
       "<Figure size 900x900 with 0 Axes>"
      ]
     },
     "metadata": {},
     "output_type": "display_data"
    },
    {
     "data": {
      "text/plain": [
       "<Figure size 900x900 with 0 Axes>"
      ]
     },
     "metadata": {},
     "output_type": "display_data"
    },
    {
     "data": {
      "text/plain": [
       "<Figure size 900x900 with 0 Axes>"
      ]
     },
     "metadata": {},
     "output_type": "display_data"
    },
    {
     "data": {
      "text/plain": [
       "<Figure size 900x900 with 0 Axes>"
      ]
     },
     "metadata": {},
     "output_type": "display_data"
    },
    {
     "data": {
      "text/plain": [
       "<Figure size 900x900 with 0 Axes>"
      ]
     },
     "metadata": {},
     "output_type": "display_data"
    },
    {
     "data": {
      "text/plain": [
       "<Figure size 900x900 with 0 Axes>"
      ]
     },
     "metadata": {},
     "output_type": "display_data"
    },
    {
     "data": {
      "text/plain": [
       "<Figure size 900x900 with 0 Axes>"
      ]
     },
     "metadata": {},
     "output_type": "display_data"
    },
    {
     "data": {
      "text/plain": [
       "<Figure size 900x900 with 0 Axes>"
      ]
     },
     "metadata": {},
     "output_type": "display_data"
    },
    {
     "data": {
      "text/plain": [
       "<Figure size 900x900 with 0 Axes>"
      ]
     },
     "metadata": {},
     "output_type": "display_data"
    },
    {
     "data": {
      "text/plain": [
       "<Figure size 900x900 with 0 Axes>"
      ]
     },
     "metadata": {},
     "output_type": "display_data"
    },
    {
     "data": {
      "text/plain": [
       "<Figure size 900x900 with 0 Axes>"
      ]
     },
     "metadata": {},
     "output_type": "display_data"
    },
    {
     "data": {
      "text/plain": [
       "<Figure size 900x900 with 0 Axes>"
      ]
     },
     "metadata": {},
     "output_type": "display_data"
    },
    {
     "data": {
      "text/plain": [
       "<Figure size 900x900 with 0 Axes>"
      ]
     },
     "metadata": {},
     "output_type": "display_data"
    },
    {
     "data": {
      "text/plain": [
       "<Figure size 900x900 with 0 Axes>"
      ]
     },
     "metadata": {},
     "output_type": "display_data"
    },
    {
     "data": {
      "text/plain": [
       "<Figure size 900x900 with 0 Axes>"
      ]
     },
     "metadata": {},
     "output_type": "display_data"
    },
    {
     "data": {
      "text/plain": [
       "<Figure size 900x900 with 0 Axes>"
      ]
     },
     "metadata": {},
     "output_type": "display_data"
    },
    {
     "data": {
      "text/plain": [
       "<Figure size 900x900 with 0 Axes>"
      ]
     },
     "metadata": {},
     "output_type": "display_data"
    },
    {
     "data": {
      "text/plain": [
       "<Figure size 900x900 with 0 Axes>"
      ]
     },
     "metadata": {},
     "output_type": "display_data"
    },
    {
     "data": {
      "text/plain": [
       "<Figure size 900x900 with 0 Axes>"
      ]
     },
     "metadata": {},
     "output_type": "display_data"
    },
    {
     "data": {
      "text/plain": [
       "<Figure size 900x900 with 0 Axes>"
      ]
     },
     "metadata": {},
     "output_type": "display_data"
    },
    {
     "data": {
      "text/plain": [
       "<Figure size 900x900 with 0 Axes>"
      ]
     },
     "metadata": {},
     "output_type": "display_data"
    },
    {
     "data": {
      "text/plain": [
       "<Figure size 900x900 with 0 Axes>"
      ]
     },
     "metadata": {},
     "output_type": "display_data"
    },
    {
     "data": {
      "text/plain": [
       "<Figure size 900x900 with 0 Axes>"
      ]
     },
     "metadata": {},
     "output_type": "display_data"
    },
    {
     "data": {
      "text/plain": [
       "<Figure size 900x900 with 0 Axes>"
      ]
     },
     "metadata": {},
     "output_type": "display_data"
    },
    {
     "data": {
      "text/plain": [
       "<Figure size 900x900 with 0 Axes>"
      ]
     },
     "metadata": {},
     "output_type": "display_data"
    },
    {
     "data": {
      "text/plain": [
       "<Figure size 900x900 with 0 Axes>"
      ]
     },
     "metadata": {},
     "output_type": "display_data"
    },
    {
     "data": {
      "text/plain": [
       "<Figure size 900x900 with 0 Axes>"
      ]
     },
     "metadata": {},
     "output_type": "display_data"
    },
    {
     "data": {
      "text/plain": [
       "<Figure size 900x900 with 0 Axes>"
      ]
     },
     "metadata": {},
     "output_type": "display_data"
    },
    {
     "data": {
      "text/plain": [
       "<Figure size 900x900 with 0 Axes>"
      ]
     },
     "metadata": {},
     "output_type": "display_data"
    },
    {
     "data": {
      "text/plain": [
       "<Figure size 900x900 with 0 Axes>"
      ]
     },
     "metadata": {},
     "output_type": "display_data"
    },
    {
     "data": {
      "text/plain": [
       "<Figure size 900x900 with 0 Axes>"
      ]
     },
     "metadata": {},
     "output_type": "display_data"
    },
    {
     "data": {
      "text/plain": [
       "<Figure size 900x900 with 0 Axes>"
      ]
     },
     "metadata": {},
     "output_type": "display_data"
    },
    {
     "data": {
      "text/plain": [
       "<Figure size 900x900 with 0 Axes>"
      ]
     },
     "metadata": {},
     "output_type": "display_data"
    },
    {
     "data": {
      "text/plain": [
       "<Figure size 900x900 with 0 Axes>"
      ]
     },
     "metadata": {},
     "output_type": "display_data"
    },
    {
     "data": {
      "text/plain": [
       "<Figure size 900x900 with 0 Axes>"
      ]
     },
     "metadata": {},
     "output_type": "display_data"
    },
    {
     "data": {
      "text/plain": [
       "<Figure size 900x900 with 0 Axes>"
      ]
     },
     "metadata": {},
     "output_type": "display_data"
    },
    {
     "data": {
      "text/plain": [
       "<Figure size 900x900 with 0 Axes>"
      ]
     },
     "metadata": {},
     "output_type": "display_data"
    },
    {
     "data": {
      "text/plain": [
       "<Figure size 900x900 with 0 Axes>"
      ]
     },
     "metadata": {},
     "output_type": "display_data"
    },
    {
     "data": {
      "text/plain": [
       "<Figure size 900x900 with 0 Axes>"
      ]
     },
     "metadata": {},
     "output_type": "display_data"
    },
    {
     "data": {
      "text/plain": [
       "<Figure size 900x900 with 0 Axes>"
      ]
     },
     "metadata": {},
     "output_type": "display_data"
    },
    {
     "data": {
      "text/plain": [
       "<Figure size 900x900 with 0 Axes>"
      ]
     },
     "metadata": {},
     "output_type": "display_data"
    },
    {
     "data": {
      "text/plain": [
       "<Figure size 900x900 with 0 Axes>"
      ]
     },
     "metadata": {},
     "output_type": "display_data"
    },
    {
     "data": {
      "text/plain": [
       "<Figure size 900x900 with 0 Axes>"
      ]
     },
     "metadata": {},
     "output_type": "display_data"
    },
    {
     "data": {
      "text/plain": [
       "<Figure size 900x900 with 0 Axes>"
      ]
     },
     "metadata": {},
     "output_type": "display_data"
    },
    {
     "data": {
      "text/plain": [
       "<Figure size 900x900 with 0 Axes>"
      ]
     },
     "metadata": {},
     "output_type": "display_data"
    },
    {
     "data": {
      "text/plain": [
       "<Figure size 900x900 with 0 Axes>"
      ]
     },
     "metadata": {},
     "output_type": "display_data"
    },
    {
     "data": {
      "text/plain": [
       "<Figure size 900x900 with 0 Axes>"
      ]
     },
     "metadata": {},
     "output_type": "display_data"
    },
    {
     "data": {
      "text/plain": [
       "<Figure size 900x900 with 0 Axes>"
      ]
     },
     "metadata": {},
     "output_type": "display_data"
    },
    {
     "data": {
      "text/plain": [
       "<Figure size 900x900 with 0 Axes>"
      ]
     },
     "metadata": {},
     "output_type": "display_data"
    },
    {
     "data": {
      "text/plain": [
       "<Figure size 900x900 with 0 Axes>"
      ]
     },
     "metadata": {},
     "output_type": "display_data"
    },
    {
     "data": {
      "text/plain": [
       "<Figure size 900x900 with 0 Axes>"
      ]
     },
     "metadata": {},
     "output_type": "display_data"
    },
    {
     "data": {
      "text/plain": [
       "<Figure size 900x900 with 0 Axes>"
      ]
     },
     "metadata": {},
     "output_type": "display_data"
    },
    {
     "data": {
      "text/plain": [
       "<Figure size 900x900 with 0 Axes>"
      ]
     },
     "metadata": {},
     "output_type": "display_data"
    },
    {
     "data": {
      "text/plain": [
       "<Figure size 900x900 with 0 Axes>"
      ]
     },
     "metadata": {},
     "output_type": "display_data"
    },
    {
     "data": {
      "text/plain": [
       "<Figure size 900x900 with 0 Axes>"
      ]
     },
     "metadata": {},
     "output_type": "display_data"
    },
    {
     "data": {
      "text/plain": [
       "<Figure size 900x900 with 0 Axes>"
      ]
     },
     "metadata": {},
     "output_type": "display_data"
    },
    {
     "data": {
      "text/plain": [
       "<Figure size 900x900 with 0 Axes>"
      ]
     },
     "metadata": {},
     "output_type": "display_data"
    },
    {
     "data": {
      "text/plain": [
       "<Figure size 900x900 with 0 Axes>"
      ]
     },
     "metadata": {},
     "output_type": "display_data"
    },
    {
     "data": {
      "text/plain": [
       "<Figure size 900x900 with 0 Axes>"
      ]
     },
     "metadata": {},
     "output_type": "display_data"
    },
    {
     "data": {
      "text/plain": [
       "<Figure size 900x900 with 0 Axes>"
      ]
     },
     "metadata": {},
     "output_type": "display_data"
    },
    {
     "data": {
      "text/plain": [
       "<Figure size 900x900 with 0 Axes>"
      ]
     },
     "metadata": {},
     "output_type": "display_data"
    },
    {
     "data": {
      "text/plain": [
       "<Figure size 900x900 with 0 Axes>"
      ]
     },
     "metadata": {},
     "output_type": "display_data"
    },
    {
     "data": {
      "text/plain": [
       "<Figure size 900x900 with 0 Axes>"
      ]
     },
     "metadata": {},
     "output_type": "display_data"
    },
    {
     "data": {
      "text/plain": [
       "<Figure size 900x900 with 0 Axes>"
      ]
     },
     "metadata": {},
     "output_type": "display_data"
    },
    {
     "data": {
      "text/plain": [
       "<Figure size 900x900 with 0 Axes>"
      ]
     },
     "metadata": {},
     "output_type": "display_data"
    },
    {
     "data": {
      "text/plain": [
       "<Figure size 900x900 with 0 Axes>"
      ]
     },
     "metadata": {},
     "output_type": "display_data"
    },
    {
     "data": {
      "text/plain": [
       "<Figure size 900x900 with 0 Axes>"
      ]
     },
     "metadata": {},
     "output_type": "display_data"
    },
    {
     "data": {
      "text/plain": [
       "<Figure size 900x900 with 0 Axes>"
      ]
     },
     "metadata": {},
     "output_type": "display_data"
    },
    {
     "data": {
      "text/plain": [
       "<Figure size 900x900 with 0 Axes>"
      ]
     },
     "metadata": {},
     "output_type": "display_data"
    },
    {
     "data": {
      "text/plain": [
       "<Figure size 900x900 with 0 Axes>"
      ]
     },
     "metadata": {},
     "output_type": "display_data"
    },
    {
     "data": {
      "text/plain": [
       "<Figure size 900x900 with 0 Axes>"
      ]
     },
     "metadata": {},
     "output_type": "display_data"
    },
    {
     "data": {
      "text/plain": [
       "<Figure size 900x900 with 0 Axes>"
      ]
     },
     "metadata": {},
     "output_type": "display_data"
    },
    {
     "data": {
      "text/plain": [
       "<Figure size 900x900 with 0 Axes>"
      ]
     },
     "metadata": {},
     "output_type": "display_data"
    },
    {
     "data": {
      "text/plain": [
       "<Figure size 900x900 with 0 Axes>"
      ]
     },
     "metadata": {},
     "output_type": "display_data"
    },
    {
     "data": {
      "text/plain": [
       "<Figure size 900x900 with 0 Axes>"
      ]
     },
     "metadata": {},
     "output_type": "display_data"
    },
    {
     "data": {
      "text/plain": [
       "<Figure size 900x900 with 0 Axes>"
      ]
     },
     "metadata": {},
     "output_type": "display_data"
    },
    {
     "data": {
      "text/plain": [
       "<Figure size 900x900 with 0 Axes>"
      ]
     },
     "metadata": {},
     "output_type": "display_data"
    },
    {
     "data": {
      "text/plain": [
       "<Figure size 900x900 with 0 Axes>"
      ]
     },
     "metadata": {},
     "output_type": "display_data"
    },
    {
     "data": {
      "text/plain": [
       "<Figure size 900x900 with 0 Axes>"
      ]
     },
     "metadata": {},
     "output_type": "display_data"
    },
    {
     "data": {
      "text/plain": [
       "<Figure size 900x900 with 0 Axes>"
      ]
     },
     "metadata": {},
     "output_type": "display_data"
    },
    {
     "data": {
      "text/plain": [
       "<Figure size 900x900 with 0 Axes>"
      ]
     },
     "metadata": {},
     "output_type": "display_data"
    },
    {
     "data": {
      "text/plain": [
       "<Figure size 900x900 with 0 Axes>"
      ]
     },
     "metadata": {},
     "output_type": "display_data"
    },
    {
     "data": {
      "text/plain": [
       "<Figure size 900x900 with 0 Axes>"
      ]
     },
     "metadata": {},
     "output_type": "display_data"
    },
    {
     "data": {
      "text/plain": [
       "<Figure size 900x900 with 0 Axes>"
      ]
     },
     "metadata": {},
     "output_type": "display_data"
    },
    {
     "data": {
      "text/plain": [
       "<Figure size 900x900 with 0 Axes>"
      ]
     },
     "metadata": {},
     "output_type": "display_data"
    },
    {
     "data": {
      "text/plain": [
       "<Figure size 900x900 with 0 Axes>"
      ]
     },
     "metadata": {},
     "output_type": "display_data"
    },
    {
     "data": {
      "text/plain": [
       "<Figure size 900x900 with 0 Axes>"
      ]
     },
     "metadata": {},
     "output_type": "display_data"
    },
    {
     "data": {
      "text/plain": [
       "<Figure size 900x900 with 0 Axes>"
      ]
     },
     "metadata": {},
     "output_type": "display_data"
    },
    {
     "data": {
      "text/plain": [
       "<Figure size 900x900 with 0 Axes>"
      ]
     },
     "metadata": {},
     "output_type": "display_data"
    },
    {
     "data": {
      "text/plain": [
       "<Figure size 900x900 with 0 Axes>"
      ]
     },
     "metadata": {},
     "output_type": "display_data"
    },
    {
     "data": {
      "text/plain": [
       "<Figure size 900x900 with 0 Axes>"
      ]
     },
     "metadata": {},
     "output_type": "display_data"
    },
    {
     "data": {
      "text/plain": [
       "<Figure size 900x900 with 0 Axes>"
      ]
     },
     "metadata": {},
     "output_type": "display_data"
    },
    {
     "data": {
      "text/plain": [
       "<Figure size 900x900 with 0 Axes>"
      ]
     },
     "metadata": {},
     "output_type": "display_data"
    },
    {
     "data": {
      "text/plain": [
       "<Figure size 900x900 with 0 Axes>"
      ]
     },
     "metadata": {},
     "output_type": "display_data"
    },
    {
     "data": {
      "text/plain": [
       "<Figure size 900x900 with 0 Axes>"
      ]
     },
     "metadata": {},
     "output_type": "display_data"
    },
    {
     "data": {
      "text/plain": [
       "<Figure size 900x900 with 0 Axes>"
      ]
     },
     "metadata": {},
     "output_type": "display_data"
    },
    {
     "data": {
      "text/plain": [
       "<Figure size 900x900 with 0 Axes>"
      ]
     },
     "metadata": {},
     "output_type": "display_data"
    },
    {
     "data": {
      "text/plain": [
       "<Figure size 900x900 with 0 Axes>"
      ]
     },
     "metadata": {},
     "output_type": "display_data"
    },
    {
     "data": {
      "text/plain": [
       "<Figure size 900x900 with 0 Axes>"
      ]
     },
     "metadata": {},
     "output_type": "display_data"
    },
    {
     "data": {
      "text/plain": [
       "<Figure size 900x900 with 0 Axes>"
      ]
     },
     "metadata": {},
     "output_type": "display_data"
    },
    {
     "data": {
      "text/plain": [
       "<Figure size 900x900 with 0 Axes>"
      ]
     },
     "metadata": {},
     "output_type": "display_data"
    },
    {
     "data": {
      "text/plain": [
       "<Figure size 900x900 with 0 Axes>"
      ]
     },
     "metadata": {},
     "output_type": "display_data"
    },
    {
     "data": {
      "text/plain": [
       "<Figure size 900x900 with 0 Axes>"
      ]
     },
     "metadata": {},
     "output_type": "display_data"
    },
    {
     "data": {
      "text/plain": [
       "<Figure size 900x900 with 0 Axes>"
      ]
     },
     "metadata": {},
     "output_type": "display_data"
    },
    {
     "data": {
      "text/plain": [
       "<Figure size 900x900 with 0 Axes>"
      ]
     },
     "metadata": {},
     "output_type": "display_data"
    },
    {
     "data": {
      "text/plain": [
       "<Figure size 900x900 with 0 Axes>"
      ]
     },
     "metadata": {},
     "output_type": "display_data"
    },
    {
     "data": {
      "text/plain": [
       "<Figure size 900x900 with 0 Axes>"
      ]
     },
     "metadata": {},
     "output_type": "display_data"
    },
    {
     "data": {
      "text/plain": [
       "<Figure size 900x900 with 0 Axes>"
      ]
     },
     "metadata": {},
     "output_type": "display_data"
    },
    {
     "data": {
      "text/plain": [
       "<Figure size 900x900 with 0 Axes>"
      ]
     },
     "metadata": {},
     "output_type": "display_data"
    },
    {
     "data": {
      "text/plain": [
       "<Figure size 900x900 with 0 Axes>"
      ]
     },
     "metadata": {},
     "output_type": "display_data"
    },
    {
     "data": {
      "text/plain": [
       "<Figure size 900x900 with 0 Axes>"
      ]
     },
     "metadata": {},
     "output_type": "display_data"
    },
    {
     "data": {
      "text/plain": [
       "<Figure size 900x900 with 0 Axes>"
      ]
     },
     "metadata": {},
     "output_type": "display_data"
    },
    {
     "data": {
      "text/plain": [
       "<Figure size 900x900 with 0 Axes>"
      ]
     },
     "metadata": {},
     "output_type": "display_data"
    },
    {
     "data": {
      "text/plain": [
       "<Figure size 900x900 with 0 Axes>"
      ]
     },
     "metadata": {},
     "output_type": "display_data"
    },
    {
     "data": {
      "text/plain": [
       "<Figure size 900x900 with 0 Axes>"
      ]
     },
     "metadata": {},
     "output_type": "display_data"
    },
    {
     "data": {
      "text/plain": [
       "<Figure size 900x900 with 0 Axes>"
      ]
     },
     "metadata": {},
     "output_type": "display_data"
    },
    {
     "data": {
      "text/plain": [
       "<Figure size 900x900 with 0 Axes>"
      ]
     },
     "metadata": {},
     "output_type": "display_data"
    },
    {
     "data": {
      "text/plain": [
       "<Figure size 900x900 with 0 Axes>"
      ]
     },
     "metadata": {},
     "output_type": "display_data"
    },
    {
     "data": {
      "text/plain": [
       "<Figure size 900x900 with 0 Axes>"
      ]
     },
     "metadata": {},
     "output_type": "display_data"
    },
    {
     "data": {
      "text/plain": [
       "<Figure size 900x900 with 0 Axes>"
      ]
     },
     "metadata": {},
     "output_type": "display_data"
    },
    {
     "data": {
      "text/plain": [
       "<Figure size 900x900 with 0 Axes>"
      ]
     },
     "metadata": {},
     "output_type": "display_data"
    },
    {
     "data": {
      "text/plain": [
       "<Figure size 900x900 with 0 Axes>"
      ]
     },
     "metadata": {},
     "output_type": "display_data"
    },
    {
     "data": {
      "text/plain": [
       "<Figure size 900x900 with 0 Axes>"
      ]
     },
     "metadata": {},
     "output_type": "display_data"
    },
    {
     "data": {
      "text/plain": [
       "<Figure size 900x900 with 0 Axes>"
      ]
     },
     "metadata": {},
     "output_type": "display_data"
    },
    {
     "data": {
      "text/plain": [
       "<Figure size 900x900 with 0 Axes>"
      ]
     },
     "metadata": {},
     "output_type": "display_data"
    },
    {
     "data": {
      "text/plain": [
       "<Figure size 900x900 with 0 Axes>"
      ]
     },
     "metadata": {},
     "output_type": "display_data"
    },
    {
     "data": {
      "text/plain": [
       "<Figure size 900x900 with 0 Axes>"
      ]
     },
     "metadata": {},
     "output_type": "display_data"
    },
    {
     "data": {
      "text/plain": [
       "<Figure size 900x900 with 0 Axes>"
      ]
     },
     "metadata": {},
     "output_type": "display_data"
    },
    {
     "data": {
      "text/plain": [
       "<Figure size 900x900 with 0 Axes>"
      ]
     },
     "metadata": {},
     "output_type": "display_data"
    },
    {
     "data": {
      "text/plain": [
       "<Figure size 900x900 with 0 Axes>"
      ]
     },
     "metadata": {},
     "output_type": "display_data"
    },
    {
     "data": {
      "text/plain": [
       "<Figure size 900x900 with 0 Axes>"
      ]
     },
     "metadata": {},
     "output_type": "display_data"
    },
    {
     "data": {
      "text/plain": [
       "<Figure size 900x900 with 0 Axes>"
      ]
     },
     "metadata": {},
     "output_type": "display_data"
    },
    {
     "data": {
      "text/plain": [
       "<Figure size 900x900 with 0 Axes>"
      ]
     },
     "metadata": {},
     "output_type": "display_data"
    },
    {
     "data": {
      "text/plain": [
       "<Figure size 900x900 with 0 Axes>"
      ]
     },
     "metadata": {},
     "output_type": "display_data"
    },
    {
     "data": {
      "text/plain": [
       "<Figure size 900x900 with 0 Axes>"
      ]
     },
     "metadata": {},
     "output_type": "display_data"
    },
    {
     "data": {
      "text/plain": [
       "<Figure size 900x900 with 0 Axes>"
      ]
     },
     "metadata": {},
     "output_type": "display_data"
    },
    {
     "data": {
      "text/plain": [
       "<Figure size 900x900 with 0 Axes>"
      ]
     },
     "metadata": {},
     "output_type": "display_data"
    },
    {
     "data": {
      "text/plain": [
       "<Figure size 900x900 with 0 Axes>"
      ]
     },
     "metadata": {},
     "output_type": "display_data"
    },
    {
     "data": {
      "text/plain": [
       "<Figure size 900x900 with 0 Axes>"
      ]
     },
     "metadata": {},
     "output_type": "display_data"
    },
    {
     "data": {
      "text/plain": [
       "<Figure size 900x900 with 0 Axes>"
      ]
     },
     "metadata": {},
     "output_type": "display_data"
    },
    {
     "data": {
      "text/plain": [
       "<Figure size 900x900 with 0 Axes>"
      ]
     },
     "metadata": {},
     "output_type": "display_data"
    },
    {
     "data": {
      "text/plain": [
       "<Figure size 900x900 with 0 Axes>"
      ]
     },
     "metadata": {},
     "output_type": "display_data"
    },
    {
     "data": {
      "text/plain": [
       "<Figure size 900x900 with 0 Axes>"
      ]
     },
     "metadata": {},
     "output_type": "display_data"
    },
    {
     "data": {
      "text/plain": [
       "<Figure size 900x900 with 0 Axes>"
      ]
     },
     "metadata": {},
     "output_type": "display_data"
    },
    {
     "data": {
      "text/plain": [
       "<Figure size 900x900 with 0 Axes>"
      ]
     },
     "metadata": {},
     "output_type": "display_data"
    },
    {
     "data": {
      "text/plain": [
       "<Figure size 900x900 with 0 Axes>"
      ]
     },
     "metadata": {},
     "output_type": "display_data"
    },
    {
     "data": {
      "text/plain": [
       "<Figure size 900x900 with 0 Axes>"
      ]
     },
     "metadata": {},
     "output_type": "display_data"
    },
    {
     "data": {
      "text/plain": [
       "<Figure size 900x900 with 0 Axes>"
      ]
     },
     "metadata": {},
     "output_type": "display_data"
    },
    {
     "data": {
      "text/plain": [
       "<Figure size 900x900 with 0 Axes>"
      ]
     },
     "metadata": {},
     "output_type": "display_data"
    },
    {
     "data": {
      "text/plain": [
       "<Figure size 900x900 with 0 Axes>"
      ]
     },
     "metadata": {},
     "output_type": "display_data"
    },
    {
     "data": {
      "text/plain": [
       "<Figure size 900x900 with 0 Axes>"
      ]
     },
     "metadata": {},
     "output_type": "display_data"
    },
    {
     "data": {
      "text/plain": [
       "<Figure size 900x900 with 0 Axes>"
      ]
     },
     "metadata": {},
     "output_type": "display_data"
    },
    {
     "data": {
      "text/plain": [
       "<Figure size 900x900 with 0 Axes>"
      ]
     },
     "metadata": {},
     "output_type": "display_data"
    },
    {
     "data": {
      "text/plain": [
       "<Figure size 900x900 with 0 Axes>"
      ]
     },
     "metadata": {},
     "output_type": "display_data"
    },
    {
     "data": {
      "text/plain": [
       "<Figure size 900x900 with 0 Axes>"
      ]
     },
     "metadata": {},
     "output_type": "display_data"
    },
    {
     "data": {
      "text/plain": [
       "<Figure size 900x900 with 0 Axes>"
      ]
     },
     "metadata": {},
     "output_type": "display_data"
    },
    {
     "data": {
      "text/plain": [
       "<Figure size 900x900 with 0 Axes>"
      ]
     },
     "metadata": {},
     "output_type": "display_data"
    },
    {
     "data": {
      "text/plain": [
       "<Figure size 900x900 with 0 Axes>"
      ]
     },
     "metadata": {},
     "output_type": "display_data"
    },
    {
     "data": {
      "text/plain": [
       "<Figure size 900x900 with 0 Axes>"
      ]
     },
     "metadata": {},
     "output_type": "display_data"
    },
    {
     "data": {
      "text/plain": [
       "<Figure size 900x900 with 0 Axes>"
      ]
     },
     "metadata": {},
     "output_type": "display_data"
    },
    {
     "data": {
      "text/plain": [
       "<Figure size 900x900 with 0 Axes>"
      ]
     },
     "metadata": {},
     "output_type": "display_data"
    },
    {
     "data": {
      "text/plain": [
       "<Figure size 900x900 with 0 Axes>"
      ]
     },
     "metadata": {},
     "output_type": "display_data"
    },
    {
     "data": {
      "text/plain": [
       "<Figure size 900x900 with 0 Axes>"
      ]
     },
     "metadata": {},
     "output_type": "display_data"
    },
    {
     "data": {
      "text/plain": [
       "<Figure size 900x900 with 0 Axes>"
      ]
     },
     "metadata": {},
     "output_type": "display_data"
    },
    {
     "data": {
      "text/plain": [
       "<Figure size 900x900 with 0 Axes>"
      ]
     },
     "metadata": {},
     "output_type": "display_data"
    },
    {
     "data": {
      "text/plain": [
       "<Figure size 900x900 with 0 Axes>"
      ]
     },
     "metadata": {},
     "output_type": "display_data"
    },
    {
     "data": {
      "text/plain": [
       "<Figure size 900x900 with 0 Axes>"
      ]
     },
     "metadata": {},
     "output_type": "display_data"
    },
    {
     "data": {
      "text/plain": [
       "<Figure size 900x900 with 0 Axes>"
      ]
     },
     "metadata": {},
     "output_type": "display_data"
    },
    {
     "data": {
      "text/plain": [
       "<Figure size 900x900 with 0 Axes>"
      ]
     },
     "metadata": {},
     "output_type": "display_data"
    },
    {
     "data": {
      "text/plain": [
       "<Figure size 900x900 with 0 Axes>"
      ]
     },
     "metadata": {},
     "output_type": "display_data"
    },
    {
     "data": {
      "text/plain": [
       "<Figure size 900x900 with 0 Axes>"
      ]
     },
     "metadata": {},
     "output_type": "display_data"
    },
    {
     "data": {
      "text/plain": [
       "<Figure size 900x900 with 0 Axes>"
      ]
     },
     "metadata": {},
     "output_type": "display_data"
    },
    {
     "data": {
      "text/plain": [
       "<Figure size 900x900 with 0 Axes>"
      ]
     },
     "metadata": {},
     "output_type": "display_data"
    },
    {
     "data": {
      "text/plain": [
       "<Figure size 900x900 with 0 Axes>"
      ]
     },
     "metadata": {},
     "output_type": "display_data"
    },
    {
     "data": {
      "text/plain": [
       "<Figure size 900x900 with 0 Axes>"
      ]
     },
     "metadata": {},
     "output_type": "display_data"
    },
    {
     "data": {
      "text/plain": [
       "<Figure size 900x900 with 0 Axes>"
      ]
     },
     "metadata": {},
     "output_type": "display_data"
    },
    {
     "data": {
      "text/plain": [
       "<Figure size 900x900 with 0 Axes>"
      ]
     },
     "metadata": {},
     "output_type": "display_data"
    },
    {
     "data": {
      "text/plain": [
       "<Figure size 900x900 with 0 Axes>"
      ]
     },
     "metadata": {},
     "output_type": "display_data"
    },
    {
     "data": {
      "text/plain": [
       "<Figure size 900x900 with 0 Axes>"
      ]
     },
     "metadata": {},
     "output_type": "display_data"
    },
    {
     "data": {
      "text/plain": [
       "<Figure size 900x900 with 0 Axes>"
      ]
     },
     "metadata": {},
     "output_type": "display_data"
    },
    {
     "data": {
      "text/plain": [
       "<Figure size 900x900 with 0 Axes>"
      ]
     },
     "metadata": {},
     "output_type": "display_data"
    },
    {
     "data": {
      "text/plain": [
       "<Figure size 900x900 with 0 Axes>"
      ]
     },
     "metadata": {},
     "output_type": "display_data"
    },
    {
     "data": {
      "text/plain": [
       "<Figure size 900x900 with 0 Axes>"
      ]
     },
     "metadata": {},
     "output_type": "display_data"
    },
    {
     "data": {
      "text/plain": [
       "<Figure size 900x900 with 0 Axes>"
      ]
     },
     "metadata": {},
     "output_type": "display_data"
    },
    {
     "data": {
      "text/plain": [
       "<Figure size 900x900 with 0 Axes>"
      ]
     },
     "metadata": {},
     "output_type": "display_data"
    },
    {
     "data": {
      "text/plain": [
       "<Figure size 900x900 with 0 Axes>"
      ]
     },
     "metadata": {},
     "output_type": "display_data"
    },
    {
     "data": {
      "text/plain": [
       "<Figure size 900x900 with 0 Axes>"
      ]
     },
     "metadata": {},
     "output_type": "display_data"
    },
    {
     "data": {
      "text/plain": [
       "<Figure size 900x900 with 0 Axes>"
      ]
     },
     "metadata": {},
     "output_type": "display_data"
    },
    {
     "data": {
      "text/plain": [
       "<Figure size 900x900 with 0 Axes>"
      ]
     },
     "metadata": {},
     "output_type": "display_data"
    },
    {
     "data": {
      "text/plain": [
       "<Figure size 900x900 with 0 Axes>"
      ]
     },
     "metadata": {},
     "output_type": "display_data"
    },
    {
     "data": {
      "text/plain": [
       "<Figure size 900x900 with 0 Axes>"
      ]
     },
     "metadata": {},
     "output_type": "display_data"
    },
    {
     "data": {
      "text/plain": [
       "<Figure size 900x900 with 0 Axes>"
      ]
     },
     "metadata": {},
     "output_type": "display_data"
    },
    {
     "data": {
      "text/plain": [
       "<Figure size 900x900 with 0 Axes>"
      ]
     },
     "metadata": {},
     "output_type": "display_data"
    },
    {
     "data": {
      "text/plain": [
       "<Figure size 900x900 with 0 Axes>"
      ]
     },
     "metadata": {},
     "output_type": "display_data"
    },
    {
     "data": {
      "text/plain": [
       "<Figure size 900x900 with 0 Axes>"
      ]
     },
     "metadata": {},
     "output_type": "display_data"
    },
    {
     "data": {
      "text/plain": [
       "<Figure size 900x900 with 0 Axes>"
      ]
     },
     "metadata": {},
     "output_type": "display_data"
    },
    {
     "data": {
      "text/plain": [
       "<Figure size 900x900 with 0 Axes>"
      ]
     },
     "metadata": {},
     "output_type": "display_data"
    },
    {
     "data": {
      "text/plain": [
       "<Figure size 900x900 with 0 Axes>"
      ]
     },
     "metadata": {},
     "output_type": "display_data"
    },
    {
     "data": {
      "text/plain": [
       "<Figure size 900x900 with 0 Axes>"
      ]
     },
     "metadata": {},
     "output_type": "display_data"
    },
    {
     "data": {
      "text/plain": [
       "<Figure size 900x900 with 0 Axes>"
      ]
     },
     "metadata": {},
     "output_type": "display_data"
    },
    {
     "data": {
      "text/plain": [
       "<Figure size 900x900 with 0 Axes>"
      ]
     },
     "metadata": {},
     "output_type": "display_data"
    },
    {
     "data": {
      "text/plain": [
       "<Figure size 900x900 with 0 Axes>"
      ]
     },
     "metadata": {},
     "output_type": "display_data"
    },
    {
     "data": {
      "text/plain": [
       "<Figure size 900x900 with 0 Axes>"
      ]
     },
     "metadata": {},
     "output_type": "display_data"
    },
    {
     "data": {
      "text/plain": [
       "<Figure size 900x900 with 0 Axes>"
      ]
     },
     "metadata": {},
     "output_type": "display_data"
    },
    {
     "data": {
      "text/plain": [
       "<Figure size 900x900 with 0 Axes>"
      ]
     },
     "metadata": {},
     "output_type": "display_data"
    },
    {
     "data": {
      "text/plain": [
       "<Figure size 900x900 with 0 Axes>"
      ]
     },
     "metadata": {},
     "output_type": "display_data"
    },
    {
     "data": {
      "text/plain": [
       "<Figure size 900x900 with 0 Axes>"
      ]
     },
     "metadata": {},
     "output_type": "display_data"
    },
    {
     "data": {
      "text/plain": [
       "<Figure size 900x900 with 0 Axes>"
      ]
     },
     "metadata": {},
     "output_type": "display_data"
    },
    {
     "data": {
      "text/plain": [
       "<Figure size 900x900 with 0 Axes>"
      ]
     },
     "metadata": {},
     "output_type": "display_data"
    },
    {
     "data": {
      "text/plain": [
       "<Figure size 900x900 with 0 Axes>"
      ]
     },
     "metadata": {},
     "output_type": "display_data"
    },
    {
     "data": {
      "text/plain": [
       "<Figure size 900x900 with 0 Axes>"
      ]
     },
     "metadata": {},
     "output_type": "display_data"
    },
    {
     "data": {
      "text/plain": [
       "<Figure size 900x900 with 0 Axes>"
      ]
     },
     "metadata": {},
     "output_type": "display_data"
    },
    {
     "data": {
      "text/plain": [
       "<Figure size 900x900 with 0 Axes>"
      ]
     },
     "metadata": {},
     "output_type": "display_data"
    },
    {
     "data": {
      "text/plain": [
       "<Figure size 900x900 with 0 Axes>"
      ]
     },
     "metadata": {},
     "output_type": "display_data"
    },
    {
     "data": {
      "text/plain": [
       "<Figure size 900x900 with 0 Axes>"
      ]
     },
     "metadata": {},
     "output_type": "display_data"
    },
    {
     "data": {
      "text/plain": [
       "<Figure size 900x900 with 0 Axes>"
      ]
     },
     "metadata": {},
     "output_type": "display_data"
    },
    {
     "data": {
      "text/plain": [
       "<Figure size 900x900 with 0 Axes>"
      ]
     },
     "metadata": {},
     "output_type": "display_data"
    },
    {
     "data": {
      "text/plain": [
       "<Figure size 900x900 with 0 Axes>"
      ]
     },
     "metadata": {},
     "output_type": "display_data"
    },
    {
     "data": {
      "text/plain": [
       "<Figure size 900x900 with 0 Axes>"
      ]
     },
     "metadata": {},
     "output_type": "display_data"
    },
    {
     "data": {
      "text/plain": [
       "<Figure size 900x900 with 0 Axes>"
      ]
     },
     "metadata": {},
     "output_type": "display_data"
    },
    {
     "data": {
      "text/plain": [
       "<Figure size 900x900 with 0 Axes>"
      ]
     },
     "metadata": {},
     "output_type": "display_data"
    },
    {
     "data": {
      "text/plain": [
       "<Figure size 900x900 with 0 Axes>"
      ]
     },
     "metadata": {},
     "output_type": "display_data"
    },
    {
     "data": {
      "text/plain": [
       "<Figure size 900x900 with 0 Axes>"
      ]
     },
     "metadata": {},
     "output_type": "display_data"
    },
    {
     "data": {
      "text/plain": [
       "<Figure size 900x900 with 0 Axes>"
      ]
     },
     "metadata": {},
     "output_type": "display_data"
    },
    {
     "data": {
      "text/plain": [
       "<Figure size 900x900 with 0 Axes>"
      ]
     },
     "metadata": {},
     "output_type": "display_data"
    },
    {
     "data": {
      "text/plain": [
       "<Figure size 900x900 with 0 Axes>"
      ]
     },
     "metadata": {},
     "output_type": "display_data"
    },
    {
     "data": {
      "text/plain": [
       "<Figure size 900x900 with 0 Axes>"
      ]
     },
     "metadata": {},
     "output_type": "display_data"
    },
    {
     "data": {
      "text/plain": [
       "<Figure size 900x900 with 0 Axes>"
      ]
     },
     "metadata": {},
     "output_type": "display_data"
    },
    {
     "data": {
      "text/plain": [
       "<Figure size 900x900 with 0 Axes>"
      ]
     },
     "metadata": {},
     "output_type": "display_data"
    },
    {
     "data": {
      "text/plain": [
       "<Figure size 900x900 with 0 Axes>"
      ]
     },
     "metadata": {},
     "output_type": "display_data"
    },
    {
     "data": {
      "text/plain": [
       "<Figure size 900x900 with 0 Axes>"
      ]
     },
     "metadata": {},
     "output_type": "display_data"
    },
    {
     "data": {
      "text/plain": [
       "<Figure size 900x900 with 0 Axes>"
      ]
     },
     "metadata": {},
     "output_type": "display_data"
    },
    {
     "data": {
      "text/plain": [
       "<Figure size 900x900 with 0 Axes>"
      ]
     },
     "metadata": {},
     "output_type": "display_data"
    },
    {
     "data": {
      "text/plain": [
       "<Figure size 900x900 with 0 Axes>"
      ]
     },
     "metadata": {},
     "output_type": "display_data"
    },
    {
     "data": {
      "text/plain": [
       "<Figure size 900x900 with 0 Axes>"
      ]
     },
     "metadata": {},
     "output_type": "display_data"
    },
    {
     "data": {
      "text/plain": [
       "<Figure size 900x900 with 0 Axes>"
      ]
     },
     "metadata": {},
     "output_type": "display_data"
    },
    {
     "data": {
      "text/plain": [
       "<Figure size 900x900 with 0 Axes>"
      ]
     },
     "metadata": {},
     "output_type": "display_data"
    },
    {
     "data": {
      "text/plain": [
       "<Figure size 900x900 with 0 Axes>"
      ]
     },
     "metadata": {},
     "output_type": "display_data"
    },
    {
     "data": {
      "text/plain": [
       "<Figure size 900x900 with 0 Axes>"
      ]
     },
     "metadata": {},
     "output_type": "display_data"
    },
    {
     "data": {
      "text/plain": [
       "<Figure size 900x900 with 0 Axes>"
      ]
     },
     "metadata": {},
     "output_type": "display_data"
    },
    {
     "data": {
      "text/plain": [
       "<Figure size 900x900 with 0 Axes>"
      ]
     },
     "metadata": {},
     "output_type": "display_data"
    },
    {
     "data": {
      "text/plain": [
       "<Figure size 900x900 with 0 Axes>"
      ]
     },
     "metadata": {},
     "output_type": "display_data"
    },
    {
     "data": {
      "text/plain": [
       "<Figure size 900x900 with 0 Axes>"
      ]
     },
     "metadata": {},
     "output_type": "display_data"
    },
    {
     "data": {
      "text/plain": [
       "<Figure size 900x900 with 0 Axes>"
      ]
     },
     "metadata": {},
     "output_type": "display_data"
    },
    {
     "data": {
      "text/plain": [
       "<Figure size 900x900 with 0 Axes>"
      ]
     },
     "metadata": {},
     "output_type": "display_data"
    },
    {
     "data": {
      "text/plain": [
       "<Figure size 900x900 with 0 Axes>"
      ]
     },
     "metadata": {},
     "output_type": "display_data"
    },
    {
     "data": {
      "text/plain": [
       "<Figure size 900x900 with 0 Axes>"
      ]
     },
     "metadata": {},
     "output_type": "display_data"
    },
    {
     "data": {
      "text/plain": [
       "<Figure size 900x900 with 0 Axes>"
      ]
     },
     "metadata": {},
     "output_type": "display_data"
    },
    {
     "data": {
      "text/plain": [
       "<Figure size 900x900 with 0 Axes>"
      ]
     },
     "metadata": {},
     "output_type": "display_data"
    },
    {
     "data": {
      "text/plain": [
       "<Figure size 900x900 with 0 Axes>"
      ]
     },
     "metadata": {},
     "output_type": "display_data"
    },
    {
     "data": {
      "text/plain": [
       "<Figure size 900x900 with 0 Axes>"
      ]
     },
     "metadata": {},
     "output_type": "display_data"
    },
    {
     "data": {
      "text/plain": [
       "<Figure size 900x900 with 0 Axes>"
      ]
     },
     "metadata": {},
     "output_type": "display_data"
    },
    {
     "data": {
      "text/plain": [
       "<Figure size 900x900 with 0 Axes>"
      ]
     },
     "metadata": {},
     "output_type": "display_data"
    },
    {
     "data": {
      "text/plain": [
       "<Figure size 900x900 with 0 Axes>"
      ]
     },
     "metadata": {},
     "output_type": "display_data"
    },
    {
     "data": {
      "text/plain": [
       "<Figure size 900x900 with 0 Axes>"
      ]
     },
     "metadata": {},
     "output_type": "display_data"
    },
    {
     "data": {
      "text/plain": [
       "<Figure size 900x900 with 0 Axes>"
      ]
     },
     "metadata": {},
     "output_type": "display_data"
    },
    {
     "data": {
      "text/plain": [
       "<Figure size 900x900 with 0 Axes>"
      ]
     },
     "metadata": {},
     "output_type": "display_data"
    },
    {
     "data": {
      "text/plain": [
       "<Figure size 900x900 with 0 Axes>"
      ]
     },
     "metadata": {},
     "output_type": "display_data"
    },
    {
     "data": {
      "text/plain": [
       "<Figure size 900x900 with 0 Axes>"
      ]
     },
     "metadata": {},
     "output_type": "display_data"
    },
    {
     "data": {
      "text/plain": [
       "<Figure size 900x900 with 0 Axes>"
      ]
     },
     "metadata": {},
     "output_type": "display_data"
    },
    {
     "data": {
      "text/plain": [
       "<Figure size 900x900 with 0 Axes>"
      ]
     },
     "metadata": {},
     "output_type": "display_data"
    },
    {
     "data": {
      "text/plain": [
       "<Figure size 900x900 with 0 Axes>"
      ]
     },
     "metadata": {},
     "output_type": "display_data"
    },
    {
     "data": {
      "text/plain": [
       "<Figure size 900x900 with 0 Axes>"
      ]
     },
     "metadata": {},
     "output_type": "display_data"
    },
    {
     "data": {
      "text/plain": [
       "<Figure size 900x900 with 0 Axes>"
      ]
     },
     "metadata": {},
     "output_type": "display_data"
    },
    {
     "data": {
      "text/plain": [
       "<Figure size 900x900 with 0 Axes>"
      ]
     },
     "metadata": {},
     "output_type": "display_data"
    },
    {
     "data": {
      "text/plain": [
       "<Figure size 900x900 with 0 Axes>"
      ]
     },
     "metadata": {},
     "output_type": "display_data"
    },
    {
     "data": {
      "text/plain": [
       "<Figure size 900x900 with 0 Axes>"
      ]
     },
     "metadata": {},
     "output_type": "display_data"
    },
    {
     "data": {
      "text/plain": [
       "<Figure size 900x900 with 0 Axes>"
      ]
     },
     "metadata": {},
     "output_type": "display_data"
    },
    {
     "data": {
      "text/plain": [
       "<Figure size 900x900 with 0 Axes>"
      ]
     },
     "metadata": {},
     "output_type": "display_data"
    },
    {
     "data": {
      "text/plain": [
       "<Figure size 900x900 with 0 Axes>"
      ]
     },
     "metadata": {},
     "output_type": "display_data"
    },
    {
     "data": {
      "text/plain": [
       "<Figure size 900x900 with 0 Axes>"
      ]
     },
     "metadata": {},
     "output_type": "display_data"
    },
    {
     "data": {
      "text/plain": [
       "<Figure size 900x900 with 0 Axes>"
      ]
     },
     "metadata": {},
     "output_type": "display_data"
    },
    {
     "data": {
      "text/plain": [
       "<Figure size 900x900 with 0 Axes>"
      ]
     },
     "metadata": {},
     "output_type": "display_data"
    },
    {
     "data": {
      "text/plain": [
       "<Figure size 900x900 with 0 Axes>"
      ]
     },
     "metadata": {},
     "output_type": "display_data"
    },
    {
     "data": {
      "text/plain": [
       "<Figure size 900x900 with 0 Axes>"
      ]
     },
     "metadata": {},
     "output_type": "display_data"
    },
    {
     "data": {
      "text/plain": [
       "<Figure size 900x900 with 0 Axes>"
      ]
     },
     "metadata": {},
     "output_type": "display_data"
    },
    {
     "data": {
      "text/plain": [
       "<Figure size 900x900 with 0 Axes>"
      ]
     },
     "metadata": {},
     "output_type": "display_data"
    },
    {
     "data": {
      "text/plain": [
       "<Figure size 900x900 with 0 Axes>"
      ]
     },
     "metadata": {},
     "output_type": "display_data"
    },
    {
     "data": {
      "text/plain": [
       "<Figure size 900x900 with 0 Axes>"
      ]
     },
     "metadata": {},
     "output_type": "display_data"
    },
    {
     "data": {
      "text/plain": [
       "<Figure size 900x900 with 0 Axes>"
      ]
     },
     "metadata": {},
     "output_type": "display_data"
    },
    {
     "data": {
      "text/plain": [
       "<Figure size 900x900 with 0 Axes>"
      ]
     },
     "metadata": {},
     "output_type": "display_data"
    },
    {
     "data": {
      "text/plain": [
       "<Figure size 900x900 with 0 Axes>"
      ]
     },
     "metadata": {},
     "output_type": "display_data"
    },
    {
     "data": {
      "text/plain": [
       "<Figure size 900x900 with 0 Axes>"
      ]
     },
     "metadata": {},
     "output_type": "display_data"
    },
    {
     "data": {
      "text/plain": [
       "<Figure size 900x900 with 0 Axes>"
      ]
     },
     "metadata": {},
     "output_type": "display_data"
    },
    {
     "data": {
      "text/plain": [
       "<Figure size 900x900 with 0 Axes>"
      ]
     },
     "metadata": {},
     "output_type": "display_data"
    },
    {
     "data": {
      "text/plain": [
       "<Figure size 900x900 with 0 Axes>"
      ]
     },
     "metadata": {},
     "output_type": "display_data"
    },
    {
     "data": {
      "text/plain": [
       "<Figure size 900x900 with 0 Axes>"
      ]
     },
     "metadata": {},
     "output_type": "display_data"
    },
    {
     "data": {
      "text/plain": [
       "<Figure size 900x900 with 0 Axes>"
      ]
     },
     "metadata": {},
     "output_type": "display_data"
    },
    {
     "data": {
      "text/plain": [
       "<Figure size 900x900 with 0 Axes>"
      ]
     },
     "metadata": {},
     "output_type": "display_data"
    },
    {
     "data": {
      "text/plain": [
       "<Figure size 900x900 with 0 Axes>"
      ]
     },
     "metadata": {},
     "output_type": "display_data"
    },
    {
     "data": {
      "text/plain": [
       "<Figure size 900x900 with 0 Axes>"
      ]
     },
     "metadata": {},
     "output_type": "display_data"
    },
    {
     "data": {
      "text/plain": [
       "<Figure size 900x900 with 0 Axes>"
      ]
     },
     "metadata": {},
     "output_type": "display_data"
    },
    {
     "data": {
      "text/plain": [
       "<Figure size 900x900 with 0 Axes>"
      ]
     },
     "metadata": {},
     "output_type": "display_data"
    },
    {
     "data": {
      "text/plain": [
       "<Figure size 900x900 with 0 Axes>"
      ]
     },
     "metadata": {},
     "output_type": "display_data"
    },
    {
     "data": {
      "text/plain": [
       "<Figure size 900x900 with 0 Axes>"
      ]
     },
     "metadata": {},
     "output_type": "display_data"
    },
    {
     "data": {
      "text/plain": [
       "<Figure size 900x900 with 0 Axes>"
      ]
     },
     "metadata": {},
     "output_type": "display_data"
    },
    {
     "data": {
      "text/plain": [
       "<Figure size 900x900 with 0 Axes>"
      ]
     },
     "metadata": {},
     "output_type": "display_data"
    },
    {
     "data": {
      "text/plain": [
       "<Figure size 900x900 with 0 Axes>"
      ]
     },
     "metadata": {},
     "output_type": "display_data"
    },
    {
     "data": {
      "text/plain": [
       "<Figure size 900x900 with 0 Axes>"
      ]
     },
     "metadata": {},
     "output_type": "display_data"
    },
    {
     "data": {
      "text/plain": [
       "<Figure size 900x900 with 0 Axes>"
      ]
     },
     "metadata": {},
     "output_type": "display_data"
    },
    {
     "data": {
      "text/plain": [
       "<Figure size 900x900 with 0 Axes>"
      ]
     },
     "metadata": {},
     "output_type": "display_data"
    },
    {
     "data": {
      "text/plain": [
       "<Figure size 900x900 with 0 Axes>"
      ]
     },
     "metadata": {},
     "output_type": "display_data"
    },
    {
     "data": {
      "text/plain": [
       "<Figure size 900x900 with 0 Axes>"
      ]
     },
     "metadata": {},
     "output_type": "display_data"
    },
    {
     "data": {
      "text/plain": [
       "<Figure size 900x900 with 0 Axes>"
      ]
     },
     "metadata": {},
     "output_type": "display_data"
    },
    {
     "data": {
      "text/plain": [
       "<Figure size 900x900 with 0 Axes>"
      ]
     },
     "metadata": {},
     "output_type": "display_data"
    },
    {
     "data": {
      "text/plain": [
       "<Figure size 900x900 with 0 Axes>"
      ]
     },
     "metadata": {},
     "output_type": "display_data"
    },
    {
     "data": {
      "text/plain": [
       "<Figure size 900x900 with 0 Axes>"
      ]
     },
     "metadata": {},
     "output_type": "display_data"
    },
    {
     "data": {
      "text/plain": [
       "<Figure size 900x900 with 0 Axes>"
      ]
     },
     "metadata": {},
     "output_type": "display_data"
    },
    {
     "data": {
      "text/plain": [
       "<Figure size 900x900 with 0 Axes>"
      ]
     },
     "metadata": {},
     "output_type": "display_data"
    },
    {
     "data": {
      "text/plain": [
       "<Figure size 900x900 with 0 Axes>"
      ]
     },
     "metadata": {},
     "output_type": "display_data"
    },
    {
     "data": {
      "text/plain": [
       "<Figure size 900x900 with 0 Axes>"
      ]
     },
     "metadata": {},
     "output_type": "display_data"
    },
    {
     "data": {
      "text/plain": [
       "<Figure size 900x900 with 0 Axes>"
      ]
     },
     "metadata": {},
     "output_type": "display_data"
    },
    {
     "data": {
      "text/plain": [
       "<Figure size 900x900 with 0 Axes>"
      ]
     },
     "metadata": {},
     "output_type": "display_data"
    },
    {
     "data": {
      "text/plain": [
       "<Figure size 900x900 with 0 Axes>"
      ]
     },
     "metadata": {},
     "output_type": "display_data"
    },
    {
     "data": {
      "text/plain": [
       "<Figure size 900x900 with 0 Axes>"
      ]
     },
     "metadata": {},
     "output_type": "display_data"
    },
    {
     "data": {
      "text/plain": [
       "<Figure size 900x900 with 0 Axes>"
      ]
     },
     "metadata": {},
     "output_type": "display_data"
    },
    {
     "data": {
      "text/plain": [
       "<Figure size 900x900 with 0 Axes>"
      ]
     },
     "metadata": {},
     "output_type": "display_data"
    },
    {
     "data": {
      "text/plain": [
       "<Figure size 900x900 with 0 Axes>"
      ]
     },
     "metadata": {},
     "output_type": "display_data"
    },
    {
     "data": {
      "text/plain": [
       "<Figure size 900x900 with 0 Axes>"
      ]
     },
     "metadata": {},
     "output_type": "display_data"
    }
   ],
   "source": [
    "# Generate some plots!\n",
    "autoplots(meyer, 'w1kessler6_i', transform = True, verbose = False, folder = '../03_images/image_output');\n",
    "\n",
    "# Tell me when it's done; this function can take a minute\n",
    "print(\"All done!\")\n",
    "os.listdir('../03_images/image_output') # Should show a folder with a time stamp around when the function was run"
   ]
  },
  {
   "cell_type": "code",
   "execution_count": 8,
   "id": "505165d1-b8e6-41a9-ab60-922be77bf6b2",
   "metadata": {},
   "outputs": [
    {
     "data": {
      "image/png": "[encoded data removed]",
      "text/plain": [
       "<Figure size 1600x900 with 1 Axes>"
      ]
     },
     "metadata": {},
     "output_type": "display_data"
    }
   ],
   "source": [
    "# Plot a histogram of it\n",
    "plt.figure(figsize = (16, 9));\n",
    "plt.hist(meyer['w1kessler6_i'], bins = 'auto', color = 'purple');\n",
    "plt.suptitle(f'Distribution of Kessler Scores', size = 24);\n",
    "plt.xlabel('w1kessler6_i', size = 20);\n",
    "plt.ylabel('Frequency', size = 20);\n",
    "plt.xticks(size = 16, rotation = 60);\n",
    "plt.yticks(size = 16);"
   ]
  },
  {
   "cell_type": "markdown",
   "id": "08748194-926b-4a65-aee1-8074ca9956c9",
   "metadata": {},
   "source": [
    "uh oh, looks non-normal.  "
   ]
  },
  {
   "cell_type": "code",
   "execution_count": 9,
   "id": "0da40086-1d98-4859-87f0-2bbcee8e6568",
   "metadata": {},
   "outputs": [
    {
     "data": {
      "image/png": "[encoded data removed]",
      "text/plain": [
       "<Figure size 640x480 with 1 Axes>"
      ]
     },
     "metadata": {},
     "output_type": "display_data"
    }
   ],
   "source": [
    "# QQplot of raw kessler\n",
    "sm.qqplot(meyer['w1kessler6_i'], line='45');\n",
    "plt.suptitle(f'QQ-Plot of kessler6_i', size = 20);\n",
    "plt.xticks(size = 14, rotation = 60);\n",
    "plt.yticks(size = 14);\n",
    "plt.tight_layout();"
   ]
  },
  {
   "cell_type": "markdown",
   "id": "c045e69e-cabb-4668-9b03-45eec8b1fe13",
   "metadata": {},
   "source": [
    "let's try some transformations"
   ]
  },
  {
   "cell_type": "code",
   "execution_count": 10,
   "id": "4ab82eb7-d0ac-4a18-a066-ecc0e9a4fe46",
   "metadata": {},
   "outputs": [
    {
     "data": {
      "image/png": "[encoded data removed]",
      "text/plain": [
       "<Figure size 1600x900 with 1 Axes>"
      ]
     },
     "metadata": {},
     "output_type": "display_data"
    }
   ],
   "source": [
    "# Plot a histogram of the square root\n",
    "plt.figure(figsize = (16, 9));\n",
    "plt.hist(meyer['w1kessler6_i']**(1/2), bins = 'auto', color = 'purple');\n",
    "plt.suptitle(f'Distribution of the Square Root of Kessler Scores', size = 24);\n",
    "plt.xlabel('w1kessler6_i', size = 20);\n",
    "plt.ylabel('Frequency', size = 20);\n",
    "plt.xticks(size = 16, rotation = 60);\n",
    "plt.yticks(size = 16);"
   ]
  },
  {
   "cell_type": "code",
   "execution_count": 11,
   "id": "9584afeb-3224-49bd-afb6-b82b662330d4",
   "metadata": {},
   "outputs": [
    {
     "data": {
      "image/png": "[encoded data removed]",
      "text/plain": [
       "<Figure size 640x480 with 1 Axes>"
      ]
     },
     "metadata": {},
     "output_type": "display_data"
    }
   ],
   "source": [
    "# QQplot of the square root\n",
    "sm.qqplot((meyer['w1kessler6_i']**0.5), line='45');\n",
    "plt.suptitle(f'QQ-Plot of kessler6_i', size = 20);\n",
    "plt.xticks(size = 14, rotation = 60);\n",
    "plt.yticks(size = 14);\n",
    "plt.tight_layout();"
   ]
  },
  {
   "cell_type": "code",
   "execution_count": 12,
   "id": "a27495e7-a4cb-409d-9135-2249691e36db",
   "metadata": {},
   "outputs": [
    {
     "data": {
      "image/png": "[encoded data removed]",
      "text/plain": [
       "<Figure size 1600x900 with 1 Axes>"
      ]
     },
     "metadata": {},
     "output_type": "display_data"
    }
   ],
   "source": [
    "# Plot a histogram of the cube root\n",
    "plt.figure(figsize = (16, 9));\n",
    "plt.hist(meyer['w1kessler6_i']**(1/3), bins = 'auto', color = 'purple');\n",
    "plt.suptitle(f'Distribution of the Cube Root of Kessler Scores', size = 24)\n",
    "plt.xlabel('w1kessler6_i', size = 20);\n",
    "plt.ylabel('Frequency', size = 20);\n",
    "plt.xticks(size = 16, rotation = 60);\n",
    "plt.yticks(size = 16);"
   ]
  },
  {
   "cell_type": "code",
   "execution_count": 13,
   "id": "8f696469-ee7b-4182-bf37-a61ece65acb7",
   "metadata": {},
   "outputs": [
    {
     "data": {
      "image/png": "[encoded data removed]",
      "text/plain": [
       "<Figure size 640x480 with 1 Axes>"
      ]
     },
     "metadata": {},
     "output_type": "display_data"
    }
   ],
   "source": [
    "# QQplot of the cube root\n",
    "sm.qqplot((meyer['w1kessler6_i']**(1/3)), line='45');\n",
    "plt.suptitle(f'QQ-Plot of kessler6_i', size = 20);\n",
    "plt.xticks(size = 14, rotation = 60);\n",
    "plt.yticks(size = 14);\n",
    "plt.tight_layout();"
   ]
  },
  {
   "cell_type": "code",
   "execution_count": 14,
   "id": "e797d50b-c926-45a7-b61c-8e7963eec9fd",
   "metadata": {},
   "outputs": [
    {
     "data": {
      "image/png": "[encoded data removed]",
      "text/plain": [
       "<Figure size 1600x900 with 1 Axes>"
      ]
     },
     "metadata": {},
     "output_type": "display_data"
    }
   ],
   "source": [
    "# Plot of a histogram of the +1 log\n",
    "plt.figure(figsize = (16, 9));\n",
    "plt.hist(np.log(meyer['w1kessler6_i']+1), bins = 'auto', color = 'purple');\n",
    "plt.suptitle(f'Distribution of the Log of Kessler Scores +1', size = 24)\n",
    "plt.xlabel('w1kessler6_i', size = 20);\n",
    "plt.ylabel('Frequency', size = 20);\n",
    "plt.xticks(size = 16, rotation = 60);\n",
    "plt.yticks(size = 16);"
   ]
  },
  {
   "cell_type": "code",
   "execution_count": 15,
   "id": "2ce33382-f68b-4959-b896-4e30aebb2257",
   "metadata": {},
   "outputs": [
    {
     "data": {
      "image/png": "[encoded data removed]",
      "text/plain": [
       "<Figure size 640x480 with 1 Axes>"
      ]
     },
     "metadata": {},
     "output_type": "display_data"
    }
   ],
   "source": [
    "# QQplot of the +1 log\n",
    "sm.qqplot(np.log(meyer['w1kessler6_i']+1), line='45');\n",
    "plt.suptitle(f'QQ-Plot of kessler6_i', size = 20);\n",
    "plt.xticks(size = 14, rotation = 60);\n",
    "plt.yticks(size = 14);\n",
    "plt.tight_layout();"
   ]
  },
  {
   "cell_type": "markdown",
   "id": "9b036af2-caec-4566-99fb-84643b63ff9f",
   "metadata": {},
   "source": [
    "I chose the sqrt."
   ]
  },
  {
   "cell_type": "code",
   "execution_count": 16,
   "id": "1a6fa4cd-9c37-4cab-96a9-e99f290739ad",
   "metadata": {},
   "outputs": [
    {
     "data": {
      "text/plain": [
       "(1494, 132)"
      ]
     },
     "execution_count": 16,
     "metadata": {},
     "output_type": "execute_result"
    }
   ],
   "source": [
    "meyer['kessler6_sqrt'] = (meyer['w1kessler6_i']**0.5)\n",
    "meyer.shape"
   ]
  },
  {
   "cell_type": "code",
   "execution_count": 17,
   "id": "f0fe9282-89b5-4a1c-9998-3c3a866789d5",
   "metadata": {},
   "outputs": [
    {
     "data": {
      "text/plain": [
       "count    1494.000000\n",
       "mean        2.528508\n",
       "std         1.128790\n",
       "min         0.000000\n",
       "25%         1.732051\n",
       "50%         2.645751\n",
       "75%         3.464102\n",
       "max         4.898979\n",
       "Name: kessler6_sqrt, dtype: float64"
      ]
     },
     "execution_count": 17,
     "metadata": {},
     "output_type": "execute_result"
    }
   ],
   "source": [
    "meyer['kessler6_sqrt'].describe()"
   ]
  },
  {
   "cell_type": "code",
   "execution_count": 18,
   "id": "6c8574a4-857a-4893-a63b-f92442c71e0f",
   "metadata": {
    "scrolled": true
   },
   "outputs": [
    {
     "name": "stdout",
     "output_type": "stream",
     "text": [
      "All done!\n"
     ]
    },
    {
     "data": {
      "text/plain": [
       "['plots_2024-06-10_h23-m00-s19',\n",
       " 'plots_2024-06-10_h23-m10-s23',\n",
       " 'plots_2024-06-10_h23-m12-s13']"
      ]
     },
     "execution_count": 18,
     "metadata": {},
     "output_type": "execute_result"
    },
    {
     "data": {
      "text/plain": [
       "<Figure size 900x900 with 0 Axes>"
      ]
     },
     "metadata": {},
     "output_type": "display_data"
    },
    {
     "data": {
      "text/plain": [
       "<Figure size 900x900 with 0 Axes>"
      ]
     },
     "metadata": {},
     "output_type": "display_data"
    },
    {
     "data": {
      "text/plain": [
       "<Figure size 900x900 with 0 Axes>"
      ]
     },
     "metadata": {},
     "output_type": "display_data"
    },
    {
     "data": {
      "text/plain": [
       "<Figure size 900x900 with 0 Axes>"
      ]
     },
     "metadata": {},
     "output_type": "display_data"
    },
    {
     "data": {
      "text/plain": [
       "<Figure size 900x900 with 0 Axes>"
      ]
     },
     "metadata": {},
     "output_type": "display_data"
    },
    {
     "data": {
      "text/plain": [
       "<Figure size 900x900 with 0 Axes>"
      ]
     },
     "metadata": {},
     "output_type": "display_data"
    },
    {
     "data": {
      "text/plain": [
       "<Figure size 900x900 with 0 Axes>"
      ]
     },
     "metadata": {},
     "output_type": "display_data"
    },
    {
     "data": {
      "text/plain": [
       "<Figure size 900x900 with 0 Axes>"
      ]
     },
     "metadata": {},
     "output_type": "display_data"
    },
    {
     "data": {
      "text/plain": [
       "<Figure size 900x900 with 0 Axes>"
      ]
     },
     "metadata": {},
     "output_type": "display_data"
    },
    {
     "data": {
      "text/plain": [
       "<Figure size 900x900 with 0 Axes>"
      ]
     },
     "metadata": {},
     "output_type": "display_data"
    },
    {
     "data": {
      "text/plain": [
       "<Figure size 900x900 with 0 Axes>"
      ]
     },
     "metadata": {},
     "output_type": "display_data"
    },
    {
     "data": {
      "text/plain": [
       "<Figure size 900x900 with 0 Axes>"
      ]
     },
     "metadata": {},
     "output_type": "display_data"
    },
    {
     "data": {
      "text/plain": [
       "<Figure size 900x900 with 0 Axes>"
      ]
     },
     "metadata": {},
     "output_type": "display_data"
    },
    {
     "data": {
      "text/plain": [
       "<Figure size 900x900 with 0 Axes>"
      ]
     },
     "metadata": {},
     "output_type": "display_data"
    },
    {
     "data": {
      "text/plain": [
       "<Figure size 900x900 with 0 Axes>"
      ]
     },
     "metadata": {},
     "output_type": "display_data"
    },
    {
     "data": {
      "text/plain": [
       "<Figure size 900x900 with 0 Axes>"
      ]
     },
     "metadata": {},
     "output_type": "display_data"
    },
    {
     "data": {
      "text/plain": [
       "<Figure size 900x900 with 0 Axes>"
      ]
     },
     "metadata": {},
     "output_type": "display_data"
    },
    {
     "data": {
      "text/plain": [
       "<Figure size 900x900 with 0 Axes>"
      ]
     },
     "metadata": {},
     "output_type": "display_data"
    },
    {
     "data": {
      "text/plain": [
       "<Figure size 900x900 with 0 Axes>"
      ]
     },
     "metadata": {},
     "output_type": "display_data"
    },
    {
     "data": {
      "text/plain": [
       "<Figure size 900x900 with 0 Axes>"
      ]
     },
     "metadata": {},
     "output_type": "display_data"
    },
    {
     "data": {
      "text/plain": [
       "<Figure size 900x900 with 0 Axes>"
      ]
     },
     "metadata": {},
     "output_type": "display_data"
    },
    {
     "data": {
      "text/plain": [
       "<Figure size 900x900 with 0 Axes>"
      ]
     },
     "metadata": {},
     "output_type": "display_data"
    },
    {
     "data": {
      "text/plain": [
       "<Figure size 900x900 with 0 Axes>"
      ]
     },
     "metadata": {},
     "output_type": "display_data"
    },
    {
     "data": {
      "text/plain": [
       "<Figure size 900x900 with 0 Axes>"
      ]
     },
     "metadata": {},
     "output_type": "display_data"
    },
    {
     "data": {
      "text/plain": [
       "<Figure size 900x900 with 0 Axes>"
      ]
     },
     "metadata": {},
     "output_type": "display_data"
    },
    {
     "data": {
      "text/plain": [
       "<Figure size 900x900 with 0 Axes>"
      ]
     },
     "metadata": {},
     "output_type": "display_data"
    },
    {
     "data": {
      "text/plain": [
       "<Figure size 900x900 with 0 Axes>"
      ]
     },
     "metadata": {},
     "output_type": "display_data"
    },
    {
     "data": {
      "text/plain": [
       "<Figure size 900x900 with 0 Axes>"
      ]
     },
     "metadata": {},
     "output_type": "display_data"
    },
    {
     "data": {
      "text/plain": [
       "<Figure size 900x900 with 0 Axes>"
      ]
     },
     "metadata": {},
     "output_type": "display_data"
    },
    {
     "data": {
      "text/plain": [
       "<Figure size 900x900 with 0 Axes>"
      ]
     },
     "metadata": {},
     "output_type": "display_data"
    },
    {
     "data": {
      "text/plain": [
       "<Figure size 900x900 with 0 Axes>"
      ]
     },
     "metadata": {},
     "output_type": "display_data"
    },
    {
     "data": {
      "text/plain": [
       "<Figure size 900x900 with 0 Axes>"
      ]
     },
     "metadata": {},
     "output_type": "display_data"
    },
    {
     "data": {
      "text/plain": [
       "<Figure size 900x900 with 0 Axes>"
      ]
     },
     "metadata": {},
     "output_type": "display_data"
    },
    {
     "data": {
      "text/plain": [
       "<Figure size 900x900 with 0 Axes>"
      ]
     },
     "metadata": {},
     "output_type": "display_data"
    },
    {
     "data": {
      "text/plain": [
       "<Figure size 900x900 with 0 Axes>"
      ]
     },
     "metadata": {},
     "output_type": "display_data"
    },
    {
     "data": {
      "text/plain": [
       "<Figure size 900x900 with 0 Axes>"
      ]
     },
     "metadata": {},
     "output_type": "display_data"
    },
    {
     "data": {
      "text/plain": [
       "<Figure size 900x900 with 0 Axes>"
      ]
     },
     "metadata": {},
     "output_type": "display_data"
    },
    {
     "data": {
      "text/plain": [
       "<Figure size 900x900 with 0 Axes>"
      ]
     },
     "metadata": {},
     "output_type": "display_data"
    },
    {
     "data": {
      "text/plain": [
       "<Figure size 900x900 with 0 Axes>"
      ]
     },
     "metadata": {},
     "output_type": "display_data"
    },
    {
     "data": {
      "text/plain": [
       "<Figure size 900x900 with 0 Axes>"
      ]
     },
     "metadata": {},
     "output_type": "display_data"
    },
    {
     "data": {
      "text/plain": [
       "<Figure size 900x900 with 0 Axes>"
      ]
     },
     "metadata": {},
     "output_type": "display_data"
    },
    {
     "data": {
      "text/plain": [
       "<Figure size 900x900 with 0 Axes>"
      ]
     },
     "metadata": {},
     "output_type": "display_data"
    },
    {
     "data": {
      "text/plain": [
       "<Figure size 900x900 with 0 Axes>"
      ]
     },
     "metadata": {},
     "output_type": "display_data"
    },
    {
     "data": {
      "text/plain": [
       "<Figure size 900x900 with 0 Axes>"
      ]
     },
     "metadata": {},
     "output_type": "display_data"
    },
    {
     "data": {
      "text/plain": [
       "<Figure size 900x900 with 0 Axes>"
      ]
     },
     "metadata": {},
     "output_type": "display_data"
    },
    {
     "data": {
      "text/plain": [
       "<Figure size 900x900 with 0 Axes>"
      ]
     },
     "metadata": {},
     "output_type": "display_data"
    },
    {
     "data": {
      "text/plain": [
       "<Figure size 900x900 with 0 Axes>"
      ]
     },
     "metadata": {},
     "output_type": "display_data"
    },
    {
     "data": {
      "text/plain": [
       "<Figure size 900x900 with 0 Axes>"
      ]
     },
     "metadata": {},
     "output_type": "display_data"
    },
    {
     "data": {
      "text/plain": [
       "<Figure size 900x900 with 0 Axes>"
      ]
     },
     "metadata": {},
     "output_type": "display_data"
    },
    {
     "data": {
      "text/plain": [
       "<Figure size 900x900 with 0 Axes>"
      ]
     },
     "metadata": {},
     "output_type": "display_data"
    },
    {
     "data": {
      "text/plain": [
       "<Figure size 900x900 with 0 Axes>"
      ]
     },
     "metadata": {},
     "output_type": "display_data"
    },
    {
     "data": {
      "text/plain": [
       "<Figure size 900x900 with 0 Axes>"
      ]
     },
     "metadata": {},
     "output_type": "display_data"
    },
    {
     "data": {
      "text/plain": [
       "<Figure size 900x900 with 0 Axes>"
      ]
     },
     "metadata": {},
     "output_type": "display_data"
    },
    {
     "data": {
      "text/plain": [
       "<Figure size 900x900 with 0 Axes>"
      ]
     },
     "metadata": {},
     "output_type": "display_data"
    },
    {
     "data": {
      "text/plain": [
       "<Figure size 900x900 with 0 Axes>"
      ]
     },
     "metadata": {},
     "output_type": "display_data"
    },
    {
     "data": {
      "text/plain": [
       "<Figure size 900x900 with 0 Axes>"
      ]
     },
     "metadata": {},
     "output_type": "display_data"
    },
    {
     "data": {
      "text/plain": [
       "<Figure size 900x900 with 0 Axes>"
      ]
     },
     "metadata": {},
     "output_type": "display_data"
    },
    {
     "data": {
      "text/plain": [
       "<Figure size 900x900 with 0 Axes>"
      ]
     },
     "metadata": {},
     "output_type": "display_data"
    },
    {
     "data": {
      "text/plain": [
       "<Figure size 900x900 with 0 Axes>"
      ]
     },
     "metadata": {},
     "output_type": "display_data"
    },
    {
     "data": {
      "text/plain": [
       "<Figure size 900x900 with 0 Axes>"
      ]
     },
     "metadata": {},
     "output_type": "display_data"
    },
    {
     "data": {
      "text/plain": [
       "<Figure size 900x900 with 0 Axes>"
      ]
     },
     "metadata": {},
     "output_type": "display_data"
    },
    {
     "data": {
      "text/plain": [
       "<Figure size 900x900 with 0 Axes>"
      ]
     },
     "metadata": {},
     "output_type": "display_data"
    },
    {
     "data": {
      "text/plain": [
       "<Figure size 900x900 with 0 Axes>"
      ]
     },
     "metadata": {},
     "output_type": "display_data"
    },
    {
     "data": {
      "text/plain": [
       "<Figure size 900x900 with 0 Axes>"
      ]
     },
     "metadata": {},
     "output_type": "display_data"
    },
    {
     "data": {
      "text/plain": [
       "<Figure size 900x900 with 0 Axes>"
      ]
     },
     "metadata": {},
     "output_type": "display_data"
    },
    {
     "data": {
      "text/plain": [
       "<Figure size 900x900 with 0 Axes>"
      ]
     },
     "metadata": {},
     "output_type": "display_data"
    },
    {
     "data": {
      "text/plain": [
       "<Figure size 900x900 with 0 Axes>"
      ]
     },
     "metadata": {},
     "output_type": "display_data"
    },
    {
     "data": {
      "text/plain": [
       "<Figure size 900x900 with 0 Axes>"
      ]
     },
     "metadata": {},
     "output_type": "display_data"
    },
    {
     "data": {
      "text/plain": [
       "<Figure size 900x900 with 0 Axes>"
      ]
     },
     "metadata": {},
     "output_type": "display_data"
    },
    {
     "data": {
      "text/plain": [
       "<Figure size 900x900 with 0 Axes>"
      ]
     },
     "metadata": {},
     "output_type": "display_data"
    },
    {
     "data": {
      "text/plain": [
       "<Figure size 900x900 with 0 Axes>"
      ]
     },
     "metadata": {},
     "output_type": "display_data"
    },
    {
     "data": {
      "text/plain": [
       "<Figure size 900x900 with 0 Axes>"
      ]
     },
     "metadata": {},
     "output_type": "display_data"
    },
    {
     "data": {
      "text/plain": [
       "<Figure size 900x900 with 0 Axes>"
      ]
     },
     "metadata": {},
     "output_type": "display_data"
    },
    {
     "data": {
      "text/plain": [
       "<Figure size 900x900 with 0 Axes>"
      ]
     },
     "metadata": {},
     "output_type": "display_data"
    },
    {
     "data": {
      "text/plain": [
       "<Figure size 900x900 with 0 Axes>"
      ]
     },
     "metadata": {},
     "output_type": "display_data"
    },
    {
     "data": {
      "text/plain": [
       "<Figure size 900x900 with 0 Axes>"
      ]
     },
     "metadata": {},
     "output_type": "display_data"
    },
    {
     "data": {
      "text/plain": [
       "<Figure size 900x900 with 0 Axes>"
      ]
     },
     "metadata": {},
     "output_type": "display_data"
    },
    {
     "data": {
      "text/plain": [
       "<Figure size 900x900 with 0 Axes>"
      ]
     },
     "metadata": {},
     "output_type": "display_data"
    },
    {
     "data": {
      "text/plain": [
       "<Figure size 900x900 with 0 Axes>"
      ]
     },
     "metadata": {},
     "output_type": "display_data"
    },
    {
     "data": {
      "text/plain": [
       "<Figure size 900x900 with 0 Axes>"
      ]
     },
     "metadata": {},
     "output_type": "display_data"
    },
    {
     "data": {
      "text/plain": [
       "<Figure size 900x900 with 0 Axes>"
      ]
     },
     "metadata": {},
     "output_type": "display_data"
    },
    {
     "data": {
      "text/plain": [
       "<Figure size 900x900 with 0 Axes>"
      ]
     },
     "metadata": {},
     "output_type": "display_data"
    },
    {
     "data": {
      "text/plain": [
       "<Figure size 900x900 with 0 Axes>"
      ]
     },
     "metadata": {},
     "output_type": "display_data"
    },
    {
     "data": {
      "text/plain": [
       "<Figure size 900x900 with 0 Axes>"
      ]
     },
     "metadata": {},
     "output_type": "display_data"
    },
    {
     "data": {
      "text/plain": [
       "<Figure size 900x900 with 0 Axes>"
      ]
     },
     "metadata": {},
     "output_type": "display_data"
    },
    {
     "data": {
      "text/plain": [
       "<Figure size 900x900 with 0 Axes>"
      ]
     },
     "metadata": {},
     "output_type": "display_data"
    },
    {
     "data": {
      "text/plain": [
       "<Figure size 900x900 with 0 Axes>"
      ]
     },
     "metadata": {},
     "output_type": "display_data"
    },
    {
     "data": {
      "text/plain": [
       "<Figure size 900x900 with 0 Axes>"
      ]
     },
     "metadata": {},
     "output_type": "display_data"
    },
    {
     "data": {
      "text/plain": [
       "<Figure size 900x900 with 0 Axes>"
      ]
     },
     "metadata": {},
     "output_type": "display_data"
    },
    {
     "data": {
      "text/plain": [
       "<Figure size 900x900 with 0 Axes>"
      ]
     },
     "metadata": {},
     "output_type": "display_data"
    },
    {
     "data": {
      "text/plain": [
       "<Figure size 900x900 with 0 Axes>"
      ]
     },
     "metadata": {},
     "output_type": "display_data"
    },
    {
     "data": {
      "text/plain": [
       "<Figure size 900x900 with 0 Axes>"
      ]
     },
     "metadata": {},
     "output_type": "display_data"
    },
    {
     "data": {
      "text/plain": [
       "<Figure size 900x900 with 0 Axes>"
      ]
     },
     "metadata": {},
     "output_type": "display_data"
    },
    {
     "data": {
      "text/plain": [
       "<Figure size 900x900 with 0 Axes>"
      ]
     },
     "metadata": {},
     "output_type": "display_data"
    },
    {
     "data": {
      "text/plain": [
       "<Figure size 900x900 with 0 Axes>"
      ]
     },
     "metadata": {},
     "output_type": "display_data"
    },
    {
     "data": {
      "text/plain": [
       "<Figure size 900x900 with 0 Axes>"
      ]
     },
     "metadata": {},
     "output_type": "display_data"
    },
    {
     "data": {
      "text/plain": [
       "<Figure size 900x900 with 0 Axes>"
      ]
     },
     "metadata": {},
     "output_type": "display_data"
    },
    {
     "data": {
      "text/plain": [
       "<Figure size 900x900 with 0 Axes>"
      ]
     },
     "metadata": {},
     "output_type": "display_data"
    },
    {
     "data": {
      "text/plain": [
       "<Figure size 900x900 with 0 Axes>"
      ]
     },
     "metadata": {},
     "output_type": "display_data"
    },
    {
     "data": {
      "text/plain": [
       "<Figure size 900x900 with 0 Axes>"
      ]
     },
     "metadata": {},
     "output_type": "display_data"
    },
    {
     "data": {
      "text/plain": [
       "<Figure size 900x900 with 0 Axes>"
      ]
     },
     "metadata": {},
     "output_type": "display_data"
    },
    {
     "data": {
      "text/plain": [
       "<Figure size 900x900 with 0 Axes>"
      ]
     },
     "metadata": {},
     "output_type": "display_data"
    },
    {
     "data": {
      "text/plain": [
       "<Figure size 900x900 with 0 Axes>"
      ]
     },
     "metadata": {},
     "output_type": "display_data"
    },
    {
     "data": {
      "text/plain": [
       "<Figure size 900x900 with 0 Axes>"
      ]
     },
     "metadata": {},
     "output_type": "display_data"
    },
    {
     "data": {
      "text/plain": [
       "<Figure size 900x900 with 0 Axes>"
      ]
     },
     "metadata": {},
     "output_type": "display_data"
    },
    {
     "data": {
      "text/plain": [
       "<Figure size 900x900 with 0 Axes>"
      ]
     },
     "metadata": {},
     "output_type": "display_data"
    },
    {
     "data": {
      "text/plain": [
       "<Figure size 900x900 with 0 Axes>"
      ]
     },
     "metadata": {},
     "output_type": "display_data"
    },
    {
     "data": {
      "text/plain": [
       "<Figure size 900x900 with 0 Axes>"
      ]
     },
     "metadata": {},
     "output_type": "display_data"
    },
    {
     "data": {
      "text/plain": [
       "<Figure size 900x900 with 0 Axes>"
      ]
     },
     "metadata": {},
     "output_type": "display_data"
    },
    {
     "data": {
      "text/plain": [
       "<Figure size 900x900 with 0 Axes>"
      ]
     },
     "metadata": {},
     "output_type": "display_data"
    },
    {
     "data": {
      "text/plain": [
       "<Figure size 900x900 with 0 Axes>"
      ]
     },
     "metadata": {},
     "output_type": "display_data"
    },
    {
     "data": {
      "text/plain": [
       "<Figure size 900x900 with 0 Axes>"
      ]
     },
     "metadata": {},
     "output_type": "display_data"
    },
    {
     "data": {
      "text/plain": [
       "<Figure size 900x900 with 0 Axes>"
      ]
     },
     "metadata": {},
     "output_type": "display_data"
    },
    {
     "data": {
      "text/plain": [
       "<Figure size 900x900 with 0 Axes>"
      ]
     },
     "metadata": {},
     "output_type": "display_data"
    },
    {
     "data": {
      "text/plain": [
       "<Figure size 900x900 with 0 Axes>"
      ]
     },
     "metadata": {},
     "output_type": "display_data"
    },
    {
     "data": {
      "text/plain": [
       "<Figure size 900x900 with 0 Axes>"
      ]
     },
     "metadata": {},
     "output_type": "display_data"
    },
    {
     "data": {
      "text/plain": [
       "<Figure size 900x900 with 0 Axes>"
      ]
     },
     "metadata": {},
     "output_type": "display_data"
    },
    {
     "data": {
      "text/plain": [
       "<Figure size 900x900 with 0 Axes>"
      ]
     },
     "metadata": {},
     "output_type": "display_data"
    },
    {
     "data": {
      "text/plain": [
       "<Figure size 900x900 with 0 Axes>"
      ]
     },
     "metadata": {},
     "output_type": "display_data"
    },
    {
     "data": {
      "text/plain": [
       "<Figure size 900x900 with 0 Axes>"
      ]
     },
     "metadata": {},
     "output_type": "display_data"
    },
    {
     "data": {
      "text/plain": [
       "<Figure size 900x900 with 0 Axes>"
      ]
     },
     "metadata": {},
     "output_type": "display_data"
    },
    {
     "data": {
      "text/plain": [
       "<Figure size 900x900 with 0 Axes>"
      ]
     },
     "metadata": {},
     "output_type": "display_data"
    },
    {
     "data": {
      "text/plain": [
       "<Figure size 900x900 with 0 Axes>"
      ]
     },
     "metadata": {},
     "output_type": "display_data"
    },
    {
     "data": {
      "text/plain": [
       "<Figure size 900x900 with 0 Axes>"
      ]
     },
     "metadata": {},
     "output_type": "display_data"
    },
    {
     "data": {
      "text/plain": [
       "<Figure size 900x900 with 0 Axes>"
      ]
     },
     "metadata": {},
     "output_type": "display_data"
    },
    {
     "data": {
      "text/plain": [
       "<Figure size 900x900 with 0 Axes>"
      ]
     },
     "metadata": {},
     "output_type": "display_data"
    },
    {
     "data": {
      "text/plain": [
       "<Figure size 900x900 with 0 Axes>"
      ]
     },
     "metadata": {},
     "output_type": "display_data"
    },
    {
     "data": {
      "text/plain": [
       "<Figure size 900x900 with 0 Axes>"
      ]
     },
     "metadata": {},
     "output_type": "display_data"
    },
    {
     "data": {
      "text/plain": [
       "<Figure size 900x900 with 0 Axes>"
      ]
     },
     "metadata": {},
     "output_type": "display_data"
    },
    {
     "data": {
      "text/plain": [
       "<Figure size 900x900 with 0 Axes>"
      ]
     },
     "metadata": {},
     "output_type": "display_data"
    },
    {
     "data": {
      "text/plain": [
       "<Figure size 900x900 with 0 Axes>"
      ]
     },
     "metadata": {},
     "output_type": "display_data"
    },
    {
     "data": {
      "text/plain": [
       "<Figure size 900x900 with 0 Axes>"
      ]
     },
     "metadata": {},
     "output_type": "display_data"
    },
    {
     "data": {
      "text/plain": [
       "<Figure size 900x900 with 0 Axes>"
      ]
     },
     "metadata": {},
     "output_type": "display_data"
    },
    {
     "data": {
      "text/plain": [
       "<Figure size 900x900 with 0 Axes>"
      ]
     },
     "metadata": {},
     "output_type": "display_data"
    },
    {
     "data": {
      "text/plain": [
       "<Figure size 900x900 with 0 Axes>"
      ]
     },
     "metadata": {},
     "output_type": "display_data"
    },
    {
     "data": {
      "text/plain": [
       "<Figure size 900x900 with 0 Axes>"
      ]
     },
     "metadata": {},
     "output_type": "display_data"
    },
    {
     "data": {
      "text/plain": [
       "<Figure size 900x900 with 0 Axes>"
      ]
     },
     "metadata": {},
     "output_type": "display_data"
    },
    {
     "data": {
      "text/plain": [
       "<Figure size 900x900 with 0 Axes>"
      ]
     },
     "metadata": {},
     "output_type": "display_data"
    },
    {
     "data": {
      "text/plain": [
       "<Figure size 900x900 with 0 Axes>"
      ]
     },
     "metadata": {},
     "output_type": "display_data"
    },
    {
     "data": {
      "text/plain": [
       "<Figure size 900x900 with 0 Axes>"
      ]
     },
     "metadata": {},
     "output_type": "display_data"
    },
    {
     "data": {
      "text/plain": [
       "<Figure size 900x900 with 0 Axes>"
      ]
     },
     "metadata": {},
     "output_type": "display_data"
    },
    {
     "data": {
      "text/plain": [
       "<Figure size 900x900 with 0 Axes>"
      ]
     },
     "metadata": {},
     "output_type": "display_data"
    },
    {
     "data": {
      "text/plain": [
       "<Figure size 900x900 with 0 Axes>"
      ]
     },
     "metadata": {},
     "output_type": "display_data"
    },
    {
     "data": {
      "text/plain": [
       "<Figure size 900x900 with 0 Axes>"
      ]
     },
     "metadata": {},
     "output_type": "display_data"
    },
    {
     "data": {
      "text/plain": [
       "<Figure size 900x900 with 0 Axes>"
      ]
     },
     "metadata": {},
     "output_type": "display_data"
    },
    {
     "data": {
      "text/plain": [
       "<Figure size 900x900 with 0 Axes>"
      ]
     },
     "metadata": {},
     "output_type": "display_data"
    },
    {
     "data": {
      "text/plain": [
       "<Figure size 900x900 with 0 Axes>"
      ]
     },
     "metadata": {},
     "output_type": "display_data"
    },
    {
     "data": {
      "text/plain": [
       "<Figure size 900x900 with 0 Axes>"
      ]
     },
     "metadata": {},
     "output_type": "display_data"
    },
    {
     "data": {
      "text/plain": [
       "<Figure size 900x900 with 0 Axes>"
      ]
     },
     "metadata": {},
     "output_type": "display_data"
    },
    {
     "data": {
      "text/plain": [
       "<Figure size 900x900 with 0 Axes>"
      ]
     },
     "metadata": {},
     "output_type": "display_data"
    },
    {
     "data": {
      "text/plain": [
       "<Figure size 900x900 with 0 Axes>"
      ]
     },
     "metadata": {},
     "output_type": "display_data"
    },
    {
     "data": {
      "text/plain": [
       "<Figure size 900x900 with 0 Axes>"
      ]
     },
     "metadata": {},
     "output_type": "display_data"
    },
    {
     "data": {
      "text/plain": [
       "<Figure size 900x900 with 0 Axes>"
      ]
     },
     "metadata": {},
     "output_type": "display_data"
    },
    {
     "data": {
      "text/plain": [
       "<Figure size 900x900 with 0 Axes>"
      ]
     },
     "metadata": {},
     "output_type": "display_data"
    },
    {
     "data": {
      "text/plain": [
       "<Figure size 900x900 with 0 Axes>"
      ]
     },
     "metadata": {},
     "output_type": "display_data"
    },
    {
     "data": {
      "text/plain": [
       "<Figure size 900x900 with 0 Axes>"
      ]
     },
     "metadata": {},
     "output_type": "display_data"
    },
    {
     "data": {
      "text/plain": [
       "<Figure size 900x900 with 0 Axes>"
      ]
     },
     "metadata": {},
     "output_type": "display_data"
    },
    {
     "data": {
      "text/plain": [
       "<Figure size 900x900 with 0 Axes>"
      ]
     },
     "metadata": {},
     "output_type": "display_data"
    },
    {
     "data": {
      "text/plain": [
       "<Figure size 900x900 with 0 Axes>"
      ]
     },
     "metadata": {},
     "output_type": "display_data"
    },
    {
     "data": {
      "text/plain": [
       "<Figure size 900x900 with 0 Axes>"
      ]
     },
     "metadata": {},
     "output_type": "display_data"
    },
    {
     "data": {
      "text/plain": [
       "<Figure size 900x900 with 0 Axes>"
      ]
     },
     "metadata": {},
     "output_type": "display_data"
    },
    {
     "data": {
      "text/plain": [
       "<Figure size 900x900 with 0 Axes>"
      ]
     },
     "metadata": {},
     "output_type": "display_data"
    },
    {
     "data": {
      "text/plain": [
       "<Figure size 900x900 with 0 Axes>"
      ]
     },
     "metadata": {},
     "output_type": "display_data"
    },
    {
     "data": {
      "text/plain": [
       "<Figure size 900x900 with 0 Axes>"
      ]
     },
     "metadata": {},
     "output_type": "display_data"
    },
    {
     "data": {
      "text/plain": [
       "<Figure size 900x900 with 0 Axes>"
      ]
     },
     "metadata": {},
     "output_type": "display_data"
    },
    {
     "data": {
      "text/plain": [
       "<Figure size 900x900 with 0 Axes>"
      ]
     },
     "metadata": {},
     "output_type": "display_data"
    },
    {
     "data": {
      "text/plain": [
       "<Figure size 900x900 with 0 Axes>"
      ]
     },
     "metadata": {},
     "output_type": "display_data"
    },
    {
     "data": {
      "text/plain": [
       "<Figure size 900x900 with 0 Axes>"
      ]
     },
     "metadata": {},
     "output_type": "display_data"
    },
    {
     "data": {
      "text/plain": [
       "<Figure size 900x900 with 0 Axes>"
      ]
     },
     "metadata": {},
     "output_type": "display_data"
    },
    {
     "data": {
      "text/plain": [
       "<Figure size 900x900 with 0 Axes>"
      ]
     },
     "metadata": {},
     "output_type": "display_data"
    },
    {
     "data": {
      "text/plain": [
       "<Figure size 900x900 with 0 Axes>"
      ]
     },
     "metadata": {},
     "output_type": "display_data"
    },
    {
     "data": {
      "text/plain": [
       "<Figure size 900x900 with 0 Axes>"
      ]
     },
     "metadata": {},
     "output_type": "display_data"
    },
    {
     "data": {
      "text/plain": [
       "<Figure size 900x900 with 0 Axes>"
      ]
     },
     "metadata": {},
     "output_type": "display_data"
    },
    {
     "data": {
      "text/plain": [
       "<Figure size 900x900 with 0 Axes>"
      ]
     },
     "metadata": {},
     "output_type": "display_data"
    },
    {
     "data": {
      "text/plain": [
       "<Figure size 900x900 with 0 Axes>"
      ]
     },
     "metadata": {},
     "output_type": "display_data"
    },
    {
     "data": {
      "text/plain": [
       "<Figure size 900x900 with 0 Axes>"
      ]
     },
     "metadata": {},
     "output_type": "display_data"
    },
    {
     "data": {
      "text/plain": [
       "<Figure size 900x900 with 0 Axes>"
      ]
     },
     "metadata": {},
     "output_type": "display_data"
    },
    {
     "data": {
      "text/plain": [
       "<Figure size 900x900 with 0 Axes>"
      ]
     },
     "metadata": {},
     "output_type": "display_data"
    },
    {
     "data": {
      "text/plain": [
       "<Figure size 900x900 with 0 Axes>"
      ]
     },
     "metadata": {},
     "output_type": "display_data"
    },
    {
     "data": {
      "text/plain": [
       "<Figure size 900x900 with 0 Axes>"
      ]
     },
     "metadata": {},
     "output_type": "display_data"
    },
    {
     "data": {
      "text/plain": [
       "<Figure size 900x900 with 0 Axes>"
      ]
     },
     "metadata": {},
     "output_type": "display_data"
    },
    {
     "data": {
      "text/plain": [
       "<Figure size 900x900 with 0 Axes>"
      ]
     },
     "metadata": {},
     "output_type": "display_data"
    },
    {
     "data": {
      "text/plain": [
       "<Figure size 900x900 with 0 Axes>"
      ]
     },
     "metadata": {},
     "output_type": "display_data"
    },
    {
     "data": {
      "text/plain": [
       "<Figure size 900x900 with 0 Axes>"
      ]
     },
     "metadata": {},
     "output_type": "display_data"
    },
    {
     "data": {
      "text/plain": [
       "<Figure size 900x900 with 0 Axes>"
      ]
     },
     "metadata": {},
     "output_type": "display_data"
    },
    {
     "data": {
      "text/plain": [
       "<Figure size 900x900 with 0 Axes>"
      ]
     },
     "metadata": {},
     "output_type": "display_data"
    },
    {
     "data": {
      "text/plain": [
       "<Figure size 900x900 with 0 Axes>"
      ]
     },
     "metadata": {},
     "output_type": "display_data"
    },
    {
     "data": {
      "text/plain": [
       "<Figure size 900x900 with 0 Axes>"
      ]
     },
     "metadata": {},
     "output_type": "display_data"
    },
    {
     "data": {
      "text/plain": [
       "<Figure size 900x900 with 0 Axes>"
      ]
     },
     "metadata": {},
     "output_type": "display_data"
    },
    {
     "data": {
      "text/plain": [
       "<Figure size 900x900 with 0 Axes>"
      ]
     },
     "metadata": {},
     "output_type": "display_data"
    },
    {
     "data": {
      "text/plain": [
       "<Figure size 900x900 with 0 Axes>"
      ]
     },
     "metadata": {},
     "output_type": "display_data"
    },
    {
     "data": {
      "text/plain": [
       "<Figure size 900x900 with 0 Axes>"
      ]
     },
     "metadata": {},
     "output_type": "display_data"
    },
    {
     "data": {
      "text/plain": [
       "<Figure size 900x900 with 0 Axes>"
      ]
     },
     "metadata": {},
     "output_type": "display_data"
    },
    {
     "data": {
      "text/plain": [
       "<Figure size 900x900 with 0 Axes>"
      ]
     },
     "metadata": {},
     "output_type": "display_data"
    },
    {
     "data": {
      "text/plain": [
       "<Figure size 900x900 with 0 Axes>"
      ]
     },
     "metadata": {},
     "output_type": "display_data"
    },
    {
     "data": {
      "text/plain": [
       "<Figure size 900x900 with 0 Axes>"
      ]
     },
     "metadata": {},
     "output_type": "display_data"
    },
    {
     "data": {
      "text/plain": [
       "<Figure size 900x900 with 0 Axes>"
      ]
     },
     "metadata": {},
     "output_type": "display_data"
    },
    {
     "data": {
      "text/plain": [
       "<Figure size 900x900 with 0 Axes>"
      ]
     },
     "metadata": {},
     "output_type": "display_data"
    },
    {
     "data": {
      "text/plain": [
       "<Figure size 900x900 with 0 Axes>"
      ]
     },
     "metadata": {},
     "output_type": "display_data"
    },
    {
     "data": {
      "text/plain": [
       "<Figure size 900x900 with 0 Axes>"
      ]
     },
     "metadata": {},
     "output_type": "display_data"
    },
    {
     "data": {
      "text/plain": [
       "<Figure size 900x900 with 0 Axes>"
      ]
     },
     "metadata": {},
     "output_type": "display_data"
    },
    {
     "data": {
      "text/plain": [
       "<Figure size 900x900 with 0 Axes>"
      ]
     },
     "metadata": {},
     "output_type": "display_data"
    },
    {
     "data": {
      "text/plain": [
       "<Figure size 900x900 with 0 Axes>"
      ]
     },
     "metadata": {},
     "output_type": "display_data"
    },
    {
     "data": {
      "text/plain": [
       "<Figure size 900x900 with 0 Axes>"
      ]
     },
     "metadata": {},
     "output_type": "display_data"
    },
    {
     "data": {
      "text/plain": [
       "<Figure size 900x900 with 0 Axes>"
      ]
     },
     "metadata": {},
     "output_type": "display_data"
    },
    {
     "data": {
      "text/plain": [
       "<Figure size 900x900 with 0 Axes>"
      ]
     },
     "metadata": {},
     "output_type": "display_data"
    },
    {
     "data": {
      "text/plain": [
       "<Figure size 900x900 with 0 Axes>"
      ]
     },
     "metadata": {},
     "output_type": "display_data"
    },
    {
     "data": {
      "text/plain": [
       "<Figure size 900x900 with 0 Axes>"
      ]
     },
     "metadata": {},
     "output_type": "display_data"
    },
    {
     "data": {
      "text/plain": [
       "<Figure size 900x900 with 0 Axes>"
      ]
     },
     "metadata": {},
     "output_type": "display_data"
    },
    {
     "data": {
      "text/plain": [
       "<Figure size 900x900 with 0 Axes>"
      ]
     },
     "metadata": {},
     "output_type": "display_data"
    },
    {
     "data": {
      "text/plain": [
       "<Figure size 900x900 with 0 Axes>"
      ]
     },
     "metadata": {},
     "output_type": "display_data"
    },
    {
     "data": {
      "text/plain": [
       "<Figure size 900x900 with 0 Axes>"
      ]
     },
     "metadata": {},
     "output_type": "display_data"
    },
    {
     "data": {
      "text/plain": [
       "<Figure size 900x900 with 0 Axes>"
      ]
     },
     "metadata": {},
     "output_type": "display_data"
    },
    {
     "data": {
      "text/plain": [
       "<Figure size 900x900 with 0 Axes>"
      ]
     },
     "metadata": {},
     "output_type": "display_data"
    },
    {
     "data": {
      "text/plain": [
       "<Figure size 900x900 with 0 Axes>"
      ]
     },
     "metadata": {},
     "output_type": "display_data"
    },
    {
     "data": {
      "text/plain": [
       "<Figure size 900x900 with 0 Axes>"
      ]
     },
     "metadata": {},
     "output_type": "display_data"
    },
    {
     "data": {
      "text/plain": [
       "<Figure size 900x900 with 0 Axes>"
      ]
     },
     "metadata": {},
     "output_type": "display_data"
    },
    {
     "data": {
      "text/plain": [
       "<Figure size 900x900 with 0 Axes>"
      ]
     },
     "metadata": {},
     "output_type": "display_data"
    },
    {
     "data": {
      "text/plain": [
       "<Figure size 900x900 with 0 Axes>"
      ]
     },
     "metadata": {},
     "output_type": "display_data"
    },
    {
     "data": {
      "text/plain": [
       "<Figure size 900x900 with 0 Axes>"
      ]
     },
     "metadata": {},
     "output_type": "display_data"
    },
    {
     "data": {
      "text/plain": [
       "<Figure size 900x900 with 0 Axes>"
      ]
     },
     "metadata": {},
     "output_type": "display_data"
    },
    {
     "data": {
      "text/plain": [
       "<Figure size 900x900 with 0 Axes>"
      ]
     },
     "metadata": {},
     "output_type": "display_data"
    },
    {
     "data": {
      "text/plain": [
       "<Figure size 900x900 with 0 Axes>"
      ]
     },
     "metadata": {},
     "output_type": "display_data"
    },
    {
     "data": {
      "text/plain": [
       "<Figure size 900x900 with 0 Axes>"
      ]
     },
     "metadata": {},
     "output_type": "display_data"
    },
    {
     "data": {
      "text/plain": [
       "<Figure size 900x900 with 0 Axes>"
      ]
     },
     "metadata": {},
     "output_type": "display_data"
    },
    {
     "data": {
      "text/plain": [
       "<Figure size 900x900 with 0 Axes>"
      ]
     },
     "metadata": {},
     "output_type": "display_data"
    },
    {
     "data": {
      "text/plain": [
       "<Figure size 900x900 with 0 Axes>"
      ]
     },
     "metadata": {},
     "output_type": "display_data"
    },
    {
     "data": {
      "text/plain": [
       "<Figure size 900x900 with 0 Axes>"
      ]
     },
     "metadata": {},
     "output_type": "display_data"
    },
    {
     "data": {
      "text/plain": [
       "<Figure size 900x900 with 0 Axes>"
      ]
     },
     "metadata": {},
     "output_type": "display_data"
    },
    {
     "data": {
      "text/plain": [
       "<Figure size 900x900 with 0 Axes>"
      ]
     },
     "metadata": {},
     "output_type": "display_data"
    },
    {
     "data": {
      "text/plain": [
       "<Figure size 900x900 with 0 Axes>"
      ]
     },
     "metadata": {},
     "output_type": "display_data"
    },
    {
     "data": {
      "text/plain": [
       "<Figure size 900x900 with 0 Axes>"
      ]
     },
     "metadata": {},
     "output_type": "display_data"
    },
    {
     "data": {
      "text/plain": [
       "<Figure size 900x900 with 0 Axes>"
      ]
     },
     "metadata": {},
     "output_type": "display_data"
    },
    {
     "data": {
      "text/plain": [
       "<Figure size 900x900 with 0 Axes>"
      ]
     },
     "metadata": {},
     "output_type": "display_data"
    },
    {
     "data": {
      "text/plain": [
       "<Figure size 900x900 with 0 Axes>"
      ]
     },
     "metadata": {},
     "output_type": "display_data"
    },
    {
     "data": {
      "text/plain": [
       "<Figure size 900x900 with 0 Axes>"
      ]
     },
     "metadata": {},
     "output_type": "display_data"
    },
    {
     "data": {
      "text/plain": [
       "<Figure size 900x900 with 0 Axes>"
      ]
     },
     "metadata": {},
     "output_type": "display_data"
    },
    {
     "data": {
      "text/plain": [
       "<Figure size 900x900 with 0 Axes>"
      ]
     },
     "metadata": {},
     "output_type": "display_data"
    },
    {
     "data": {
      "text/plain": [
       "<Figure size 900x900 with 0 Axes>"
      ]
     },
     "metadata": {},
     "output_type": "display_data"
    },
    {
     "data": {
      "text/plain": [
       "<Figure size 900x900 with 0 Axes>"
      ]
     },
     "metadata": {},
     "output_type": "display_data"
    },
    {
     "data": {
      "text/plain": [
       "<Figure size 900x900 with 0 Axes>"
      ]
     },
     "metadata": {},
     "output_type": "display_data"
    },
    {
     "data": {
      "text/plain": [
       "<Figure size 900x900 with 0 Axes>"
      ]
     },
     "metadata": {},
     "output_type": "display_data"
    },
    {
     "data": {
      "text/plain": [
       "<Figure size 900x900 with 0 Axes>"
      ]
     },
     "metadata": {},
     "output_type": "display_data"
    },
    {
     "data": {
      "text/plain": [
       "<Figure size 900x900 with 0 Axes>"
      ]
     },
     "metadata": {},
     "output_type": "display_data"
    },
    {
     "data": {
      "text/plain": [
       "<Figure size 900x900 with 0 Axes>"
      ]
     },
     "metadata": {},
     "output_type": "display_data"
    },
    {
     "data": {
      "text/plain": [
       "<Figure size 900x900 with 0 Axes>"
      ]
     },
     "metadata": {},
     "output_type": "display_data"
    },
    {
     "data": {
      "text/plain": [
       "<Figure size 900x900 with 0 Axes>"
      ]
     },
     "metadata": {},
     "output_type": "display_data"
    },
    {
     "data": {
      "text/plain": [
       "<Figure size 900x900 with 0 Axes>"
      ]
     },
     "metadata": {},
     "output_type": "display_data"
    },
    {
     "data": {
      "text/plain": [
       "<Figure size 900x900 with 0 Axes>"
      ]
     },
     "metadata": {},
     "output_type": "display_data"
    },
    {
     "data": {
      "text/plain": [
       "<Figure size 900x900 with 0 Axes>"
      ]
     },
     "metadata": {},
     "output_type": "display_data"
    },
    {
     "data": {
      "text/plain": [
       "<Figure size 900x900 with 0 Axes>"
      ]
     },
     "metadata": {},
     "output_type": "display_data"
    },
    {
     "data": {
      "text/plain": [
       "<Figure size 900x900 with 0 Axes>"
      ]
     },
     "metadata": {},
     "output_type": "display_data"
    },
    {
     "data": {
      "text/plain": [
       "<Figure size 900x900 with 0 Axes>"
      ]
     },
     "metadata": {},
     "output_type": "display_data"
    },
    {
     "data": {
      "text/plain": [
       "<Figure size 900x900 with 0 Axes>"
      ]
     },
     "metadata": {},
     "output_type": "display_data"
    },
    {
     "data": {
      "text/plain": [
       "<Figure size 900x900 with 0 Axes>"
      ]
     },
     "metadata": {},
     "output_type": "display_data"
    },
    {
     "data": {
      "text/plain": [
       "<Figure size 900x900 with 0 Axes>"
      ]
     },
     "metadata": {},
     "output_type": "display_data"
    },
    {
     "data": {
      "text/plain": [
       "<Figure size 900x900 with 0 Axes>"
      ]
     },
     "metadata": {},
     "output_type": "display_data"
    },
    {
     "data": {
      "text/plain": [
       "<Figure size 900x900 with 0 Axes>"
      ]
     },
     "metadata": {},
     "output_type": "display_data"
    },
    {
     "data": {
      "text/plain": [
       "<Figure size 900x900 with 0 Axes>"
      ]
     },
     "metadata": {},
     "output_type": "display_data"
    },
    {
     "data": {
      "text/plain": [
       "<Figure size 900x900 with 0 Axes>"
      ]
     },
     "metadata": {},
     "output_type": "display_data"
    },
    {
     "data": {
      "text/plain": [
       "<Figure size 900x900 with 0 Axes>"
      ]
     },
     "metadata": {},
     "output_type": "display_data"
    },
    {
     "data": {
      "text/plain": [
       "<Figure size 900x900 with 0 Axes>"
      ]
     },
     "metadata": {},
     "output_type": "display_data"
    },
    {
     "data": {
      "text/plain": [
       "<Figure size 900x900 with 0 Axes>"
      ]
     },
     "metadata": {},
     "output_type": "display_data"
    },
    {
     "data": {
      "text/plain": [
       "<Figure size 900x900 with 0 Axes>"
      ]
     },
     "metadata": {},
     "output_type": "display_data"
    },
    {
     "data": {
      "text/plain": [
       "<Figure size 900x900 with 0 Axes>"
      ]
     },
     "metadata": {},
     "output_type": "display_data"
    },
    {
     "data": {
      "text/plain": [
       "<Figure size 900x900 with 0 Axes>"
      ]
     },
     "metadata": {},
     "output_type": "display_data"
    },
    {
     "data": {
      "text/plain": [
       "<Figure size 900x900 with 0 Axes>"
      ]
     },
     "metadata": {},
     "output_type": "display_data"
    },
    {
     "data": {
      "text/plain": [
       "<Figure size 900x900 with 0 Axes>"
      ]
     },
     "metadata": {},
     "output_type": "display_data"
    },
    {
     "data": {
      "text/plain": [
       "<Figure size 900x900 with 0 Axes>"
      ]
     },
     "metadata": {},
     "output_type": "display_data"
    },
    {
     "data": {
      "text/plain": [
       "<Figure size 900x900 with 0 Axes>"
      ]
     },
     "metadata": {},
     "output_type": "display_data"
    },
    {
     "data": {
      "text/plain": [
       "<Figure size 900x900 with 0 Axes>"
      ]
     },
     "metadata": {},
     "output_type": "display_data"
    },
    {
     "data": {
      "text/plain": [
       "<Figure size 900x900 with 0 Axes>"
      ]
     },
     "metadata": {},
     "output_type": "display_data"
    },
    {
     "data": {
      "text/plain": [
       "<Figure size 900x900 with 0 Axes>"
      ]
     },
     "metadata": {},
     "output_type": "display_data"
    },
    {
     "data": {
      "text/plain": [
       "<Figure size 900x900 with 0 Axes>"
      ]
     },
     "metadata": {},
     "output_type": "display_data"
    },
    {
     "data": {
      "text/plain": [
       "<Figure size 900x900 with 0 Axes>"
      ]
     },
     "metadata": {},
     "output_type": "display_data"
    },
    {
     "data": {
      "text/plain": [
       "<Figure size 900x900 with 0 Axes>"
      ]
     },
     "metadata": {},
     "output_type": "display_data"
    },
    {
     "data": {
      "text/plain": [
       "<Figure size 900x900 with 0 Axes>"
      ]
     },
     "metadata": {},
     "output_type": "display_data"
    },
    {
     "data": {
      "text/plain": [
       "<Figure size 900x900 with 0 Axes>"
      ]
     },
     "metadata": {},
     "output_type": "display_data"
    },
    {
     "data": {
      "text/plain": [
       "<Figure size 900x900 with 0 Axes>"
      ]
     },
     "metadata": {},
     "output_type": "display_data"
    },
    {
     "data": {
      "text/plain": [
       "<Figure size 900x900 with 0 Axes>"
      ]
     },
     "metadata": {},
     "output_type": "display_data"
    },
    {
     "data": {
      "text/plain": [
       "<Figure size 900x900 with 0 Axes>"
      ]
     },
     "metadata": {},
     "output_type": "display_data"
    },
    {
     "data": {
      "text/plain": [
       "<Figure size 900x900 with 0 Axes>"
      ]
     },
     "metadata": {},
     "output_type": "display_data"
    },
    {
     "data": {
      "text/plain": [
       "<Figure size 900x900 with 0 Axes>"
      ]
     },
     "metadata": {},
     "output_type": "display_data"
    },
    {
     "data": {
      "text/plain": [
       "<Figure size 900x900 with 0 Axes>"
      ]
     },
     "metadata": {},
     "output_type": "display_data"
    },
    {
     "data": {
      "text/plain": [
       "<Figure size 900x900 with 0 Axes>"
      ]
     },
     "metadata": {},
     "output_type": "display_data"
    },
    {
     "data": {
      "text/plain": [
       "<Figure size 900x900 with 0 Axes>"
      ]
     },
     "metadata": {},
     "output_type": "display_data"
    },
    {
     "data": {
      "text/plain": [
       "<Figure size 900x900 with 0 Axes>"
      ]
     },
     "metadata": {},
     "output_type": "display_data"
    },
    {
     "data": {
      "text/plain": [
       "<Figure size 900x900 with 0 Axes>"
      ]
     },
     "metadata": {},
     "output_type": "display_data"
    },
    {
     "data": {
      "text/plain": [
       "<Figure size 900x900 with 0 Axes>"
      ]
     },
     "metadata": {},
     "output_type": "display_data"
    },
    {
     "data": {
      "text/plain": [
       "<Figure size 900x900 with 0 Axes>"
      ]
     },
     "metadata": {},
     "output_type": "display_data"
    },
    {
     "data": {
      "text/plain": [
       "<Figure size 900x900 with 0 Axes>"
      ]
     },
     "metadata": {},
     "output_type": "display_data"
    },
    {
     "data": {
      "text/plain": [
       "<Figure size 900x900 with 0 Axes>"
      ]
     },
     "metadata": {},
     "output_type": "display_data"
    },
    {
     "data": {
      "text/plain": [
       "<Figure size 900x900 with 0 Axes>"
      ]
     },
     "metadata": {},
     "output_type": "display_data"
    },
    {
     "data": {
      "text/plain": [
       "<Figure size 900x900 with 0 Axes>"
      ]
     },
     "metadata": {},
     "output_type": "display_data"
    },
    {
     "data": {
      "text/plain": [
       "<Figure size 900x900 with 0 Axes>"
      ]
     },
     "metadata": {},
     "output_type": "display_data"
    },
    {
     "data": {
      "text/plain": [
       "<Figure size 900x900 with 0 Axes>"
      ]
     },
     "metadata": {},
     "output_type": "display_data"
    },
    {
     "data": {
      "text/plain": [
       "<Figure size 900x900 with 0 Axes>"
      ]
     },
     "metadata": {},
     "output_type": "display_data"
    },
    {
     "data": {
      "text/plain": [
       "<Figure size 900x900 with 0 Axes>"
      ]
     },
     "metadata": {},
     "output_type": "display_data"
    },
    {
     "data": {
      "text/plain": [
       "<Figure size 900x900 with 0 Axes>"
      ]
     },
     "metadata": {},
     "output_type": "display_data"
    },
    {
     "data": {
      "text/plain": [
       "<Figure size 900x900 with 0 Axes>"
      ]
     },
     "metadata": {},
     "output_type": "display_data"
    },
    {
     "data": {
      "text/plain": [
       "<Figure size 900x900 with 0 Axes>"
      ]
     },
     "metadata": {},
     "output_type": "display_data"
    },
    {
     "data": {
      "text/plain": [
       "<Figure size 900x900 with 0 Axes>"
      ]
     },
     "metadata": {},
     "output_type": "display_data"
    },
    {
     "data": {
      "text/plain": [
       "<Figure size 900x900 with 0 Axes>"
      ]
     },
     "metadata": {},
     "output_type": "display_data"
    },
    {
     "data": {
      "text/plain": [
       "<Figure size 900x900 with 0 Axes>"
      ]
     },
     "metadata": {},
     "output_type": "display_data"
    },
    {
     "data": {
      "text/plain": [
       "<Figure size 900x900 with 0 Axes>"
      ]
     },
     "metadata": {},
     "output_type": "display_data"
    },
    {
     "data": {
      "text/plain": [
       "<Figure size 900x900 with 0 Axes>"
      ]
     },
     "metadata": {},
     "output_type": "display_data"
    },
    {
     "data": {
      "text/plain": [
       "<Figure size 900x900 with 0 Axes>"
      ]
     },
     "metadata": {},
     "output_type": "display_data"
    },
    {
     "data": {
      "text/plain": [
       "<Figure size 900x900 with 0 Axes>"
      ]
     },
     "metadata": {},
     "output_type": "display_data"
    },
    {
     "data": {
      "text/plain": [
       "<Figure size 900x900 with 0 Axes>"
      ]
     },
     "metadata": {},
     "output_type": "display_data"
    },
    {
     "data": {
      "text/plain": [
       "<Figure size 900x900 with 0 Axes>"
      ]
     },
     "metadata": {},
     "output_type": "display_data"
    },
    {
     "data": {
      "text/plain": [
       "<Figure size 900x900 with 0 Axes>"
      ]
     },
     "metadata": {},
     "output_type": "display_data"
    },
    {
     "data": {
      "text/plain": [
       "<Figure size 900x900 with 0 Axes>"
      ]
     },
     "metadata": {},
     "output_type": "display_data"
    },
    {
     "data": {
      "text/plain": [
       "<Figure size 900x900 with 0 Axes>"
      ]
     },
     "metadata": {},
     "output_type": "display_data"
    },
    {
     "data": {
      "text/plain": [
       "<Figure size 900x900 with 0 Axes>"
      ]
     },
     "metadata": {},
     "output_type": "display_data"
    },
    {
     "data": {
      "text/plain": [
       "<Figure size 900x900 with 0 Axes>"
      ]
     },
     "metadata": {},
     "output_type": "display_data"
    },
    {
     "data": {
      "text/plain": [
       "<Figure size 900x900 with 0 Axes>"
      ]
     },
     "metadata": {},
     "output_type": "display_data"
    },
    {
     "data": {
      "text/plain": [
       "<Figure size 900x900 with 0 Axes>"
      ]
     },
     "metadata": {},
     "output_type": "display_data"
    },
    {
     "data": {
      "text/plain": [
       "<Figure size 900x900 with 0 Axes>"
      ]
     },
     "metadata": {},
     "output_type": "display_data"
    },
    {
     "data": {
      "text/plain": [
       "<Figure size 900x900 with 0 Axes>"
      ]
     },
     "metadata": {},
     "output_type": "display_data"
    },
    {
     "data": {
      "text/plain": [
       "<Figure size 900x900 with 0 Axes>"
      ]
     },
     "metadata": {},
     "output_type": "display_data"
    },
    {
     "data": {
      "text/plain": [
       "<Figure size 900x900 with 0 Axes>"
      ]
     },
     "metadata": {},
     "output_type": "display_data"
    },
    {
     "data": {
      "text/plain": [
       "<Figure size 900x900 with 0 Axes>"
      ]
     },
     "metadata": {},
     "output_type": "display_data"
    },
    {
     "data": {
      "text/plain": [
       "<Figure size 900x900 with 0 Axes>"
      ]
     },
     "metadata": {},
     "output_type": "display_data"
    },
    {
     "data": {
      "text/plain": [
       "<Figure size 900x900 with 0 Axes>"
      ]
     },
     "metadata": {},
     "output_type": "display_data"
    },
    {
     "data": {
      "text/plain": [
       "<Figure size 900x900 with 0 Axes>"
      ]
     },
     "metadata": {},
     "output_type": "display_data"
    },
    {
     "data": {
      "text/plain": [
       "<Figure size 900x900 with 0 Axes>"
      ]
     },
     "metadata": {},
     "output_type": "display_data"
    },
    {
     "data": {
      "text/plain": [
       "<Figure size 900x900 with 0 Axes>"
      ]
     },
     "metadata": {},
     "output_type": "display_data"
    },
    {
     "data": {
      "text/plain": [
       "<Figure size 900x900 with 0 Axes>"
      ]
     },
     "metadata": {},
     "output_type": "display_data"
    },
    {
     "data": {
      "text/plain": [
       "<Figure size 900x900 with 0 Axes>"
      ]
     },
     "metadata": {},
     "output_type": "display_data"
    },
    {
     "data": {
      "text/plain": [
       "<Figure size 900x900 with 0 Axes>"
      ]
     },
     "metadata": {},
     "output_type": "display_data"
    },
    {
     "data": {
      "text/plain": [
       "<Figure size 900x900 with 0 Axes>"
      ]
     },
     "metadata": {},
     "output_type": "display_data"
    },
    {
     "data": {
      "text/plain": [
       "<Figure size 900x900 with 0 Axes>"
      ]
     },
     "metadata": {},
     "output_type": "display_data"
    },
    {
     "data": {
      "text/plain": [
       "<Figure size 900x900 with 0 Axes>"
      ]
     },
     "metadata": {},
     "output_type": "display_data"
    },
    {
     "data": {
      "text/plain": [
       "<Figure size 900x900 with 0 Axes>"
      ]
     },
     "metadata": {},
     "output_type": "display_data"
    },
    {
     "data": {
      "text/plain": [
       "<Figure size 900x900 with 0 Axes>"
      ]
     },
     "metadata": {},
     "output_type": "display_data"
    },
    {
     "data": {
      "text/plain": [
       "<Figure size 900x900 with 0 Axes>"
      ]
     },
     "metadata": {},
     "output_type": "display_data"
    },
    {
     "data": {
      "text/plain": [
       "<Figure size 900x900 with 0 Axes>"
      ]
     },
     "metadata": {},
     "output_type": "display_data"
    },
    {
     "data": {
      "text/plain": [
       "<Figure size 900x900 with 0 Axes>"
      ]
     },
     "metadata": {},
     "output_type": "display_data"
    },
    {
     "data": {
      "text/plain": [
       "<Figure size 900x900 with 0 Axes>"
      ]
     },
     "metadata": {},
     "output_type": "display_data"
    },
    {
     "data": {
      "text/plain": [
       "<Figure size 900x900 with 0 Axes>"
      ]
     },
     "metadata": {},
     "output_type": "display_data"
    },
    {
     "data": {
      "text/plain": [
       "<Figure size 900x900 with 0 Axes>"
      ]
     },
     "metadata": {},
     "output_type": "display_data"
    },
    {
     "data": {
      "text/plain": [
       "<Figure size 900x900 with 0 Axes>"
      ]
     },
     "metadata": {},
     "output_type": "display_data"
    },
    {
     "data": {
      "text/plain": [
       "<Figure size 900x900 with 0 Axes>"
      ]
     },
     "metadata": {},
     "output_type": "display_data"
    },
    {
     "data": {
      "text/plain": [
       "<Figure size 900x900 with 0 Axes>"
      ]
     },
     "metadata": {},
     "output_type": "display_data"
    },
    {
     "data": {
      "text/plain": [
       "<Figure size 900x900 with 0 Axes>"
      ]
     },
     "metadata": {},
     "output_type": "display_data"
    },
    {
     "data": {
      "text/plain": [
       "<Figure size 900x900 with 0 Axes>"
      ]
     },
     "metadata": {},
     "output_type": "display_data"
    },
    {
     "data": {
      "text/plain": [
       "<Figure size 900x900 with 0 Axes>"
      ]
     },
     "metadata": {},
     "output_type": "display_data"
    },
    {
     "data": {
      "text/plain": [
       "<Figure size 900x900 with 0 Axes>"
      ]
     },
     "metadata": {},
     "output_type": "display_data"
    },
    {
     "data": {
      "text/plain": [
       "<Figure size 900x900 with 0 Axes>"
      ]
     },
     "metadata": {},
     "output_type": "display_data"
    },
    {
     "data": {
      "text/plain": [
       "<Figure size 900x900 with 0 Axes>"
      ]
     },
     "metadata": {},
     "output_type": "display_data"
    },
    {
     "data": {
      "text/plain": [
       "<Figure size 900x900 with 0 Axes>"
      ]
     },
     "metadata": {},
     "output_type": "display_data"
    },
    {
     "data": {
      "text/plain": [
       "<Figure size 900x900 with 0 Axes>"
      ]
     },
     "metadata": {},
     "output_type": "display_data"
    },
    {
     "data": {
      "text/plain": [
       "<Figure size 900x900 with 0 Axes>"
      ]
     },
     "metadata": {},
     "output_type": "display_data"
    },
    {
     "data": {
      "text/plain": [
       "<Figure size 900x900 with 0 Axes>"
      ]
     },
     "metadata": {},
     "output_type": "display_data"
    },
    {
     "data": {
      "text/plain": [
       "<Figure size 900x900 with 0 Axes>"
      ]
     },
     "metadata": {},
     "output_type": "display_data"
    },
    {
     "data": {
      "text/plain": [
       "<Figure size 900x900 with 0 Axes>"
      ]
     },
     "metadata": {},
     "output_type": "display_data"
    },
    {
     "data": {
      "text/plain": [
       "<Figure size 900x900 with 0 Axes>"
      ]
     },
     "metadata": {},
     "output_type": "display_data"
    },
    {
     "data": {
      "text/plain": [
       "<Figure size 900x900 with 0 Axes>"
      ]
     },
     "metadata": {},
     "output_type": "display_data"
    },
    {
     "data": {
      "text/plain": [
       "<Figure size 900x900 with 0 Axes>"
      ]
     },
     "metadata": {},
     "output_type": "display_data"
    },
    {
     "data": {
      "text/plain": [
       "<Figure size 900x900 with 0 Axes>"
      ]
     },
     "metadata": {},
     "output_type": "display_data"
    },
    {
     "data": {
      "text/plain": [
       "<Figure size 900x900 with 0 Axes>"
      ]
     },
     "metadata": {},
     "output_type": "display_data"
    },
    {
     "data": {
      "text/plain": [
       "<Figure size 900x900 with 0 Axes>"
      ]
     },
     "metadata": {},
     "output_type": "display_data"
    },
    {
     "data": {
      "text/plain": [
       "<Figure size 900x900 with 0 Axes>"
      ]
     },
     "metadata": {},
     "output_type": "display_data"
    },
    {
     "data": {
      "text/plain": [
       "<Figure size 900x900 with 0 Axes>"
      ]
     },
     "metadata": {},
     "output_type": "display_data"
    },
    {
     "data": {
      "text/plain": [
       "<Figure size 900x900 with 0 Axes>"
      ]
     },
     "metadata": {},
     "output_type": "display_data"
    },
    {
     "data": {
      "text/plain": [
       "<Figure size 900x900 with 0 Axes>"
      ]
     },
     "metadata": {},
     "output_type": "display_data"
    },
    {
     "data": {
      "text/plain": [
       "<Figure size 900x900 with 0 Axes>"
      ]
     },
     "metadata": {},
     "output_type": "display_data"
    },
    {
     "data": {
      "text/plain": [
       "<Figure size 900x900 with 0 Axes>"
      ]
     },
     "metadata": {},
     "output_type": "display_data"
    },
    {
     "data": {
      "text/plain": [
       "<Figure size 900x900 with 0 Axes>"
      ]
     },
     "metadata": {},
     "output_type": "display_data"
    },
    {
     "data": {
      "text/plain": [
       "<Figure size 900x900 with 0 Axes>"
      ]
     },
     "metadata": {},
     "output_type": "display_data"
    },
    {
     "data": {
      "text/plain": [
       "<Figure size 900x900 with 0 Axes>"
      ]
     },
     "metadata": {},
     "output_type": "display_data"
    },
    {
     "data": {
      "text/plain": [
       "<Figure size 900x900 with 0 Axes>"
      ]
     },
     "metadata": {},
     "output_type": "display_data"
    },
    {
     "data": {
      "text/plain": [
       "<Figure size 900x900 with 0 Axes>"
      ]
     },
     "metadata": {},
     "output_type": "display_data"
    },
    {
     "data": {
      "text/plain": [
       "<Figure size 900x900 with 0 Axes>"
      ]
     },
     "metadata": {},
     "output_type": "display_data"
    },
    {
     "data": {
      "text/plain": [
       "<Figure size 900x900 with 0 Axes>"
      ]
     },
     "metadata": {},
     "output_type": "display_data"
    },
    {
     "data": {
      "text/plain": [
       "<Figure size 900x900 with 0 Axes>"
      ]
     },
     "metadata": {},
     "output_type": "display_data"
    },
    {
     "data": {
      "text/plain": [
       "<Figure size 900x900 with 0 Axes>"
      ]
     },
     "metadata": {},
     "output_type": "display_data"
    },
    {
     "data": {
      "text/plain": [
       "<Figure size 900x900 with 0 Axes>"
      ]
     },
     "metadata": {},
     "output_type": "display_data"
    },
    {
     "data": {
      "text/plain": [
       "<Figure size 900x900 with 0 Axes>"
      ]
     },
     "metadata": {},
     "output_type": "display_data"
    },
    {
     "data": {
      "text/plain": [
       "<Figure size 900x900 with 0 Axes>"
      ]
     },
     "metadata": {},
     "output_type": "display_data"
    },
    {
     "data": {
      "text/plain": [
       "<Figure size 900x900 with 0 Axes>"
      ]
     },
     "metadata": {},
     "output_type": "display_data"
    },
    {
     "data": {
      "text/plain": [
       "<Figure size 900x900 with 0 Axes>"
      ]
     },
     "metadata": {},
     "output_type": "display_data"
    },
    {
     "data": {
      "text/plain": [
       "<Figure size 900x900 with 0 Axes>"
      ]
     },
     "metadata": {},
     "output_type": "display_data"
    },
    {
     "data": {
      "text/plain": [
       "<Figure size 900x900 with 0 Axes>"
      ]
     },
     "metadata": {},
     "output_type": "display_data"
    },
    {
     "data": {
      "text/plain": [
       "<Figure size 900x900 with 0 Axes>"
      ]
     },
     "metadata": {},
     "output_type": "display_data"
    },
    {
     "data": {
      "text/plain": [
       "<Figure size 900x900 with 0 Axes>"
      ]
     },
     "metadata": {},
     "output_type": "display_data"
    },
    {
     "data": {
      "text/plain": [
       "<Figure size 900x900 with 0 Axes>"
      ]
     },
     "metadata": {},
     "output_type": "display_data"
    },
    {
     "data": {
      "text/plain": [
       "<Figure size 900x900 with 0 Axes>"
      ]
     },
     "metadata": {},
     "output_type": "display_data"
    },
    {
     "data": {
      "text/plain": [
       "<Figure size 900x900 with 0 Axes>"
      ]
     },
     "metadata": {},
     "output_type": "display_data"
    },
    {
     "data": {
      "text/plain": [
       "<Figure size 900x900 with 0 Axes>"
      ]
     },
     "metadata": {},
     "output_type": "display_data"
    },
    {
     "data": {
      "text/plain": [
       "<Figure size 900x900 with 0 Axes>"
      ]
     },
     "metadata": {},
     "output_type": "display_data"
    },
    {
     "data": {
      "text/plain": [
       "<Figure size 900x900 with 0 Axes>"
      ]
     },
     "metadata": {},
     "output_type": "display_data"
    },
    {
     "data": {
      "text/plain": [
       "<Figure size 900x900 with 0 Axes>"
      ]
     },
     "metadata": {},
     "output_type": "display_data"
    },
    {
     "data": {
      "text/plain": [
       "<Figure size 900x900 with 0 Axes>"
      ]
     },
     "metadata": {},
     "output_type": "display_data"
    },
    {
     "data": {
      "text/plain": [
       "<Figure size 900x900 with 0 Axes>"
      ]
     },
     "metadata": {},
     "output_type": "display_data"
    },
    {
     "data": {
      "text/plain": [
       "<Figure size 900x900 with 0 Axes>"
      ]
     },
     "metadata": {},
     "output_type": "display_data"
    },
    {
     "data": {
      "text/plain": [
       "<Figure size 900x900 with 0 Axes>"
      ]
     },
     "metadata": {},
     "output_type": "display_data"
    },
    {
     "data": {
      "text/plain": [
       "<Figure size 900x900 with 0 Axes>"
      ]
     },
     "metadata": {},
     "output_type": "display_data"
    },
    {
     "data": {
      "text/plain": [
       "<Figure size 900x900 with 0 Axes>"
      ]
     },
     "metadata": {},
     "output_type": "display_data"
    },
    {
     "data": {
      "text/plain": [
       "<Figure size 900x900 with 0 Axes>"
      ]
     },
     "metadata": {},
     "output_type": "display_data"
    },
    {
     "data": {
      "text/plain": [
       "<Figure size 900x900 with 0 Axes>"
      ]
     },
     "metadata": {},
     "output_type": "display_data"
    },
    {
     "data": {
      "text/plain": [
       "<Figure size 900x900 with 0 Axes>"
      ]
     },
     "metadata": {},
     "output_type": "display_data"
    },
    {
     "data": {
      "text/plain": [
       "<Figure size 900x900 with 0 Axes>"
      ]
     },
     "metadata": {},
     "output_type": "display_data"
    },
    {
     "data": {
      "text/plain": [
       "<Figure size 900x900 with 0 Axes>"
      ]
     },
     "metadata": {},
     "output_type": "display_data"
    },
    {
     "data": {
      "text/plain": [
       "<Figure size 900x900 with 0 Axes>"
      ]
     },
     "metadata": {},
     "output_type": "display_data"
    },
    {
     "data": {
      "text/plain": [
       "<Figure size 900x900 with 0 Axes>"
      ]
     },
     "metadata": {},
     "output_type": "display_data"
    },
    {
     "data": {
      "text/plain": [
       "<Figure size 900x900 with 0 Axes>"
      ]
     },
     "metadata": {},
     "output_type": "display_data"
    },
    {
     "data": {
      "text/plain": [
       "<Figure size 900x900 with 0 Axes>"
      ]
     },
     "metadata": {},
     "output_type": "display_data"
    },
    {
     "data": {
      "text/plain": [
       "<Figure size 900x900 with 0 Axes>"
      ]
     },
     "metadata": {},
     "output_type": "display_data"
    },
    {
     "data": {
      "text/plain": [
       "<Figure size 900x900 with 0 Axes>"
      ]
     },
     "metadata": {},
     "output_type": "display_data"
    },
    {
     "data": {
      "text/plain": [
       "<Figure size 900x900 with 0 Axes>"
      ]
     },
     "metadata": {},
     "output_type": "display_data"
    },
    {
     "data": {
      "text/plain": [
       "<Figure size 900x900 with 0 Axes>"
      ]
     },
     "metadata": {},
     "output_type": "display_data"
    },
    {
     "data": {
      "text/plain": [
       "<Figure size 900x900 with 0 Axes>"
      ]
     },
     "metadata": {},
     "output_type": "display_data"
    },
    {
     "data": {
      "text/plain": [
       "<Figure size 900x900 with 0 Axes>"
      ]
     },
     "metadata": {},
     "output_type": "display_data"
    },
    {
     "data": {
      "text/plain": [
       "<Figure size 900x900 with 0 Axes>"
      ]
     },
     "metadata": {},
     "output_type": "display_data"
    },
    {
     "data": {
      "text/plain": [
       "<Figure size 900x900 with 0 Axes>"
      ]
     },
     "metadata": {},
     "output_type": "display_data"
    },
    {
     "data": {
      "text/plain": [
       "<Figure size 900x900 with 0 Axes>"
      ]
     },
     "metadata": {},
     "output_type": "display_data"
    },
    {
     "data": {
      "text/plain": [
       "<Figure size 900x900 with 0 Axes>"
      ]
     },
     "metadata": {},
     "output_type": "display_data"
    },
    {
     "data": {
      "text/plain": [
       "<Figure size 900x900 with 0 Axes>"
      ]
     },
     "metadata": {},
     "output_type": "display_data"
    },
    {
     "data": {
      "text/plain": [
       "<Figure size 900x900 with 0 Axes>"
      ]
     },
     "metadata": {},
     "output_type": "display_data"
    },
    {
     "data": {
      "text/plain": [
       "<Figure size 900x900 with 0 Axes>"
      ]
     },
     "metadata": {},
     "output_type": "display_data"
    },
    {
     "data": {
      "text/plain": [
       "<Figure size 900x900 with 0 Axes>"
      ]
     },
     "metadata": {},
     "output_type": "display_data"
    },
    {
     "data": {
      "text/plain": [
       "<Figure size 900x900 with 0 Axes>"
      ]
     },
     "metadata": {},
     "output_type": "display_data"
    },
    {
     "data": {
      "text/plain": [
       "<Figure size 900x900 with 0 Axes>"
      ]
     },
     "metadata": {},
     "output_type": "display_data"
    },
    {
     "data": {
      "text/plain": [
       "<Figure size 900x900 with 0 Axes>"
      ]
     },
     "metadata": {},
     "output_type": "display_data"
    },
    {
     "data": {
      "text/plain": [
       "<Figure size 900x900 with 0 Axes>"
      ]
     },
     "metadata": {},
     "output_type": "display_data"
    },
    {
     "data": {
      "text/plain": [
       "<Figure size 900x900 with 0 Axes>"
      ]
     },
     "metadata": {},
     "output_type": "display_data"
    },
    {
     "data": {
      "text/plain": [
       "<Figure size 900x900 with 0 Axes>"
      ]
     },
     "metadata": {},
     "output_type": "display_data"
    },
    {
     "data": {
      "text/plain": [
       "<Figure size 900x900 with 0 Axes>"
      ]
     },
     "metadata": {},
     "output_type": "display_data"
    },
    {
     "data": {
      "text/plain": [
       "<Figure size 900x900 with 0 Axes>"
      ]
     },
     "metadata": {},
     "output_type": "display_data"
    },
    {
     "data": {
      "text/plain": [
       "<Figure size 900x900 with 0 Axes>"
      ]
     },
     "metadata": {},
     "output_type": "display_data"
    },
    {
     "data": {
      "text/plain": [
       "<Figure size 900x900 with 0 Axes>"
      ]
     },
     "metadata": {},
     "output_type": "display_data"
    },
    {
     "data": {
      "text/plain": [
       "<Figure size 900x900 with 0 Axes>"
      ]
     },
     "metadata": {},
     "output_type": "display_data"
    },
    {
     "data": {
      "text/plain": [
       "<Figure size 900x900 with 0 Axes>"
      ]
     },
     "metadata": {},
     "output_type": "display_data"
    },
    {
     "data": {
      "text/plain": [
       "<Figure size 900x900 with 0 Axes>"
      ]
     },
     "metadata": {},
     "output_type": "display_data"
    },
    {
     "data": {
      "text/plain": [
       "<Figure size 900x900 with 0 Axes>"
      ]
     },
     "metadata": {},
     "output_type": "display_data"
    },
    {
     "data": {
      "text/plain": [
       "<Figure size 900x900 with 0 Axes>"
      ]
     },
     "metadata": {},
     "output_type": "display_data"
    },
    {
     "data": {
      "text/plain": [
       "<Figure size 900x900 with 0 Axes>"
      ]
     },
     "metadata": {},
     "output_type": "display_data"
    },
    {
     "data": {
      "text/plain": [
       "<Figure size 900x900 with 0 Axes>"
      ]
     },
     "metadata": {},
     "output_type": "display_data"
    },
    {
     "data": {
      "text/plain": [
       "<Figure size 900x900 with 0 Axes>"
      ]
     },
     "metadata": {},
     "output_type": "display_data"
    },
    {
     "data": {
      "text/plain": [
       "<Figure size 900x900 with 0 Axes>"
      ]
     },
     "metadata": {},
     "output_type": "display_data"
    },
    {
     "data": {
      "text/plain": [
       "<Figure size 900x900 with 0 Axes>"
      ]
     },
     "metadata": {},
     "output_type": "display_data"
    },
    {
     "data": {
      "text/plain": [
       "<Figure size 900x900 with 0 Axes>"
      ]
     },
     "metadata": {},
     "output_type": "display_data"
    },
    {
     "data": {
      "text/plain": [
       "<Figure size 900x900 with 0 Axes>"
      ]
     },
     "metadata": {},
     "output_type": "display_data"
    },
    {
     "data": {
      "text/plain": [
       "<Figure size 900x900 with 0 Axes>"
      ]
     },
     "metadata": {},
     "output_type": "display_data"
    },
    {
     "data": {
      "text/plain": [
       "<Figure size 900x900 with 0 Axes>"
      ]
     },
     "metadata": {},
     "output_type": "display_data"
    },
    {
     "data": {
      "text/plain": [
       "<Figure size 900x900 with 0 Axes>"
      ]
     },
     "metadata": {},
     "output_type": "display_data"
    },
    {
     "data": {
      "text/plain": [
       "<Figure size 900x900 with 0 Axes>"
      ]
     },
     "metadata": {},
     "output_type": "display_data"
    },
    {
     "data": {
      "text/plain": [
       "<Figure size 900x900 with 0 Axes>"
      ]
     },
     "metadata": {},
     "output_type": "display_data"
    },
    {
     "data": {
      "text/plain": [
       "<Figure size 900x900 with 0 Axes>"
      ]
     },
     "metadata": {},
     "output_type": "display_data"
    },
    {
     "data": {
      "text/plain": [
       "<Figure size 900x900 with 0 Axes>"
      ]
     },
     "metadata": {},
     "output_type": "display_data"
    },
    {
     "data": {
      "text/plain": [
       "<Figure size 900x900 with 0 Axes>"
      ]
     },
     "metadata": {},
     "output_type": "display_data"
    },
    {
     "data": {
      "text/plain": [
       "<Figure size 900x900 with 0 Axes>"
      ]
     },
     "metadata": {},
     "output_type": "display_data"
    },
    {
     "data": {
      "text/plain": [
       "<Figure size 900x900 with 0 Axes>"
      ]
     },
     "metadata": {},
     "output_type": "display_data"
    },
    {
     "data": {
      "text/plain": [
       "<Figure size 900x900 with 0 Axes>"
      ]
     },
     "metadata": {},
     "output_type": "display_data"
    },
    {
     "data": {
      "text/plain": [
       "<Figure size 900x900 with 0 Axes>"
      ]
     },
     "metadata": {},
     "output_type": "display_data"
    },
    {
     "data": {
      "text/plain": [
       "<Figure size 900x900 with 0 Axes>"
      ]
     },
     "metadata": {},
     "output_type": "display_data"
    },
    {
     "data": {
      "text/plain": [
       "<Figure size 900x900 with 0 Axes>"
      ]
     },
     "metadata": {},
     "output_type": "display_data"
    },
    {
     "data": {
      "text/plain": [
       "<Figure size 900x900 with 0 Axes>"
      ]
     },
     "metadata": {},
     "output_type": "display_data"
    },
    {
     "data": {
      "text/plain": [
       "<Figure size 900x900 with 0 Axes>"
      ]
     },
     "metadata": {},
     "output_type": "display_data"
    },
    {
     "data": {
      "text/plain": [
       "<Figure size 900x900 with 0 Axes>"
      ]
     },
     "metadata": {},
     "output_type": "display_data"
    },
    {
     "data": {
      "text/plain": [
       "<Figure size 900x900 with 0 Axes>"
      ]
     },
     "metadata": {},
     "output_type": "display_data"
    },
    {
     "data": {
      "text/plain": [
       "<Figure size 900x900 with 0 Axes>"
      ]
     },
     "metadata": {},
     "output_type": "display_data"
    },
    {
     "data": {
      "text/plain": [
       "<Figure size 900x900 with 0 Axes>"
      ]
     },
     "metadata": {},
     "output_type": "display_data"
    },
    {
     "data": {
      "text/plain": [
       "<Figure size 900x900 with 0 Axes>"
      ]
     },
     "metadata": {},
     "output_type": "display_data"
    },
    {
     "data": {
      "text/plain": [
       "<Figure size 900x900 with 0 Axes>"
      ]
     },
     "metadata": {},
     "output_type": "display_data"
    },
    {
     "data": {
      "text/plain": [
       "<Figure size 900x900 with 0 Axes>"
      ]
     },
     "metadata": {},
     "output_type": "display_data"
    },
    {
     "data": {
      "text/plain": [
       "<Figure size 900x900 with 0 Axes>"
      ]
     },
     "metadata": {},
     "output_type": "display_data"
    },
    {
     "data": {
      "text/plain": [
       "<Figure size 900x900 with 0 Axes>"
      ]
     },
     "metadata": {},
     "output_type": "display_data"
    },
    {
     "data": {
      "text/plain": [
       "<Figure size 900x900 with 0 Axes>"
      ]
     },
     "metadata": {},
     "output_type": "display_data"
    },
    {
     "data": {
      "text/plain": [
       "<Figure size 900x900 with 0 Axes>"
      ]
     },
     "metadata": {},
     "output_type": "display_data"
    },
    {
     "data": {
      "text/plain": [
       "<Figure size 900x900 with 0 Axes>"
      ]
     },
     "metadata": {},
     "output_type": "display_data"
    },
    {
     "data": {
      "text/plain": [
       "<Figure size 900x900 with 0 Axes>"
      ]
     },
     "metadata": {},
     "output_type": "display_data"
    },
    {
     "data": {
      "text/plain": [
       "<Figure size 900x900 with 0 Axes>"
      ]
     },
     "metadata": {},
     "output_type": "display_data"
    },
    {
     "data": {
      "text/plain": [
       "<Figure size 900x900 with 0 Axes>"
      ]
     },
     "metadata": {},
     "output_type": "display_data"
    },
    {
     "data": {
      "text/plain": [
       "<Figure size 900x900 with 0 Axes>"
      ]
     },
     "metadata": {},
     "output_type": "display_data"
    },
    {
     "data": {
      "text/plain": [
       "<Figure size 900x900 with 0 Axes>"
      ]
     },
     "metadata": {},
     "output_type": "display_data"
    },
    {
     "data": {
      "text/plain": [
       "<Figure size 900x900 with 0 Axes>"
      ]
     },
     "metadata": {},
     "output_type": "display_data"
    },
    {
     "data": {
      "text/plain": [
       "<Figure size 900x900 with 0 Axes>"
      ]
     },
     "metadata": {},
     "output_type": "display_data"
    },
    {
     "data": {
      "text/plain": [
       "<Figure size 900x900 with 0 Axes>"
      ]
     },
     "metadata": {},
     "output_type": "display_data"
    },
    {
     "data": {
      "text/plain": [
       "<Figure size 900x900 with 0 Axes>"
      ]
     },
     "metadata": {},
     "output_type": "display_data"
    },
    {
     "data": {
      "text/plain": [
       "<Figure size 900x900 with 0 Axes>"
      ]
     },
     "metadata": {},
     "output_type": "display_data"
    },
    {
     "data": {
      "text/plain": [
       "<Figure size 900x900 with 0 Axes>"
      ]
     },
     "metadata": {},
     "output_type": "display_data"
    },
    {
     "data": {
      "text/plain": [
       "<Figure size 900x900 with 0 Axes>"
      ]
     },
     "metadata": {},
     "output_type": "display_data"
    },
    {
     "data": {
      "text/plain": [
       "<Figure size 900x900 with 0 Axes>"
      ]
     },
     "metadata": {},
     "output_type": "display_data"
    },
    {
     "data": {
      "text/plain": [
       "<Figure size 900x900 with 0 Axes>"
      ]
     },
     "metadata": {},
     "output_type": "display_data"
    },
    {
     "data": {
      "text/plain": [
       "<Figure size 900x900 with 0 Axes>"
      ]
     },
     "metadata": {},
     "output_type": "display_data"
    },
    {
     "data": {
      "text/plain": [
       "<Figure size 900x900 with 0 Axes>"
      ]
     },
     "metadata": {},
     "output_type": "display_data"
    },
    {
     "data": {
      "text/plain": [
       "<Figure size 900x900 with 0 Axes>"
      ]
     },
     "metadata": {},
     "output_type": "display_data"
    },
    {
     "data": {
      "text/plain": [
       "<Figure size 900x900 with 0 Axes>"
      ]
     },
     "metadata": {},
     "output_type": "display_data"
    },
    {
     "data": {
      "text/plain": [
       "<Figure size 900x900 with 0 Axes>"
      ]
     },
     "metadata": {},
     "output_type": "display_data"
    },
    {
     "data": {
      "text/plain": [
       "<Figure size 900x900 with 0 Axes>"
      ]
     },
     "metadata": {},
     "output_type": "display_data"
    },
    {
     "data": {
      "text/plain": [
       "<Figure size 900x900 with 0 Axes>"
      ]
     },
     "metadata": {},
     "output_type": "display_data"
    },
    {
     "data": {
      "text/plain": [
       "<Figure size 900x900 with 0 Axes>"
      ]
     },
     "metadata": {},
     "output_type": "display_data"
    },
    {
     "data": {
      "text/plain": [
       "<Figure size 900x900 with 0 Axes>"
      ]
     },
     "metadata": {},
     "output_type": "display_data"
    },
    {
     "data": {
      "text/plain": [
       "<Figure size 900x900 with 0 Axes>"
      ]
     },
     "metadata": {},
     "output_type": "display_data"
    },
    {
     "data": {
      "text/plain": [
       "<Figure size 900x900 with 0 Axes>"
      ]
     },
     "metadata": {},
     "output_type": "display_data"
    },
    {
     "data": {
      "text/plain": [
       "<Figure size 900x900 with 0 Axes>"
      ]
     },
     "metadata": {},
     "output_type": "display_data"
    },
    {
     "data": {
      "text/plain": [
       "<Figure size 900x900 with 0 Axes>"
      ]
     },
     "metadata": {},
     "output_type": "display_data"
    },
    {
     "data": {
      "text/plain": [
       "<Figure size 900x900 with 0 Axes>"
      ]
     },
     "metadata": {},
     "output_type": "display_data"
    },
    {
     "data": {
      "text/plain": [
       "<Figure size 900x900 with 0 Axes>"
      ]
     },
     "metadata": {},
     "output_type": "display_data"
    },
    {
     "data": {
      "text/plain": [
       "<Figure size 900x900 with 0 Axes>"
      ]
     },
     "metadata": {},
     "output_type": "display_data"
    },
    {
     "data": {
      "text/plain": [
       "<Figure size 900x900 with 0 Axes>"
      ]
     },
     "metadata": {},
     "output_type": "display_data"
    },
    {
     "data": {
      "text/plain": [
       "<Figure size 900x900 with 0 Axes>"
      ]
     },
     "metadata": {},
     "output_type": "display_data"
    },
    {
     "data": {
      "text/plain": [
       "<Figure size 900x900 with 0 Axes>"
      ]
     },
     "metadata": {},
     "output_type": "display_data"
    },
    {
     "data": {
      "text/plain": [
       "<Figure size 900x900 with 0 Axes>"
      ]
     },
     "metadata": {},
     "output_type": "display_data"
    },
    {
     "data": {
      "text/plain": [
       "<Figure size 900x900 with 0 Axes>"
      ]
     },
     "metadata": {},
     "output_type": "display_data"
    },
    {
     "data": {
      "text/plain": [
       "<Figure size 900x900 with 0 Axes>"
      ]
     },
     "metadata": {},
     "output_type": "display_data"
    },
    {
     "data": {
      "text/plain": [
       "<Figure size 900x900 with 0 Axes>"
      ]
     },
     "metadata": {},
     "output_type": "display_data"
    },
    {
     "data": {
      "text/plain": [
       "<Figure size 900x900 with 0 Axes>"
      ]
     },
     "metadata": {},
     "output_type": "display_data"
    },
    {
     "data": {
      "text/plain": [
       "<Figure size 900x900 with 0 Axes>"
      ]
     },
     "metadata": {},
     "output_type": "display_data"
    },
    {
     "data": {
      "text/plain": [
       "<Figure size 900x900 with 0 Axes>"
      ]
     },
     "metadata": {},
     "output_type": "display_data"
    },
    {
     "data": {
      "text/plain": [
       "<Figure size 900x900 with 0 Axes>"
      ]
     },
     "metadata": {},
     "output_type": "display_data"
    },
    {
     "data": {
      "text/plain": [
       "<Figure size 900x900 with 0 Axes>"
      ]
     },
     "metadata": {},
     "output_type": "display_data"
    },
    {
     "data": {
      "text/plain": [
       "<Figure size 900x900 with 0 Axes>"
      ]
     },
     "metadata": {},
     "output_type": "display_data"
    },
    {
     "data": {
      "text/plain": [
       "<Figure size 900x900 with 0 Axes>"
      ]
     },
     "metadata": {},
     "output_type": "display_data"
    },
    {
     "data": {
      "text/plain": [
       "<Figure size 900x900 with 0 Axes>"
      ]
     },
     "metadata": {},
     "output_type": "display_data"
    },
    {
     "data": {
      "text/plain": [
       "<Figure size 900x900 with 0 Axes>"
      ]
     },
     "metadata": {},
     "output_type": "display_data"
    },
    {
     "data": {
      "text/plain": [
       "<Figure size 900x900 with 0 Axes>"
      ]
     },
     "metadata": {},
     "output_type": "display_data"
    },
    {
     "data": {
      "text/plain": [
       "<Figure size 900x900 with 0 Axes>"
      ]
     },
     "metadata": {},
     "output_type": "display_data"
    },
    {
     "data": {
      "text/plain": [
       "<Figure size 900x900 with 0 Axes>"
      ]
     },
     "metadata": {},
     "output_type": "display_data"
    },
    {
     "data": {
      "text/plain": [
       "<Figure size 900x900 with 0 Axes>"
      ]
     },
     "metadata": {},
     "output_type": "display_data"
    },
    {
     "data": {
      "text/plain": [
       "<Figure size 900x900 with 0 Axes>"
      ]
     },
     "metadata": {},
     "output_type": "display_data"
    },
    {
     "data": {
      "text/plain": [
       "<Figure size 900x900 with 0 Axes>"
      ]
     },
     "metadata": {},
     "output_type": "display_data"
    },
    {
     "data": {
      "text/plain": [
       "<Figure size 900x900 with 0 Axes>"
      ]
     },
     "metadata": {},
     "output_type": "display_data"
    },
    {
     "data": {
      "text/plain": [
       "<Figure size 900x900 with 0 Axes>"
      ]
     },
     "metadata": {},
     "output_type": "display_data"
    },
    {
     "data": {
      "text/plain": [
       "<Figure size 900x900 with 0 Axes>"
      ]
     },
     "metadata": {},
     "output_type": "display_data"
    },
    {
     "data": {
      "text/plain": [
       "<Figure size 900x900 with 0 Axes>"
      ]
     },
     "metadata": {},
     "output_type": "display_data"
    }
   ],
   "source": [
    "# Generate some more plots!\n",
    "autoplots(meyer, 'kessler6_sqrt', transform = True, verbose = False, folder = '../03_images/image_output');\n",
    "\n",
    "# Tell me when it's done; this function can take a minute\n",
    "print(\"All done!\")\n",
    "os.listdir('../03_images/image_output') # Should show a folder with a time stamp around when the function was run"
   ]
  },
  {
   "cell_type": "markdown",
   "id": "fcd4c70e-8ea6-4a83-aeb0-47189c0e0b61",
   "metadata": {},
   "source": [
    "### Selected Graphs"
   ]
  },
  {
   "cell_type": "code",
   "execution_count": 20,
   "id": "b8b124fd-b1d4-4a51-ba3b-42729c354db6",
   "metadata": {},
   "outputs": [],
   "source": [
    "# Save a copy of the updated dataframe to use in the next notebook\n",
    "meyer.to_csv('../02_data/df_after_eda.csv', index = False)"
   ]
  }
 ],
 "metadata": {
  "kernelspec": {
   "display_name": "Python 3 (ipykernel)",
   "language": "python",
   "name": "python3"
  },
  "language_info": {
   "codemirror_mode": {
    "name": "ipython",
    "version": 3
   },
   "file_extension": ".py",
   "mimetype": "text/x-python",
   "name": "python",
   "nbconvert_exporter": "python",
   "pygments_lexer": "ipython3",
   "version": "3.11.7"
  }
 },
 "nbformat": 4,
 "nbformat_minor": 5
}
