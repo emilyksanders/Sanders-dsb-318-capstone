{
 "cells": [
  {
   "cell_type": "code",
   "execution_count": null,
   "id": "503ec007-4a6a-4ac9-b7bc-bc7832f2bd64",
   "metadata": {},
   "outputs": [],
   "source": []
  },
  {
   "cell_type": "markdown",
   "id": "a0c8ace7-94bc-49f2-a6aa-244c00047d43",
   "metadata": {},
   "source": [
    "- [Introduction](##Introduction)\n",
    "  - [Background](###Background)\n",
    "  - [Current Work](###Current-Work)  \n",
    "  - [Problem Statement](###Problem-Statement)  \n",
    "- [Method](##Method)  \n",
    "  - [Apparatus](###Apparatus)\n",
    "  - [Data Acquisition](###Data-Acquisition)  \n",
    "  - [Dataset](###Datasets)  \n",
    "  - [Operational Definitions](###Operational-Definitions)\n",
    "  - [Strategy](###Strategy) \n",
    "- [Notebook Summary](##Notebook-Summary)  \n",
    " \n",
    "- [Data Preparation](###Data-Preparation)\n",
    "  - [Imports](####Imports)\n",
    "  - [Renaming Columns](####Renaming-Columns) \n",
    "  - [Feature Selection, Part 1](####Feature-Selection-Part-1)\n",
    "  - [Missing Values and Imputation](####Missing-Values-and-Imputation)\n",
    "  - [Feature Engineering](####Feature-Engineering)\n",
    "  - [Feature Selection, Part 2](####Feature-Selection-Part-2)\n",
    "- [Notebook Summary](##Notebook-Summary)  \n",
    "\n",
    "- [Exploratory Data Analyses](##Exploratory-Data-Analyses)\n",
    "  - [Summary Statistics](###Summary-Statistics)\n",
    "  - [Correlations](###Correlations)\n",
    "  - [Graphs](###Graphs)\n",
    "- [Notebook Summary](##Notebook-Summary)  \n",
    "\n",
    "- [Modeling](###Modeling)\n",
    "  - [Train-Test Split](####Train-Test-Split)\n",
    "  - [Cross-Validation](###Cross-Validation)\n",
    "  - [Model 1](###Model-1)\n",
    "  - etc.\n",
    "- [Notebook Summary](##Notebook-Summary)  \n",
    " \n",
    "- [Results](##Results)\n",
    "  - [Best Inferential Model](###Best-Inferential-Model)\n",
    "  - [Analysis of Coefficients](###Analysis-of-Coefficients)\n",
    "  - [Implications for Prediction](###Implications-for-Prediction)\n",
    "- [Discussion](##Discussion)\n",
    "  - [Interpretation](###Interpretation)\n",
    "  - [Limitations](###Limitations)\n",
    "  - [Recommendations](###Recommendations)\n",
    "  - [Conclusions](###Conclusions)"
   ]
  }
 ],
 "metadata": {
  "kernelspec": {
   "display_name": "Python 3 (ipykernel)",
   "language": "python",
   "name": "python3"
  },
  "language_info": {
   "codemirror_mode": {
    "name": "ipython",
    "version": 3
   },
   "file_extension": ".py",
   "mimetype": "text/x-python",
   "name": "python",
   "nbconvert_exporter": "python",
   "pygments_lexer": "ipython3",
   "version": "3.11.7"
  }
 },
 "nbformat": 4,
 "nbformat_minor": 5
}
