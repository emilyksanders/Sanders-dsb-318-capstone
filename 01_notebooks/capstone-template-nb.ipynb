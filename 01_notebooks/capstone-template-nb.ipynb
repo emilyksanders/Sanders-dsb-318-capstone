{
 "cells": [
  {
   "cell_type": "markdown",
   "id": "6fe691e0-4e29-4940-9dbe-1fbd01f6cd1d",
   "metadata": {},
   "source": [
    "# **Pride and Joy**\n",
    "### *An investigation of mental health correlates in LGBQ+ people*\n",
    "| | | | | | | | | | | | | | | | | | | | | | | | | | | | | | | | | | |\n",
    "|-|-|-|-|-|-|-|-|-|-|-|-|-|-|-|-|-|-|-|-|-|-|-|-|-|-|-|-|-|-|-|-|-|-|\n",
    "|Emily K. Sanders| | | | | | | | | | | | | | | | | | | | | | | | | | | | | | | | |Capstone Project|\n",
    "|DSB-318| | | | | | | | | | | | | | | | | | | | | | | | | | | | | | | | |June 13, 2024|\n",
    "---"
   ]
  },
  {
   "cell_type": "code",
   "execution_count": 3,
   "id": "8b0cc203-e521-4e1f-b6ba-440a5abd940e",
   "metadata": {},
   "outputs": [],
   "source": [
    "#is there any way to space that text out so that it fits the edges of whatever screen it's on?"
   ]
  },
  {
   "cell_type": "markdown",
   "id": "c9de6344-e02e-49da-a1ce-59aceb3b735c",
   "metadata": {},
   "source": [
    "| | | | | | | | | | | | | | | | | | | | | | | | | | | | | | | | | | | | | | | | | | | | | | | | | |\n",
    "|-|-|-|-|-|-|-|-|-|-|-|-|-|-|-|-|-|-|-|-|-|-|-|-|-|-|-|-|-|-|-|-|-|-|-|-|-|-|-|-|-|-|-|-|-|-|-|-|-|\n",
    "|Emily K. Sanders| | | | | | | | | | | | | | | | | | | | | | | | | | | | | | | | | | | | | | | | | | | | | | | |Capstone Project|\n",
    "|DSB-318| | | | | | | | | | | | | | | | | | | | | | | | | | | | | | | | | | | | | | | | | | | | | | | |June 13, 2024|\n",
    "---"
   ]
  },
  {
   "cell_type": "markdown",
   "id": "9d4fe8eb-7a9a-49ad-94f6-c51e6c977340",
   "metadata": {},
   "source": [
    "## Prior Notebooks Summary"
   ]
  },
  {
   "cell_type": "markdown",
   "id": "3bb31692-0eb4-4ce9-b4dd-5f5f1dcf5ba0",
   "metadata": {},
   "source": [
    "In the previous notebook, I \n",
    "\n",
    "In this notebook, I will ____________, including `python` code."
   ]
  },
  {
   "cell_type": "markdown",
   "id": "8929a245-b12c-41a4-86f9-b921513cb541",
   "metadata": {},
   "source": [
    "## Table of Contents"
   ]
  },
  {
   "cell_type": "markdown",
   "id": "93ecd243-c1df-4597-967c-426ce2ecb2b7",
   "metadata": {},
   "source": [
    "- [Exploratory Data Analyses](##Exploratory-Data-Analyses)\n",
    "  - [Summary Statistics](###Summary-Statistics)\n",
    "  - [Correlations](###Correlations)\n",
    "  - [Graphs](###Graphs)\n",
    "- [Notebook Summary](##Notebook-Summary)  \n",
    "\n",
    "- [Modeling](###Modeling)\n",
    "  - [Train-Test Split](####Train-Test-Split)\n",
    "  - [Cross-Validation](###Cross-Validation)\n",
    "  - [Model 1](###Model-1)\n",
    "  - etc.\n",
    "- [Notebook Summary](##Notebook-Summary)  \n",
    " \n",
    "- [Results](##Results)\n",
    "  - [Best Inferential Model](###Best-Inferential-Model)\n",
    "  - [Analysis of Coefficients](###Analysis-of-Coefficients)\n",
    "  - [Implications for Prediction](###Implications-for-Prediction)\n",
    "- [Discussion](##Discussion)\n",
    "  - [Interpretation](###Interpretation)\n",
    "  - [Limitations](###Limitations)\n",
    "  - [Recommendations](###Recommendations)\n",
    "  - [Conclusions](###Conclusions)"
   ]
  },
  {
   "cell_type": "code",
   "execution_count": null,
   "id": "ebe171dc-ad0a-4335-97f2-e23241fcdea5",
   "metadata": {},
   "outputs": [],
   "source": [
    "# Import the dataframe from the previous notebook\n",
    "meyer = pd.read_csv('../02_data/______________.csv')\n",
    "meyer.shape"
   ]
  }
 ],
 "metadata": {
  "kernelspec": {
   "display_name": "Python 3 (ipykernel)",
   "language": "python",
   "name": "python3"
  },
  "language_info": {
   "codemirror_mode": {
    "name": "ipython",
    "version": 3
   },
   "file_extension": ".py",
   "mimetype": "text/x-python",
   "name": "python",
   "nbconvert_exporter": "python",
   "pygments_lexer": "ipython3",
   "version": "3.11.7"
  }
 },
 "nbformat": 4,
 "nbformat_minor": 5
}
