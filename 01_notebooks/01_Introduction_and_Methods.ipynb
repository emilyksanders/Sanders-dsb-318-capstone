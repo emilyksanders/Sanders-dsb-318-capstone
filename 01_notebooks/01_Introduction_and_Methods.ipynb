{
 "cells": [
  {
   "cell_type": "markdown",
   "id": "bba42f54-f0f0-4983-8369-ba2b309278a6",
   "metadata": {},
   "source": [
    "# **Pride and Joy**\n",
    "### *An investigation of mental health correlates in LGBQ+ people*\n",
    "| | | | | | | | | | | | | | | | | | | | | | | | | | | | | | | | | | |\n",
    "|-|-|-|-|-|-|-|-|-|-|-|-|-|-|-|-|-|-|-|-|-|-|-|-|-|-|-|-|-|-|-|-|-|-|\n",
    "|Emily K. Sanders| | | | | | | | | | | | | | | | | | | | | | | | | | | | | | | | |Capstone Project|\n",
    "|DSB-318| | | | | | | | | | | | | | | | | | | | | | | | | | | | | | | | |June 13, 2024|\n",
    "---"
   ]
  },
  {
   "cell_type": "markdown",
   "id": "f403ee85-5da2-456a-910c-d759ead07d5c",
   "metadata": {},
   "source": [
    "## Problem Statement"
   ]
  },
  {
   "cell_type": "markdown",
   "id": "0b4673ef-c3c3-4062-bad1-d6fd09d78179",
   "metadata": {},
   "source": []
  },
  {
   "cell_type": "markdown",
   "id": "41ccd64b-75ab-42fa-9548-470f6fff7c86",
   "metadata": {},
   "source": [
    "### Deliverables"
   ]
  },
  {
   "cell_type": "markdown",
   "id": "db61b0cc-5ec3-410e-a222-f3896f0e37a4",
   "metadata": {},
   "source": []
  },
  {
   "cell_type": "markdown",
   "id": "4f7518c8-5040-4377-b76c-ae3d850e1108",
   "metadata": {},
   "source": [
    "## Table of Contents"
   ]
  },
  {
   "cell_type": "markdown",
   "id": "77c4c7a8-d914-48c8-8d49-cac82a289b8c",
   "metadata": {},
   "source": [
    "- [Introduction](##Introduction)\n",
    "  - [Background](###Background)\n",
    "  - [Current Work](###Current-Work)  \n",
    "  - [Problem Statement](###Problem-Statement)  \n",
    "- [Method](##Method)  \n",
    "  - [Apparatus](###Apparatus)\n",
    "  - [Data Acquisition](###Data-Acquisition)  \n",
    "  - [Dataset](###Datasets)  \n",
    "  - [Operational Definitions](###Operational-Definitions)\n",
    "  - [Strategy](###Strategy) \n",
    "- [Notebook Summary](##Notebook-Summary)  "
   ]
  },
  {
   "cell_type": "markdown",
   "id": "2a1c9265-01ca-43f2-9b67-6fef639e774c",
   "metadata": {},
   "source": [
    "## Introduction"
   ]
  },
  {
   "cell_type": "markdown",
   "id": "7d647818-1317-40ac-96e7-6cd4ff4fe771",
   "metadata": {},
   "source": [
    "### Background"
   ]
  },
  {
   "cell_type": "markdown",
   "id": "bfb63baf-47f6-4779-84c4-81fac71cc315",
   "metadata": {},
   "source": [
    "### Current Work"
   ]
  },
  {
   "cell_type": "markdown",
   "id": "a66d1897-78a1-449b-a919-c64a573c241c",
   "metadata": {},
   "source": [
    "### Problem Statement"
   ]
  },
  {
   "cell_type": "markdown",
   "id": "b6d57fd8-92e0-4f1c-903e-8b23c9586cb1",
   "metadata": {},
   "source": [
    "## Method"
   ]
  },
  {
   "cell_type": "markdown",
   "id": "a32048dc-ce0a-41b0-bae4-ea99dee460bd",
   "metadata": {},
   "source": [
    "To answer the question of what factors predict positive or negative mental health in queer people, "
   ]
  },
  {
   "cell_type": "markdown",
   "id": "8dbba10b-7e8b-4f67-a02b-37474e93fcbb",
   "metadata": {},
   "source": [
    "### Apparatus"
   ]
  },
  {
   "cell_type": "markdown",
   "id": "886c17d7-4860-465e-9841-a3ede45af9d8",
   "metadata": {},
   "source": [
    "Throughout the course of this project, I used `python` to manipulate, analyze, and model the data.  Some of the modules I used include `pandas`, `numpy`, `matplotlib`, `seaborn`, `time`, `datetime`, `os`, `string`, `statsmodels`, and several libraries within `sklearn`.  The developers of these modules, and of `python` itself, have graciously made their work open source. "
   ]
  },
  {
   "cell_type": "markdown",
   "id": "0bbbbc77-82e4-4fc4-83a3-94d132aa123f",
   "metadata": {},
   "source": [
    "### Data Acquisition"
   ]
  },
  {
   "cell_type": "markdown",
   "id": "aebbb50f-6dc4-4f07-9a66-400e2148eac8",
   "metadata": {},
   "source": [
    "For my report, I found and used a dataset called *Generations*, published by Ilan H. Meyer, Ph.D., in *Data Sharing for Demographic Research* ([DSDR](https://www.icpsr.umich.edu/web/pages/DSDR/index.html)), a data archive of the *Institute for Social Research* ([ICPSR](https://www.icpsr.umich.edu/web/pages/index.html)) at the University of Michigan.  This dataset, like all datasets in the archive, is only available to download with an ICPSR account, and members are not permitted to redistribute the datasets.  Therefore, **I have not included the dataset in my public report**, and I urge anyone reproducing my work to similarly avoid posting the data anywhere publically.  However, the data is publically available and free to access, so any reader wishing to follow along with or replicate my work may do so by following the instructions below.  **Please note that none of the notebooks will run without this step.**\n",
    "\n",
    "1. Visit the [DSDR study page](https://www.icpsr.umich.edu/web/DSDR/studies/37166)\n",
    "2. Click \"Download\" and select \"Delimited\"\n",
    "3. Select one of the \"Sign In\" options.\n",
    "4. Click \"Set up a new account.\" (Or sign in, if you happen to already have an account.)\n",
    "5. Fill out the information and click \"Next.\"\n",
    "6. Follow the instructions on screen to verify your account.  Once your account is verified, you should be automatically redirected back to the study page.\n",
    "7. Click \"Download\" again and select \"Delimited\" again.\n",
    "8. Answer the questions on screen and click \"Save.\"\n",
    "9. Click \"Agree\" on the Terms of Use.\n",
    "10. The file will either download automatically into your Downloads folder, or a pop-up window will appear for you to choose the destination.\n",
    "11. Locate the file on your computer.\n",
    "12. Unzip the file `ICPSR_37166-v2.zip` to the location of your choice.\n",
    "13. Within the zip folder, locate the folder `DS0007`.\n",
    "14. Within `DS0007`, locate `37166-0007-Data.tsv`.  This is the data file.\n",
    "\n",
    "Curious readers may also be interested in the other file in that folder, `DS0007/37166-0007-Codebook-ICPSR.pdf`, which is part of the documentation for the original data.  It includes frequency counts for every variable, as well as some archival notes from DSDR.  If you exit out of `DS0007` back to the root directory of the unzipped folder, you'll find another documentation file: `37166-Documentation-methodology.pdf`.  This file came from the original author, and includes instructions, descriptions, and Cronbach's alpha scores for their computed variables.  I referred to both documents extensively during my work.\n",
    "\n",
    "As indicated in the name of the zip file above, I used version 2 of this dataset, which was the only one available when I downloaded it on May 23, 2024.  Version 2 was then, and still is as of this writing, the most recent and up-to-date version of the materials, having been published on January 5, 2023.  However, it should be noted that the datasets on ICPSR's website are occasionally updated. Should future replications encounter errors or differing results than my own, I humbly request that they first ensure that the ICPSR files have not changed since that time.\n",
    "\n",
    "Finally, I would like to extend my gratitude to Dr. Meyer for sharing this data with the public, and to the teams at DSDR and ICPSR for maintaining the archive.\n",
    "\n",
    "Citation:\n",
    "Meyer, Ilan H. Generations: A Study of the Life and Health of LGB People in a Changing Society, United States, 2016-2019. Inter-university Consortium for Political and Social Research \\[distributor\\], 2023-01-05. https://doi.org/10.3886/ICPSR37166.v2"
   ]
  },
  {
   "cell_type": "markdown",
   "id": "83ff48e4-8117-4dae-82d6-1cc8957ef8e9",
   "metadata": {},
   "source": [
    "### Dataset"
   ]
  },
  {
   "cell_type": "markdown",
   "id": "aa3ad53c-0ec7-461d-ac11-7b72e5f14ce2",
   "metadata": {},
   "source": [
    "- how old is it?\n",
    "- how was it collected?\n",
    "- describe the vibes of the data\n",
    "- how many rows, columns, missing values?"
   ]
  },
  {
   "cell_type": "markdown",
   "id": "c23a67af-82a1-48b4-8e8a-f37b0bfbe4f0",
   "metadata": {},
   "source": [
    "### Sample"
   ]
  },
  {
   "cell_type": "markdown",
   "id": "431cfbfc-fb49-44c3-a712-f86e8fffd7bd",
   "metadata": {},
   "source": [
    "The terminology used for sexual orientations and identities is a perennial source of both discourse and discord.  Although it is always best practice to refer to individuals by the terms they choose for themselves, the practical logistics of a project such as this one, in which many individual's responses are considered in the aggregate, require researchers to choose a (hopefully succinct!) umbrella term.  In the original documentation accompanying the dataset I used, the authors referred to their participants as \"LGB,\" the first three letters of the common acronym LGBT, which stands for lesbian, gay, bisexual, and transgender.  The authors opted to drop the T because transgender participants were routed to a different study, although participants who did not identify as cisgender or transgender were retained in *Generations*:\n",
    ">Respondents who were\n",
    "transgender, regardless of their sexual orientation, were screened for participation in a\n",
    "companion study, TransPop (see [www.TransPop.org](http://www.transpop.org/), which included questions to\n",
    "address issues that are specific to transgender people (e.g., transitioning). Respondents\n",
    "who were sexual minorities and gender nonbinary, but did not identify as transgender,\n",
    "were included in the Generations study. "
   ]
  },
  {
   "cell_type": "markdown",
   "id": "9434fb16-3473-4cc3-b73c-cb4b7773aeda",
   "metadata": {},
   "source": [
    "### Operational Definitions"
   ]
  },
  {
   "cell_type": "markdown",
   "id": "1c07e279-b513-4b6c-8a43-a35e5fa0847a",
   "metadata": {},
   "source": [
    "Kessler6, others"
   ]
  },
  {
   "cell_type": "markdown",
   "id": "103834c6-53c2-41cb-94ec-61659dcb12ee",
   "metadata": {},
   "source": [
    "### Strategy"
   ]
  },
  {
   "cell_type": "markdown",
   "id": "11fc2732-c0a7-4a24-8a5f-c5741fb3090b",
   "metadata": {},
   "source": []
  },
  {
   "cell_type": "markdown",
   "id": "3506f2d1-5493-45e7-88a7-17eca302ddbe",
   "metadata": {},
   "source": [
    "## Notebook Summary"
   ]
  },
  {
   "cell_type": "markdown",
   "id": "4e6a535b-5d85-4b2c-9158-3c3eda119cbb",
   "metadata": {},
   "source": [
    "In this notebook, I have\n",
    "\n",
    "In the next notebook, I will"
   ]
  }
 ],
 "metadata": {
  "kernelspec": {
   "display_name": "Python 3 (ipykernel)",
   "language": "python",
   "name": "python3"
  },
  "language_info": {
   "codemirror_mode": {
    "name": "ipython",
    "version": 3
   },
   "file_extension": ".py",
   "mimetype": "text/x-python",
   "name": "python",
   "nbconvert_exporter": "python",
   "pygments_lexer": "ipython3",
   "version": "3.11.7"
  }
 },
 "nbformat": 4,
 "nbformat_minor": 5
}
