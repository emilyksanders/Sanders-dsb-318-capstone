{
 "cells": [
  {
   "cell_type": "markdown",
   "id": "bba42f54-f0f0-4983-8369-ba2b309278a6",
   "metadata": {},
   "source": [
    "# **Pride and Joy**\n",
    "### *An investigation of mental health correlates in LGBQ+ people*\n",
    "| | | | | | | | | | | | | | | | | | | | | | | | | | | | | | | | | | |\n",
    "|-|-|-|-|-|-|-|-|-|-|-|-|-|-|-|-|-|-|-|-|-|-|-|-|-|-|-|-|-|-|-|-|-|-|\n",
    "|Emily K. Sanders| | | | | | | | | | | | | | | | | | | | | | | | | | | | | | | | |Capstone Project|\n",
    "|DSB-318| | | | | | | | | | | | | | | | | | | | | | | | | | | | | | | | |June 13, 2024|\n",
    "---"
   ]
  },
  {
   "cell_type": "code",
   "execution_count": 3,
   "id": "fdef073d-6276-43e5-a4ca-b6b0a4a5106b",
   "metadata": {},
   "outputs": [],
   "source": [
    "#is there any way to space that text out so that it fits the edges of whatever screen it's on?"
   ]
  },
  {
   "cell_type": "markdown",
   "id": "caf2e247-de73-4a48-94fb-f3c4e483f509",
   "metadata": {},
   "source": [
    "| | | | | | | | | | | | | | | | | | | | | | | | | | | | | | | | | | | | | | | | | | | | | | | | | |\n",
    "|-|-|-|-|-|-|-|-|-|-|-|-|-|-|-|-|-|-|-|-|-|-|-|-|-|-|-|-|-|-|-|-|-|-|-|-|-|-|-|-|-|-|-|-|-|-|-|-|-|\n",
    "|Emily K. Sanders| | | | | | | | | | | | | | | | | | | | | | | | | | | | | | | | | | | | | | | | | | | | | | | |Capstone Project|\n",
    "|DSB-318| | | | | | | | | | | | | | | | | | | | | | | | | | | | | | | | | | | | | | | | | | | | | | | |June 13, 2024|\n",
    "---"
   ]
  },
  {
   "cell_type": "markdown",
   "id": "c25b455d-da3a-443f-9d58-320201f1d391",
   "metadata": {},
   "source": [
    "## Prior Notebooks Summary"
   ]
  },
  {
   "cell_type": "markdown",
   "id": "fd408180-1c7a-4ca9-a379-b8642378a7bf",
   "metadata": {},
   "source": [
    "In the previous notebook, I \n",
    "\n",
    "- **gave a problem statement!**\n",
    "- **listed deliverables!**\n",
    "- **explained that I will be using the word queer!!!**\n",
    "- **explained that it was the original author's idea to exclude binary trans people, not mine**\n",
    "\n",
    "In this notebook, I will ____________, including `python` code."
   ]
  },
  {
   "cell_type": "markdown",
   "id": "4f7518c8-5040-4377-b76c-ae3d850e1108",
   "metadata": {},
   "source": [
    "## Table of Contents"
   ]
  },
  {
   "cell_type": "markdown",
   "id": "77c4c7a8-d914-48c8-8d49-cac82a289b8c",
   "metadata": {},
   "source": [
    "- [Introduction](##Introduction)\n",
    "  - [Background](###Background)\n",
    "  - [Current Work](###Current-Work)  \n",
    "  - [Problem Statement](###Problem-Statement)  \n",
    "- [Method](##Method)  \n",
    "  - [Apparatus](###Apparatus)\n",
    "  - [Data Acquisition](###Data-Acquisition)  \n",
    "  - [Dataset](###Datasets)  \n",
    "  - [Operational Definitions](###Operational-Definitions)\n",
    "  - [Strategy](###Strategy) \n",
    "- [Notebook Summary](##Notebook-Summary)  \n",
    " \n",
    "- [Data Preparation](###Data-Preparation)\n",
    "  - [Imports](####Imports)\n",
    "  - [Renaming Columns](####Renaming-Columns) \n",
    "  - [Feature Selection, Part 1](####Feature-Selection-Part-1)\n",
    "  - [Missing Values and Imputation](####Missing-Values-and-Imputation)\n",
    "  - [Feature Engineering](####Feature-Engineering)\n",
    "  - [Feature Selection, Part 2](####Feature-Selection-Part-2)\n",
    "- [Notebook Summary](##Notebook-Summary)  \n",
    "\n",
    "- [Exploratory Data Analyses](##Exploratory-Data-Analyses)\n",
    "  - [Summary Statistics](###Summary-Statistics)\n",
    "  - [Correlations](###Correlations)\n",
    "  - [Graphs](###Graphs)\n",
    "- [Notebook Summary](##Notebook-Summary)  \n",
    "\n",
    "- [Modeling](###Modeling)\n",
    "  - [Train-Test Split](####Train-Test-Split)\n",
    "  - [Cross-Validation](###Cross-Validation)\n",
    "  - [Model 1](###Model-1)\n",
    "  - etc.\n",
    "- [Notebook Summary](##Notebook-Summary)  \n",
    " \n",
    "- [Results](##Results)\n",
    "  - [Best Inferential Model](###Best-Inferential-Model)\n",
    "  - [Analysis of Coefficients](###Analysis-of-Coefficients)\n",
    "  - [Implications for Prediction](###Implications-for-Prediction)\n",
    "- [Discussion](##Discussion)\n",
    "  - [Interpretation](###Interpretation)\n",
    "  - [Limitations](###Limitations)\n",
    "  - [Recommendations](###Recommendations)\n",
    "  - [Conclusions](###Conclusions)"
   ]
  },
  {
   "cell_type": "markdown",
   "id": "b6d57fd8-92e0-4f1c-903e-8b23c9586cb1",
   "metadata": {},
   "source": [
    "## Method"
   ]
  },
  {
   "cell_type": "markdown",
   "id": "a32048dc-ce0a-41b0-bae4-ea99dee460bd",
   "metadata": {},
   "source": [
    "To answer the question of what factors predict positive or negative mental health in queer people, "
   ]
  },
  {
   "cell_type": "markdown",
   "id": "8dbba10b-7e8b-4f67-a02b-37474e93fcbb",
   "metadata": {},
   "source": [
    "### Apparatus"
   ]
  },
  {
   "cell_type": "markdown",
   "id": "886c17d7-4860-465e-9841-a3ede45af9d8",
   "metadata": {},
   "source": [
    "Throughout the course of this project, I used `python` to manipulate, analyze, and model the data.  Some of the modules I used include `pandas`, `numpy`, `matplotlib`, `seaborn`, `time`, `datetime`, `os`, `string`, `statsmodels`, and several libraries within `sklearn`.  The developers of these modules, and of `python` itself, have graciously made their work open source. "
   ]
  },
  {
   "cell_type": "markdown",
   "id": "0bbbbc77-82e4-4fc4-83a3-94d132aa123f",
   "metadata": {},
   "source": [
    "### Data Acquisition"
   ]
  },
  {
   "cell_type": "markdown",
   "id": "aebbb50f-6dc4-4f07-9a66-400e2148eac8",
   "metadata": {},
   "source": [
    "For my report, I found and used a dataset called *Generations*, published by Ilan H. Meyer, Ph.D., in *Data Sharing for Demographic Research* ([DSDR](https://www.icpsr.umich.edu/web/pages/DSDR/index.html)), a data archive of the *Institute for Social Research* ([ICPSR](https://www.icpsr.umich.edu/web/pages/index.html)) at the University of Michigan.  This dataset, like all datasets in the archive, is only available to download with an ICPSR account, and members are not permitted to redistribute the datasets.  Therefore, **I have not included the dataset in my public report**, and I urge anyone reproducing my work to similarly avoid posting the data anywhere publically.  However, the data is publically available and free to access, so any reader wishing to follow along with or replicate my work may do so by following the instructions below.  **Please note that none of the notebooks will run without this step.**\n",
    "\n",
    "1. Visit the [DSDR study page](https://www.icpsr.umich.edu/web/DSDR/studies/37166)\n",
    "2. Click \"Download\" and select \"Delimited\"\n",
    "3. Select one of the \"Sign In\" options.\n",
    "4. Click \"Set up a new account.\" (Or sign in, if you happen to already have an account.)\n",
    "5. Fill out the information and click \"Next.\"\n",
    "6. Follow the instructions on screen to verify your account.  Once your account is verified, you should be automatically redirected back to the study page.\n",
    "7. Click \"Download\" again and select \"Delimited\" again.\n",
    "8. Answer the questions on screen and click \"Save.\"\n",
    "9. Click \"Agree\" on the Terms of Use.\n",
    "10. The file will either download automatically into your Downloads folder, or a pop-up window will appear for you to choose the destination.\n",
    "11. Locate the file on your computer.\n",
    "12. Unzip the file `ICPSR_37166-v2.zip` to the location of your choice.\n",
    "13. Within the zip folder, locate the folder `DS0007`.\n",
    "14. Within `DS0007`, locate `37166-0007-Data.tsv`.  This is the data file.\n",
    "\n",
    "Curious readers may also be interested in the other file in that folder, `DS0007/37166-0007-Codebook-ICPSR.pdf`, which is part of the documentation for the original data.  It includes frequency counts for every variable, as well as some archival notes from DSDR.  If you exit out of `DS0007` back to the root directory of the unzipped folder, you'll find another documentation file: `37166-Documentation-methodology.pdf`.  This file came from the original author, and includes instructions, descriptions, and Cronbach's alpha scores for their computed variables.  I referred to both documents extensively during my work.\n",
    "\n",
    "As indicated in the name of the zip file above, I used version 2 of this dataset, which was the only one available when I downloaded it on May 23, 2024.  Version 2 was then, and still is as of this writing, the most recent and up-to-date version of the materials, having been published on January 5, 2023.  However, it should be noted that the datasets on ICPSR's website are occasionally updated. Should future replications encounter errors or differing results than my own, I humbly request that they first ensure that the ICPSR files have not changed since that time.\n",
    "\n",
    "Finally, I would like to extend my gratitude to Dr. Meyer for sharing this data with the public, and to the teams at DSDR and ICPSR for maintaining the archive.\n",
    "\n",
    "Citation:\n",
    "Meyer, Ilan H. Generations: A Study of the Life and Health of LGB People in a Changing Society, United States, 2016-2019. Inter-university Consortium for Political and Social Research \\[distributor\\], 2023-01-05. https://doi.org/10.3886/ICPSR37166.v2"
   ]
  },
  {
   "cell_type": "markdown",
   "id": "83ff48e4-8117-4dae-82d6-1cc8957ef8e9",
   "metadata": {},
   "source": [
    "### Dataset"
   ]
  },
  {
   "cell_type": "markdown",
   "id": "aa3ad53c-0ec7-461d-ac11-7b72e5f14ce2",
   "metadata": {},
   "source": [
    "- how old is it?\n",
    "- how was it collected?\n",
    "- describe the vibes of the data\n",
    "- how many rows, columns, missing values?"
   ]
  },
  {
   "cell_type": "markdown",
   "id": "9434fb16-3473-4cc3-b73c-cb4b7773aeda",
   "metadata": {},
   "source": [
    "### Operational Definitions"
   ]
  },
  {
   "cell_type": "markdown",
   "id": "1c07e279-b513-4b6c-8a43-a35e5fa0847a",
   "metadata": {},
   "source": [
    "Kessler6, others"
   ]
  },
  {
   "cell_type": "markdown",
   "id": "07ee2112-63e6-41f3-9524-33bd078f9137",
   "metadata": {},
   "source": [
    "### Data Preparation"
   ]
  },
  {
   "cell_type": "markdown",
   "id": "087e6e42-47c5-4fa9-a4db-f06b609eff8e",
   "metadata": {},
   "source": [
    "Repeat yourself a bit from the previous section.  Assume people are reading this out of order.\n",
    "\n",
    "{dataset} provides data on {whatever}, which can be used in combination with {something else, from the same dataset or a different one} to gain insight on {something related to the problem statement}.  By {mathing the thing} and {impressive computer words to make HR people think I'm smart}, I will be able to calculate/analyze/compare/whatever {some variable(s)}, which serves as a proxy for {some actual thing(s)}.\n",
    "\n",
    "Below are some preliminary summary statistics on the dataset as it was obtained.\n",
    "\n",
    "\n",
    "OR maybe move all the subheadings here to a separate notebook and just do a very short prose summary here."
   ]
  },
  {
   "cell_type": "code",
   "execution_count": 4,
   "id": "03f63344-05a6-4b75-8e0b-eba51e1f641d",
   "metadata": {},
   "outputs": [],
   "source": [
    "#thingy.describe()"
   ]
  },
  {
   "cell_type": "markdown",
   "id": "9f63c442-f5db-45e9-a827-c444a734a713",
   "metadata": {},
   "source": [
    "Keen readers may notice it is completely {poopshowified}.  The *counts* row indicates missing data in a number of columns, and several columns have values for *other rows* that are illogical or mathematically impossible for the variables those columns represent.  Finally, {column(s) A} do not appear on the summary statistics, despite representing what should be numeric data, while {column(s) B} do appear in the summary statistics, despite representing what should not be numeric data.\n",
    "\n",
    "Below, I have described the steps I took to resolve these issues, as well as others discovered along the way."
   ]
  },
  {
   "cell_type": "markdown",
   "id": "7b7eb05f-6e25-4f63-a749-b0b793270634",
   "metadata": {},
   "source": [
    "#### Renaming Columns"
   ]
  },
  {
   "cell_type": "markdown",
   "id": "4927088e-46a6-4702-811f-55c12bb15608",
   "metadata": {},
   "source": [
    "Whatever names they came with were surely stupid, so here are some new ones.  The full list might be in an appendix or something."
   ]
  },
  {
   "cell_type": "markdown",
   "id": "d024ecaa-40e5-4ed3-922a-6d145e7f1a90",
   "metadata": {},
   "source": [
    "#### Test/Train Split"
   ]
  },
  {
   "cell_type": "markdown",
   "id": "2d12c8d2-56bf-4fa3-bdaa-2f8e9e51a985",
   "metadata": {},
   "source": [
    "I did test/train split, because I am not stupid."
   ]
  },
  {
   "cell_type": "markdown",
   "id": "5a14e0c6-b9d2-4658-b62c-bd95bbdf11df",
   "metadata": {},
   "source": [
    "#### Data Type Conversions"
   ]
  },
  {
   "cell_type": "markdown",
   "id": "19e1853c-e478-4bf4-b5ff-52130bddda65",
   "metadata": {},
   "source": [
    "I converted these columns from this type to this other type.  I created dummy variables, and converted things to levels that made sense (like factors in R.  I'll have to figure out how to phrase this better.  Like, I accounted for ordinal variables and stuff like that).  I also might have done some rounding or whatever."
   ]
  },
  {
   "cell_type": "markdown",
   "id": "8ae5f9da-adfa-482f-843b-0a7a73107dcf",
   "metadata": {},
   "source": [
    "#### Null and Invalid Values"
   ]
  },
  {
   "cell_type": "markdown",
   "id": "de3bae36-237c-4e14-a9b9-162c14679183",
   "metadata": {},
   "source": [
    "I checked all the data and did some super clever stuff like verifying missing values in this one column against present values in this other column to determine that those missing values should be 0s!  This one column here is supposed to indicate whether something exists or not, and these other columns are supposed to describe the thing if it does exist, so wherever there's a description, I used that to infer that the thing does exist and corrected the first column accordingly!\n",
    "\n",
    "I found X missing values in {column}, and {did something with them} because {reason}.  See {other notebook} for a detailed explanation.\n",
    "\n",
    "I also found these values that made no sense for these reasons.  I either dropped them, or fixed them in the following way."
   ]
  },
  {
   "cell_type": "markdown",
   "id": "c6b62df8-759f-4863-8ba1-42f2ed74e6a3",
   "metadata": {},
   "source": [
    "#### Feature Engineering"
   ]
  },
  {
   "cell_type": "markdown",
   "id": "1ea9507a-a0d1-4e7d-9a6f-a29348f03aa5",
   "metadata": {},
   "source": [
    "- creating new columns\n",
    "- polynomial terms\n",
    "- standardization"
   ]
  },
  {
   "cell_type": "markdown",
   "id": "b556f800-c02d-44e2-931c-4203b90df54f",
   "metadata": {},
   "source": [
    "### Planned Analyses"
   ]
  },
  {
   "cell_type": "markdown",
   "id": "e86d050e-5539-43dc-9dbb-6a2b155c8ac5",
   "metadata": {},
   "source": [
    "Here's a recap of the stuff I said I'd do, now with mathier terms."
   ]
  },
  {
   "cell_type": "markdown",
   "id": "fc9721f7-d6f7-42f2-af44-4c6750e652ae",
   "metadata": {},
   "source": [
    "#### Modeling Strategy"
   ]
  },
  {
   "cell_type": "markdown",
   "id": "41988a43-e012-4ab4-9a80-6b4ed3542a4d",
   "metadata": {},
   "source": [
    "#### Feature Selection"
   ]
  },
  {
   "cell_type": "markdown",
   "id": "3cd7f3ef-98e5-45df-86e1-03d73fa1d121",
   "metadata": {},
   "source": [
    "#### Cross-Validation"
   ]
  },
  {
   "cell_type": "markdown",
   "id": "2427d1e0-26bc-4e31-b596-4dcf95d67152",
   "metadata": {},
   "source": [
    "Talk about the bias-variance tradeoff."
   ]
  },
  {
   "cell_type": "markdown",
   "id": "01247165-8b83-4348-a002-6b95782cce3a",
   "metadata": {},
   "source": [
    "## Data Dictionary"
   ]
  },
  {
   "cell_type": "markdown",
   "id": "f08c22e0-5c7b-4fcc-b5ab-627c1095529f",
   "metadata": {},
   "source": [
    "|Variable Name|Type|Source|Description|\n",
    "|---|---|---|---|\n",
    "|   |   |   |   |"
   ]
  },
  {
   "cell_type": "markdown",
   "id": "91bf5815-9b18-421e-b106-81b94755567f",
   "metadata": {},
   "source": [
    "## Exploratory Data Analyses"
   ]
  },
  {
   "cell_type": "markdown",
   "id": "62b0d49b-5920-4e27-96cd-955d9818e56f",
   "metadata": {},
   "source": [
    "### Summary Statistics"
   ]
  },
  {
   "cell_type": "markdown",
   "id": "4e9ef05c-fb28-4290-86c0-f931c7ae6b9d",
   "metadata": {},
   "source": [
    "### Correlations "
   ]
  },
  {
   "cell_type": "markdown",
   "id": "08795a41-f53f-4851-99ce-80ee295a5d40",
   "metadata": {},
   "source": [
    "### Misc. Graphs (scatter these throughout the section)"
   ]
  },
  {
   "cell_type": "markdown",
   "id": "f926f339-13c5-4062-a526-ea7e2a6cb4cc",
   "metadata": {},
   "source": [
    "#### histogram of your y variable(s)"
   ]
  },
  {
   "cell_type": "markdown",
   "id": "9c6bb1b6-55de-4e5d-821b-3814c06ae64b",
   "metadata": {},
   "source": [
    "#### histogram of your (most important) x variable(s)"
   ]
  },
  {
   "cell_type": "markdown",
   "id": "12a09f97-0983-4809-98d2-8cce9c3846e0",
   "metadata": {},
   "source": [
    "#### probably a heatmap re: colinearity"
   ]
  },
  {
   "cell_type": "markdown",
   "id": "de0367ac-01c8-40be-8e73-8b235dd030dc",
   "metadata": {},
   "source": [
    "#### boxplot for flavor"
   ]
  },
  {
   "cell_type": "markdown",
   "id": "c481e146-3f07-4885-81ff-4ab82138b23a",
   "metadata": {},
   "source": [
    "#### scatterplot or several"
   ]
  },
  {
   "cell_type": "markdown",
   "id": "5fb9102b-aca1-48be-855c-5d5a8bb84e5a",
   "metadata": {},
   "source": [
    "#### get some qqplots in here, heck yeah"
   ]
  },
  {
   "cell_type": "markdown",
   "id": "cfebba4f-0790-42fd-8f82-e26a0e674bfc",
   "metadata": {},
   "source": [
    "#### picture of Angie"
   ]
  },
  {
   "cell_type": "code",
   "execution_count": 5,
   "id": "2213868e-f6d0-4963-b37a-851a43386e2c",
   "metadata": {},
   "outputs": [],
   "source": [
    "%matplotlib inline"
   ]
  },
  {
   "cell_type": "markdown",
   "id": "2f8604f1-6ca2-403c-928b-e46807d601a7",
   "metadata": {},
   "source": [
    "You should probably take this out before you turn it in, but here's a treat for getting through all those graphs.  Remember that this good girl is always watching over you.\n",
    "\n",
    "![](C:\\Users\\emily\\OneDrive\\Desktop\\9CA539B5-08C0-40E9-8E5B-AB564FE54CC3.jpg)\n",
    "\n",
    "**WHY CAN'T I EVER GET THIS TO WORK!?!?!**"
   ]
  },
  {
   "cell_type": "markdown",
   "id": "646d03e4-5b66-42ab-a83c-b0a997f27788",
   "metadata": {},
   "source": [
    "<img src=\"https://raw.git.generalassemb.ly/eksanders/pictures/36a6188fb189f38137e4df5007c54ff24580217b/9CA539B5-08C0-40E9-8E5B-AB564FE54CC3.JPG?token=AAAM2WTBGPH5ZHETOVJXA2DGD3II6\" alt=\"Angie, thanks to Tieme at https://stackoverflow.com/questions/14675913/changing-image-size-in-markdown#14747656 for the syntax\" style=\"width:600px;\"/>\n",
    "\n",
    "ok, that works!"
   ]
  },
  {
   "cell_type": "markdown",
   "id": "40cd8652-463f-4f9f-8ca7-13dbfbd66f44",
   "metadata": {},
   "source": [
    "[tutorial](https://github.com/codenamewei/technical-posts/blob/main/jupyter/post1_displaying-images-in-jupyter-notebook/show_image.ipynb)\n",
    "\n",
    "**Image URL** (Note: Change this to markdown cell to run)\n",
    "\n",
    "![Sample Image](https://i.pinimg.com/564x/88/67/a4/8867a454935fa63595614875e48a6b53--samoyed-funny-samoyed-dogs.jpg)"
   ]
  },
  {
   "cell_type": "markdown",
   "id": "5801e0f5-8b30-456b-a714-34c841b1c91b",
   "metadata": {},
   "source": [
    "## Results"
   ]
  },
  {
   "cell_type": "markdown",
   "id": "7522f2d6-ad31-4f0c-bca8-fa5a92115c13",
   "metadata": {},
   "source": [
    "### Best Predictive Model"
   ]
  },
  {
   "cell_type": "markdown",
   "id": "54f0cfac-58ae-4a6b-a9de-36915eca394a",
   "metadata": {},
   "source": [
    "include the coefficients, intercept, and metrics.  offer brief interpretation, then expand upon that in the following sections"
   ]
  },
  {
   "cell_type": "markdown",
   "id": "b2fa29b1-32c2-4f51-b03e-304d00b08324",
   "metadata": {},
   "source": [
    "#### Metrics"
   ]
  },
  {
   "cell_type": "markdown",
   "id": "0e0bdc20-5b6a-4527-8453-ea7fef0df664",
   "metadata": {},
   "source": [
    "- R2\n",
    "- R2aj\n",
    "- MAE\n",
    "- MSE\n",
    "- RMSE"
   ]
  },
  {
   "cell_type": "markdown",
   "id": "307a86a0-a439-4ff9-b9a5-1513b5a7f32b",
   "metadata": {},
   "source": [
    "#### Interpretation"
   ]
  },
  {
   "cell_type": "markdown",
   "id": "22485c67-0fa2-46d8-9711-9e884345c739",
   "metadata": {},
   "source": [
    "If the model is interpretable, do so.  If not, explain why not."
   ]
  },
  {
   "cell_type": "markdown",
   "id": "db9b2443-882e-4129-b91d-38765ed35146",
   "metadata": {},
   "source": [
    "### Best Inferential Model"
   ]
  },
  {
   "cell_type": "markdown",
   "id": "cf2b1659-72da-4e6b-aad6-56287ac51f59",
   "metadata": {},
   "source": [
    "include the coefficients, intercept, and metrics.  offer brief interpretation, then expand upon that in the following sections"
   ]
  },
  {
   "cell_type": "markdown",
   "id": "3896c8f7-306c-4cc5-87cf-f4d1af4be176",
   "metadata": {},
   "source": [
    "#### Metrics"
   ]
  },
  {
   "cell_type": "markdown",
   "id": "a007cc99-e2ea-4770-a65e-c5c2b64dd8b1",
   "metadata": {},
   "source": [
    "- R2\n",
    "- R2aj\n",
    "- MAE\n",
    "- MSE\n",
    "- RMSE"
   ]
  },
  {
   "cell_type": "markdown",
   "id": "e91dcb97-a533-4f0d-b68c-96001d39effd",
   "metadata": {},
   "source": [
    "#### Interpretation"
   ]
  },
  {
   "cell_type": "markdown",
   "id": "fe20757f-9ca7-46b9-bc96-01ed3d0999d6",
   "metadata": {},
   "source": [
    "interpret the intercept and coefficients."
   ]
  },
  {
   "cell_type": "markdown",
   "id": "64c86a31-4cc6-4271-924e-fca74bd64847",
   "metadata": {},
   "source": [
    "### Comparison"
   ]
  },
  {
   "cell_type": "markdown",
   "id": "6b319664-4344-4634-98cc-4c45b2437b33",
   "metadata": {},
   "source": [
    "If it makes sense to do so, compare and contrast the two models.  Highlight which features play similar roles, and which ones don't.  Save the commentary on why some features might work better in one model or another for the discussion."
   ]
  },
  {
   "cell_type": "markdown",
   "id": "e4ae7537-4c91-4296-95b4-198d90b7f06c",
   "metadata": {},
   "source": [
    "## Discussion"
   ]
  },
  {
   "cell_type": "markdown",
   "id": "2bf4cc64-9ffb-45fd-8ccd-8df8f758397e",
   "metadata": {},
   "source": [
    "### Interpretation"
   ]
  },
  {
   "cell_type": "markdown",
   "id": "0e8a431e-c820-49cd-a420-ff1cb6e87f69",
   "metadata": {},
   "source": [
    "#### Best Predictive Model"
   ]
  },
  {
   "cell_type": "markdown",
   "id": "fcf6a746-f824-4e8d-9ad0-984ba4304d25",
   "metadata": {},
   "source": [
    "Explain your best predictive model *very briefly* in plain English.  Explain its metrics in plain English, and then circle back to explain the terms in more depth.  The point is to have this structure: here's just enough info about the model so that we're all on the same page. Now here's some proof that it's actually good enough to be worth talking about.  Now we're going to talk about it in depth.  \n",
    "\n",
    "What factors should we be looking at to make predictions?  What might we be able to do to change the outcomes?  Be careful not to conflate correlation and causation.  If your problem statement requires making a prediction, do so here.  In what areas does this model fall short of the goals, and how could we fix this?  What additional data would be helpful?  \n",
    "\n",
    "This section will probably be relatively short, since if you need two models, it probably because the predictive one is uninterpretable.  If that is the case, say so and move on quickly."
   ]
  },
  {
   "cell_type": "markdown",
   "id": "1949ae75-e0f8-4a25-8e74-911b5f910332",
   "metadata": {},
   "source": [
    "#### Best Inferential Model"
   ]
  },
  {
   "cell_type": "markdown",
   "id": "828b79e7-eaf9-4eec-8549-d18451ad9c06",
   "metadata": {},
   "source": [
    "This section should be longer.  The whole point of an inferential model is to be able to draw inferences from it, so do that. Follow the same structure as above though.\n",
    "\n",
    "Explain your best predictive model *very briefly* in plain English.  Explain its metrics in plain English, and then circle back to explain the terms in more depth.  The point is to have this structure: here's just enough info about the model so that we're all on the same page. Now here's some proof that it's actually good enough to be worth talking about.  Now we're going to talk about it in depth.  \n",
    "\n",
    "What factors should we be looking at to make predictions?  What might we be able to do to change the outcomes?  Be careful not to conflate correlation and causation.  If your problem statement requires making a prediction, do so here.  In what areas does this model fall short of the goals, and how could we fix this?  What additional data would be helpful?  "
   ]
  },
  {
   "cell_type": "markdown",
   "id": "57d5da03-4186-4898-aa1a-201d4104a0b7",
   "metadata": {},
   "source": [
    "### Recommendations"
   ]
  },
  {
   "cell_type": "markdown",
   "id": "2eaa3a85-4fe2-422b-84ab-010a6883287a",
   "metadata": {},
   "source": [
    "Briefly reiterate the recommendations you made above about additional data.\n",
    "\n",
    "Repeat your problem statement, and elaborate at length on the implications of your model, and/or the predictions you made, as they relate to your problem statement.  There is no such thing as too redundant for business people.  Be clear and bold."
   ]
  },
  {
   "cell_type": "markdown",
   "id": "574557a6-fb07-435c-94e7-6e20e851958a",
   "metadata": {},
   "source": [
    "### Conclusion"
   ]
  },
  {
   "cell_type": "markdown",
   "id": "56752532-d120-49e2-96c2-ce17a2b8e3c9",
   "metadata": {},
   "source": [
    "Write a very brief summary of your problem statement, how you investigated the problem, and your recommendations.  Be especially explicit about the applied recommendations, as opposed to the research recommendations."
   ]
  },
  {
   "cell_type": "markdown",
   "id": "231b8526-b029-4825-b27b-6fce8f5f511a",
   "metadata": {},
   "source": [
    "## References"
   ]
  },
  {
   "cell_type": "markdown",
   "id": "114843d4-33e9-4409-9a9e-d20231a9e2e7",
   "metadata": {},
   "source": [
    "I'm using [APA Style](https://owl.purdue.edu/owl/research_and_citation/apa_style/apa_formatting_and_style_guide/reference_list_electronic_sources.html) until told otherwise.\n",
    "- TWEET: Lastname, F. M. or Name of Group [@username]. (Year, Month Date). Content of the post up to the first 20 words[Tweet]. Site Name. URL\n",
    "- BLOG POSTS: Lastname, F. M. (Year, Month Date). Title of post. Publisher. URL\n",
    "- WIKIPEDIA: Title of article. (Year, Month Date). In Wikipedia. URL of archived version of page\n",
    "- SOFTWARE: Lastname, F. M. or Name of Group. (Year). Title of software (Version No.). Publisher. URL\n",
    "- WEBPAGE, named author(s): Lastname, F. M. (Year, Month Date). Title of page. Site name. URL\n",
    "- WEBPAGE, group/org author: Group name. (Year, Month Date). Title of page. Site name. URL  ([OMIT SITE NAME if it's the same as the group name.](https://owl.purdue.edu/owl/research_and_citation/apa_style/apa_formatting_and_style_guide/reference_list_electronic_sources.html))\n",
    "- WEBPAGE, no author: Title of page. (Year, Month Date). Site name. Retrieved Month Date, Year, from URL\n",
    "- DATASETS: Lastname, F. M. or Name of Group (Year). Title of dataset (Version No.) [Data set]. Publisher. DOI or URL\n",
    "- ARTICLES: Author, A. A., Author, B. B., & Author, C. C. (Year). Title of article. Title of Periodical, volume number(issue number), pages. https://doi.org/xx.xxx/yyyy"
   ]
  },
  {
   "cell_type": "markdown",
   "id": "44c35cd4-0ad8-4959-ad8a-88152d596aab",
   "metadata": {},
   "source": [
    "**SOFTWARE CITATIONS**  \n",
    "- Hunter, J. D. (2007). Matplotlib: A 2D graphics environment. *Computing in Science & Engineering, 9*(3), 90-95. https://doi.org/10.1109/MCSE.2007.55\n",
    "- Waskom, M. L. (2021). Seaborn: Statistical data visualization. *Journal of Open Source Software, 6*(60), 3021, https://doi.org/10.21105/joss.03021\n",
    "- The pandas development team. (2020). Pandas (Version 2.1.4.). Zenodo. https://doi.org/10.5281/zenodo.3509134\n",
    "- Harris, C.R., Millman, K.J., van der Walt, S.J. et al. (2020). Array programming with NumPy. *Nature, 585*, 357–362. https://doi.org/10.1038/s41586-020-2649-2\n",
    "- Pedregosa, F., Varoquaux, G., Gramfort, A., Michel, V., Thirion, B., Grisel, O., Blondel, M., Prettenhofer, P., Weiss, R., Dubourg, V., Vanderplas, J., Passos, A., Cournapeau, D., Brucher, M., Perrot, M., & Duchesnay, E. (2011). Scikit-learn: Machine learning in Python. *Journal of Machine Learning Research, 12*, 2825-2830. URL: https://jmlr.csail.mit.edu/papers/v12/pedregosa11a.html"
   ]
  }
 ],
 "metadata": {
  "kernelspec": {
   "display_name": "Python 3 (ipykernel)",
   "language": "python",
   "name": "python3"
  },
  "language_info": {
   "codemirror_mode": {
    "name": "ipython",
    "version": 3
   },
   "file_extension": ".py",
   "mimetype": "text/x-python",
   "name": "python",
   "nbconvert_exporter": "python",
   "pygments_lexer": "ipython3",
   "version": "3.11.7"
  }
 },
 "nbformat": 4,
 "nbformat_minor": 5
}
