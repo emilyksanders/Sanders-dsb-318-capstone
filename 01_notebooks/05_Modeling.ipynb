{
 "cells": [
  {
   "cell_type": "markdown",
   "id": "6fe691e0-4e29-4940-9dbe-1fbd01f6cd1d",
   "metadata": {},
   "source": [
    "# **Pride and Joy**\n",
    "### *An investigation of mental health correlates in LGBQ+ people*\n",
    "| | | | | | | | | | | | | | | | | | | | | | | | | | | | | | | | | | |\n",
    "|-|-|-|-|-|-|-|-|-|-|-|-|-|-|-|-|-|-|-|-|-|-|-|-|-|-|-|-|-|-|-|-|-|-|\n",
    "|Emily K. Sanders| | | | | | | | | | | | | | | | | | | | | | | | | | | | | | | | |Capstone Project|\n",
    "|DSB-318| | | | | | | | | | | | | | | | | | | | | | | | | | | | | | | | |June 13, 2024|\n",
    "---"
   ]
  },
  {
   "cell_type": "markdown",
   "id": "9d4fe8eb-7a9a-49ad-94f6-c51e6c977340",
   "metadata": {},
   "source": [
    "## Prior Notebooks Summary"
   ]
  },
  {
   "cell_type": "markdown",
   "id": "3bb31692-0eb4-4ce9-b4dd-5f5f1dcf5ba0",
   "metadata": {},
   "source": [
    "In the previous notebooks, I thoroughly cleaned the data, imputed missing values, and conducted exploratory data analysis (EDA).  Through that EDA, I determined that my model was most likely to succeed if I used the square root of the Kessler scores as my target variable, rather than the raw scores themselves, and identified predictor variables with promising correlations to those square root scores.\n",
    "\n",
    "In this notebook, I will build and evaluate several models.  The `python` code is included for any readers who wish to follow along or reproduce my work."
   ]
  },
  {
   "cell_type": "markdown",
   "id": "8929a245-b12c-41a4-86f9-b921513cb541",
   "metadata": {},
   "source": [
    "## Table of Contents"
   ]
  },
  {
   "cell_type": "markdown",
   "id": "93ecd243-c1df-4597-967c-426ce2ecb2b7",
   "metadata": {},
   "source": [
    "- [Modeling](###Modeling)\n",
    "  - [Imports](###Imports)\n",
    "  - [Model 1](###Model-1)\n",
    "  - etc.\n",
    "- [Notebook Summary](##Notebook-Summary)  "
   ]
  },
  {
   "cell_type": "markdown",
   "id": "ac6060fb-3b15-4d9f-9fa1-da8e757de0b7",
   "metadata": {},
   "source": [
    "### Imports"
   ]
  },
  {
   "cell_type": "code",
   "execution_count": 1,
   "id": "6d9b3607-eea6-4b64-aa01-d418bc3bf781",
   "metadata": {},
   "outputs": [],
   "source": [
    "import pandas as pd\n",
    "import numpy as np\n",
    "import os\n",
    "from sklearn.linear_model import LinearRegression\n",
    "from sklearn.model_selection import train_test_split, cross_val_score\n",
    "from sklearn.metrics import mean_absolute_error, mean_squared_error"
   ]
  },
  {
   "cell_type": "code",
   "execution_count": 2,
   "id": "ebe171dc-ad0a-4335-97f2-e23241fcdea5",
   "metadata": {},
   "outputs": [
    {
     "data": {
      "text/plain": [
       "(1494, 132)"
      ]
     },
     "execution_count": 2,
     "metadata": {},
     "output_type": "execute_result"
    }
   ],
   "source": [
    "# Import the most recent dataframe from the previous notebooks\n",
    "meyer = pd.read_csv('../02_data/df_after_eda.csv')\n",
    "meyer.shape"
   ]
  },
  {
   "cell_type": "markdown",
   "id": "2dc56d40-a0e7-4bb0-b33d-161a15035151",
   "metadata": {},
   "source": [
    "### Model 1"
   ]
  },
  {
   "cell_type": "code",
   "execution_count": 3,
   "id": "b702f744-8c67-4118-a82e-238dd027c939",
   "metadata": {},
   "outputs": [
    {
     "name": "stdout",
     "output_type": "stream",
     "text": [
      "(1344, 28)\n",
      "(150, 28)\n",
      "(1344,)\n",
      "(150,)\n"
     ]
    }
   ],
   "source": [
    "# I'm just going to eyeball some features from the scatterplots\n",
    "good_ones = ['chronic_strain', 'suicidality', 'w1age', 'w1auditc_i', \n",
    "  'w1connectedness_i', 'w1conversion', 'w1dudit_i', 'w1everyday_i', \n",
    "  'w1feltstigma_i', 'w1idcentral_i', 'w1internalized_i', 'w1lifesat_i', \n",
    "  'w1meim_i', 'w1pinc_i', 'w1poverty_i_ei', 'w1q03_ei', 'w1q33_ei', \n",
    "  'w1q52_ei', 'w1q72_ei', 'w1q74_22_ei', 'w1q74_21_ei', 'w1q140_ei', \n",
    "  'w1q166_ei', 'w1q167_ei', 'w1q171_8_ei', 'w1q181_ei_r', 'w1socialwb_i', \n",
    "  'w1socsupport_i']\n",
    "\n",
    "# Make X and y\n",
    "X = meyer[good_ones]\n",
    "y = meyer['kessler6_sqrt']\n",
    "\n",
    "# Very small testing set because this is an inferential model\n",
    "X_train, X_test, y_train, y_test = train_test_split(X, y, \n",
    "  test_size = 0.1, random_state = 6)\n",
    "  \n",
    "for i in [X_train, X_test, y_train, y_test]:\n",
    "  print(i.shape)"
   ]
  },
  {
   "cell_type": "code",
   "execution_count": 4,
   "id": "ea30c97f-e9cb-43fc-bc6f-4a43abfb9641",
   "metadata": {},
   "outputs": [
    {
     "name": "stdout",
     "output_type": "stream",
     "text": [
      "Training Set\n",
      " MSE: 0.4842928313042025\n",
      " RMSE: 0.6959115111163218\n",
      " MAE: 0.5390303622322911\n",
      "====================\n",
      "Testing Set\n",
      " MSE: 0.4212669570651022\n",
      " RMSE: 0.6490508123907575\n",
      " MAE: 0.49657612822804764\n"
     ]
    }
   ],
   "source": [
    "# Instantiate the model\n",
    "lr = LinearRegression()\n",
    "\n",
    "# Cross validation just for funsies\n",
    "cross_val_score(lr, X_train, y_train)\n",
    "\n",
    "# Fit the model\n",
    "model_1 = lr.fit(X_train, y_train)\n",
    "\n",
    "# Make some predictions\n",
    "model_1_train_preds = model_1.predict(X_train)\n",
    "model_1_test_preds = model_1.predict(X_test)\n",
    "\n",
    "# Score the model and print some metrics\n",
    "print('Training Set')\n",
    "model_1.score(X_train, y_train)\n",
    "print(f' MSE: {mean_squared_error(y_train, model_1_train_preds)}')\n",
    "print(f' RMSE: {mean_squared_error(y_train, model_1_train_preds, squared = False)}')\n",
    "print(f' MAE: {mean_absolute_error(y_train, model_1_train_preds)}')\n",
    "print('='*20)\n",
    "print('Testing Set')\n",
    "model_1.score(X_test, y_test)\n",
    "print(f' MSE: {mean_squared_error(y_test, model_1_test_preds)}')\n",
    "print(f' RMSE: {mean_squared_error(y_test, model_1_test_preds, squared = False)}')\n",
    "print(f' MAE: {mean_absolute_error(y_test, model_1_test_preds)}')"
   ]
  },
  {
   "cell_type": "markdown",
   "id": "1e5c14db-2fd4-4971-8173-3bb6288891d3",
   "metadata": {},
   "source": [
    "## Notebook Summary"
   ]
  },
  {
   "cell_type": "markdown",
   "id": "3680e244-0067-4dcd-b2f6-f20c91bf48ad",
   "metadata": {},
   "source": [
    "In this notebook, I have built several models and presented relevent metrics from each.  \n",
    "\n",
    "In the following notebook, I will interpret these models, and discuss my conclusions, limitations, and recommendations for further research."
   ]
  }
 ],
 "metadata": {
  "kernelspec": {
   "display_name": "Python 3 (ipykernel)",
   "language": "python",
   "name": "python3"
  },
  "language_info": {
   "codemirror_mode": {
    "name": "ipython",
    "version": 3
   },
   "file_extension": ".py",
   "mimetype": "text/x-python",
   "name": "python",
   "nbconvert_exporter": "python",
   "pygments_lexer": "ipython3",
   "version": "3.11.7"
  }
 },
 "nbformat": 4,
 "nbformat_minor": 5
}
