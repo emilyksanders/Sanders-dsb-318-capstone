{
 "cells": [
  {
   "cell_type": "markdown",
   "id": "bba42f54-f0f0-4983-8369-ba2b309278a6",
   "metadata": {},
   "source": [
    "# **Pride and Joy**\n",
    "### *An investigation of mental health correlates in LGBQ+ people*\n",
    "| | | | | | | | | | | | | | | | | | | | | | | | | | | | | | | | | | |\n",
    "|-|-|-|-|-|-|-|-|-|-|-|-|-|-|-|-|-|-|-|-|-|-|-|-|-|-|-|-|-|-|-|-|-|-|\n",
    "|Emily K. Sanders| | | | | | | | | | | | | | | | | | | | | | | | | | | | | | | | |Capstone Project|\n",
    "|DSB-318| | | | | | | | | | | | | | | | | | | | | | | | | | | | | | | | |June 13, 2024|\n",
    "---"
   ]
  },
  {
   "cell_type": "code",
   "execution_count": 492,
   "id": "fdef073d-6276-43e5-a4ca-b6b0a4a5106b",
   "metadata": {},
   "outputs": [],
   "source": [
    "#is there any way to space that text out so that it fits the edges of whatever screen it's on?"
   ]
  },
  {
   "cell_type": "markdown",
   "id": "caf2e247-de73-4a48-94fb-f3c4e483f509",
   "metadata": {},
   "source": [
    "| | | | | | | | | | | | | | | | | | | | | | | | | | | | | | | | | | | | | | | | | | | | | | | | | |\n",
    "|-|-|-|-|-|-|-|-|-|-|-|-|-|-|-|-|-|-|-|-|-|-|-|-|-|-|-|-|-|-|-|-|-|-|-|-|-|-|-|-|-|-|-|-|-|-|-|-|-|\n",
    "|Emily K. Sanders| | | | | | | | | | | | | | | | | | | | | | | | | | | | | | | | | | | | | | | | | | | | | | | |Capstone Project|\n",
    "|DSB-318| | | | | | | | | | | | | | | | | | | | | | | | | | | | | | | | | | | | | | | | | | | | | | | |June 13, 2024|\n",
    "---"
   ]
  },
  {
   "cell_type": "markdown",
   "id": "c25b455d-da3a-443f-9d58-320201f1d391",
   "metadata": {},
   "source": [
    "## Prior Notebooks Summary"
   ]
  },
  {
   "cell_type": "markdown",
   "id": "fd408180-1c7a-4ca9-a379-b8642378a7bf",
   "metadata": {},
   "source": [
    "In the previous notebook, I \n",
    "\n",
    "- **gave a problem statement!**\n",
    "- **listed deliverables!**\n",
    "- **explained that I will be using the word queer!!!**\n",
    "- **explained that it was the original author's idea to exclude binary trans people, not mine**\n",
    "\n",
    "In this notebook, I will ____________, including `python` code."
   ]
  },
  {
   "cell_type": "markdown",
   "id": "4f7518c8-5040-4377-b76c-ae3d850e1108",
   "metadata": {},
   "source": [
    "## Table of Contents"
   ]
  },
  {
   "cell_type": "markdown",
   "id": "77c4c7a8-d914-48c8-8d49-cac82a289b8c",
   "metadata": {},
   "source": [
    "- [Data Preparation](##Data-Preparation)\n",
    "  - [Imports](###Imports)\n",
    "  - [Renaming Columns](###Renaming-Columns) \n",
    "  - [Feature Selection, Part 1](###Feature-Selection-Part-1)\n",
    "  - [Missing Values and Imputation](###Missing-Values-and-Imputation)\n",
    "  - [Feature Engineering](###Feature-Engineering)\n",
    "  - [Feature Selection, Part 2](###Feature-Selection-Part-2)\n",
    "- [Notebook Summary](##Notebook-Summary)  "
   ]
  },
  {
   "cell_type": "markdown",
   "id": "07ee2112-63e6-41f3-9524-33bd078f9137",
   "metadata": {},
   "source": [
    "## Data Preparation"
   ]
  },
  {
   "cell_type": "markdown",
   "id": "087e6e42-47c5-4fa9-a4db-f06b609eff8e",
   "metadata": {},
   "source": [
    "In the cells below, I have reported the steps I took to prepare the dataset for modeling.  Readers should recall from the Introduction and Methods notebook that none of the code will run unless they download the dataset from DSDR's archive, and import it when prompted below.  **Anyone wishing to reproduce my work must first obtain a copy of the dataset from DSDR.**\n",
    "\n",
    "Where neccessary, I have provided commentary on the code below.  Otherwise, I trust that readers will the code self-explanatory."
   ]
  },
  {
   "cell_type": "markdown",
   "id": "9324aa3a-cbe1-4750-bcc6-1126e121be41",
   "metadata": {},
   "source": [
    "### Imports"
   ]
  },
  {
   "cell_type": "code",
   "execution_count": 493,
   "id": "93f8a550-c953-4458-8846-827e3b2c9954",
   "metadata": {},
   "outputs": [],
   "source": [
    "# Import modules\n",
    "import pandas as pd\n",
    "import numpy as np\n",
    "import matplotlib.pyplot as plt\n",
    "import seaborn as sns\n",
    "import os\n",
    "from sklearn.impute import SimpleImputer\n",
    "from sklearn.preprocessing import OneHotEncoder\n",
    "from sklearn.compose import ColumnTransformer\n",
    "from emilys_functions import my_date, autoplots"
   ]
  },
  {
   "cell_type": "code",
   "execution_count": 494,
   "id": "7213840a-efdc-45a2-b806-862503a3b5d2",
   "metadata": {},
   "outputs": [],
   "source": [
    "# Settings preferences\n",
    "pd.set_option('display.max_rows', None)\n",
    "pd.options.mode.chained_assignment = None "
   ]
  },
  {
   "cell_type": "markdown",
   "id": "51ef18f4-6f3e-486a-925b-3d9a3cf35a6a",
   "metadata": {},
   "source": [
    "While preparing this report on my local computer, I used the absolute path in the cell below, which has since been commented out, to import my copy of the dataset.  Any readers wishing to follow along should uncomment the code in the cell after that, and modify it to point to the location of the file on their own computer.  I named the resulting dataframe `meyer`, in honor of Ilan H. Meyer, the author of the original study.  Readers should note that if they change that name in their import cell, they will also have to change it throughout the code."
   ]
  },
  {
   "cell_type": "code",
   "execution_count": 495,
   "id": "440bd60b-a6b8-414e-89d8-c99170df0960",
   "metadata": {},
   "outputs": [],
   "source": [
    "# Import the data - mine\n",
    "meyer = pd.read_csv(\n",
    "  '../../potential_datasets/2024_05_23_download_ICPSR_Meyer_2023_generations_data_attempt_2/ICPSR_37166/DS0007/37166-0007-Data.tsv', \n",
    "  sep = '\\t', low_memory=False, na_values = ' ') # Many thanks to ibrahim rupawala for highlighting the na_values argument\n",
    "  # https://stackoverflow.com/questions/13445241/replacing-blank-values-white-space-with-nan-in-pandas/47105408#47105408"
   ]
  },
  {
   "cell_type": "code",
   "execution_count": 496,
   "id": "0aeac3ee-48fd-480f-951d-8ec774618cfe",
   "metadata": {},
   "outputs": [],
   "source": [
    "# Import the data - yours\n",
    "# meyer = pd.read_csv('your_path/37166-0007-Data.tsv', \n",
    "#   sep = '\\t', low_memory=False, na_values = ' ')"
   ]
  },
  {
   "cell_type": "code",
   "execution_count": 497,
   "id": "f8b419a5-4736-44d6-8d10-3cae948e8db2",
   "metadata": {},
   "outputs": [
    {
     "data": {
      "text/plain": [
       "(1518, 1329)"
      ]
     },
     "execution_count": 497,
     "metadata": {},
     "output_type": "execute_result"
    }
   ],
   "source": [
    "# Ours\n",
    "meyer.shape"
   ]
  },
  {
   "cell_type": "markdown",
   "id": "7b7eb05f-6e25-4f63-a749-b0b793270634",
   "metadata": {},
   "source": [
    "### Renaming Columns"
   ]
  },
  {
   "cell_type": "markdown",
   "id": "2bc16735-ff68-4973-8731-96c313845f8e",
   "metadata": {},
   "source": [
    "The variable names in the original dataset are in all uppercase letters.  Per `python` norms (and, conveniently, my own preference), I converted them to all lowercase letters.  "
   ]
  },
  {
   "cell_type": "code",
   "execution_count": 498,
   "id": "711d61ba-582f-416a-96f0-617efaa6e9bc",
   "metadata": {},
   "outputs": [],
   "source": [
    "# Rename the columns\n",
    "meyer.columns = [c.lower() for c in list(meyer.columns)]"
   ]
  },
  {
   "cell_type": "markdown",
   "id": "9e0642a4-95fc-47f4-bd55-5cad0ddb40be",
   "metadata": {},
   "source": [
    "### Feature Selection, Part 1"
   ]
  },
  {
   "cell_type": "markdown",
   "id": "044cdf33-810a-4382-8545-5f85466a066d",
   "metadata": {},
   "source": [
    "Meyer's original study was longitudinal, so the dataset he provided included responses from the participants at up to three different times of measurement, referred to as waves.  Many authors have done excellent analyses on this time-series element.  However, as is often the case, Meyer's study suffered from attrition effects, and only 616 participants responded to all three rounds of data collection.  In the interest of preserving a larger sample, I chose to cross-sectionally investigate the wave 1 responses only, for an initial sample size of 1518.  Therefore, I dropped the columns pertaining to wave 2 or 3."
   ]
  },
  {
   "cell_type": "code",
   "execution_count": 499,
   "id": "6a47113e-fb4d-4f9e-b9a2-e16e1310b69b",
   "metadata": {},
   "outputs": [
    {
     "data": {
      "text/plain": [
       "waveparticipated\n",
       "1    533\n",
       "2    278\n",
       "3     91\n",
       "4    616\n",
       "Name: count, dtype: int64"
      ]
     },
     "execution_count": 499,
     "metadata": {},
     "output_type": "execute_result"
    }
   ],
   "source": [
    "# Display the n per wave; note that 4 = all 3 waves\n",
    "meyer['waveparticipated'].value_counts(dropna = False).sort_index()"
   ]
  },
  {
   "cell_type": "code",
   "execution_count": 500,
   "id": "a421a259-a422-4e97-b951-f08fdfa4bdf0",
   "metadata": {},
   "outputs": [
    {
     "data": {
      "text/plain": [
       "(1518, 505)"
      ]
     },
     "execution_count": 500,
     "metadata": {},
     "output_type": "execute_result"
    }
   ],
   "source": [
    "# Eliminate W2 and W3 variables from the list\n",
    "cols = list(meyer.columns)\n",
    "w1_cols = [c for c in cols if c[:2]!='w2']\n",
    "w1_cols = [c for c in w1_cols if c[:2]!='w3']\n",
    "len(w1_cols)\n",
    "\n",
    "# Drop columns\n",
    "meyer = meyer[w1_cols]\n",
    "meyer.shape"
   ]
  },
  {
   "cell_type": "markdown",
   "id": "5acc1dc8-ea66-41f3-b1f9-0d33580e91fa",
   "metadata": {},
   "source": [
    "Additionally, as described on page 17 of *37166-Documentation-methodology.pdf*, several participants identified as heterosexual on the survey instrument, despite indicating that they were LGB on the screening questionaire.  Although these people likely have a more complicated identity than either of those options can fully capture, I opted to err on the side of caution and exclude them from my analyses."
   ]
  },
  {
   "cell_type": "code",
   "execution_count": 501,
   "id": "3232d6ce-d192-431a-bbac-807816250177",
   "metadata": {},
   "outputs": [
    {
     "data": {
      "text/plain": [
       "(1507, 505)"
      ]
     },
     "execution_count": 501,
     "metadata": {},
     "output_type": "execute_result"
    }
   ],
   "source": [
    "# Exclude anyone marking themselves as straight/heterosexual\n",
    "meyer = meyer[meyer['w1sexualid']!=1]\n",
    "meyer.shape"
   ]
  },
  {
   "cell_type": "markdown",
   "id": "ffaf024f-e037-473e-8d91-7d1efceb5ddd",
   "metadata": {},
   "source": [
    "Next, I sought to eliminate the columns corresponding to items in scales, in favor of using the scale scores themselves, which were kindly already calculated and included as their own columns."
   ]
  },
  {
   "cell_type": "code",
   "execution_count": 502,
   "id": "35118d25-71fb-4b09-9146-f7914d911c27",
   "metadata": {},
   "outputs": [
    {
     "data": {
      "text/plain": [
       "100"
      ]
     },
     "execution_count": 502,
     "metadata": {},
     "output_type": "execute_result"
    }
   ],
   "source": [
    "# Make lists of the items that comprise scales\n",
    "soc_supp_items = ['w1q164a', 'w1q164b', 'w1q164c', 'w1q164d', 'w1q164e', \n",
    "  'w1q164f', 'w1q164g', 'w1q164h', 'w1q164i', 'w1q164j', 'w1q164k', 'w1q164l']\n",
    "\n",
    "ace_items = ['w1q151', 'w1q152', 'w1q153', 'w1q154', 'w1q155', \n",
    "  'w1q156', 'w1q157', 'w1q158', 'w1q159', 'w1q160', 'w1q161']\n",
    "\n",
    "childhd_gnc_items = ['w1q147', 'w1q148', 'w1q149', 'w1q150']\n",
    "\n",
    "daily_discr_items = ['w1q144a', 'w1q144b', 'w1q144c','w1q144d', \n",
    "  'w1q144e', 'w1q144f', 'w1q144g', 'w1q144h', 'w1q144i']\n",
    "\n",
    "int_homo_items = ['w1q128', 'w1q129', 'w1q130', 'w1q131', 'w1q132']\n",
    "\n",
    "felt_stigma_items = ['w1q125', 'w1q126', 'w1q127']\n",
    "\n",
    "drug_items = ['w1q90', 'w1q91', 'w1q92', 'w1q93', 'w1q94', \n",
    "  'w1q95', 'w1q96', 'w1q97', 'w1q98', 'w1q99', 'w1q100']\n",
    "\n",
    "alc_items = ['w1q85', 'w1q86', 'w1q87']\n",
    "\n",
    "hc_ster_threat_items = ['w1q60', 'w1q61', 'w1q62', 'w1q63']\n",
    "\n",
    "comm_conn_items = ['w1q53', 'w1q54', 'w1q55', 'w1q56', 'w1q57', 'w1q58', 'w1q59']\n",
    "\n",
    "lgbis_items = ['w1q40', 'w1q41', 'w1q42', 'w1q43', 'w1q44']\n",
    "\n",
    "meim_items = ['w1q21', 'w1q22', 'w1q23', 'w1q24', 'w1q25', 'w1q26']\n",
    "\n",
    "swl_items = ['w1q186', 'w1q187', 'w1q188', 'w1q189', 'w1q190']\n",
    "\n",
    "swb_items = ['w1q04', 'w1q05', 'w1q06', 'w1q07', 'w1q08', 'w1q09', 'w1q10', \n",
    "  'w1q11', 'w1q12', 'w1q13', 'w1q14', 'w1q15', 'w1q16', 'w1q17', 'w1q18']\n",
    "\n",
    "# This one is the y variable, so I'm not dropping them just yet\n",
    "ment_dis_items = ['w1q77a', 'w1q77b', 'w1q77c', 'w1q77d', 'w1q77e', 'w1q77f']\n",
    "\n",
    "# I will drop the others though\n",
    "drop_cols = (soc_supp_items + ace_items + childhd_gnc_items + daily_discr_items + \n",
    "  int_homo_items + felt_stigma_items + drug_items + alc_items + comm_conn_items + \n",
    "  hc_ster_threat_items + lgbis_items + meim_items + swl_items + swb_items)\n",
    "len(drop_cols)"
   ]
  },
  {
   "cell_type": "code",
   "execution_count": 503,
   "id": "47a3d452-f8dc-4823-bd03-d7b630cd67fe",
   "metadata": {},
   "outputs": [
    {
     "data": {
      "text/plain": [
       "(1507, 405)"
      ]
     },
     "execution_count": 503,
     "metadata": {},
     "output_type": "execute_result"
    }
   ],
   "source": [
    "# Drop the scale component columns\n",
    "meyer.drop(columns = drop_cols, inplace = True)\n",
    "meyer.shape"
   ]
  },
  {
   "cell_type": "code",
   "execution_count": 504,
   "id": "4cd1d0b1-41bf-430c-972b-b6d1be8713b9",
   "metadata": {},
   "outputs": [],
   "source": [
    "# These are the scales - more on them later\n",
    "combo_features = ['w1socialwb', 'w1socialwb_i', 'w1lifesat', 'w1lifesat_i', 'w1meim', 'w1meim_i', \n",
    "  'w1idcentral', 'w1idcentral_i', 'w1connectedness', 'w1connectedness_i', 'w1hcthreat', \n",
    "  'w1hcthreat_i', 'w1kessler6', 'w1kessler6_i', 'w1auditc', 'w1auditc_i', 'w1dudit', 'w1dudit_i', \n",
    "  'w1feltstigma', 'w1feltstigma_i', 'w1internalized', 'w1internalized_i', 'w1everyday', \n",
    "  'w1everyday_i', 'w1childgnc', 'w1childgnc_i', 'w1ace', 'w1ace_i', 'w1ace_emo', 'w1ace_emo_i', \n",
    "  'w1ace_inc', 'w1ace_inc_i', 'w1ace_ipv', 'w1ace_ipv_i', 'w1ace_men', 'w1ace_men_i', 'w1ace_phy', \n",
    "  'w1ace_phy_i', 'w1ace_sep', 'w1ace_sep_i', 'w1ace_sex', 'w1ace_sex_i', 'w1ace_sub', 'w1ace_sub_i', \n",
    "  'w1socsupport', 'w1socsupport_fam', 'w1socsupport_fam_i', 'w1socsupport_fr', 'w1socsupport_fr_i', \n",
    "  'w1socsupport_i', 'w1socsupport_so', 'w1socsupport_so_i']"
   ]
  },
  {
   "cell_type": "markdown",
   "id": "d3294124-9bb6-4b90-976a-d829f8892181",
   "metadata": {},
   "source": [
    "Keen-eyed readers may have noticed a pattern in the list above: each variable name appears twice, with `'_i'` added to the end of the second occurrence.  This is because Meyer and his team provided two versions of the computed column for each scale - one for the original values, and one in which missing values have been imputed.  I discuss imputation - these, and my own - in the next section.\n",
    "\n",
    "Finally, before investigating any missing values, I dropped any columns that were not pertinent to my problem statement."
   ]
  },
  {
   "cell_type": "code",
   "execution_count": 505,
   "id": "46433dce-5237-4ed4-9466-a664f03fa265",
   "metadata": {},
   "outputs": [
    {
     "data": {
      "text/plain": [
       "(1507, 316)"
      ]
     },
     "execution_count": 505,
     "metadata": {},
     "output_type": "execute_result"
    }
   ],
   "source": [
    "# Identify excess columns\n",
    "drop_cols_2 = ['w1q165', 'w1q27', 'w1q28', 'w1q20_1', 'w1q20_2', 'w1q20_3', \n",
    "  'w1q20_4', 'w1q20_5', 'w1q20_6', 'w1q20_7', 'w1q29', 'w1q29_t_verb', 'gruca', \n",
    "  'gruca_i', 'gurban', 'gzipstate',  'gzipcode', 'w1hinc', 'w1poverty', \n",
    "  'w1povertycat', 'w1q133', 'w1q133_1', 'w1q133_2', 'w1q133_3', \n",
    "  'gmsaname', 'gmethod_type', 'gmethod_type_w2', 'gmethod_type_w3', \n",
    "  'w1cumulative_wt_nr1', 'w1cumulative_wt_nr2', 'w1cumulative_wt_nr3', \n",
    "  'w1cumulative_wt_sampling', 'w1weighting_cell_nr1', 'w1weight_orig', \n",
    "  'w1weighting_cell_nr2and3', 'w1frame_wt', 'w1q31a', 'w1q31b', 'w1q31c', \n",
    "  'w1q31d', 'w1q66_1', 'w1q66_2', 'w1q66_3', 'w1q66_4', 'w1q66_5', \n",
    "  'w1q66_t_verb', 'w1q67', 'w1q68_1', 'w1q68_2', 'w1q68_3', 'w1q70', 'w1q71', \n",
    "  'w1q73', 'w1q74_1', 'w1q74_2', 'w1q74_3', 'w1q74_4', 'w1q74_7', 'w1q74_8', \n",
    "  'w1q74_9', 'w1q74_12', 'w1q74_13', 'w1q74_15', 'w1q74_16', 'w1q74_19', \n",
    "  'w1q80', 'w1q81', 'w1q82', 'w1q83', 'w1q84', 'w1q88', 'w1q118', \"gp1\",\n",
    "  \"w1q20_t_verb\", \"w1q39_7\", \"w1q39_12\", \"w1q39_t_verb\", \"w1q39_6\", \n",
    "  \"w1q39_5\", \"w1q39_2\", \"w1q39_3\", \"w1q39_4\", \"w1q39_1\", \"w1q39_9\", \"w1q39_8\", \n",
    "  \"w1q39_10\", \"w1q39_11\", \"gemployment2010\", \"gmilesaway\"]\n",
    "meyer.drop(columns = drop_cols_2, inplace = True)\n",
    "meyer.shape"
   ]
  },
  {
   "cell_type": "markdown",
   "id": "45d2d32d-2335-4b94-8a51-00d42c70790c",
   "metadata": {},
   "source": [
    "### Missing Values and Imputation"
   ]
  },
  {
   "cell_type": "markdown",
   "id": "d349fc42-5c5d-4b61-a29a-83653fbbce26",
   "metadata": {},
   "source": [
    "Because this dataset only has about 1500 rows, I felt it important to preserve as many of them as possible.  Out of this necessity, I opted to allow a larger proportion of imputed data than I would b inclined to do if I had rows to spare.  The implications of this decision will be discussed at further length in the *Limitations* section, but suffice to say it will require me to interpret my models cautiously and conservatively.\n",
    "\n",
    "Fortunately, however, Meyer and his team used thorough, theoretically-sound methods for their imputations, inpsiring confidence in me regarding the quality of the imputed data.  Where possible, they filled missing values with logical inferences based on that participant's other responses.  Where that was not possible, they predicted the missing value based on a regression of the participant's other responses, then imputed a randomly selected value from the 5 extant values nearest to that prediction.  See page 30 of *37166-Documentation-methodology.pdf* for more details."
   ]
  },
  {
   "cell_type": "markdown",
   "id": "4558611d-2293-4a52-91b2-c2034eef87e9",
   "metadata": {},
   "source": [
    "# **MAYBE TAKE THIS OUT???  I CAN'T TELL IF IT'S CONVINCING**  vv"
   ]
  },
  {
   "cell_type": "markdown",
   "id": "35d1ce8f-c452-4e9d-a746-a012b89911a8",
   "metadata": {},
   "source": [
    "For a quick-and-dirty test of the facial validity of these imputations, I compared the value counts of `w1ace_ipv` (before imputation) and `w1ace_ipv_i` (after imputation).  This variable corresponds to questions from the Adverse Childhood Experiences (ACE) scale regarding intimate partner violence (IPV) in their home when they were a child.  IPV is notoriously underreported, and not surprisingly, this variable had one of the highest rates of missing data."
   ]
  },
  {
   "cell_type": "code",
   "execution_count": 506,
   "id": "2ee8d134-3754-47ce-bfdd-773d72d7d567",
   "metadata": {},
   "outputs": [
    {
     "name": "stdout",
     "output_type": "stream",
     "text": [
      "w1ace_ipv\n",
      "0.0    945\n",
      "1.0    426\n",
      "NaN    136\n",
      "Name: count, dtype: int64\n",
      "w1ace_ipv_i\n",
      "0    1018\n",
      "1     489\n",
      "Name: count, dtype: int64\n"
     ]
    }
   ],
   "source": [
    "print(meyer['w1ace_ipv'].value_counts(dropna = False))\n",
    "print(meyer['w1ace_ipv_i'].value_counts(dropna = False))"
   ]
  },
  {
   "cell_type": "code",
   "execution_count": 507,
   "id": "5dd92da1-7873-490a-a4d0-c36da2e05408",
   "metadata": {},
   "outputs": [
    {
     "data": {
      "text/plain": [
       "(70, 60)"
      ]
     },
     "execution_count": 507,
     "metadata": {},
     "output_type": "execute_result"
    }
   ],
   "source": [
    "1010-940, 484-424"
   ]
  },
  {
   "cell_type": "code",
   "execution_count": 508,
   "id": "427fee09-9156-4ee5-a52f-fb0e431f3fd9",
   "metadata": {},
   "outputs": [
    {
     "data": {
      "text/plain": [
       "19"
      ]
     },
     "execution_count": 508,
     "metadata": {},
     "output_type": "execute_result"
    }
   ],
   "source": [
    "len(meyer[(meyer['w1ace_ipv']==1) & (meyer['w1ace_sex'].isna())])"
   ]
  },
  {
   "cell_type": "code",
   "execution_count": 509,
   "id": "91fcc906-ded1-4c09-8619-16a8d3bff056",
   "metadata": {},
   "outputs": [
    {
     "data": {
      "text/plain": [
       "50"
      ]
     },
     "execution_count": 509,
     "metadata": {},
     "output_type": "execute_result"
    }
   ],
   "source": [
    "len(meyer[(meyer['w1ace_ipv'].isna()) & (meyer['w1ace_sex']==1)])"
   ]
  },
  {
   "cell_type": "code",
   "execution_count": 510,
   "id": "3b67cd0e-ef35-4ac6-b897-42c50d5cb503",
   "metadata": {},
   "outputs": [
    {
     "data": {
      "text/plain": [
       "w1ace_ipv_i\n",
       "1    27\n",
       "0    23\n",
       "Name: count, dtype: int64"
      ]
     },
     "execution_count": 510,
     "metadata": {},
     "output_type": "execute_result"
    }
   ],
   "source": [
    "meyer[(meyer['w1ace_ipv'].isna()) & (meyer['w1ace_sex']==1)]['w1ace_ipv_i'].value_counts(dropna = False)"
   ]
  },
  {
   "cell_type": "code",
   "execution_count": 511,
   "id": "fd1769bb-ad8c-4168-a7af-0560ee8ea887",
   "metadata": {},
   "outputs": [
    {
     "data": {
      "text/plain": [
       "w1ace_sex\n",
       "0.0    0.438356\n",
       "1.0    0.315068\n",
       "NaN    0.246575\n",
       "Name: proportion, dtype: float64"
      ]
     },
     "execution_count": 511,
     "metadata": {},
     "output_type": "execute_result"
    }
   ],
   "source": [
    "meyer[(meyer['w1ace_ipv'].isna()) & (meyer['w1ace_ipv_i']==0)]['w1ace_sex'].value_counts(dropna = False, normalize = True)"
   ]
  },
  {
   "cell_type": "code",
   "execution_count": 512,
   "id": "16e160ed-8a40-4c7b-b875-276f56df62d5",
   "metadata": {},
   "outputs": [
    {
     "data": {
      "text/plain": [
       "w1ace_sex\n",
       "1.0    0.428571\n",
       "0.0    0.380952\n",
       "NaN    0.190476\n",
       "Name: proportion, dtype: float64"
      ]
     },
     "execution_count": 512,
     "metadata": {},
     "output_type": "execute_result"
    }
   ],
   "source": [
    "meyer[(meyer['w1ace_ipv'].isna()) & (meyer['w1ace_ipv_i']==1)]['w1ace_sex'].value_counts(dropna = False, normalize = True)"
   ]
  },
  {
   "cell_type": "code",
   "execution_count": 513,
   "id": "22f5c6c5-10f9-4adb-86ba-6583f17d3771",
   "metadata": {},
   "outputs": [
    {
     "data": {
      "text/plain": [
       "w1ace_ipv\n",
       "0.0    0.689278\n",
       "1.0    0.310722\n",
       "Name: proportion, dtype: float64"
      ]
     },
     "execution_count": 513,
     "metadata": {},
     "output_type": "execute_result"
    }
   ],
   "source": [
    "meyer['w1ace_ipv'].value_counts(dropna = True, normalize = True)"
   ]
  },
  {
   "cell_type": "code",
   "execution_count": 514,
   "id": "e9e68837-7bd6-4e47-ae21-0017d8bdcb92",
   "metadata": {},
   "outputs": [
    {
     "data": {
      "text/plain": [
       "0"
      ]
     },
     "execution_count": 514,
     "metadata": {},
     "output_type": "execute_result"
    }
   ],
   "source": [
    "len(meyer[(meyer['w1ace_ipv']==' ') & (meyer['w1ace_sex']=='1')])"
   ]
  },
  {
   "cell_type": "markdown",
   "id": "4c2500c6-8323-4dde-92f7-24f4f649750b",
   "metadata": {},
   "source": [
    "Of the 130 missing values in the original column, "
   ]
  },
  {
   "cell_type": "markdown",
   "id": "b26f6292-61c0-4b81-902e-db1e1afbb08d",
   "metadata": {},
   "source": [
    "# ^^ **MAYBE TAKE THIS OUT???  I CAN'T TELL IF IT'S CONVINCING**"
   ]
  },
  {
   "cell_type": "markdown",
   "id": "6a92844c-e019-4538-9c6d-b1d0cf83c79d",
   "metadata": {},
   "source": [
    "Heartened by this level of care - and lacking any better ideas for imputing those values - I was inclined to retain the imputed versions and drop the original columns.  Before doing so, however, I wanted to assess how many values had originally been missing.  Features for which a high proportion of values had to be imputed may not be suitable for modeling, and observations for which a high proportion of the Kessler-6 items had to be imputed may also be inappropriate for use.  \n",
    "\n",
    "For all of the reasons outlined above, I opted not to immediately drop any features based solely on their original missing proportions, but simply to monitor their performance in the model(s) with an extra watchful eye.  I also decided to keep observations for which only one value out of the 6 items on the Kessler scale had to be imputed, but I did opt to drop any observations with two or more originally missing values among the Kessler items."
   ]
  },
  {
   "cell_type": "code",
   "execution_count": 515,
   "id": "c012ff10-486f-4b60-a894-ef4656cb2526",
   "metadata": {
    "scrolled": true
   },
   "outputs": [
    {
     "data": {
      "text/html": [
       "<div>\n",
       "<style scoped>\n",
       "    .dataframe tbody tr th:only-of-type {\n",
       "        vertical-align: middle;\n",
       "    }\n",
       "\n",
       "    .dataframe tbody tr th {\n",
       "        vertical-align: top;\n",
       "    }\n",
       "\n",
       "    .dataframe thead th {\n",
       "        text-align: right;\n",
       "    }\n",
       "</style>\n",
       "<table border=\"1\" class=\"dataframe\">\n",
       "  <thead>\n",
       "    <tr style=\"text-align: right;\">\n",
       "      <th></th>\n",
       "      <th>w1q77a</th>\n",
       "      <th>w1q77b</th>\n",
       "      <th>w1q77c</th>\n",
       "      <th>w1q77d</th>\n",
       "      <th>w1q77e</th>\n",
       "      <th>w1q77f</th>\n",
       "      <th>w1kessler6</th>\n",
       "      <th>w1kessler6_i</th>\n",
       "      <th>studyid</th>\n",
       "    </tr>\n",
       "  </thead>\n",
       "  <tbody>\n",
       "    <tr>\n",
       "      <th>39</th>\n",
       "      <td>NaN</td>\n",
       "      <td>NaN</td>\n",
       "      <td>NaN</td>\n",
       "      <td>NaN</td>\n",
       "      <td>NaN</td>\n",
       "      <td>NaN</td>\n",
       "      <td>NaN</td>\n",
       "      <td>1</td>\n",
       "      <td>151876818</td>\n",
       "    </tr>\n",
       "    <tr>\n",
       "      <th>50</th>\n",
       "      <td>1.0</td>\n",
       "      <td>NaN</td>\n",
       "      <td>NaN</td>\n",
       "      <td>NaN</td>\n",
       "      <td>NaN</td>\n",
       "      <td>NaN</td>\n",
       "      <td>NaN</td>\n",
       "      <td>9</td>\n",
       "      <td>152304751</td>\n",
       "    </tr>\n",
       "    <tr>\n",
       "      <th>96</th>\n",
       "      <td>5.0</td>\n",
       "      <td>5.0</td>\n",
       "      <td>NaN</td>\n",
       "      <td>4.0</td>\n",
       "      <td>3.0</td>\n",
       "      <td>4.0</td>\n",
       "      <td>NaN</td>\n",
       "      <td>4</td>\n",
       "      <td>152640441</td>\n",
       "    </tr>\n",
       "    <tr>\n",
       "      <th>155</th>\n",
       "      <td>5.0</td>\n",
       "      <td>NaN</td>\n",
       "      <td>5.0</td>\n",
       "      <td>4.0</td>\n",
       "      <td>5.0</td>\n",
       "      <td>5.0</td>\n",
       "      <td>NaN</td>\n",
       "      <td>3</td>\n",
       "      <td>153039829</td>\n",
       "    </tr>\n",
       "    <tr>\n",
       "      <th>214</th>\n",
       "      <td>NaN</td>\n",
       "      <td>NaN</td>\n",
       "      <td>NaN</td>\n",
       "      <td>NaN</td>\n",
       "      <td>NaN</td>\n",
       "      <td>NaN</td>\n",
       "      <td>NaN</td>\n",
       "      <td>0</td>\n",
       "      <td>153390973</td>\n",
       "    </tr>\n",
       "    <tr>\n",
       "      <th>227</th>\n",
       "      <td>NaN</td>\n",
       "      <td>NaN</td>\n",
       "      <td>NaN</td>\n",
       "      <td>NaN</td>\n",
       "      <td>NaN</td>\n",
       "      <td>NaN</td>\n",
       "      <td>NaN</td>\n",
       "      <td>9</td>\n",
       "      <td>153535970</td>\n",
       "    </tr>\n",
       "    <tr>\n",
       "      <th>415</th>\n",
       "      <td>NaN</td>\n",
       "      <td>NaN</td>\n",
       "      <td>NaN</td>\n",
       "      <td>NaN</td>\n",
       "      <td>NaN</td>\n",
       "      <td>NaN</td>\n",
       "      <td>NaN</td>\n",
       "      <td>8</td>\n",
       "      <td>154944576</td>\n",
       "    </tr>\n",
       "    <tr>\n",
       "      <th>447</th>\n",
       "      <td>1.0</td>\n",
       "      <td>NaN</td>\n",
       "      <td>3.0</td>\n",
       "      <td>3.0</td>\n",
       "      <td>4.0</td>\n",
       "      <td>2.0</td>\n",
       "      <td>NaN</td>\n",
       "      <td>16</td>\n",
       "      <td>155106769</td>\n",
       "    </tr>\n",
       "    <tr>\n",
       "      <th>457</th>\n",
       "      <td>NaN</td>\n",
       "      <td>NaN</td>\n",
       "      <td>NaN</td>\n",
       "      <td>NaN</td>\n",
       "      <td>NaN</td>\n",
       "      <td>NaN</td>\n",
       "      <td>NaN</td>\n",
       "      <td>12</td>\n",
       "      <td>155163167</td>\n",
       "    </tr>\n",
       "    <tr>\n",
       "      <th>577</th>\n",
       "      <td>NaN</td>\n",
       "      <td>NaN</td>\n",
       "      <td>NaN</td>\n",
       "      <td>NaN</td>\n",
       "      <td>NaN</td>\n",
       "      <td>NaN</td>\n",
       "      <td>NaN</td>\n",
       "      <td>2</td>\n",
       "      <td>155814388</td>\n",
       "    </tr>\n",
       "    <tr>\n",
       "      <th>648</th>\n",
       "      <td>3.0</td>\n",
       "      <td>5.0</td>\n",
       "      <td>4.0</td>\n",
       "      <td>5.0</td>\n",
       "      <td>NaN</td>\n",
       "      <td>5.0</td>\n",
       "      <td>NaN</td>\n",
       "      <td>4</td>\n",
       "      <td>156224369</td>\n",
       "    </tr>\n",
       "    <tr>\n",
       "      <th>677</th>\n",
       "      <td>1.0</td>\n",
       "      <td>1.0</td>\n",
       "      <td>NaN</td>\n",
       "      <td>3.0</td>\n",
       "      <td>3.0</td>\n",
       "      <td>1.0</td>\n",
       "      <td>NaN</td>\n",
       "      <td>20</td>\n",
       "      <td>156345609</td>\n",
       "    </tr>\n",
       "    <tr>\n",
       "      <th>820</th>\n",
       "      <td>4.0</td>\n",
       "      <td>NaN</td>\n",
       "      <td>4.0</td>\n",
       "      <td>3.0</td>\n",
       "      <td>4.0</td>\n",
       "      <td>5.0</td>\n",
       "      <td>NaN</td>\n",
       "      <td>5</td>\n",
       "      <td>157670785</td>\n",
       "    </tr>\n",
       "    <tr>\n",
       "      <th>866</th>\n",
       "      <td>3.0</td>\n",
       "      <td>NaN</td>\n",
       "      <td>4.0</td>\n",
       "      <td>4.0</td>\n",
       "      <td>NaN</td>\n",
       "      <td>NaN</td>\n",
       "      <td>NaN</td>\n",
       "      <td>6</td>\n",
       "      <td>158132069</td>\n",
       "    </tr>\n",
       "    <tr>\n",
       "      <th>943</th>\n",
       "      <td>NaN</td>\n",
       "      <td>NaN</td>\n",
       "      <td>NaN</td>\n",
       "      <td>NaN</td>\n",
       "      <td>NaN</td>\n",
       "      <td>NaN</td>\n",
       "      <td>NaN</td>\n",
       "      <td>12</td>\n",
       "      <td>159311507</td>\n",
       "    </tr>\n",
       "    <tr>\n",
       "      <th>964</th>\n",
       "      <td>2.0</td>\n",
       "      <td>NaN</td>\n",
       "      <td>3.0</td>\n",
       "      <td>NaN</td>\n",
       "      <td>NaN</td>\n",
       "      <td>NaN</td>\n",
       "      <td>NaN</td>\n",
       "      <td>7</td>\n",
       "      <td>159770206</td>\n",
       "    </tr>\n",
       "    <tr>\n",
       "      <th>1090</th>\n",
       "      <td>3.0</td>\n",
       "      <td>5.0</td>\n",
       "      <td>3.0</td>\n",
       "      <td>5.0</td>\n",
       "      <td>NaN</td>\n",
       "      <td>5.0</td>\n",
       "      <td>NaN</td>\n",
       "      <td>5</td>\n",
       "      <td>162335772</td>\n",
       "    </tr>\n",
       "    <tr>\n",
       "      <th>1096</th>\n",
       "      <td>3.0</td>\n",
       "      <td>3.0</td>\n",
       "      <td>2.0</td>\n",
       "      <td>NaN</td>\n",
       "      <td>3.0</td>\n",
       "      <td>2.0</td>\n",
       "      <td>NaN</td>\n",
       "      <td>15</td>\n",
       "      <td>162373382</td>\n",
       "    </tr>\n",
       "    <tr>\n",
       "      <th>1113</th>\n",
       "      <td>NaN</td>\n",
       "      <td>NaN</td>\n",
       "      <td>NaN</td>\n",
       "      <td>NaN</td>\n",
       "      <td>NaN</td>\n",
       "      <td>NaN</td>\n",
       "      <td>NaN</td>\n",
       "      <td>16</td>\n",
       "      <td>162548926</td>\n",
       "    </tr>\n",
       "    <tr>\n",
       "      <th>1159</th>\n",
       "      <td>NaN</td>\n",
       "      <td>NaN</td>\n",
       "      <td>NaN</td>\n",
       "      <td>NaN</td>\n",
       "      <td>NaN</td>\n",
       "      <td>NaN</td>\n",
       "      <td>NaN</td>\n",
       "      <td>4</td>\n",
       "      <td>162982357</td>\n",
       "    </tr>\n",
       "    <tr>\n",
       "      <th>1265</th>\n",
       "      <td>3.0</td>\n",
       "      <td>3.0</td>\n",
       "      <td>3.0</td>\n",
       "      <td>5.0</td>\n",
       "      <td>NaN</td>\n",
       "      <td>5.0</td>\n",
       "      <td>NaN</td>\n",
       "      <td>8</td>\n",
       "      <td>164454095</td>\n",
       "    </tr>\n",
       "    <tr>\n",
       "      <th>1272</th>\n",
       "      <td>2.0</td>\n",
       "      <td>NaN</td>\n",
       "      <td>3.0</td>\n",
       "      <td>4.0</td>\n",
       "      <td>4.0</td>\n",
       "      <td>5.0</td>\n",
       "      <td>NaN</td>\n",
       "      <td>9</td>\n",
       "      <td>164556482</td>\n",
       "    </tr>\n",
       "    <tr>\n",
       "      <th>1344</th>\n",
       "      <td>5.0</td>\n",
       "      <td>NaN</td>\n",
       "      <td>5.0</td>\n",
       "      <td>5.0</td>\n",
       "      <td>5.0</td>\n",
       "      <td>5.0</td>\n",
       "      <td>NaN</td>\n",
       "      <td>0</td>\n",
       "      <td>167022959</td>\n",
       "    </tr>\n",
       "    <tr>\n",
       "      <th>1359</th>\n",
       "      <td>NaN</td>\n",
       "      <td>NaN</td>\n",
       "      <td>NaN</td>\n",
       "      <td>NaN</td>\n",
       "      <td>NaN</td>\n",
       "      <td>NaN</td>\n",
       "      <td>NaN</td>\n",
       "      <td>6</td>\n",
       "      <td>167341434</td>\n",
       "    </tr>\n",
       "    <tr>\n",
       "      <th>1472</th>\n",
       "      <td>3.0</td>\n",
       "      <td>NaN</td>\n",
       "      <td>3.0</td>\n",
       "      <td>2.0</td>\n",
       "      <td>3.0</td>\n",
       "      <td>2.0</td>\n",
       "      <td>NaN</td>\n",
       "      <td>15</td>\n",
       "      <td>173409447</td>\n",
       "    </tr>\n",
       "    <tr>\n",
       "      <th>1505</th>\n",
       "      <td>5.0</td>\n",
       "      <td>3.0</td>\n",
       "      <td>1.0</td>\n",
       "      <td>2.0</td>\n",
       "      <td>NaN</td>\n",
       "      <td>2.0</td>\n",
       "      <td>NaN</td>\n",
       "      <td>16</td>\n",
       "      <td>175457423</td>\n",
       "    </tr>\n",
       "  </tbody>\n",
       "</table>\n",
       "</div>"
      ],
      "text/plain": [
       "      w1q77a  w1q77b  w1q77c  w1q77d  w1q77e  w1q77f  w1kessler6  \\\n",
       "39       NaN     NaN     NaN     NaN     NaN     NaN         NaN   \n",
       "50       1.0     NaN     NaN     NaN     NaN     NaN         NaN   \n",
       "96       5.0     5.0     NaN     4.0     3.0     4.0         NaN   \n",
       "155      5.0     NaN     5.0     4.0     5.0     5.0         NaN   \n",
       "214      NaN     NaN     NaN     NaN     NaN     NaN         NaN   \n",
       "227      NaN     NaN     NaN     NaN     NaN     NaN         NaN   \n",
       "415      NaN     NaN     NaN     NaN     NaN     NaN         NaN   \n",
       "447      1.0     NaN     3.0     3.0     4.0     2.0         NaN   \n",
       "457      NaN     NaN     NaN     NaN     NaN     NaN         NaN   \n",
       "577      NaN     NaN     NaN     NaN     NaN     NaN         NaN   \n",
       "648      3.0     5.0     4.0     5.0     NaN     5.0         NaN   \n",
       "677      1.0     1.0     NaN     3.0     3.0     1.0         NaN   \n",
       "820      4.0     NaN     4.0     3.0     4.0     5.0         NaN   \n",
       "866      3.0     NaN     4.0     4.0     NaN     NaN         NaN   \n",
       "943      NaN     NaN     NaN     NaN     NaN     NaN         NaN   \n",
       "964      2.0     NaN     3.0     NaN     NaN     NaN         NaN   \n",
       "1090     3.0     5.0     3.0     5.0     NaN     5.0         NaN   \n",
       "1096     3.0     3.0     2.0     NaN     3.0     2.0         NaN   \n",
       "1113     NaN     NaN     NaN     NaN     NaN     NaN         NaN   \n",
       "1159     NaN     NaN     NaN     NaN     NaN     NaN         NaN   \n",
       "1265     3.0     3.0     3.0     5.0     NaN     5.0         NaN   \n",
       "1272     2.0     NaN     3.0     4.0     4.0     5.0         NaN   \n",
       "1344     5.0     NaN     5.0     5.0     5.0     5.0         NaN   \n",
       "1359     NaN     NaN     NaN     NaN     NaN     NaN         NaN   \n",
       "1472     3.0     NaN     3.0     2.0     3.0     2.0         NaN   \n",
       "1505     5.0     3.0     1.0     2.0     NaN     2.0         NaN   \n",
       "\n",
       "      w1kessler6_i    studyid  \n",
       "39               1  151876818  \n",
       "50               9  152304751  \n",
       "96               4  152640441  \n",
       "155              3  153039829  \n",
       "214              0  153390973  \n",
       "227              9  153535970  \n",
       "415              8  154944576  \n",
       "447             16  155106769  \n",
       "457             12  155163167  \n",
       "577              2  155814388  \n",
       "648              4  156224369  \n",
       "677             20  156345609  \n",
       "820              5  157670785  \n",
       "866              6  158132069  \n",
       "943             12  159311507  \n",
       "964              7  159770206  \n",
       "1090             5  162335772  \n",
       "1096            15  162373382  \n",
       "1113            16  162548926  \n",
       "1159             4  162982357  \n",
       "1265             8  164454095  \n",
       "1272             9  164556482  \n",
       "1344             0  167022959  \n",
       "1359             6  167341434  \n",
       "1472            15  173409447  \n",
       "1505            16  175457423  "
      ]
     },
     "execution_count": 515,
     "metadata": {},
     "output_type": "execute_result"
    }
   ],
   "source": [
    "# Create a subsetted dataframe to identify any rows to drop\n",
    "meyer_kessler = meyer[ment_dis_items + ['w1kessler6', 'w1kessler6_i', 'studyid']]\n",
    "meyer_kessler = meyer_kessler[meyer_kessler['w1kessler6'].isna()]\n",
    "meyer_kessler"
   ]
  },
  {
   "cell_type": "code",
   "execution_count": 516,
   "id": "a43dddf3-3801-45da-b4ad-064b48de833b",
   "metadata": {},
   "outputs": [
    {
     "data": {
      "text/plain": [
       "(1494, 316)"
      ]
     },
     "execution_count": 516,
     "metadata": {},
     "output_type": "execute_result"
    }
   ],
   "source": [
    "# Extract the index numbers of rows with 2+ NAs\n",
    "\n",
    "# Get the unique identifier\n",
    "drop_rows = []\n",
    "for i in meyer_kessler.index:\n",
    "  if meyer_kessler.loc[i, ment_dis_items].isna().sum() > 1:\n",
    "    drop_rows.append(meyer_kessler.loc[i, 'studyid'])\n",
    "\n",
    "# Get the matching index number from the full dataframe\n",
    "drop_index = []\n",
    "for i in drop_rows:\n",
    "  drop_index.append(meyer[meyer['studyid']==i].index[0])\n",
    "\n",
    "# Drop those rows\n",
    "meyer.drop(index = drop_index, inplace = True)\n",
    "meyer.shape"
   ]
  },
  {
   "cell_type": "code",
   "execution_count": 517,
   "id": "fc2b189e-4745-4d1f-97c4-b51d4c155f32",
   "metadata": {},
   "outputs": [
    {
     "data": {
      "text/html": [
       "<div>\n",
       "<style scoped>\n",
       "    .dataframe tbody tr th:only-of-type {\n",
       "        vertical-align: middle;\n",
       "    }\n",
       "\n",
       "    .dataframe tbody tr th {\n",
       "        vertical-align: top;\n",
       "    }\n",
       "\n",
       "    .dataframe thead th {\n",
       "        text-align: right;\n",
       "    }\n",
       "</style>\n",
       "<table border=\"1\" class=\"dataframe\">\n",
       "  <thead>\n",
       "    <tr style=\"text-align: right;\">\n",
       "      <th></th>\n",
       "      <th>studyid</th>\n",
       "      <th>waveparticipated</th>\n",
       "      <th>w1weight_full</th>\n",
       "      <th>w1survey_yr</th>\n",
       "      <th>cohort</th>\n",
       "      <th>geduc1</th>\n",
       "      <th>geduc2</th>\n",
       "      <th>geducation</th>\n",
       "      <th>gurban_i</th>\n",
       "      <th>gcendiv</th>\n",
       "      <th>...</th>\n",
       "      <th>w1socsupport_i</th>\n",
       "      <th>w1socsupport_so</th>\n",
       "      <th>w1socsupport_so_i</th>\n",
       "      <th>grespondent_date_w2</th>\n",
       "      <th>gsurvey</th>\n",
       "      <th>gp2</th>\n",
       "      <th>grace</th>\n",
       "      <th>grespondent_date_w3</th>\n",
       "      <th>wave3</th>\n",
       "      <th>nopolicecontact</th>\n",
       "    </tr>\n",
       "  </thead>\n",
       "  <tbody>\n",
       "    <tr>\n",
       "      <th>0</th>\n",
       "      <td>151339842</td>\n",
       "      <td>4</td>\n",
       "      <td>0.309003</td>\n",
       "      <td>2016</td>\n",
       "      <td>3</td>\n",
       "      <td>3</td>\n",
       "      <td>2</td>\n",
       "      <td>5</td>\n",
       "      <td>1</td>\n",
       "      <td>1</td>\n",
       "      <td>...</td>\n",
       "      <td>4.916667</td>\n",
       "      <td>4.75</td>\n",
       "      <td>4.75</td>\n",
       "      <td>20958.0</td>\n",
       "      <td>2.0</td>\n",
       "      <td>2.0</td>\n",
       "      <td>1.0</td>\n",
       "      <td>21306.0</td>\n",
       "      <td>1.0</td>\n",
       "      <td>1.0</td>\n",
       "    </tr>\n",
       "    <tr>\n",
       "      <th>1</th>\n",
       "      <td>151351600</td>\n",
       "      <td>2</td>\n",
       "      <td>0.931862</td>\n",
       "      <td>2016</td>\n",
       "      <td>2</td>\n",
       "      <td>2</td>\n",
       "      <td>2</td>\n",
       "      <td>4</td>\n",
       "      <td>1</td>\n",
       "      <td>7</td>\n",
       "      <td>...</td>\n",
       "      <td>5.916667</td>\n",
       "      <td>6.00</td>\n",
       "      <td>6.00</td>\n",
       "      <td>21070.0</td>\n",
       "      <td>NaN</td>\n",
       "      <td>NaN</td>\n",
       "      <td>NaN</td>\n",
       "      <td>NaN</td>\n",
       "      <td>NaN</td>\n",
       "      <td>NaN</td>\n",
       "    </tr>\n",
       "    <tr>\n",
       "      <th>2</th>\n",
       "      <td>151396232</td>\n",
       "      <td>1</td>\n",
       "      <td>0.656089</td>\n",
       "      <td>2016</td>\n",
       "      <td>2</td>\n",
       "      <td>3</td>\n",
       "      <td>2</td>\n",
       "      <td>5</td>\n",
       "      <td>1</td>\n",
       "      <td>4</td>\n",
       "      <td>...</td>\n",
       "      <td>7.000000</td>\n",
       "      <td>7.00</td>\n",
       "      <td>7.00</td>\n",
       "      <td>NaN</td>\n",
       "      <td>NaN</td>\n",
       "      <td>NaN</td>\n",
       "      <td>NaN</td>\n",
       "      <td>NaN</td>\n",
       "      <td>NaN</td>\n",
       "      <td>NaN</td>\n",
       "    </tr>\n",
       "  </tbody>\n",
       "</table>\n",
       "<p>3 rows × 316 columns</p>\n",
       "</div>"
      ],
      "text/plain": [
       "     studyid  waveparticipated  w1weight_full  w1survey_yr  cohort  geduc1  \\\n",
       "0  151339842                 4       0.309003         2016       3       3   \n",
       "1  151351600                 2       0.931862         2016       2       2   \n",
       "2  151396232                 1       0.656089         2016       2       3   \n",
       "\n",
       "   geduc2  geducation  gurban_i  gcendiv  ...  w1socsupport_i  \\\n",
       "0       2           5         1        1  ...        4.916667   \n",
       "1       2           4         1        7  ...        5.916667   \n",
       "2       2           5         1        4  ...        7.000000   \n",
       "\n",
       "   w1socsupport_so  w1socsupport_so_i  grespondent_date_w2  gsurvey  gp2  \\\n",
       "0             4.75               4.75              20958.0      2.0  2.0   \n",
       "1             6.00               6.00              21070.0      NaN  NaN   \n",
       "2             7.00               7.00                  NaN      NaN  NaN   \n",
       "\n",
       "   grace  grespondent_date_w3  wave3  nopolicecontact  \n",
       "0    1.0              21306.0    1.0              1.0  \n",
       "1    NaN                  NaN    NaN              NaN  \n",
       "2    NaN                  NaN    NaN              NaN  \n",
       "\n",
       "[3 rows x 316 columns]"
      ]
     },
     "execution_count": 517,
     "metadata": {},
     "output_type": "execute_result"
    }
   ],
   "source": [
    "# Reset the index (thanks to pandas documentation for this syntax)\n",
    "meyer.reset_index(drop = True, inplace = True)\n",
    "meyer.head(3)"
   ]
  },
  {
   "cell_type": "markdown",
   "id": "4babd3c0-45ff-4b76-b63c-2a66fb0373fc",
   "metadata": {},
   "source": [
    "With those rows removed, I next checked for missing values in the non-imputed scale score columns."
   ]
  },
  {
   "cell_type": "code",
   "execution_count": 518,
   "id": "ac0a97cd-5d3e-48b2-a49b-d33975f8ebd7",
   "metadata": {
    "scrolled": true
   },
   "outputs": [
    {
     "data": {
      "text/plain": [
       "w1ace                 267\n",
       "w1ace_ipv             130\n",
       "w1ace_emo              83\n",
       "w1ace_sex              69\n",
       "w1dudit                56\n",
       "w1ace_phy              54\n",
       "w1socialwb             51\n",
       "w1connectedness        39\n",
       "w1socsupport           37\n",
       "w1everyday             31\n",
       "w1meim                 22\n",
       "w1socsupport_fr        22\n",
       "w1socsupport_fam       21\n",
       "w1socsupport_so        20\n",
       "w1lifesat              19\n",
       "w1internalized         19\n",
       "w1hcthreat             16\n",
       "w1ace_inc              16\n",
       "w1ace_sub              15\n",
       "w1ace_men              14\n",
       "w1idcentral            14\n",
       "w1kessler6             13\n",
       "w1ace_sep              10\n",
       "w1feltstigma            8\n",
       "w1auditc                6\n",
       "w1ace_men_i             0\n",
       "w1socsupport_fam_i      0\n",
       "w1ace_sub_i             0\n",
       "w1ace_sex_i             0\n",
       "w1ace_sep_i             0\n",
       "w1socsupport_fr_i       0\n",
       "w1ace_phy_i             0\n",
       "w1socsupport_i          0\n",
       "w1lifesat_i             0\n",
       "w1idcentral_i           0\n",
       "w1ace_emo_i             0\n",
       "w1ace_ipv_i             0\n",
       "w1ace_inc_i             0\n",
       "w1meim_i                0\n",
       "w1ace_i                 0\n",
       "w1socialwb_i            0\n",
       "w1childgnc_i            0\n",
       "w1childgnc              0\n",
       "w1everyday_i            0\n",
       "w1internalized_i        0\n",
       "w1feltstigma_i          0\n",
       "w1dudit_i               0\n",
       "w1auditc_i              0\n",
       "w1kessler6_i            0\n",
       "w1hcthreat_i            0\n",
       "w1connectedness_i       0\n",
       "w1socsupport_so_i       0\n",
       "dtype: int64"
      ]
     },
     "execution_count": 518,
     "metadata": {},
     "output_type": "execute_result"
    }
   ],
   "source": [
    "meyer[combo_features].isna().sum().sort_values(ascending = False)"
   ]
  },
  {
   "cell_type": "markdown",
   "id": "0e055c9d-bd21-4d33-b7f2-70c25e916ed0",
   "metadata": {},
   "source": [
    "As mentioned above, I was impressed enough by the original author's imputation methods to not drop any of these features over their missing values alone.  However, quite a few columns had troublingly high numbers of missing values.  Those with approximately 1% missing data or more are displayed below."
   ]
  },
  {
   "cell_type": "markdown",
   "id": "c291ad75-cc83-472d-9dcf-b2d95c7e01f6",
   "metadata": {},
   "source": [
    "|Variable Name| Missing Values|Variable Name| Missing Values|Variable Name| Missing Values|\n",
    "|--|--|--|--|--|--|\n",
    "|w1ace        |267 |w1connectedness  | 39 |w1lifesat       | 19 |\n",
    "|w1ace_ipv    |130 |w1socsupport     | 37 |w1internalized  | 19 |\n",
    "|w1ace_emo    | 83 |w1everyday       | 31 |w1hcthreat      | 16 |\n",
    "|w1ace_sex    | 69 |w1meim           | 22 |w1ace_inc       | 16 |\n",
    "|w1dudit      | 56 |w1socsupport_fr  | 22 |w1ace_sub       | 15 |\n",
    "|w1ace_phy    | 54 |w1socsupport_fam | 21 |w1ace_men       | 14 |\n",
    "|w1socialwb   | 51 |w1socsupport_so  | 20 |w1idcentral     | 14 |"
   ]
  },
  {
   "cell_type": "markdown",
   "id": "bcb37020-a1bb-4f16-95f5-0f8f6cbb7bbf",
   "metadata": {},
   "source": [
    "As can be seen above, many of my most theory-backed potential predictors have large numbers of missing values.  The implications of this will be discussed in the Limitations section, but in the interest of not sacrificing too much data, I went forward with my plan to drop these original columns and use the imputed versions."
   ]
  },
  {
   "cell_type": "code",
   "execution_count": 519,
   "id": "20aeef4f-241c-4806-a4b1-58d94f3434c2",
   "metadata": {},
   "outputs": [
    {
     "data": {
      "text/plain": [
       "(1494, 290)"
      ]
     },
     "execution_count": 519,
     "metadata": {},
     "output_type": "execute_result"
    }
   ],
   "source": [
    "# Divide that combination list between imputed and not\n",
    "combo_imputed = [c for c in combo_features if c[-2:]=='_i']\n",
    "combo_not_imputed = [c for c in combo_features if c[-2:]!='_i']\n",
    "\n",
    "# Drop the ones that aren't\n",
    "meyer.drop(columns = combo_not_imputed, inplace = True)\n",
    "meyer.shape"
   ]
  },
  {
   "cell_type": "code",
   "execution_count": 520,
   "id": "9f9188bc-b82c-47df-a732-789553f69769",
   "metadata": {
    "scrolled": true
   },
   "outputs": [
    {
     "data": {
      "text/plain": [
       "cohort                    0\n",
       "gcendiv                   0\n",
       "gcenreg                   0\n",
       "geduc1                    0\n",
       "geduc2                    0\n",
       "geducation                0\n",
       "gmilesaway2              18\n",
       "gp2                    1289\n",
       "grace                   794\n",
       "grespondent_date_w2     614\n",
       "grespondent_date_w3     794\n",
       "gsurvey                 794\n",
       "gurban_i                  0\n",
       "nopolicecontact        1156\n",
       "screen_race               0\n",
       "studyid                   0\n",
       "w1ace_emo_i               0\n",
       "w1ace_i                   0\n",
       "w1ace_inc_i               0\n",
       "w1ace_ipv_i               0\n",
       "w1ace_men_i               0\n",
       "w1ace_phy_i               0\n",
       "w1ace_sep_i               0\n",
       "w1ace_sex_i               0\n",
       "w1ace_sub_i               0\n",
       "w1age                     0\n",
       "w1auditc_i                0\n",
       "w1childgnc_i              0\n",
       "w1connectedness_i         0\n",
       "w1conversion              0\n",
       "w1conversionhc            0\n",
       "w1conversionrel           0\n",
       "w1dudit_i                 0\n",
       "w1everyday_i              0\n",
       "w1feltstigma_i            0\n",
       "w1gender                  0\n",
       "w1hcthreat_i              0\n",
       "w1hinc_i                  0\n",
       "w1idcentral_i             0\n",
       "w1internalized_i          0\n",
       "w1kessler6_i              0\n",
       "w1lifesat_i               0\n",
       "w1meim_i                  0\n",
       "w1pinc                   32\n",
       "w1pinc_i                  0\n",
       "w1poverty_i              20\n",
       "w1povertycat_i           20\n",
       "w1q01                     7\n",
       "w1q02                     5\n",
       "w1q03                    39\n",
       "w1q101                    8\n",
       "w1q102                    0\n",
       "w1q103                    6\n",
       "w1q104                    6\n",
       "w1q105                   10\n",
       "w1q106                    1\n",
       "w1q107                    2\n",
       "w1q108                    7\n",
       "w1q109                   16\n",
       "w1q110                    0\n",
       "w1q111                    5\n",
       "w1q112                   31\n",
       "w1q113                    9\n",
       "w1q114                    2\n",
       "w1q115                    3\n",
       "w1q116                    1\n",
       "w1q117                    1\n",
       "w1q119                   16\n",
       "w1q120                    0\n",
       "w1q121                    7\n",
       "w1q122                    6\n",
       "w1q123a                   5\n",
       "w1q123b                   4\n",
       "w1q123c                   7\n",
       "w1q123d                   9\n",
       "w1q124                    5\n",
       "w1q134                    2\n",
       "w1q135a                   6\n",
       "w1q135b                   9\n",
       "w1q135c                   9\n",
       "w1q135d                  11\n",
       "w1q135e                   9\n",
       "w1q135f                   7\n",
       "w1q136_1               1063\n",
       "w1q136_10              1212\n",
       "w1q136_2                872\n",
       "w1q136_3               1260\n",
       "w1q136_4               1074\n",
       "w1q136_5               1095\n",
       "w1q136_6               1134\n",
       "w1q136_7                755\n",
       "w1q136_8                930\n",
       "w1q136_9               1201\n",
       "w1q137                    9\n",
       "w1q138                    9\n",
       "w1q139_1                620\n",
       "w1q139_10               694\n",
       "w1q139_2                626\n",
       "w1q139_3                759\n",
       "w1q139_4                690\n",
       "w1q139_5                693\n",
       "w1q139_6                666\n",
       "w1q139_7                588\n",
       "w1q139_8                668\n",
       "w1q139_9                737\n",
       "w1q140                    9\n",
       "w1q141_1                117\n",
       "w1q141_10               121\n",
       "w1q141_2                116\n",
       "w1q141_3                123\n",
       "w1q141_4                119\n",
       "w1q141_5                118\n",
       "w1q141_6                110\n",
       "w1q141_7                114\n",
       "w1q141_8                121\n",
       "w1q141_9                123\n",
       "w1q142a                   9\n",
       "w1q142b                  10\n",
       "w1q142c                   7\n",
       "w1q142d                  16\n",
       "w1q142e                  10\n",
       "w1q142f                  10\n",
       "w1q142g                  13\n",
       "w1q142h                  11\n",
       "w1q142i                  13\n",
       "w1q142j                  10\n",
       "w1q142k                   9\n",
       "w1q143_1               1022\n",
       "w1q143_10              1132\n",
       "w1q143_2               1030\n",
       "w1q143_3               1213\n",
       "w1q143_4               1151\n",
       "w1q143_5               1124\n",
       "w1q143_6               1009\n",
       "w1q143_7               1039\n",
       "w1q143_8               1093\n",
       "w1q143_9               1179\n",
       "w1q145_1                914\n",
       "w1q145_10              1205\n",
       "w1q145_2                844\n",
       "w1q145_3               1297\n",
       "w1q145_4               1098\n",
       "w1q145_5               1015\n",
       "w1q145_6               1065\n",
       "w1q145_7                883\n",
       "w1q145_8                927\n",
       "w1q145_9               1227\n",
       "w1q146a                   8\n",
       "w1q146b                   7\n",
       "w1q146c                  11\n",
       "w1q146d                  16\n",
       "w1q146e                   9\n",
       "w1q146f                  10\n",
       "w1q146g                  10\n",
       "w1q146h                   7\n",
       "w1q146i                   8\n",
       "w1q146j                   8\n",
       "w1q146k                   8\n",
       "w1q146l                   9\n",
       "w1q162                   13\n",
       "w1q163_1               1034\n",
       "w1q163_10              1200\n",
       "w1q163_2                967\n",
       "w1q163_3               1264\n",
       "w1q163_4                960\n",
       "w1q163_5               1089\n",
       "w1q163_6               1073\n",
       "w1q163_7                872\n",
       "w1q163_8                517\n",
       "w1q163_9               1193\n",
       "w1q166                   15\n",
       "w1q167                   15\n",
       "w1q168                   10\n",
       "w1q169                   10\n",
       "w1q170_1                137\n",
       "w1q170_2                262\n",
       "w1q170_3                242\n",
       "w1q170_4                191\n",
       "w1q171_1                798\n",
       "w1q171_2               1222\n",
       "w1q171_3               1320\n",
       "w1q171_4               1440\n",
       "w1q171_5               1406\n",
       "w1q171_6               1442\n",
       "w1q171_7               1167\n",
       "w1q171_8               1451\n",
       "w1q171_9               1362\n",
       "w1q172                   30\n",
       "w1q173                   24\n",
       "w1q174                   32\n",
       "w1q175                   36\n",
       "w1q176                   18\n",
       "w1q177_1                900\n",
       "w1q177_10              1394\n",
       "w1q177_11              1491\n",
       "w1q177_12              1466\n",
       "w1q177_2                920\n",
       "w1q177_3               1340\n",
       "w1q177_4               1098\n",
       "w1q177_5               1388\n",
       "w1q177_6               1473\n",
       "w1q177_7               1489\n",
       "w1q177_8               1493\n",
       "w1q177_9               1492\n",
       "w1q178                   11\n",
       "w1q179                   18\n",
       "w1q180                   15\n",
       "w1q181                   13\n",
       "w1q182                   17\n",
       "w1q183                    0\n",
       "w1q184                    0\n",
       "w1q185                    0\n",
       "w1q19a                    9\n",
       "w1q19b                   10\n",
       "w1q19c                   21\n",
       "w1q19d                   15\n",
       "w1q30_1                 828\n",
       "w1q30_2                 495\n",
       "w1q30_3                1450\n",
       "w1q30_4                1445\n",
       "w1q30_5                1339\n",
       "w1q32                    10\n",
       "w1q33                     7\n",
       "w1q34                     1\n",
       "w1q35                     3\n",
       "w1q36                     2\n",
       "w1q37                     5\n",
       "w1q38                     3\n",
       "w1q45                    10\n",
       "w1q46                    11\n",
       "w1q47                    18\n",
       "w1q48                    26\n",
       "w1q49                    19\n",
       "w1q50                    30\n",
       "w1q51                    23\n",
       "w1q52                    14\n",
       "w1q64_1                1375\n",
       "w1q64_10               1470\n",
       "w1q64_11               1474\n",
       "w1q64_12               1494\n",
       "w1q64_13               1451\n",
       "w1q64_2                 961\n",
       "w1q64_3                1393\n",
       "w1q64_4                1110\n",
       "w1q64_5                1483\n",
       "w1q64_6                1405\n",
       "w1q64_7                1448\n",
       "w1q64_8                1423\n",
       "w1q64_9                1305\n",
       "w1q64_t_verb           1449\n",
       "w1q65                    12\n",
       "w1q69                    11\n",
       "w1q72                    19\n",
       "w1q74_10               1419\n",
       "w1q74_11               1409\n",
       "w1q74_14               1463\n",
       "w1q74_17               1460\n",
       "w1q74_18               1467\n",
       "w1q74_20               1475\n",
       "w1q74_21               1417\n",
       "w1q74_22               1309\n",
       "w1q74_23               1155\n",
       "w1q74_5                1480\n",
       "w1q74_6                1481\n",
       "w1q75                    13\n",
       "w1q76                     8\n",
       "w1q77a                    0\n",
       "w1q77b                    6\n",
       "w1q77c                    2\n",
       "w1q77d                    1\n",
       "w1q77e                    4\n",
       "w1q77f                    0\n",
       "w1q78                    11\n",
       "w1q79                     7\n",
       "w1q89                     2\n",
       "w1race                    0\n",
       "w1sample                  0\n",
       "w1sex                     0\n",
       "w1sex_gender              0\n",
       "w1sexminid                0\n",
       "w1sexualid                0\n",
       "w1socialwb_i              0\n",
       "w1socsupport_fam_i        0\n",
       "w1socsupport_fr_i         0\n",
       "w1socsupport_i            0\n",
       "w1socsupport_so_i         0\n",
       "w1survey_yr               0\n",
       "w1weight_full             0\n",
       "wave3                   794\n",
       "waveparticipated          0\n",
       "dtype: int64"
      ]
     },
     "execution_count": 520,
     "metadata": {},
     "output_type": "execute_result"
    }
   ],
   "source": [
    "# See how many missing values remain\n",
    "meyer.isna().sum().sort_values(ascending = False)\n",
    "meyer.isna().sum().sort_index()"
   ]
  },
  {
   "cell_type": "markdown",
   "id": "3925125a-980e-46ce-b161-7fa32f87ce5d",
   "metadata": {},
   "source": [
    "As seen in the cell above, the columns with the most missing values tend to be those with a `w1qx_x` naming convention.  These are questions with a matrix-style response prompt, from which participants selected only a few - usually one - answer(s).  For example:"
   ]
  },
  {
   "cell_type": "code",
   "execution_count": 521,
   "id": "76552dc6-f936-415c-9aa0-26f8c2098fbe",
   "metadata": {},
   "outputs": [
    {
     "data": {
      "text/html": [
       "<div>\n",
       "<style scoped>\n",
       "    .dataframe tbody tr th:only-of-type {\n",
       "        vertical-align: middle;\n",
       "    }\n",
       "\n",
       "    .dataframe tbody tr th {\n",
       "        vertical-align: top;\n",
       "    }\n",
       "\n",
       "    .dataframe thead th {\n",
       "        text-align: right;\n",
       "    }\n",
       "</style>\n",
       "<table border=\"1\" class=\"dataframe\">\n",
       "  <thead>\n",
       "    <tr style=\"text-align: right;\">\n",
       "      <th></th>\n",
       "      <th>w1q136_1</th>\n",
       "      <th>w1q136_2</th>\n",
       "      <th>w1q136_3</th>\n",
       "      <th>w1q136_4</th>\n",
       "      <th>w1q136_5</th>\n",
       "      <th>w1q136_6</th>\n",
       "      <th>w1q136_7</th>\n",
       "      <th>w1q136_8</th>\n",
       "      <th>w1q136_9</th>\n",
       "      <th>w1q136_10</th>\n",
       "    </tr>\n",
       "  </thead>\n",
       "  <tbody>\n",
       "    <tr>\n",
       "      <th>0</th>\n",
       "      <td>NaN</td>\n",
       "      <td>NaN</td>\n",
       "      <td>NaN</td>\n",
       "      <td>4.0</td>\n",
       "      <td>NaN</td>\n",
       "      <td>NaN</td>\n",
       "      <td>7.0</td>\n",
       "      <td>NaN</td>\n",
       "      <td>NaN</td>\n",
       "      <td>NaN</td>\n",
       "    </tr>\n",
       "    <tr>\n",
       "      <th>1</th>\n",
       "      <td>NaN</td>\n",
       "      <td>NaN</td>\n",
       "      <td>NaN</td>\n",
       "      <td>NaN</td>\n",
       "      <td>NaN</td>\n",
       "      <td>NaN</td>\n",
       "      <td>7.0</td>\n",
       "      <td>8.0</td>\n",
       "      <td>NaN</td>\n",
       "      <td>NaN</td>\n",
       "    </tr>\n",
       "    <tr>\n",
       "      <th>2</th>\n",
       "      <td>NaN</td>\n",
       "      <td>NaN</td>\n",
       "      <td>NaN</td>\n",
       "      <td>NaN</td>\n",
       "      <td>NaN</td>\n",
       "      <td>NaN</td>\n",
       "      <td>NaN</td>\n",
       "      <td>NaN</td>\n",
       "      <td>NaN</td>\n",
       "      <td>NaN</td>\n",
       "    </tr>\n",
       "    <tr>\n",
       "      <th>3</th>\n",
       "      <td>NaN</td>\n",
       "      <td>NaN</td>\n",
       "      <td>NaN</td>\n",
       "      <td>NaN</td>\n",
       "      <td>NaN</td>\n",
       "      <td>NaN</td>\n",
       "      <td>7.0</td>\n",
       "      <td>NaN</td>\n",
       "      <td>NaN</td>\n",
       "      <td>NaN</td>\n",
       "    </tr>\n",
       "    <tr>\n",
       "      <th>4</th>\n",
       "      <td>NaN</td>\n",
       "      <td>2.0</td>\n",
       "      <td>NaN</td>\n",
       "      <td>NaN</td>\n",
       "      <td>NaN</td>\n",
       "      <td>NaN</td>\n",
       "      <td>NaN</td>\n",
       "      <td>NaN</td>\n",
       "      <td>NaN</td>\n",
       "      <td>NaN</td>\n",
       "    </tr>\n",
       "  </tbody>\n",
       "</table>\n",
       "</div>"
      ],
      "text/plain": [
       "   w1q136_1  w1q136_2  w1q136_3  w1q136_4  w1q136_5  w1q136_6  w1q136_7  \\\n",
       "0       NaN       NaN       NaN       4.0       NaN       NaN       7.0   \n",
       "1       NaN       NaN       NaN       NaN       NaN       NaN       7.0   \n",
       "2       NaN       NaN       NaN       NaN       NaN       NaN       NaN   \n",
       "3       NaN       NaN       NaN       NaN       NaN       NaN       7.0   \n",
       "4       NaN       2.0       NaN       NaN       NaN       NaN       NaN   \n",
       "\n",
       "   w1q136_8  w1q136_9  w1q136_10  \n",
       "0       NaN       NaN        NaN  \n",
       "1       8.0       NaN        NaN  \n",
       "2       NaN       NaN        NaN  \n",
       "3       NaN       NaN        NaN  \n",
       "4       NaN       NaN        NaN  "
      ]
     },
     "execution_count": 521,
     "metadata": {},
     "output_type": "execute_result"
    }
   ],
   "source": [
    "meyer[[\n",
    "    'w1q136_1', 'w1q136_2', 'w1q136_3', 'w1q136_4', 'w1q136_5',\n",
    "    'w1q136_6', 'w1q136_7', 'w1q136_8', 'w1q136_9', 'w1q136_10']].head()"
   ]
  },
  {
   "cell_type": "markdown",
   "id": "2c4b058e-f49a-4fa6-8eaf-60367bdeb018",
   "metadata": {},
   "source": [
    "Each of these columns had up to 3 values - NaN, 7 or 97, and the number corresponding to the position of the response in the matrix (i.e., row 4 above has a 2 in the `w1q136_2` column).  NaN, 97 (float or int), and sometimes 7, all referred to missing data; NaNs appeared where participants declined to answer a question that was asked of them, and 7 or 97 appeared when participants were not asked the question at all, usually due to their response to a previous question (e.g., answering \"no\" to \"Do you currently have health insurance?\", and then not being asked \"What kind of health insurance do you have?\").  For all such columns, I converted the NaNs and 97s to 0s, and the target values to 1s.  The 7s required more careful attention, because they were legitimate values in some columns and essentially NAs in others."
   ]
  },
  {
   "cell_type": "code",
   "execution_count": 522,
   "id": "7c0eacf5-4002-4415-a2de-14b07bd5cbc4",
   "metadata": {},
   "outputs": [
    {
     "name": "stdout",
     "output_type": "stream",
     "text": [
      "98\n"
     ]
    }
   ],
   "source": [
    "# Make a list of all such columns\n",
    "diy_ohe = [\"w1q145_3\", \"w1q163_3\", \"w1q136_3\", \"w1q145_9\", \"w1q143_3\", \"w1q136_10\", \"w1q145_10\", \n",
    "  \"w1q136_9\", \"w1q163_10\", \"w1q163_9\", \"w1q143_9\", \"w1q143_4\", \"w1q136_6\", \"w1q143_10\", \"w1q143_5\", \n",
    "  \"w1q145_4\", \"w1q136_5\", \"w1q143_8\", \"w1q163_5\", \"w1q136_4\", \"w1q163_6\", \"w1q145_6\", \"w1q136_1\", \n",
    "  \"w1q143_7\", \"w1q163_1\", \"w1q143_2\", \"w1q143_1\", \"w1q145_5\", \"w1q143_6\", \"w1q163_2\", \"w1q163_4\", \n",
    "  \"w1q136_8\", \"w1q145_8\", \"w1q145_1\", \"w1q145_7\", \"w1q163_7\", \"w1q136_2\", \"w1q145_2\", \"w1q139_3\", \n",
    "  \"w1q136_7\", \"w1q139_9\", \"w1q139_10\", \"w1q139_5\", \"w1q139_4\", \"w1q139_8\", \"w1q139_6\", \"w1q139_2\", \n",
    "  \"w1q139_1\", \"w1q139_7\", \"w1q163_8\", \"w1q141_3\", \"w1q141_9\", \"w1q141_10\", \"w1q141_8\", \"w1q141_4\", \n",
    "  \"w1q141_1\", \"w1q141_5\", \"w1q141_2\", \"w1q141_7\", \"w1q141_6\", \"w1q64_12\", \"w1q64_5\", \"w1q74_5\", \n",
    "  \"w1q74_6\", \"w1q74_20\", \"w1q64_11\", \"w1q64_10\", \"w1q74_18\", \"w1q74_14\", \"w1q74_17\", \"w1q171_8\", \n",
    "  \"w1q30_3\", \"w1q64_13\", \"w1q64_7\", \"w1q30_4\", \"w1q171_6\", \"w1q171_4\", \"w1q64_8\", \"w1q74_10\", \n",
    "  \"w1q74_21\", \"w1q64_6\", \"w1q74_11\", \"w1q171_5\", \"w1q64_3\", \"w1q64_1\", \"w1q171_9\", \"w1q30_5\", \n",
    "  \"w1q171_3\", \"w1q74_22\", \"w1q64_9\", \"w1q171_2\", \"w1q171_7\", \"w1q74_23\", \"w1q64_4\", \"w1q64_2\", \n",
    "  \"w1q30_1\", \"w1q171_1\", \"w1q30_2\"]\n",
    "print(len(diy_ohe))"
   ]
  },
  {
   "cell_type": "code",
   "execution_count": 523,
   "id": "50e16d0b-e90f-4e44-9416-5513a777e86c",
   "metadata": {},
   "outputs": [
    {
     "name": "stdout",
     "output_type": "stream",
     "text": [
      "98\n"
     ]
    }
   ],
   "source": [
    "# Make distinct column names to put them into - don't overwrite them until I'm done\n",
    "diy_ohe_new = [''.join([x, '_ei']) for x in diy_ohe]\n",
    "print(len(diy_ohe_new))"
   ]
  },
  {
   "cell_type": "code",
   "execution_count": 524,
   "id": "6850a91b-15b0-42c1-8236-c2629e53b166",
   "metadata": {},
   "outputs": [],
   "source": [
    "# Convert the int 97s to 0s\n",
    "meyer.loc[:, diy_ohe_new] = np.where(meyer.loc[:, diy_ohe]==97, 0, meyer.loc[:, diy_ohe])"
   ]
  },
  {
   "cell_type": "code",
   "execution_count": 525,
   "id": "02aa354c-0a91-401b-9ba6-6dc8af491571",
   "metadata": {},
   "outputs": [],
   "source": [
    "# Identify columns with legitimate 7s\n",
    "nat_7s = [\n",
    "  'w1q143_7', 'w1q145_7', 'w1q163_7', 'w1q136_7', 'w1q139_7', 'w1q141_7', 'w1q64_7', 'w1q171_7']"
   ]
  },
  {
   "cell_type": "code",
   "execution_count": 526,
   "id": "b131fdf3-0f9a-40e2-a749-352062892d69",
   "metadata": {},
   "outputs": [],
   "source": [
    "# Get the new names for these columns (same as in diy_ohe_new)\n",
    "nat_7s_ei = [''.join([x, '_ei']) for x in nat_7s]\n",
    "\n",
    "# Turn those 7s into 1s\n",
    "meyer.loc[:, nat_7s_ei] = np.where(meyer.loc[:, nat_7s]==7, 1, meyer.loc[:, nat_7s_ei])"
   ]
  },
  {
   "cell_type": "code",
   "execution_count": 527,
   "id": "7307d2f6-0c5b-4804-949a-5b8a6ad5150a",
   "metadata": {},
   "outputs": [],
   "source": [
    "# let's see if this replaces the 7s right\n",
    "meyer.loc[:, diy_ohe_new] = np.where(meyer.loc[:, diy_ohe_new]==7, 0, meyer.loc[:, diy_ohe_new])"
   ]
  },
  {
   "cell_type": "code",
   "execution_count": 528,
   "id": "bbc214a4-3396-4f04-8fbc-c8d192eee8d7",
   "metadata": {},
   "outputs": [],
   "source": [
    "# Fill the NAs with 0s\n",
    "meyer[diy_ohe_new] = meyer[diy_ohe_new].fillna(0)"
   ]
  },
  {
   "cell_type": "code",
   "execution_count": 529,
   "id": "2b0bfa64-7c99-4cc6-9b3a-b35b6924ee6b",
   "metadata": {},
   "outputs": [
    {
     "name": "stdout",
     "output_type": "stream",
     "text": [
      "[0.0, 1.0, 2.0, 3.0, 4.0, 5.0, 6.0, 8.0, 9.0, 10.0, 11.0, 13.0, 14.0, 17.0, 18.0, 20.0, 21.0, 22.0, 23.0]\n",
      "[]\n"
     ]
    }
   ],
   "source": [
    "# Check that all the values are correct\n",
    "value_list_x = []\n",
    "check_7s = []\n",
    "for i in diy_ohe_new:\n",
    "  a = list(meyer[i].unique())\n",
    "  if 7 in a:\n",
    "    check_7s.append(i)\n",
    "  value_list_x += a\n",
    "value_list_x = list(set(value_list_x))\n",
    "\n",
    "print(sorted(value_list_x)) # should be 0-23, no 7s, no NaNs\n",
    "print(check_7s) # should be blank"
   ]
  },
  {
   "cell_type": "code",
   "execution_count": 530,
   "id": "25906563-6586-468a-8125-4e1b3f558a16",
   "metadata": {},
   "outputs": [],
   "source": [
    "# reduce to 0s and 1s\n",
    "meyer.loc[:, diy_ohe_new] = np.where(meyer.loc[:, diy_ohe_new]!=0, 1, meyer.loc[:, diy_ohe_new])"
   ]
  },
  {
   "cell_type": "code",
   "execution_count": 531,
   "id": "07d066bf",
   "metadata": {},
   "outputs": [
    {
     "name": "stdout",
     "output_type": "stream",
     "text": [
      "[0.0, 1.0]\n",
      "[]\n"
     ]
    }
   ],
   "source": [
    "# Check that all the values are correct\n",
    "value_list_x = []\n",
    "check_7s = []\n",
    "for i in diy_ohe_new:\n",
    "  a = list(meyer[i].unique())\n",
    "  if 7 in a:\n",
    "    check_7s.append(i)\n",
    "  value_list_x += a\n",
    "value_list_x = list(set(value_list_x))\n",
    "\n",
    "print(sorted(value_list_x)) # should be 0-1\n",
    "print(check_7s) # should be blank"
   ]
  },
  {
   "cell_type": "code",
   "execution_count": 532,
   "id": "13976fce-895e-4ef6-9c3e-e5070ddb107e",
   "metadata": {},
   "outputs": [
    {
     "data": {
      "text/plain": [
       "0"
      ]
     },
     "execution_count": 532,
     "metadata": {},
     "output_type": "execute_result"
    }
   ],
   "source": [
    "# Are all the NAs in those columns gone?\n",
    "meyer[diy_ohe_new].isna().sum().sum()"
   ]
  },
  {
   "cell_type": "code",
   "execution_count": 533,
   "id": "8ae83ffe-1a32-4a0e-8838-8bb03a35f701",
   "metadata": {},
   "outputs": [],
   "source": [
    "# Drop the old versions\n",
    "meyer.drop(columns = diy_ohe, inplace = True)"
   ]
  },
  {
   "cell_type": "code",
   "execution_count": 534,
   "id": "af366c49-45ac-47a1-826e-190268d067af",
   "metadata": {},
   "outputs": [
    {
     "data": {
      "text/plain": [
       "(1494, 290)"
      ]
     },
     "execution_count": 534,
     "metadata": {},
     "output_type": "execute_result"
    }
   ],
   "source": [
    "# Are we back the pre-add columns?\n",
    "meyer.shape"
   ]
  },
  {
   "cell_type": "markdown",
   "id": "c6b62df8-759f-4863-8ba1-42f2ed74e6a3",
   "metadata": {},
   "source": [
    "### Feature Engineering"
   ]
  },
  {
   "cell_type": "markdown",
   "id": "1ea9507a-a0d1-4e7d-9a6f-a29348f03aa5",
   "metadata": {},
   "source": [
    "- creating new columns\n",
    "- polynomial terms\n",
    "- standardization"
   ]
  },
  {
   "cell_type": "markdown",
   "id": "de0709d6-3e88-45c9-9616-ac4ddf084daf",
   "metadata": {},
   "source": [
    "### Feature Selection, Part 2"
   ]
  },
  {
   "cell_type": "markdown",
   "id": "c6f6f23d-d804-447b-9bb0-207ed7fc3794",
   "metadata": {},
   "source": [
    "## Notebook Summary"
   ]
  },
  {
   "cell_type": "markdown",
   "id": "f5053e7a-51cd-4dac-ac29-ec2efede32fc",
   "metadata": {},
   "source": [
    "In this notebook, I have __________.  \n",
    "\n",
    "In the following notebook, I will ___________.\n",
    "\n",
    "Any readers who are following along or attempting to reproduce my work should uncomment the cell below to save a copy of the dataframe as it exists now.  A cell is provided at the top of the next notebook in which to import that copy."
   ]
  },
  {
   "cell_type": "code",
   "execution_count": 535,
   "id": "3e6163c0-cf44-4bae-9298-679f590e101d",
   "metadata": {},
   "outputs": [],
   "source": [
    "# Save a copy of the dataframe to use in the next notebook\n",
    "meyer.to_csv('../02_data/df_after_data_preparation.csv', index = False)"
   ]
  }
 ],
 "metadata": {
  "kernelspec": {
   "display_name": "Python 3 (ipykernel)",
   "language": "python",
   "name": "python3"
  },
  "language_info": {
   "codemirror_mode": {
    "name": "ipython",
    "version": 3
   },
   "file_extension": ".py",
   "mimetype": "text/x-python",
   "name": "python",
   "nbconvert_exporter": "python",
   "pygments_lexer": "ipython3",
   "version": "3.11.7"
  }
 },
 "nbformat": 4,
 "nbformat_minor": 5
}
