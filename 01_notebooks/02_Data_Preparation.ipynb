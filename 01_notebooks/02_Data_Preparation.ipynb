{
 "cells": [
  {
   "cell_type": "markdown",
   "id": "bba42f54-f0f0-4983-8369-ba2b309278a6",
   "metadata": {},
   "source": [
    "# **Pride and Joy**\n",
    "### *An investigation of mental health correlates in LGBQ+ people*\n",
    "| | | | | | | | | | | | | | | | | | | | | | | | | | | | | | | | | | |\n",
    "|-|-|-|-|-|-|-|-|-|-|-|-|-|-|-|-|-|-|-|-|-|-|-|-|-|-|-|-|-|-|-|-|-|-|\n",
    "|Emily K. Sanders| | | | | | | | | | | | | | | | | | | | | | | | | | | | | | | | |Capstone Project|\n",
    "|DSB-318| | | | | | | | | | | | | | | | | | | | | | | | | | | | | | | | |June 13, 2024|\n",
    "---"
   ]
  },
  {
   "cell_type": "code",
   "execution_count": 1,
   "id": "fdef073d-6276-43e5-a4ca-b6b0a4a5106b",
   "metadata": {},
   "outputs": [],
   "source": [
    "#is there any way to space that text out so that it fits the edges of whatever screen it's on?"
   ]
  },
  {
   "cell_type": "markdown",
   "id": "caf2e247-de73-4a48-94fb-f3c4e483f509",
   "metadata": {},
   "source": [
    "| | | | | | | | | | | | | | | | | | | | | | | | | | | | | | | | | | | | | | | | | | | | | | | | | |\n",
    "|-|-|-|-|-|-|-|-|-|-|-|-|-|-|-|-|-|-|-|-|-|-|-|-|-|-|-|-|-|-|-|-|-|-|-|-|-|-|-|-|-|-|-|-|-|-|-|-|-|\n",
    "|Emily K. Sanders| | | | | | | | | | | | | | | | | | | | | | | | | | | | | | | | | | | | | | | | | | | | | | | |Capstone Project|\n",
    "|DSB-318| | | | | | | | | | | | | | | | | | | | | | | | | | | | | | | | | | | | | | | | | | | | | | | |June 13, 2024|\n",
    "---"
   ]
  },
  {
   "cell_type": "markdown",
   "id": "c25b455d-da3a-443f-9d58-320201f1d391",
   "metadata": {},
   "source": [
    "## Prior Notebooks Summary"
   ]
  },
  {
   "cell_type": "markdown",
   "id": "fd408180-1c7a-4ca9-a379-b8642378a7bf",
   "metadata": {},
   "source": [
    "In the previous notebook, I \n",
    "\n",
    "- **gave a problem statement!**\n",
    "- **listed deliverables!**\n",
    "- **explained that I will be using the word queer!!!**\n",
    "- **explained that it was the original author's idea to exclude binary trans people, not mine**\n",
    "\n",
    "In this notebook, I will ____________, including `python` code."
   ]
  },
  {
   "cell_type": "markdown",
   "id": "4f7518c8-5040-4377-b76c-ae3d850e1108",
   "metadata": {},
   "source": [
    "## Table of Contents"
   ]
  },
  {
   "cell_type": "markdown",
   "id": "77c4c7a8-d914-48c8-8d49-cac82a289b8c",
   "metadata": {},
   "source": [
    "- [Data Preparation](##Data-Preparation)\n",
    "  - [Imports](###Imports)\n",
    "  - [Renaming Columns](###Renaming-Columns) \n",
    "  - [Feature Selection, Part 1](###Feature-Selection-Part-1)\n",
    "  - [Missing Values and Imputation](###Missing-Values-and-Imputation)\n",
    "  - [Feature Engineering](###Feature-Engineering)\n",
    "  - [Feature Selection, Part 2](###Feature-Selection-Part-2)\n",
    "- [Notebook Summary](##Notebook-Summary)  "
   ]
  },
  {
   "cell_type": "markdown",
   "id": "07ee2112-63e6-41f3-9524-33bd078f9137",
   "metadata": {},
   "source": [
    "## Data Preparation"
   ]
  },
  {
   "cell_type": "markdown",
   "id": "087e6e42-47c5-4fa9-a4db-f06b609eff8e",
   "metadata": {},
   "source": [
    "In the cells below, I have reported the steps I took to prepare the dataset for modeling.  Readers should recall from the Introduction and Methods notebook that none of the code will run unless they download the dataset from DSDR's archive, and import it when prompted below.  **Anyone wishing to reproduce my work must first obtain a copy of the dataset from DSDR.**\n",
    "\n",
    "Where neccessary, I have provided commentary on the code below.  Otherwise, I trust that readers will the code self-explanatory."
   ]
  },
  {
   "cell_type": "markdown",
   "id": "9324aa3a-cbe1-4750-bcc6-1126e121be41",
   "metadata": {},
   "source": [
    "### Imports"
   ]
  },
  {
   "cell_type": "code",
   "execution_count": 2,
   "id": "93f8a550-c953-4458-8846-827e3b2c9954",
   "metadata": {},
   "outputs": [],
   "source": [
    "# Import modules\n",
    "import pandas as pd\n",
    "import numpy as np\n",
    "import matplotlib.pyplot as plt\n",
    "import seaborn as sns\n",
    "import os\n",
    "from sklearn.impute import SimpleImputer\n",
    "from sklearn.preprocessing import OneHotEncoder\n",
    "from sklearn.compose import ColumnTransformer\n",
    "from emilys_functions import my_date, autoplots"
   ]
  },
  {
   "cell_type": "code",
   "execution_count": 3,
   "id": "7213840a-efdc-45a2-b806-862503a3b5d2",
   "metadata": {},
   "outputs": [],
   "source": [
    "# Settings preferences\n",
    "pd.set_option('display.max_rows', None)\n",
    "pd.options.mode.chained_assignment = None "
   ]
  },
  {
   "cell_type": "markdown",
   "id": "51ef18f4-6f3e-486a-925b-3d9a3cf35a6a",
   "metadata": {},
   "source": [
    "While preparing this report on my local computer, I used the absolute path in the cell below, which has since been commented out, to import my copy of the dataset.  Any readers wishing to follow along should uncomment the code in the cell after that, and modify it to point to the location of the file on their own computer.  I named the resulting dataframe `meyer`, in honor of Ilan H. Meyer, the author of the original study.  Readers should note that if they change that name in their import cell, they will also have to change it throughout the code."
   ]
  },
  {
   "cell_type": "code",
   "execution_count": 4,
   "id": "440bd60b-a6b8-414e-89d8-c99170df0960",
   "metadata": {},
   "outputs": [],
   "source": [
    "# Import the data - mine\n",
    "meyer = pd.read_csv(\n",
    "  '../../potential_datasets/2024_05_23_download_ICPSR_Meyer_2023_generations_data_attempt_2/ICPSR_37166/DS0007/37166-0007-Data.tsv', \n",
    "  sep = '\\t', low_memory=False, na_values = ' ') # Many thanks to ibrahim rupawala for highlighting the na_values argument\n",
    "  # https://stackoverflow.com/questions/13445241/replacing-blank-values-white-space-with-nan-in-pandas/47105408#47105408"
   ]
  },
  {
   "cell_type": "code",
   "execution_count": 5,
   "id": "0aeac3ee-48fd-480f-951d-8ec774618cfe",
   "metadata": {},
   "outputs": [],
   "source": [
    "# Import the data - yours\n",
    "# meyer = pd.read_csv('your_path/37166-0007-Data.tsv', \n",
    "#   sep = '\\t', low_memory=False, na_values = ' ')"
   ]
  },
  {
   "cell_type": "code",
   "execution_count": 6,
   "id": "f8b419a5-4736-44d6-8d10-3cae948e8db2",
   "metadata": {},
   "outputs": [
    {
     "data": {
      "text/plain": [
       "(1518, 1329)"
      ]
     },
     "execution_count": 6,
     "metadata": {},
     "output_type": "execute_result"
    }
   ],
   "source": [
    "# Ours\n",
    "meyer.shape"
   ]
  },
  {
   "cell_type": "markdown",
   "id": "7b7eb05f-6e25-4f63-a749-b0b793270634",
   "metadata": {},
   "source": [
    "### Renaming Columns"
   ]
  },
  {
   "cell_type": "markdown",
   "id": "2bc16735-ff68-4973-8731-96c313845f8e",
   "metadata": {},
   "source": [
    "The variable names in the original dataset are in all uppercase letters.  Per `python` norms (and, conveniently, my own preference), I converted them to all lowercase letters.  "
   ]
  },
  {
   "cell_type": "code",
   "execution_count": 7,
   "id": "711d61ba-582f-416a-96f0-617efaa6e9bc",
   "metadata": {},
   "outputs": [],
   "source": [
    "# Rename the columns\n",
    "meyer.columns = [c.lower() for c in list(meyer.columns)]"
   ]
  },
  {
   "cell_type": "markdown",
   "id": "9e0642a4-95fc-47f4-bd55-5cad0ddb40be",
   "metadata": {},
   "source": [
    "### Feature Selection, Part 1"
   ]
  },
  {
   "cell_type": "markdown",
   "id": "044cdf33-810a-4382-8545-5f85466a066d",
   "metadata": {},
   "source": [
    "Meyer's original study was longitudinal, so the dataset he provided included responses from the participants at up to three different times of measurement, referred to as waves.  Many authors have done excellent analyses on this time-series element.  However, as is often the case, Meyer's study suffered from attrition effects, and only 616 participants responded to all three rounds of data collection.  In the interest of preserving a larger sample, I chose to cross-sectionally investigate the wave 1 responses only, for an initial sample size of 1518.  Therefore, I dropped the columns pertaining to wave 2 or 3."
   ]
  },
  {
   "cell_type": "code",
   "execution_count": 8,
   "id": "6a47113e-fb4d-4f9e-b9a2-e16e1310b69b",
   "metadata": {},
   "outputs": [
    {
     "data": {
      "text/plain": [
       "waveparticipated\n",
       "1    533\n",
       "2    278\n",
       "3     91\n",
       "4    616\n",
       "Name: count, dtype: int64"
      ]
     },
     "execution_count": 8,
     "metadata": {},
     "output_type": "execute_result"
    }
   ],
   "source": [
    "# Display the n per wave; note that 4 = all 3 waves\n",
    "meyer['waveparticipated'].value_counts(dropna = False).sort_index()"
   ]
  },
  {
   "cell_type": "code",
   "execution_count": 9,
   "id": "a421a259-a422-4e97-b951-f08fdfa4bdf0",
   "metadata": {},
   "outputs": [
    {
     "data": {
      "text/plain": [
       "(1518, 505)"
      ]
     },
     "execution_count": 9,
     "metadata": {},
     "output_type": "execute_result"
    }
   ],
   "source": [
    "# Eliminate W2 and W3 variables from the list\n",
    "cols = list(meyer.columns)\n",
    "w1_cols = [c for c in cols if c[:2]!='w2']\n",
    "w1_cols = [c for c in w1_cols if c[:2]!='w3']\n",
    "len(w1_cols)\n",
    "\n",
    "# Drop columns\n",
    "meyer = meyer[w1_cols]\n",
    "meyer.shape"
   ]
  },
  {
   "cell_type": "markdown",
   "id": "5acc1dc8-ea66-41f3-b1f9-0d33580e91fa",
   "metadata": {},
   "source": [
    "Additionally, as described on page 17 of *37166-Documentation-methodology.pdf*, several participants identified as heterosexual on the survey instrument, despite indicating that they were LGB on the screening questionaire.  Although these people likely have a more complicated identity than either of those options can fully capture, I opted to err on the side of caution and exclude them from my analyses."
   ]
  },
  {
   "cell_type": "code",
   "execution_count": 10,
   "id": "3232d6ce-d192-431a-bbac-807816250177",
   "metadata": {},
   "outputs": [
    {
     "data": {
      "text/plain": [
       "(1507, 505)"
      ]
     },
     "execution_count": 10,
     "metadata": {},
     "output_type": "execute_result"
    }
   ],
   "source": [
    "# Exclude anyone marking themselves as straight/heterosexual\n",
    "meyer = meyer[meyer['w1sexualid']!=1]\n",
    "meyer.shape"
   ]
  },
  {
   "cell_type": "markdown",
   "id": "ffaf024f-e037-473e-8d91-7d1efceb5ddd",
   "metadata": {},
   "source": [
    "Next, I sought to eliminate the columns corresponding to items in scales, in favor of using the scale scores themselves, which were kindly already calculated and included as their own columns."
   ]
  },
  {
   "cell_type": "code",
   "execution_count": 11,
   "id": "35118d25-71fb-4b09-9146-f7914d911c27",
   "metadata": {},
   "outputs": [
    {
     "data": {
      "text/plain": [
       "100"
      ]
     },
     "execution_count": 11,
     "metadata": {},
     "output_type": "execute_result"
    }
   ],
   "source": [
    "# Make lists of the items that comprise scales\n",
    "soc_supp_items = ['w1q164a', 'w1q164b', 'w1q164c', 'w1q164d', 'w1q164e', \n",
    "  'w1q164f', 'w1q164g', 'w1q164h', 'w1q164i', 'w1q164j', 'w1q164k', 'w1q164l']\n",
    "\n",
    "ace_items = ['w1q151', 'w1q152', 'w1q153', 'w1q154', 'w1q155', \n",
    "  'w1q156', 'w1q157', 'w1q158', 'w1q159', 'w1q160', 'w1q161']\n",
    "\n",
    "childhd_gnc_items = ['w1q147', 'w1q148', 'w1q149', 'w1q150']\n",
    "\n",
    "daily_discr_items = ['w1q144a', 'w1q144b', 'w1q144c','w1q144d', \n",
    "  'w1q144e', 'w1q144f', 'w1q144g', 'w1q144h', 'w1q144i']\n",
    "\n",
    "int_homo_items = ['w1q128', 'w1q129', 'w1q130', 'w1q131', 'w1q132']\n",
    "\n",
    "felt_stigma_items = ['w1q125', 'w1q126', 'w1q127']\n",
    "\n",
    "drug_items = ['w1q90', 'w1q91', 'w1q92', 'w1q93', 'w1q94', \n",
    "  'w1q95', 'w1q96', 'w1q97', 'w1q98', 'w1q99', 'w1q100']\n",
    "\n",
    "alc_items = ['w1q85', 'w1q86', 'w1q87']\n",
    "\n",
    "hc_ster_threat_items = ['w1q60', 'w1q61', 'w1q62', 'w1q63']\n",
    "\n",
    "comm_conn_items = ['w1q53', 'w1q54', 'w1q55', 'w1q56', 'w1q57', 'w1q58', 'w1q59']\n",
    "\n",
    "lgbis_items = ['w1q40', 'w1q41', 'w1q42', 'w1q43', 'w1q44']\n",
    "\n",
    "meim_items = ['w1q21', 'w1q22', 'w1q23', 'w1q24', 'w1q25', 'w1q26']\n",
    "\n",
    "swl_items = ['w1q186', 'w1q187', 'w1q188', 'w1q189', 'w1q190']\n",
    "\n",
    "swb_items = ['w1q04', 'w1q05', 'w1q06', 'w1q07', 'w1q08', 'w1q09', 'w1q10', \n",
    "  'w1q11', 'w1q12', 'w1q13', 'w1q14', 'w1q15', 'w1q16', 'w1q17', 'w1q18']\n",
    "\n",
    "# This one is the y variable, so I'm not dropping them just yet\n",
    "ment_dis_items = ['w1q77a', 'w1q77b', 'w1q77c', 'w1q77d', 'w1q77e', 'w1q77f']\n",
    "\n",
    "# I will drop the others though\n",
    "drop_cols = (soc_supp_items + ace_items + childhd_gnc_items + daily_discr_items + \n",
    "  int_homo_items + felt_stigma_items + drug_items + alc_items + comm_conn_items + \n",
    "  hc_ster_threat_items + lgbis_items + meim_items + swl_items + swb_items)\n",
    "len(drop_cols)"
   ]
  },
  {
   "cell_type": "code",
   "execution_count": 12,
   "id": "47a3d452-f8dc-4823-bd03-d7b630cd67fe",
   "metadata": {},
   "outputs": [
    {
     "data": {
      "text/plain": [
       "(1507, 405)"
      ]
     },
     "execution_count": 12,
     "metadata": {},
     "output_type": "execute_result"
    }
   ],
   "source": [
    "# Drop the scale component columns\n",
    "meyer.drop(columns = drop_cols, inplace = True)\n",
    "meyer.shape"
   ]
  },
  {
   "cell_type": "code",
   "execution_count": 13,
   "id": "4cd1d0b1-41bf-430c-972b-b6d1be8713b9",
   "metadata": {},
   "outputs": [],
   "source": [
    "# These are the scales - more on them later\n",
    "combo_features = ['w1socialwb', 'w1socialwb_i', 'w1lifesat', 'w1lifesat_i', 'w1meim', 'w1meim_i', \n",
    "  'w1idcentral', 'w1idcentral_i', 'w1connectedness', 'w1connectedness_i', 'w1hcthreat', \n",
    "  'w1hcthreat_i', 'w1kessler6', 'w1kessler6_i', 'w1auditc', 'w1auditc_i', 'w1dudit', 'w1dudit_i', \n",
    "  'w1feltstigma', 'w1feltstigma_i', 'w1internalized', 'w1internalized_i', 'w1everyday', \n",
    "  'w1everyday_i', 'w1childgnc', 'w1childgnc_i', 'w1ace', 'w1ace_i', 'w1ace_emo', 'w1ace_emo_i', \n",
    "  'w1ace_inc', 'w1ace_inc_i', 'w1ace_ipv', 'w1ace_ipv_i', 'w1ace_men', 'w1ace_men_i', 'w1ace_phy', \n",
    "  'w1ace_phy_i', 'w1ace_sep', 'w1ace_sep_i', 'w1ace_sex', 'w1ace_sex_i', 'w1ace_sub', 'w1ace_sub_i', \n",
    "  'w1socsupport', 'w1socsupport_fam', 'w1socsupport_fam_i', 'w1socsupport_fr', 'w1socsupport_fr_i', \n",
    "  'w1socsupport_i', 'w1socsupport_so', 'w1socsupport_so_i']"
   ]
  },
  {
   "cell_type": "markdown",
   "id": "d3294124-9bb6-4b90-976a-d829f8892181",
   "metadata": {},
   "source": [
    "Keen-eyed readers may have noticed a pattern in the list above: each variable name appears twice, with `'_i'` added to the end of the second occurrence.  This is because Meyer and his team provided two versions of the computed column for each scale - one for the original values, and one in which missing values have been imputed.  I discuss imputation - these, and my own - in the next section."
   ]
  },
  {
   "cell_type": "markdown",
   "id": "45d2d32d-2335-4b94-8a51-00d42c70790c",
   "metadata": {},
   "source": [
    "### Missing Values and Imputation"
   ]
  },
  {
   "cell_type": "markdown",
   "id": "d349fc42-5c5d-4b61-a29a-83653fbbce26",
   "metadata": {},
   "source": [
    "Because this dataset only has about 1500 rows, I felt it important to preserve as many of them as possible.  Out of this necessity, I opted to allow a larger proportion of imputed data than I would b inclined to do if I had rows to spare.  The implications of this decision will be discussed at further length in the *Limitations* section, but suffice to say it will require me to interpret my models cautiously and conservatively.\n",
    "\n",
    "Fortunately, however, Meyer and his team used thorough, theoretically-sound methods for their imputations, inpsiring confidence in me regarding the quality of the imputed data.  Where possible, they filled missing values with logical inferences based on that participant's other responses.  Where that was not possible, they predicted the missing value based on a regression of the participant's other responses, then imputed a randomly selected value from the 5 extant values nearest to that prediction.  See page 30 of *37166-Documentation-methodology.pdf* for more details."
   ]
  },
  {
   "cell_type": "markdown",
   "id": "4558611d-2293-4a52-91b2-c2034eef87e9",
   "metadata": {},
   "source": [
    "# **MAYBE TAKE THIS OUT???  I CAN'T TELL IF IT'S CONVINCING**  vv"
   ]
  },
  {
   "cell_type": "markdown",
   "id": "35d1ce8f-c452-4e9d-a746-a012b89911a8",
   "metadata": {},
   "source": [
    "For a quick-and-dirty test of the facial validity of these imputations, I compared the value counts of `w1ace_ipv` (before imputation) and `w1ace_ipv_i` (after imputation).  This variable corresponds to questions from the Adverse Childhood Experiences (ACE) scale regarding intimate partner violence (IPV) in their home when they were a child.  IPV is notoriously underreported, and not surprisingly, this variable had one of the highest rates of missing data."
   ]
  },
  {
   "cell_type": "code",
   "execution_count": 14,
   "id": "2ee8d134-3754-47ce-bfdd-773d72d7d567",
   "metadata": {},
   "outputs": [
    {
     "name": "stdout",
     "output_type": "stream",
     "text": [
      "w1ace_ipv\n",
      "0.0    945\n",
      "1.0    426\n",
      "NaN    136\n",
      "Name: count, dtype: int64\n",
      "w1ace_ipv_i\n",
      "0    1018\n",
      "1     489\n",
      "Name: count, dtype: int64\n"
     ]
    }
   ],
   "source": [
    "print(meyer['w1ace_ipv'].value_counts(dropna = False))\n",
    "print(meyer['w1ace_ipv_i'].value_counts(dropna = False))"
   ]
  },
  {
   "cell_type": "code",
   "execution_count": 15,
   "id": "5dd92da1-7873-490a-a4d0-c36da2e05408",
   "metadata": {},
   "outputs": [
    {
     "data": {
      "text/plain": [
       "(70, 60)"
      ]
     },
     "execution_count": 15,
     "metadata": {},
     "output_type": "execute_result"
    }
   ],
   "source": [
    "1010-940, 484-424"
   ]
  },
  {
   "cell_type": "code",
   "execution_count": 16,
   "id": "427fee09-9156-4ee5-a52f-fb0e431f3fd9",
   "metadata": {},
   "outputs": [
    {
     "data": {
      "text/plain": [
       "19"
      ]
     },
     "execution_count": 16,
     "metadata": {},
     "output_type": "execute_result"
    }
   ],
   "source": [
    "len(meyer[(meyer['w1ace_ipv']==1) & (meyer['w1ace_sex'].isna())])"
   ]
  },
  {
   "cell_type": "code",
   "execution_count": 17,
   "id": "91fcc906-ded1-4c09-8619-16a8d3bff056",
   "metadata": {},
   "outputs": [
    {
     "data": {
      "text/plain": [
       "50"
      ]
     },
     "execution_count": 17,
     "metadata": {},
     "output_type": "execute_result"
    }
   ],
   "source": [
    "len(meyer[(meyer['w1ace_ipv'].isna()) & (meyer['w1ace_sex']==1)])"
   ]
  },
  {
   "cell_type": "code",
   "execution_count": 18,
   "id": "3b67cd0e-ef35-4ac6-b897-42c50d5cb503",
   "metadata": {},
   "outputs": [
    {
     "data": {
      "text/plain": [
       "w1ace_ipv_i\n",
       "1    27\n",
       "0    23\n",
       "Name: count, dtype: int64"
      ]
     },
     "execution_count": 18,
     "metadata": {},
     "output_type": "execute_result"
    }
   ],
   "source": [
    "meyer[(meyer['w1ace_ipv'].isna()) & (meyer['w1ace_sex']==1)]['w1ace_ipv_i'].value_counts(dropna = False)"
   ]
  },
  {
   "cell_type": "code",
   "execution_count": 19,
   "id": "fd1769bb-ad8c-4168-a7af-0560ee8ea887",
   "metadata": {},
   "outputs": [
    {
     "data": {
      "text/plain": [
       "w1ace_sex\n",
       "0.0    0.438356\n",
       "1.0    0.315068\n",
       "NaN    0.246575\n",
       "Name: proportion, dtype: float64"
      ]
     },
     "execution_count": 19,
     "metadata": {},
     "output_type": "execute_result"
    }
   ],
   "source": [
    "meyer[(meyer['w1ace_ipv'].isna()) & (meyer['w1ace_ipv_i']==0)]['w1ace_sex'].value_counts(dropna = False, normalize = True)"
   ]
  },
  {
   "cell_type": "code",
   "execution_count": 20,
   "id": "16e160ed-8a40-4c7b-b875-276f56df62d5",
   "metadata": {},
   "outputs": [
    {
     "data": {
      "text/plain": [
       "w1ace_sex\n",
       "1.0    0.428571\n",
       "0.0    0.380952\n",
       "NaN    0.190476\n",
       "Name: proportion, dtype: float64"
      ]
     },
     "execution_count": 20,
     "metadata": {},
     "output_type": "execute_result"
    }
   ],
   "source": [
    "meyer[(meyer['w1ace_ipv'].isna()) & (meyer['w1ace_ipv_i']==1)]['w1ace_sex'].value_counts(dropna = False, normalize = True)"
   ]
  },
  {
   "cell_type": "code",
   "execution_count": 21,
   "id": "22f5c6c5-10f9-4adb-86ba-6583f17d3771",
   "metadata": {},
   "outputs": [
    {
     "data": {
      "text/plain": [
       "w1ace_ipv\n",
       "0.0    0.689278\n",
       "1.0    0.310722\n",
       "Name: proportion, dtype: float64"
      ]
     },
     "execution_count": 21,
     "metadata": {},
     "output_type": "execute_result"
    }
   ],
   "source": [
    "meyer['w1ace_ipv'].value_counts(dropna = True, normalize = True)"
   ]
  },
  {
   "cell_type": "code",
   "execution_count": 22,
   "id": "e9e68837-7bd6-4e47-ae21-0017d8bdcb92",
   "metadata": {},
   "outputs": [
    {
     "data": {
      "text/plain": [
       "0"
      ]
     },
     "execution_count": 22,
     "metadata": {},
     "output_type": "execute_result"
    }
   ],
   "source": [
    "len(meyer[(meyer['w1ace_ipv']==' ') & (meyer['w1ace_sex']=='1')])"
   ]
  },
  {
   "cell_type": "markdown",
   "id": "4c2500c6-8323-4dde-92f7-24f4f649750b",
   "metadata": {},
   "source": [
    "Of the 130 missing values in the original column, "
   ]
  },
  {
   "cell_type": "markdown",
   "id": "b26f6292-61c0-4b81-902e-db1e1afbb08d",
   "metadata": {},
   "source": [
    "# ^^ **MAYBE TAKE THIS OUT???  I CAN'T TELL IF IT'S CONVINCING**"
   ]
  },
  {
   "cell_type": "markdown",
   "id": "6a92844c-e019-4538-9c6d-b1d0cf83c79d",
   "metadata": {},
   "source": [
    "Heartened by this level of care - and lacking any better ideas for imputing those values - I was inclined to retain the imputed versions and drop the original columns.  Before doing so, however, I wanted to assess how many values had originally been missing.  Features for which a high proportion of values had to be imputed may not be suitable for modeling, and observations for which a high proportion of the Kessler-6 items had to be imputed may also be inappropriate for use.  \n",
    "\n",
    "For all of the reasons outlined above, I opted not to immediately drop any features based solely on their original missing proportions, but simply to monitor their performance in the model(s) with an extra watchful eye.  I also decided to keep observations for which only one value out of the 6 items on the Kessler scale had to be imputed, but I did opt to drop any observations with two or more originally missing values among the Kessler items."
   ]
  },
  {
   "cell_type": "code",
   "execution_count": 23,
   "id": "c012ff10-486f-4b60-a894-ef4656cb2526",
   "metadata": {
    "scrolled": true
   },
   "outputs": [
    {
     "data": {
      "text/html": [
       "<div>\n",
       "<style scoped>\n",
       "    .dataframe tbody tr th:only-of-type {\n",
       "        vertical-align: middle;\n",
       "    }\n",
       "\n",
       "    .dataframe tbody tr th {\n",
       "        vertical-align: top;\n",
       "    }\n",
       "\n",
       "    .dataframe thead th {\n",
       "        text-align: right;\n",
       "    }\n",
       "</style>\n",
       "<table border=\"1\" class=\"dataframe\">\n",
       "  <thead>\n",
       "    <tr style=\"text-align: right;\">\n",
       "      <th></th>\n",
       "      <th>w1q77a</th>\n",
       "      <th>w1q77b</th>\n",
       "      <th>w1q77c</th>\n",
       "      <th>w1q77d</th>\n",
       "      <th>w1q77e</th>\n",
       "      <th>w1q77f</th>\n",
       "      <th>w1kessler6</th>\n",
       "      <th>w1kessler6_i</th>\n",
       "      <th>studyid</th>\n",
       "    </tr>\n",
       "  </thead>\n",
       "  <tbody>\n",
       "    <tr>\n",
       "      <th>39</th>\n",
       "      <td>NaN</td>\n",
       "      <td>NaN</td>\n",
       "      <td>NaN</td>\n",
       "      <td>NaN</td>\n",
       "      <td>NaN</td>\n",
       "      <td>NaN</td>\n",
       "      <td>NaN</td>\n",
       "      <td>1</td>\n",
       "      <td>151876818</td>\n",
       "    </tr>\n",
       "    <tr>\n",
       "      <th>50</th>\n",
       "      <td>1.0</td>\n",
       "      <td>NaN</td>\n",
       "      <td>NaN</td>\n",
       "      <td>NaN</td>\n",
       "      <td>NaN</td>\n",
       "      <td>NaN</td>\n",
       "      <td>NaN</td>\n",
       "      <td>9</td>\n",
       "      <td>152304751</td>\n",
       "    </tr>\n",
       "    <tr>\n",
       "      <th>96</th>\n",
       "      <td>5.0</td>\n",
       "      <td>5.0</td>\n",
       "      <td>NaN</td>\n",
       "      <td>4.0</td>\n",
       "      <td>3.0</td>\n",
       "      <td>4.0</td>\n",
       "      <td>NaN</td>\n",
       "      <td>4</td>\n",
       "      <td>152640441</td>\n",
       "    </tr>\n",
       "    <tr>\n",
       "      <th>155</th>\n",
       "      <td>5.0</td>\n",
       "      <td>NaN</td>\n",
       "      <td>5.0</td>\n",
       "      <td>4.0</td>\n",
       "      <td>5.0</td>\n",
       "      <td>5.0</td>\n",
       "      <td>NaN</td>\n",
       "      <td>3</td>\n",
       "      <td>153039829</td>\n",
       "    </tr>\n",
       "    <tr>\n",
       "      <th>214</th>\n",
       "      <td>NaN</td>\n",
       "      <td>NaN</td>\n",
       "      <td>NaN</td>\n",
       "      <td>NaN</td>\n",
       "      <td>NaN</td>\n",
       "      <td>NaN</td>\n",
       "      <td>NaN</td>\n",
       "      <td>0</td>\n",
       "      <td>153390973</td>\n",
       "    </tr>\n",
       "    <tr>\n",
       "      <th>227</th>\n",
       "      <td>NaN</td>\n",
       "      <td>NaN</td>\n",
       "      <td>NaN</td>\n",
       "      <td>NaN</td>\n",
       "      <td>NaN</td>\n",
       "      <td>NaN</td>\n",
       "      <td>NaN</td>\n",
       "      <td>9</td>\n",
       "      <td>153535970</td>\n",
       "    </tr>\n",
       "    <tr>\n",
       "      <th>415</th>\n",
       "      <td>NaN</td>\n",
       "      <td>NaN</td>\n",
       "      <td>NaN</td>\n",
       "      <td>NaN</td>\n",
       "      <td>NaN</td>\n",
       "      <td>NaN</td>\n",
       "      <td>NaN</td>\n",
       "      <td>8</td>\n",
       "      <td>154944576</td>\n",
       "    </tr>\n",
       "    <tr>\n",
       "      <th>447</th>\n",
       "      <td>1.0</td>\n",
       "      <td>NaN</td>\n",
       "      <td>3.0</td>\n",
       "      <td>3.0</td>\n",
       "      <td>4.0</td>\n",
       "      <td>2.0</td>\n",
       "      <td>NaN</td>\n",
       "      <td>16</td>\n",
       "      <td>155106769</td>\n",
       "    </tr>\n",
       "    <tr>\n",
       "      <th>457</th>\n",
       "      <td>NaN</td>\n",
       "      <td>NaN</td>\n",
       "      <td>NaN</td>\n",
       "      <td>NaN</td>\n",
       "      <td>NaN</td>\n",
       "      <td>NaN</td>\n",
       "      <td>NaN</td>\n",
       "      <td>12</td>\n",
       "      <td>155163167</td>\n",
       "    </tr>\n",
       "    <tr>\n",
       "      <th>577</th>\n",
       "      <td>NaN</td>\n",
       "      <td>NaN</td>\n",
       "      <td>NaN</td>\n",
       "      <td>NaN</td>\n",
       "      <td>NaN</td>\n",
       "      <td>NaN</td>\n",
       "      <td>NaN</td>\n",
       "      <td>2</td>\n",
       "      <td>155814388</td>\n",
       "    </tr>\n",
       "    <tr>\n",
       "      <th>648</th>\n",
       "      <td>3.0</td>\n",
       "      <td>5.0</td>\n",
       "      <td>4.0</td>\n",
       "      <td>5.0</td>\n",
       "      <td>NaN</td>\n",
       "      <td>5.0</td>\n",
       "      <td>NaN</td>\n",
       "      <td>4</td>\n",
       "      <td>156224369</td>\n",
       "    </tr>\n",
       "    <tr>\n",
       "      <th>677</th>\n",
       "      <td>1.0</td>\n",
       "      <td>1.0</td>\n",
       "      <td>NaN</td>\n",
       "      <td>3.0</td>\n",
       "      <td>3.0</td>\n",
       "      <td>1.0</td>\n",
       "      <td>NaN</td>\n",
       "      <td>20</td>\n",
       "      <td>156345609</td>\n",
       "    </tr>\n",
       "    <tr>\n",
       "      <th>820</th>\n",
       "      <td>4.0</td>\n",
       "      <td>NaN</td>\n",
       "      <td>4.0</td>\n",
       "      <td>3.0</td>\n",
       "      <td>4.0</td>\n",
       "      <td>5.0</td>\n",
       "      <td>NaN</td>\n",
       "      <td>5</td>\n",
       "      <td>157670785</td>\n",
       "    </tr>\n",
       "    <tr>\n",
       "      <th>866</th>\n",
       "      <td>3.0</td>\n",
       "      <td>NaN</td>\n",
       "      <td>4.0</td>\n",
       "      <td>4.0</td>\n",
       "      <td>NaN</td>\n",
       "      <td>NaN</td>\n",
       "      <td>NaN</td>\n",
       "      <td>6</td>\n",
       "      <td>158132069</td>\n",
       "    </tr>\n",
       "    <tr>\n",
       "      <th>943</th>\n",
       "      <td>NaN</td>\n",
       "      <td>NaN</td>\n",
       "      <td>NaN</td>\n",
       "      <td>NaN</td>\n",
       "      <td>NaN</td>\n",
       "      <td>NaN</td>\n",
       "      <td>NaN</td>\n",
       "      <td>12</td>\n",
       "      <td>159311507</td>\n",
       "    </tr>\n",
       "    <tr>\n",
       "      <th>964</th>\n",
       "      <td>2.0</td>\n",
       "      <td>NaN</td>\n",
       "      <td>3.0</td>\n",
       "      <td>NaN</td>\n",
       "      <td>NaN</td>\n",
       "      <td>NaN</td>\n",
       "      <td>NaN</td>\n",
       "      <td>7</td>\n",
       "      <td>159770206</td>\n",
       "    </tr>\n",
       "    <tr>\n",
       "      <th>1090</th>\n",
       "      <td>3.0</td>\n",
       "      <td>5.0</td>\n",
       "      <td>3.0</td>\n",
       "      <td>5.0</td>\n",
       "      <td>NaN</td>\n",
       "      <td>5.0</td>\n",
       "      <td>NaN</td>\n",
       "      <td>5</td>\n",
       "      <td>162335772</td>\n",
       "    </tr>\n",
       "    <tr>\n",
       "      <th>1096</th>\n",
       "      <td>3.0</td>\n",
       "      <td>3.0</td>\n",
       "      <td>2.0</td>\n",
       "      <td>NaN</td>\n",
       "      <td>3.0</td>\n",
       "      <td>2.0</td>\n",
       "      <td>NaN</td>\n",
       "      <td>15</td>\n",
       "      <td>162373382</td>\n",
       "    </tr>\n",
       "    <tr>\n",
       "      <th>1113</th>\n",
       "      <td>NaN</td>\n",
       "      <td>NaN</td>\n",
       "      <td>NaN</td>\n",
       "      <td>NaN</td>\n",
       "      <td>NaN</td>\n",
       "      <td>NaN</td>\n",
       "      <td>NaN</td>\n",
       "      <td>16</td>\n",
       "      <td>162548926</td>\n",
       "    </tr>\n",
       "    <tr>\n",
       "      <th>1159</th>\n",
       "      <td>NaN</td>\n",
       "      <td>NaN</td>\n",
       "      <td>NaN</td>\n",
       "      <td>NaN</td>\n",
       "      <td>NaN</td>\n",
       "      <td>NaN</td>\n",
       "      <td>NaN</td>\n",
       "      <td>4</td>\n",
       "      <td>162982357</td>\n",
       "    </tr>\n",
       "    <tr>\n",
       "      <th>1265</th>\n",
       "      <td>3.0</td>\n",
       "      <td>3.0</td>\n",
       "      <td>3.0</td>\n",
       "      <td>5.0</td>\n",
       "      <td>NaN</td>\n",
       "      <td>5.0</td>\n",
       "      <td>NaN</td>\n",
       "      <td>8</td>\n",
       "      <td>164454095</td>\n",
       "    </tr>\n",
       "    <tr>\n",
       "      <th>1272</th>\n",
       "      <td>2.0</td>\n",
       "      <td>NaN</td>\n",
       "      <td>3.0</td>\n",
       "      <td>4.0</td>\n",
       "      <td>4.0</td>\n",
       "      <td>5.0</td>\n",
       "      <td>NaN</td>\n",
       "      <td>9</td>\n",
       "      <td>164556482</td>\n",
       "    </tr>\n",
       "    <tr>\n",
       "      <th>1344</th>\n",
       "      <td>5.0</td>\n",
       "      <td>NaN</td>\n",
       "      <td>5.0</td>\n",
       "      <td>5.0</td>\n",
       "      <td>5.0</td>\n",
       "      <td>5.0</td>\n",
       "      <td>NaN</td>\n",
       "      <td>0</td>\n",
       "      <td>167022959</td>\n",
       "    </tr>\n",
       "    <tr>\n",
       "      <th>1359</th>\n",
       "      <td>NaN</td>\n",
       "      <td>NaN</td>\n",
       "      <td>NaN</td>\n",
       "      <td>NaN</td>\n",
       "      <td>NaN</td>\n",
       "      <td>NaN</td>\n",
       "      <td>NaN</td>\n",
       "      <td>6</td>\n",
       "      <td>167341434</td>\n",
       "    </tr>\n",
       "    <tr>\n",
       "      <th>1472</th>\n",
       "      <td>3.0</td>\n",
       "      <td>NaN</td>\n",
       "      <td>3.0</td>\n",
       "      <td>2.0</td>\n",
       "      <td>3.0</td>\n",
       "      <td>2.0</td>\n",
       "      <td>NaN</td>\n",
       "      <td>15</td>\n",
       "      <td>173409447</td>\n",
       "    </tr>\n",
       "    <tr>\n",
       "      <th>1505</th>\n",
       "      <td>5.0</td>\n",
       "      <td>3.0</td>\n",
       "      <td>1.0</td>\n",
       "      <td>2.0</td>\n",
       "      <td>NaN</td>\n",
       "      <td>2.0</td>\n",
       "      <td>NaN</td>\n",
       "      <td>16</td>\n",
       "      <td>175457423</td>\n",
       "    </tr>\n",
       "  </tbody>\n",
       "</table>\n",
       "</div>"
      ],
      "text/plain": [
       "      w1q77a  w1q77b  w1q77c  w1q77d  w1q77e  w1q77f  w1kessler6  \\\n",
       "39       NaN     NaN     NaN     NaN     NaN     NaN         NaN   \n",
       "50       1.0     NaN     NaN     NaN     NaN     NaN         NaN   \n",
       "96       5.0     5.0     NaN     4.0     3.0     4.0         NaN   \n",
       "155      5.0     NaN     5.0     4.0     5.0     5.0         NaN   \n",
       "214      NaN     NaN     NaN     NaN     NaN     NaN         NaN   \n",
       "227      NaN     NaN     NaN     NaN     NaN     NaN         NaN   \n",
       "415      NaN     NaN     NaN     NaN     NaN     NaN         NaN   \n",
       "447      1.0     NaN     3.0     3.0     4.0     2.0         NaN   \n",
       "457      NaN     NaN     NaN     NaN     NaN     NaN         NaN   \n",
       "577      NaN     NaN     NaN     NaN     NaN     NaN         NaN   \n",
       "648      3.0     5.0     4.0     5.0     NaN     5.0         NaN   \n",
       "677      1.0     1.0     NaN     3.0     3.0     1.0         NaN   \n",
       "820      4.0     NaN     4.0     3.0     4.0     5.0         NaN   \n",
       "866      3.0     NaN     4.0     4.0     NaN     NaN         NaN   \n",
       "943      NaN     NaN     NaN     NaN     NaN     NaN         NaN   \n",
       "964      2.0     NaN     3.0     NaN     NaN     NaN         NaN   \n",
       "1090     3.0     5.0     3.0     5.0     NaN     5.0         NaN   \n",
       "1096     3.0     3.0     2.0     NaN     3.0     2.0         NaN   \n",
       "1113     NaN     NaN     NaN     NaN     NaN     NaN         NaN   \n",
       "1159     NaN     NaN     NaN     NaN     NaN     NaN         NaN   \n",
       "1265     3.0     3.0     3.0     5.0     NaN     5.0         NaN   \n",
       "1272     2.0     NaN     3.0     4.0     4.0     5.0         NaN   \n",
       "1344     5.0     NaN     5.0     5.0     5.0     5.0         NaN   \n",
       "1359     NaN     NaN     NaN     NaN     NaN     NaN         NaN   \n",
       "1472     3.0     NaN     3.0     2.0     3.0     2.0         NaN   \n",
       "1505     5.0     3.0     1.0     2.0     NaN     2.0         NaN   \n",
       "\n",
       "      w1kessler6_i    studyid  \n",
       "39               1  151876818  \n",
       "50               9  152304751  \n",
       "96               4  152640441  \n",
       "155              3  153039829  \n",
       "214              0  153390973  \n",
       "227              9  153535970  \n",
       "415              8  154944576  \n",
       "447             16  155106769  \n",
       "457             12  155163167  \n",
       "577              2  155814388  \n",
       "648              4  156224369  \n",
       "677             20  156345609  \n",
       "820              5  157670785  \n",
       "866              6  158132069  \n",
       "943             12  159311507  \n",
       "964              7  159770206  \n",
       "1090             5  162335772  \n",
       "1096            15  162373382  \n",
       "1113            16  162548926  \n",
       "1159             4  162982357  \n",
       "1265             8  164454095  \n",
       "1272             9  164556482  \n",
       "1344             0  167022959  \n",
       "1359             6  167341434  \n",
       "1472            15  173409447  \n",
       "1505            16  175457423  "
      ]
     },
     "execution_count": 23,
     "metadata": {},
     "output_type": "execute_result"
    }
   ],
   "source": [
    "# Create a subsetted dataframe to identify any rows to drop\n",
    "meyer_kessler = meyer[ment_dis_items + ['w1kessler6', 'w1kessler6_i', 'studyid']]\n",
    "meyer_kessler = meyer_kessler[meyer_kessler['w1kessler6'].isna()]\n",
    "meyer_kessler"
   ]
  },
  {
   "cell_type": "code",
   "execution_count": 24,
   "id": "a43dddf3-3801-45da-b4ad-064b48de833b",
   "metadata": {},
   "outputs": [
    {
     "data": {
      "text/plain": [
       "(1494, 405)"
      ]
     },
     "execution_count": 24,
     "metadata": {},
     "output_type": "execute_result"
    }
   ],
   "source": [
    "# Extract the index numbers of rows with 2+ NAs\n",
    "\n",
    "# Get the unique identifier\n",
    "drop_rows = []\n",
    "for i in meyer_kessler.index:\n",
    "  if meyer_kessler.loc[i, ment_dis_items].isna().sum() > 1:\n",
    "    drop_rows.append(meyer_kessler.loc[i, 'studyid'])\n",
    "\n",
    "# Get the matching index number from the full dataframe\n",
    "drop_index = []\n",
    "for i in drop_rows:\n",
    "  drop_index.append(meyer[meyer['studyid']==i].index[0])\n",
    "\n",
    "# Drop those rows\n",
    "meyer.drop(index = drop_index, inplace = True)\n",
    "meyer.shape"
   ]
  },
  {
   "cell_type": "code",
   "execution_count": 25,
   "id": "fc2b189e-4745-4d1f-97c4-b51d4c155f32",
   "metadata": {},
   "outputs": [
    {
     "data": {
      "text/html": [
       "<div>\n",
       "<style scoped>\n",
       "    .dataframe tbody tr th:only-of-type {\n",
       "        vertical-align: middle;\n",
       "    }\n",
       "\n",
       "    .dataframe tbody tr th {\n",
       "        vertical-align: top;\n",
       "    }\n",
       "\n",
       "    .dataframe thead th {\n",
       "        text-align: right;\n",
       "    }\n",
       "</style>\n",
       "<table border=\"1\" class=\"dataframe\">\n",
       "  <thead>\n",
       "    <tr style=\"text-align: right;\">\n",
       "      <th></th>\n",
       "      <th>studyid</th>\n",
       "      <th>waveparticipated</th>\n",
       "      <th>w1weight_full</th>\n",
       "      <th>w1weight_orig</th>\n",
       "      <th>w1cumulative_wt_nr1</th>\n",
       "      <th>w1cumulative_wt_nr2</th>\n",
       "      <th>w1cumulative_wt_nr3</th>\n",
       "      <th>w1cumulative_wt_sampling</th>\n",
       "      <th>w1weighting_cell_nr1</th>\n",
       "      <th>w1weighting_cell_nr2and3</th>\n",
       "      <th>...</th>\n",
       "      <th>w1socsupport_so_i</th>\n",
       "      <th>gmethod_type_w2</th>\n",
       "      <th>grespondent_date_w2</th>\n",
       "      <th>gsurvey</th>\n",
       "      <th>gmethod_type_w3</th>\n",
       "      <th>gp2</th>\n",
       "      <th>grace</th>\n",
       "      <th>grespondent_date_w3</th>\n",
       "      <th>wave3</th>\n",
       "      <th>nopolicecontact</th>\n",
       "    </tr>\n",
       "  </thead>\n",
       "  <tbody>\n",
       "    <tr>\n",
       "      <th>0</th>\n",
       "      <td>151339842</td>\n",
       "      <td>4</td>\n",
       "      <td>0.309003</td>\n",
       "      <td>0.282558</td>\n",
       "      <td>281.512121</td>\n",
       "      <td>368.596299</td>\n",
       "      <td>659.611404</td>\n",
       "      <td>368.596299</td>\n",
       "      <td>21313.0</td>\n",
       "      <td>3112.0</td>\n",
       "      <td>...</td>\n",
       "      <td>4.75</td>\n",
       "      <td>2.0</td>\n",
       "      <td>20958.0</td>\n",
       "      <td>2.0</td>\n",
       "      <td>2.0</td>\n",
       "      <td>2.0</td>\n",
       "      <td>1.0</td>\n",
       "      <td>21306.0</td>\n",
       "      <td>1.0</td>\n",
       "      <td>1.0</td>\n",
       "    </tr>\n",
       "    <tr>\n",
       "      <th>1</th>\n",
       "      <td>151351600</td>\n",
       "      <td>2</td>\n",
       "      <td>0.931862</td>\n",
       "      <td>0.836694</td>\n",
       "      <td>874.104463</td>\n",
       "      <td>1104.824533</td>\n",
       "      <td>2724.529946</td>\n",
       "      <td>1104.824533</td>\n",
       "      <td>23212.0</td>\n",
       "      <td>2131.0</td>\n",
       "      <td>...</td>\n",
       "      <td>6.00</td>\n",
       "      <td>1.0</td>\n",
       "      <td>21070.0</td>\n",
       "      <td>NaN</td>\n",
       "      <td>NaN</td>\n",
       "      <td>NaN</td>\n",
       "      <td>NaN</td>\n",
       "      <td>NaN</td>\n",
       "      <td>NaN</td>\n",
       "      <td>NaN</td>\n",
       "    </tr>\n",
       "    <tr>\n",
       "      <th>2</th>\n",
       "      <td>151396232</td>\n",
       "      <td>1</td>\n",
       "      <td>0.656089</td>\n",
       "      <td>0.606815</td>\n",
       "      <td>1018.123812</td>\n",
       "      <td>1071.729432</td>\n",
       "      <td>1635.443546</td>\n",
       "      <td>1071.729432</td>\n",
       "      <td>22223.0</td>\n",
       "      <td>2222.0</td>\n",
       "      <td>...</td>\n",
       "      <td>7.00</td>\n",
       "      <td>NaN</td>\n",
       "      <td>NaN</td>\n",
       "      <td>NaN</td>\n",
       "      <td>NaN</td>\n",
       "      <td>NaN</td>\n",
       "      <td>NaN</td>\n",
       "      <td>NaN</td>\n",
       "      <td>NaN</td>\n",
       "      <td>NaN</td>\n",
       "    </tr>\n",
       "  </tbody>\n",
       "</table>\n",
       "<p>3 rows × 405 columns</p>\n",
       "</div>"
      ],
      "text/plain": [
       "     studyid  waveparticipated  w1weight_full  w1weight_orig  \\\n",
       "0  151339842                 4       0.309003       0.282558   \n",
       "1  151351600                 2       0.931862       0.836694   \n",
       "2  151396232                 1       0.656089       0.606815   \n",
       "\n",
       "   w1cumulative_wt_nr1  w1cumulative_wt_nr2  w1cumulative_wt_nr3  \\\n",
       "0           281.512121           368.596299           659.611404   \n",
       "1           874.104463          1104.824533          2724.529946   \n",
       "2          1018.123812          1071.729432          1635.443546   \n",
       "\n",
       "   w1cumulative_wt_sampling  w1weighting_cell_nr1  w1weighting_cell_nr2and3  \\\n",
       "0                368.596299               21313.0                    3112.0   \n",
       "1               1104.824533               23212.0                    2131.0   \n",
       "2               1071.729432               22223.0                    2222.0   \n",
       "\n",
       "   ...  w1socsupport_so_i  gmethod_type_w2  grespondent_date_w2  gsurvey  \\\n",
       "0  ...               4.75              2.0              20958.0      2.0   \n",
       "1  ...               6.00              1.0              21070.0      NaN   \n",
       "2  ...               7.00              NaN                  NaN      NaN   \n",
       "\n",
       "   gmethod_type_w3  gp2  grace grespondent_date_w3 wave3  nopolicecontact  \n",
       "0              2.0  2.0    1.0             21306.0   1.0              1.0  \n",
       "1              NaN  NaN    NaN                 NaN   NaN              NaN  \n",
       "2              NaN  NaN    NaN                 NaN   NaN              NaN  \n",
       "\n",
       "[3 rows x 405 columns]"
      ]
     },
     "execution_count": 25,
     "metadata": {},
     "output_type": "execute_result"
    }
   ],
   "source": [
    "# Reset the index (thanks to pandas documentation for this syntax)\n",
    "meyer.reset_index(drop = True, inplace = True)\n",
    "meyer.head(3)"
   ]
  },
  {
   "cell_type": "markdown",
   "id": "4babd3c0-45ff-4b76-b63c-2a66fb0373fc",
   "metadata": {},
   "source": [
    "With those rows removed, I next checked for missing values in the non-imputed scale score columns."
   ]
  },
  {
   "cell_type": "code",
   "execution_count": 26,
   "id": "ac0a97cd-5d3e-48b2-a49b-d33975f8ebd7",
   "metadata": {
    "scrolled": true
   },
   "outputs": [
    {
     "data": {
      "text/plain": [
       "w1ace                 267\n",
       "w1ace_ipv             130\n",
       "w1ace_emo              83\n",
       "w1ace_sex              69\n",
       "w1dudit                56\n",
       "w1ace_phy              54\n",
       "w1socialwb             51\n",
       "w1connectedness        39\n",
       "w1socsupport           37\n",
       "w1everyday             31\n",
       "w1meim                 22\n",
       "w1socsupport_fr        22\n",
       "w1socsupport_fam       21\n",
       "w1socsupport_so        20\n",
       "w1lifesat              19\n",
       "w1internalized         19\n",
       "w1hcthreat             16\n",
       "w1ace_inc              16\n",
       "w1ace_sub              15\n",
       "w1ace_men              14\n",
       "w1idcentral            14\n",
       "w1kessler6             13\n",
       "w1ace_sep              10\n",
       "w1feltstigma            8\n",
       "w1auditc                6\n",
       "w1ace_men_i             0\n",
       "w1socsupport_fam_i      0\n",
       "w1ace_sub_i             0\n",
       "w1ace_sex_i             0\n",
       "w1ace_sep_i             0\n",
       "w1socsupport_fr_i       0\n",
       "w1ace_phy_i             0\n",
       "w1socsupport_i          0\n",
       "w1lifesat_i             0\n",
       "w1idcentral_i           0\n",
       "w1ace_emo_i             0\n",
       "w1ace_ipv_i             0\n",
       "w1ace_inc_i             0\n",
       "w1meim_i                0\n",
       "w1ace_i                 0\n",
       "w1socialwb_i            0\n",
       "w1childgnc_i            0\n",
       "w1childgnc              0\n",
       "w1everyday_i            0\n",
       "w1internalized_i        0\n",
       "w1feltstigma_i          0\n",
       "w1dudit_i               0\n",
       "w1auditc_i              0\n",
       "w1kessler6_i            0\n",
       "w1hcthreat_i            0\n",
       "w1connectedness_i       0\n",
       "w1socsupport_so_i       0\n",
       "dtype: int64"
      ]
     },
     "execution_count": 26,
     "metadata": {},
     "output_type": "execute_result"
    }
   ],
   "source": [
    "meyer[combo_features].isna().sum().sort_values(ascending = False)"
   ]
  },
  {
   "cell_type": "markdown",
   "id": "0e055c9d-bd21-4d33-b7f2-70c25e916ed0",
   "metadata": {},
   "source": [
    "As mentioned above, I was impressed enough by the original author's imputation methods to not drop any of these features over their missing values alone.  However, quite a few columns had troublingly high numbers of missing values.  Those with approximately 1% missing data or more are displayed below."
   ]
  },
  {
   "cell_type": "markdown",
   "id": "c291ad75-cc83-472d-9dcf-b2d95c7e01f6",
   "metadata": {},
   "source": [
    "|Variable Name| Missing Values|Variable Name| Missing Values|Variable Name| Missing Values|\n",
    "|--|--|--|--|--|--|\n",
    "|w1ace        |267 |w1connectedness  | 39 |w1lifesat       | 19 |\n",
    "|w1ace_ipv    |130 |w1socsupport     | 37 |w1internalized  | 19 |\n",
    "|w1ace_emo    | 83 |w1everyday       | 31 |w1hcthreat      | 16 |\n",
    "|w1ace_sex    | 69 |w1meim           | 22 |w1ace_inc       | 16 |\n",
    "|w1dudit      | 56 |w1socsupport_fr  | 22 |w1ace_sub       | 15 |\n",
    "|w1ace_phy    | 54 |w1socsupport_fam | 21 |w1ace_men       | 14 |\n",
    "|w1socialwb   | 51 |w1socsupport_so  | 20 |w1idcentral     | 14 |"
   ]
  },
  {
   "cell_type": "markdown",
   "id": "bcb37020-a1bb-4f16-95f5-0f8f6cbb7bbf",
   "metadata": {},
   "source": [
    "As can be seen above, many of my most theory-backed potential predictors have large numbers of missing values.  The implications of this will be discussed in the Limitations section, but in the interest of not sacrificing too much data, I went forward with my plan to drop these original columns and use the imputed versions."
   ]
  },
  {
   "cell_type": "code",
   "execution_count": 27,
   "id": "20aeef4f-241c-4806-a4b1-58d94f3434c2",
   "metadata": {},
   "outputs": [
    {
     "data": {
      "text/plain": [
       "(1494, 379)"
      ]
     },
     "execution_count": 27,
     "metadata": {},
     "output_type": "execute_result"
    }
   ],
   "source": [
    "# Divide that combination list between imputed and not\n",
    "combo_imputed = [c for c in combo_features if c[-2:]=='_i']\n",
    "combo_not_imputed = [c for c in combo_features if c[-2:]!='_i']\n",
    "\n",
    "# Drop the ones that aren't\n",
    "meyer.drop(columns = combo_not_imputed, inplace = True)\n",
    "meyer.shape"
   ]
  },
  {
   "cell_type": "markdown",
   "id": "ac5f7d58-ada9-4c9d-b5a9-a0bf4f0c916b",
   "metadata": {},
   "source": [
    "Before investigating any further missing values, I went through the documentation to identify and drop any columns that were not pertinent to my problem statement."
   ]
  },
  {
   "cell_type": "code",
   "execution_count": 28,
   "id": "46433dce-5237-4ed4-9466-a664f03fa265",
   "metadata": {},
   "outputs": [
    {
     "data": {
      "text/plain": [
       "(1494, 307)"
      ]
     },
     "execution_count": 28,
     "metadata": {},
     "output_type": "execute_result"
    }
   ],
   "source": [
    "# Identify excess columns\n",
    "drop_cols_2 = ['w1q165', 'w1q27', 'w1q28', 'w1q20_1', 'w1q20_2', 'w1q20_3', \n",
    "  'w1q20_4', 'w1q20_5', 'w1q20_6', 'w1q20_7', 'w1q29', 'w1q29_t_verb', 'gruca', \n",
    "  'gruca_i', 'gurban', 'gzipstate',  'gzipcode', 'w1hinc', 'w1poverty', \n",
    "  'w1povertycat', 'w1q133', 'w1q133_1', 'w1q133_2', 'w1q133_3', \n",
    "  'gmsaname', 'gmethod_type', 'gmethod_type_w2', 'gmethod_type_w3', \n",
    "  'w1cumulative_wt_nr1', 'w1cumulative_wt_nr2', 'w1cumulative_wt_nr3', \n",
    "  'w1cumulative_wt_sampling', 'w1weighting_cell_nr1', 'w1weight_orig', \n",
    "  'w1weighting_cell_nr2and3', 'w1frame_wt', 'w1q31a', 'w1q31b', 'w1q31c', \n",
    "  'w1q31d', 'w1q66_1', 'w1q66_2', 'w1q66_3', 'w1q66_4', 'w1q66_5', \n",
    "  'w1q66_t_verb', 'w1q67', 'w1q68_1', 'w1q68_2', 'w1q68_3', 'w1q70', 'w1q71', \n",
    "  'w1q73', 'w1q74_1', 'w1q74_2', 'w1q74_3', 'w1q74_4', 'w1q74_7', 'w1q74_8', \n",
    "  'w1q74_9', 'w1q74_12', 'w1q74_13', 'w1q74_15', 'w1q74_16', 'w1q74_19', \n",
    "  'w1q80', 'w1q81', 'w1q82', 'w1q83', 'w1q84', 'w1q88', 'w1q118', \"gp1\"\n",
    "  \"w1q20_t_verb\", \"w1q39_7\", \"w1q39_12\", \"w1q39_t_verb\", \"w1q39_6\", \n",
    "  \"w1q39_5\", \"w1q39_2\", \"w1q39_3\", \"w1q39_4\", \"w1q39_1\", \"w1q39_9\", \"w1q39_8\", \n",
    "  \"w1q39_10\", \"w1q39_11\", \"gemployment2010\", \"gmilesaway\"]\n",
    "meyer.drop(columns = drop_cols_2, inplace = True)\n",
    "meyer.shape"
   ]
  },
  {
   "cell_type": "markdown",
   "id": "c6b62df8-759f-4863-8ba1-42f2ed74e6a3",
   "metadata": {},
   "source": [
    "### Feature Engineering"
   ]
  },
  {
   "cell_type": "markdown",
   "id": "1ea9507a-a0d1-4e7d-9a6f-a29348f03aa5",
   "metadata": {},
   "source": [
    "- creating new columns\n",
    "- polynomial terms\n",
    "- standardization"
   ]
  },
  {
   "cell_type": "markdown",
   "id": "de0709d6-3e88-45c9-9616-ac4ddf084daf",
   "metadata": {},
   "source": [
    "### Feature Selection, Part 2"
   ]
  },
  {
   "cell_type": "markdown",
   "id": "c6f6f23d-d804-447b-9bb0-207ed7fc3794",
   "metadata": {},
   "source": [
    "## Notebook Summary"
   ]
  },
  {
   "cell_type": "markdown",
   "id": "f5053e7a-51cd-4dac-ac29-ec2efede32fc",
   "metadata": {},
   "source": [
    "In this notebook, I have __________.  \n",
    "\n",
    "In the following notebook, I will ___________.\n",
    "\n",
    "Any readers who are following along or attempting to reproduce my work should uncomment the cell below to save a copy of the dataframe as it exists now.  A cell is provided at the top of the next notebook in which to import that copy."
   ]
  },
  {
   "cell_type": "code",
   "execution_count": 29,
   "id": "3e6163c0-cf44-4bae-9298-679f590e101d",
   "metadata": {},
   "outputs": [],
   "source": [
    "# Save a copy of the dataframe to use in the next notebook\n",
    "meyer.to_csv('../02_data/df_after_data_preparation.csv', index = False)"
   ]
  }
 ],
 "metadata": {
  "kernelspec": {
   "display_name": "Python 3 (ipykernel)",
   "language": "python",
   "name": "python3"
  },
  "language_info": {
   "codemirror_mode": {
    "name": "ipython",
    "version": 3
   },
   "file_extension": ".py",
   "mimetype": "text/x-python",
   "name": "python",
   "nbconvert_exporter": "python",
   "pygments_lexer": "ipython3",
   "version": "3.11.7"
  }
 },
 "nbformat": 4,
 "nbformat_minor": 5
}
